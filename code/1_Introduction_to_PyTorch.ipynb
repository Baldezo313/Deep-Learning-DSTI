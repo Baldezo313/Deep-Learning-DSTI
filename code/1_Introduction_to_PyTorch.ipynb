{
  "cells": [
    {
      "cell_type": "markdown",
      "metadata": {
        "id": "view-in-github",
        "colab_type": "text"
      },
      "source": [
        "<a href=\"https://colab.research.google.com/github/Baldezo313/Deep-Learning-DSTI/blob/main/code/1_Introduction_to_PyTorch.ipynb\" target=\"_parent\"><img src=\"https://colab.research.google.com/assets/colab-badge.svg\" alt=\"Open In Colab\"/></a>"
      ]
    },
    {
      "cell_type": "markdown",
      "metadata": {
        "id": "GMuEdx91XpqH"
      },
      "source": [
        "# Introduction to PyTorch"
      ]
    },
    {
      "cell_type": "markdown",
      "metadata": {
        "id": "cv0891IFXpqK"
      },
      "source": [
        "This course is inspired by the Deep Learning course 2022 at the University of Amsterdam.\n",
        "\n",
        "The following notebook is meant to give a short introduction to PyTorch basics, and get you setup for writing your own neural networks. PyTorch is an open source machine learning framework that allows you to write your own neural networks and optimize them efficiently. However, PyTorch is not the only framework of its kind. Alternatives to PyTorch include [TensorFlow](https://www.tensorflow.org/), [JAX](https://github.com/google/jax#quickstart-colab-in-the-cloud) and [Caffe](http://caffe.berkeleyvision.org/).\n",
        "\n",
        "We choose to teach PyTorch because it is well established, has a huge developer community (originally developed by Facebook), is very flexible and especially used in research. Many current papers publish their code in PyTorch, and thus it is good to be familiar with PyTorch as well.\n",
        "\n",
        "Meanwhile, TensorFlow (developed by Google) is usually known for being a production-grade deep learning library. Still, if you know one machine learning framework in depth, it is very easy to learn another one because many of them use the same concepts and ideas. For instance, TensorFlow's version 2 was heavily inspired by the most popular features of PyTorch, making the frameworks even more similar.\n",
        "If you are already familiar with PyTorch and have created your own neural network projects, feel free to just skim this notebook.\n",
        "\n",
        "We are of course not the first ones to create a PyTorch tutorial. There are many great tutorials online, including the [\"60-min blitz\"](https://pytorch.org/tutorials/beginner/deep_learning_60min_blitz.html) on the official [PyTorch website](https://pytorch.org/tutorials/). Yet, we choose to create our own tutorial which is designed to give you the basics particularly necessary for the practicals, but still understand how PyTorch works under the hood. Over the next few weeks, we will also keep exploring new PyTorch features in the series of Jupyter notebook tutorials about deep learning."
      ]
    },
    {
      "cell_type": "code",
      "execution_count": null,
      "metadata": {
        "id": "2iTjX5xWXpqL",
        "outputId": "9fd66719-7373-4e91-cdf1-c2546850b41c",
        "colab": {
          "base_uri": "https://localhost:8080/"
        }
      },
      "outputs": [
        {
          "output_type": "stream",
          "name": "stderr",
          "text": [
            "<ipython-input-2-ef889392170e>:11: DeprecationWarning: `set_matplotlib_formats` is deprecated since IPython 7.23, directly use `matplotlib_inline.backend_inline.set_matplotlib_formats()`\n",
            "  set_matplotlib_formats('svg', 'pdf') # For export\n"
          ]
        }
      ],
      "source": [
        "## Standard libraries\n",
        "import os\n",
        "import math\n",
        "import numpy as np\n",
        "import time\n",
        "\n",
        "## Imports for plotting\n",
        "import matplotlib.pyplot as plt\n",
        "%matplotlib inline\n",
        "from IPython.display import set_matplotlib_formats\n",
        "set_matplotlib_formats('svg', 'pdf') # For export\n",
        "from matplotlib.colors import to_rgba\n",
        "import seaborn as sns\n",
        "sns.set()\n",
        "\n",
        "## Progress bar\n",
        "from tqdm.notebook import tqdm"
      ]
    },
    {
      "cell_type": "markdown",
      "metadata": {
        "id": "Ekzh6ZQFXpqM"
      },
      "source": [
        "## The Basics of PyTorch\n",
        "\n",
        "We will start with reviewing the very basic concepts of PyTorch. As a prerequisite, we recommend to be familiar with the `numpy` package as most machine learning frameworks are based on very similar concepts. If you are not familiar with numpy yet, don't worry: here is a [tutorial](https://numpy.org/devdocs/user/quickstart.html) to go through.\n",
        "\n",
        "So, let's start with importing PyTorch. The package is called `torch`, based on its original framework [Torch](http://torch.ch/). As a first step, we can check its version:"
      ]
    },
    {
      "cell_type": "code",
      "execution_count": null,
      "metadata": {
        "id": "a1ZyFbooXpqN",
        "outputId": "a2d662c9-46e3-4fad-a640-5572e73a8048",
        "colab": {
          "base_uri": "https://localhost:8080/"
        }
      },
      "outputs": [
        {
          "output_type": "stream",
          "name": "stdout",
          "text": [
            "Using torch 2.0.1+cu118\n"
          ]
        }
      ],
      "source": [
        "import torch\n",
        "print(\"Using torch\", torch.__version__)"
      ]
    },
    {
      "cell_type": "markdown",
      "metadata": {
        "id": "TSlWEjvVXpqN"
      },
      "source": [
        "As in every machine learning framework, PyTorch provides functions that are stochastic like generating random numbers. However, a very good practice is to setup your code to be reproducible with the exact same random numbers. This is why we set a seed below."
      ]
    },
    {
      "cell_type": "code",
      "execution_count": null,
      "metadata": {
        "id": "8LiXQzOPXpqN",
        "outputId": "21887476-39f2-48bf-db49-ddfbbc65afac",
        "colab": {
          "base_uri": "https://localhost:8080/"
        }
      },
      "outputs": [
        {
          "output_type": "execute_result",
          "data": {
            "text/plain": [
              "<torch._C.Generator at 0x7f0663fc5990>"
            ]
          },
          "metadata": {},
          "execution_count": 3
        }
      ],
      "source": [
        "torch.manual_seed(42) # Setting the seed"
      ]
    },
    {
      "cell_type": "markdown",
      "metadata": {
        "id": "mh3qoMTlXpqN"
      },
      "source": [
        "### Tensors\n",
        "\n",
        "Tensors are the PyTorch equivalent to Numpy arrays, with the addition to also have support for GPU acceleration (more on that later).\n",
        "The name \"tensor\" is a generalization of concepts you already know. For instance, a vector is a 1-D tensor, and a matrix a 2-D tensor. When working with neural networks, we will use tensors of various shapes and number of dimensions.\n",
        "\n",
        "Most common functions you know from numpy can be used on tensors as well. Actually, since numpy arrays are so similar to tensors, we can convert most tensors to numpy arrays (and back) but we don't need it too often.\n",
        "\n",
        "#### Initialization\n",
        "\n",
        "Let's first start by looking at different ways of creating a tensor. There are many possible options, the simplest one is to call `torch.Tensor` passing the desired shape as input argument:"
      ]
    },
    {
      "cell_type": "code",
      "execution_count": null,
      "metadata": {
        "id": "rJYmGC7MXpqO",
        "outputId": "3506fec3-df71-4db9-fd24-cdf5638721fd",
        "colab": {
          "base_uri": "https://localhost:8080/"
        }
      },
      "outputs": [
        {
          "output_type": "stream",
          "name": "stdout",
          "text": [
            "tensor([[[0.0000e+00, 4.5569e-41, 1.8788e+31, 1.7220e+22],\n",
            "         [2.1715e-18, 1.6785e-07, 8.3187e+20, 5.4372e+22],\n",
            "         [3.3237e+21, 2.0447e+23, 1.0140e-11, 4.2697e-08]],\n",
            "\n",
            "        [[1.3434e-05, 6.7010e-10, 2.1707e-18, 4.5447e+30],\n",
            "         [7.0062e+22, 2.1715e-18, 4.5447e+30, 7.0062e+22],\n",
            "         [2.1707e-18, 1.9284e+31, 3.2314e-18, 5.8981e-10]]])\n"
          ]
        }
      ],
      "source": [
        "x = torch.Tensor(2, 3, 4)\n",
        "print(x)"
      ]
    },
    {
      "cell_type": "markdown",
      "metadata": {
        "id": "1HPb4nKrXpqO"
      },
      "source": [
        "The function `torch.Tensor` allocates memory for the desired tensor, but reuses any values that have already been in the memory. To directly assign values to the tensor during initialization, there are many alternatives including:\n",
        "\n",
        "* `torch.zeros`: Creates a tensor filled with zeros\n",
        "* `torch.ones`: Creates a tensor filled with ones\n",
        "* `torch.rand`: Creates a tensor with random values uniformly sampled between 0 and 1\n",
        "* `torch.randn`: Creates a tensor with random values sampled from a normal distribution with mean 0 and variance 1\n",
        "* `torch.arange`: Creates a tensor containing the values $N,N+1,N+2,...,M$\n",
        "* `torch.Tensor` (input list): Creates a tensor from the list elements you provide"
      ]
    },
    {
      "cell_type": "code",
      "execution_count": null,
      "metadata": {
        "id": "GZIJwsOLXpqO",
        "outputId": "952faa34-5264-4041-de9b-04610219ca6f",
        "colab": {
          "base_uri": "https://localhost:8080/"
        }
      },
      "outputs": [
        {
          "output_type": "stream",
          "name": "stdout",
          "text": [
            "tensor([[1., 2.],\n",
            "        [3., 4.]])\n"
          ]
        }
      ],
      "source": [
        "# Create a tensor from a (nested) list\n",
        "x = torch.Tensor([[1, 2], [3, 4]])\n",
        "print(x)"
      ]
    },
    {
      "cell_type": "code",
      "execution_count": null,
      "metadata": {
        "id": "jFCsP9NYXpqO",
        "outputId": "e1e8d327-300a-455a-aac8-7b3a04c86d18",
        "colab": {
          "base_uri": "https://localhost:8080/"
        }
      },
      "outputs": [
        {
          "output_type": "stream",
          "name": "stdout",
          "text": [
            "tensor([[[0.8823, 0.9150, 0.3829, 0.9593],\n",
            "         [0.3904, 0.6009, 0.2566, 0.7936],\n",
            "         [0.9408, 0.1332, 0.9346, 0.5936]],\n",
            "\n",
            "        [[0.8694, 0.5677, 0.7411, 0.4294],\n",
            "         [0.8854, 0.5739, 0.2666, 0.6274],\n",
            "         [0.2696, 0.4414, 0.2969, 0.8317]]])\n"
          ]
        }
      ],
      "source": [
        "# Create a tensor with random values between 0 and 1 with the shape [2, 3, 4]\n",
        "x = torch.rand(2, 3, 4)\n",
        "print(x)"
      ]
    },
    {
      "cell_type": "markdown",
      "metadata": {
        "id": "qdEaiLrmXpqO"
      },
      "source": [
        "You can obtain the shape of a tensor in the same way as in numpy (`x.shape`), or using the `.size` method:"
      ]
    },
    {
      "cell_type": "code",
      "execution_count": null,
      "metadata": {
        "id": "ELuNxqUjXpqP",
        "outputId": "6719dbc1-38e8-4440-b24f-00364de04222",
        "colab": {
          "base_uri": "https://localhost:8080/"
        }
      },
      "outputs": [
        {
          "output_type": "stream",
          "name": "stdout",
          "text": [
            "Shape: torch.Size([2, 3, 4])\n",
            "Size: torch.Size([2, 3, 4])\n",
            "Size: 2 3 4\n"
          ]
        }
      ],
      "source": [
        "shape = x.shape\n",
        "print(\"Shape:\", x.shape)\n",
        "\n",
        "size = x.size()\n",
        "print(\"Size:\", size)\n",
        "\n",
        "dim1, dim2, dim3 = x.size()\n",
        "print(\"Size:\", dim1, dim2, dim3)"
      ]
    },
    {
      "cell_type": "markdown",
      "metadata": {
        "id": "bQ4awcoDXpqP"
      },
      "source": [
        "#### Tensor to Numpy, and Numpy to Tensor\n",
        "\n",
        "Tensors can be converted to numpy arrays, and numpy arrays back to tensors. To transform a numpy array into a tensor, we can use the function `torch.from_numpy`:"
      ]
    },
    {
      "cell_type": "code",
      "execution_count": null,
      "metadata": {
        "id": "iVA143KfXpqP",
        "outputId": "9290dee3-67f5-475c-d7e4-00dba7c76546",
        "colab": {
          "base_uri": "https://localhost:8080/"
        }
      },
      "outputs": [
        {
          "output_type": "stream",
          "name": "stdout",
          "text": [
            "Numpy array: [[1 2]\n",
            " [3 4]]\n",
            "PyTorch tensor: tensor([[1, 2],\n",
            "        [3, 4]])\n"
          ]
        }
      ],
      "source": [
        "np_arr = np.array([[1, 2], [3, 4]])\n",
        "tensor = torch.from_numpy(np_arr)\n",
        "\n",
        "print(\"Numpy array:\", np_arr)\n",
        "print(\"PyTorch tensor:\", tensor)"
      ]
    },
    {
      "cell_type": "markdown",
      "metadata": {
        "id": "4Qo4UFeyXpqP"
      },
      "source": [
        "To transform a PyTorch tensor back to a numpy array, we can use the function `.numpy()` on tensors:"
      ]
    },
    {
      "cell_type": "code",
      "execution_count": null,
      "metadata": {
        "id": "EDOv1QaKXpqP",
        "outputId": "25bf41cf-36c6-44b9-f9cd-6c704b17affd",
        "colab": {
          "base_uri": "https://localhost:8080/"
        }
      },
      "outputs": [
        {
          "output_type": "stream",
          "name": "stdout",
          "text": [
            "PyTorch tensor: tensor([0, 1, 2, 3])\n",
            "Numpy array: [0 1 2 3]\n"
          ]
        }
      ],
      "source": [
        "tensor = torch.arange(4)\n",
        "np_arr = tensor.numpy()\n",
        "\n",
        "print(\"PyTorch tensor:\", tensor)\n",
        "print(\"Numpy array:\", np_arr)"
      ]
    },
    {
      "cell_type": "markdown",
      "metadata": {
        "id": "oywunaV1XpqP"
      },
      "source": [
        "The conversion of tensors to numpy require the tensor to be on the CPU, and not the GPU (more on GPU support in a later section). In case you have a tensor on GPU, you need to call `.cpu()` on the tensor beforehand. Hence, you get a line like `np_arr = tensor.cpu().numpy()`."
      ]
    },
    {
      "cell_type": "markdown",
      "metadata": {
        "id": "QJUE4cSEXpqP"
      },
      "source": [
        "#### Operations\n",
        "\n",
        "Most operations that exist in numpy, also exist in PyTorch. A full list of operations can be found in the [PyTorch documentation](https://pytorch.org/docs/stable/tensors.html#), but we will review the most important ones here.\n",
        "\n",
        "The simplest operation is to add two tensors:"
      ]
    },
    {
      "cell_type": "code",
      "execution_count": null,
      "metadata": {
        "id": "VJG3fm5mXpqQ",
        "outputId": "732f8831-68fa-4c3b-85d3-44be8617f4b9",
        "colab": {
          "base_uri": "https://localhost:8080/"
        }
      },
      "outputs": [
        {
          "output_type": "stream",
          "name": "stdout",
          "text": [
            "X1 tensor([[0.1053, 0.2695, 0.3588],\n",
            "        [0.1994, 0.5472, 0.0062]])\n",
            "X2 tensor([[0.9516, 0.0753, 0.8860],\n",
            "        [0.5832, 0.3376, 0.8090]])\n",
            "Y tensor([[1.0569, 0.3448, 1.2448],\n",
            "        [0.7826, 0.8848, 0.8151]])\n"
          ]
        }
      ],
      "source": [
        "x1 = torch.rand(2, 3)\n",
        "x2 = torch.rand(2, 3)\n",
        "y = x1 + x2\n",
        "\n",
        "print(\"X1\", x1)\n",
        "print(\"X2\", x2)\n",
        "print(\"Y\", y)"
      ]
    },
    {
      "cell_type": "markdown",
      "metadata": {
        "id": "uaqkcUk2XpqQ"
      },
      "source": [
        "Calling `x1 + x2` creates a new tensor containing the sum of the two inputs. However, we can also use in-place operations that are applied directly on the memory of a tensor. We therefore change the values of `x2` without the chance to re-accessing the values of `x2` before the operation. An example is shown below:"
      ]
    },
    {
      "cell_type": "code",
      "execution_count": null,
      "metadata": {
        "id": "n-ju6ZLnXpqQ",
        "outputId": "c1d66095-e3aa-41a9-b6c0-4d8fc3114731",
        "colab": {
          "base_uri": "https://localhost:8080/"
        }
      },
      "outputs": [
        {
          "output_type": "stream",
          "name": "stdout",
          "text": [
            "X1 (before) tensor([[0.5779, 0.9040, 0.5547],\n",
            "        [0.3423, 0.6343, 0.3644]])\n",
            "X2 (before) tensor([[0.7104, 0.9464, 0.7890],\n",
            "        [0.2814, 0.7886, 0.5895]])\n",
            "X1 (after) tensor([[0.5779, 0.9040, 0.5547],\n",
            "        [0.3423, 0.6343, 0.3644]])\n",
            "X2 (after) tensor([[1.2884, 1.8504, 1.3437],\n",
            "        [0.6237, 1.4230, 0.9539]])\n"
          ]
        }
      ],
      "source": [
        "x1 = torch.rand(2, 3)\n",
        "x2 = torch.rand(2, 3)\n",
        "print(\"X1 (before)\", x1)\n",
        "print(\"X2 (before)\", x2)\n",
        "\n",
        "x2.add_(x1)\n",
        "print(\"X1 (after)\", x1)\n",
        "print(\"X2 (after)\", x2)"
      ]
    },
    {
      "cell_type": "markdown",
      "metadata": {
        "id": "1jt_YVCRXpqQ"
      },
      "source": [
        "In-place operations are usually marked with a underscore postfix (e.g. \"add_\" instead of \"add\").\n",
        "\n",
        "Another common operation aims at changing the shape of a tensor. A tensor of size (2,3) can be re-organized to any other shape with the same number of elements (e.g. a tensor of size (6), or (3,2), ...). In PyTorch, this operation is called `view`:"
      ]
    },
    {
      "cell_type": "code",
      "execution_count": null,
      "metadata": {
        "id": "RxmXi1L0XpqQ",
        "outputId": "e9bdd844-b3ea-410b-bf91-ea4bf14e4592",
        "colab": {
          "base_uri": "https://localhost:8080/"
        }
      },
      "outputs": [
        {
          "output_type": "stream",
          "name": "stdout",
          "text": [
            "X tensor([0, 1, 2, 3, 4, 5])\n"
          ]
        }
      ],
      "source": [
        "x = torch.arange(6)\n",
        "print(\"X\", x)"
      ]
    },
    {
      "cell_type": "code",
      "execution_count": null,
      "metadata": {
        "id": "IxzTJO89XpqQ",
        "outputId": "fbd92efe-2780-4269-af9b-b75d292db6f6",
        "colab": {
          "base_uri": "https://localhost:8080/"
        }
      },
      "outputs": [
        {
          "output_type": "stream",
          "name": "stdout",
          "text": [
            "X tensor([[0, 1, 2],\n",
            "        [3, 4, 5]])\n"
          ]
        }
      ],
      "source": [
        "x = x.view(2, 3)\n",
        "print(\"X\", x)"
      ]
    },
    {
      "cell_type": "code",
      "execution_count": null,
      "metadata": {
        "id": "6SbEkxXxXpqQ",
        "outputId": "e9107454-759a-4441-d9cf-165e1b0b6164",
        "colab": {
          "base_uri": "https://localhost:8080/"
        }
      },
      "outputs": [
        {
          "output_type": "stream",
          "name": "stdout",
          "text": [
            "X tensor([[0, 3],\n",
            "        [1, 4],\n",
            "        [2, 5]])\n"
          ]
        }
      ],
      "source": [
        "x = x.permute(1, 0) # Swapping dimension 0 and 1\n",
        "print(\"X\", x)"
      ]
    },
    {
      "cell_type": "markdown",
      "metadata": {
        "id": "sU5_F-yuXpqQ"
      },
      "source": [
        "Other commonly used operations include matrix multiplications, which are essential for neural networks. Quite often, we have an input vector $\\mathbf{x}$, which is transformed using a learned weight matrix $\\mathbf{W}$. There are multiple ways and functions to perform matrix multiplication, some of which we list below:\n",
        "\n",
        "* `torch.matmul`: Performs the matrix product over two tensors, where the specific behavior depends on the dimensions. If both inputs are matrices (2-dimensional tensors), it performs the standard matrix product. For higher dimensional inputs, the function supports broadcasting (for details see the [documentation](https://pytorch.org/docs/stable/generated/torch.matmul.html?highlight=matmul#torch.matmul)). Can also be written as `a @ b`, similar to numpy.\n",
        "* `torch.mm`: Performs the matrix product over two matrices, but doesn't support broadcasting (see [documentation](https://pytorch.org/docs/stable/generated/torch.mm.html?highlight=torch%20mm#torch.mm))\n",
        "* `torch.bmm`: Performs the matrix product with a support batch dimension. If the first tensor $T$ is of shape ($b\\times n\\times m$), and the second tensor $R$ ($b\\times m\\times p$), the output $O$ is of shape ($b\\times n\\times p$), and has been calculated by performing $b$ matrix multiplications of the submatrices of $T$ and $R$: $O_i = T_i @ R_i$\n",
        "* `torch.einsum`: Performs matrix multiplications and more (i.e. sums of products) using the Einstein summation convention.\n",
        "\n",
        "Usually, we use `torch.matmul` or `torch.bmm`. We can try a matrix multiplication with `torch.matmul` below."
      ]
    },
    {
      "cell_type": "code",
      "execution_count": null,
      "metadata": {
        "id": "yLrLi6JXXpqQ",
        "outputId": "c6d93a97-57ae-471d-e14a-ea6eb34e4f6b",
        "colab": {
          "base_uri": "https://localhost:8080/"
        }
      },
      "outputs": [
        {
          "output_type": "stream",
          "name": "stdout",
          "text": [
            "X tensor([[0, 1, 2],\n",
            "        [3, 4, 5]])\n"
          ]
        }
      ],
      "source": [
        "x = torch.arange(6)\n",
        "x = x.view(2, 3)\n",
        "print(\"X\", x)"
      ]
    },
    {
      "cell_type": "code",
      "execution_count": null,
      "metadata": {
        "id": "k0L_ZduxXpqQ",
        "outputId": "43b2b10e-a42a-4f23-cd1c-9b9ca965a360",
        "colab": {
          "base_uri": "https://localhost:8080/"
        }
      },
      "outputs": [
        {
          "output_type": "stream",
          "name": "stdout",
          "text": [
            "W tensor([[0, 1, 2],\n",
            "        [3, 4, 5],\n",
            "        [6, 7, 8]])\n"
          ]
        }
      ],
      "source": [
        "W = torch.arange(9).view(3, 3) # We can also stack multiple operations in a single line\n",
        "print(\"W\", W)"
      ]
    },
    {
      "cell_type": "code",
      "execution_count": null,
      "metadata": {
        "id": "mrSwDU2WXpqQ",
        "outputId": "3a60b297-e609-4a51-8f33-07da8da01c78",
        "colab": {
          "base_uri": "https://localhost:8080/"
        }
      },
      "outputs": [
        {
          "output_type": "stream",
          "name": "stdout",
          "text": [
            "h tensor([[15, 18, 21],\n",
            "        [42, 54, 66]])\n"
          ]
        }
      ],
      "source": [
        "h = torch.matmul(x, W) # Verify the result by calculating it by hand too!\n",
        "print(\"h\", h)"
      ]
    },
    {
      "cell_type": "markdown",
      "metadata": {
        "id": "_Sem8YLZXpqR"
      },
      "source": [
        "#### Indexing\n",
        "\n",
        "We often have the situation where we need to select a part of a tensor. Indexing works just like in numpy, so let's try it:"
      ]
    },
    {
      "cell_type": "code",
      "execution_count": null,
      "metadata": {
        "id": "_6cgf9Q0XpqR",
        "outputId": "66117372-34ac-4f77-b56b-96ca5862d834",
        "colab": {
          "base_uri": "https://localhost:8080/"
        }
      },
      "outputs": [
        {
          "output_type": "stream",
          "name": "stdout",
          "text": [
            "X tensor([[ 0,  1,  2,  3],\n",
            "        [ 4,  5,  6,  7],\n",
            "        [ 8,  9, 10, 11]])\n"
          ]
        }
      ],
      "source": [
        "x = torch.arange(12).view(3, 4)\n",
        "print(\"X\", x)"
      ]
    },
    {
      "cell_type": "code",
      "execution_count": null,
      "metadata": {
        "id": "6pHc4h-xXpqR",
        "outputId": "cdcabfe5-fdec-49bf-8363-fcaa33a12625",
        "colab": {
          "base_uri": "https://localhost:8080/"
        }
      },
      "outputs": [
        {
          "output_type": "stream",
          "name": "stdout",
          "text": [
            "tensor([1, 5, 9])\n"
          ]
        }
      ],
      "source": [
        "print(x[:, 1])   # Second column"
      ]
    },
    {
      "cell_type": "code",
      "execution_count": null,
      "metadata": {
        "id": "rpQsHFF1XpqR",
        "outputId": "64087e93-b727-477f-f436-64e2524fa1d1",
        "colab": {
          "base_uri": "https://localhost:8080/"
        }
      },
      "outputs": [
        {
          "output_type": "stream",
          "name": "stdout",
          "text": [
            "tensor([0, 1, 2, 3])\n"
          ]
        }
      ],
      "source": [
        "print(x[0])      # First row"
      ]
    },
    {
      "cell_type": "code",
      "execution_count": null,
      "metadata": {
        "id": "jlHSZp76XpqR",
        "outputId": "f7fe4f60-ebe5-4e67-f3f1-554b931a6cfe",
        "colab": {
          "base_uri": "https://localhost:8080/"
        }
      },
      "outputs": [
        {
          "output_type": "stream",
          "name": "stdout",
          "text": [
            "tensor([3, 7])\n"
          ]
        }
      ],
      "source": [
        "print(x[:2, -1]) # First two rows, last column"
      ]
    },
    {
      "cell_type": "code",
      "execution_count": null,
      "metadata": {
        "id": "g4Qt2siHXpqR",
        "outputId": "3bf5f234-4ee8-4ab2-9486-a321f1cbf461",
        "colab": {
          "base_uri": "https://localhost:8080/"
        }
      },
      "outputs": [
        {
          "output_type": "stream",
          "name": "stdout",
          "text": [
            "tensor([[ 4,  5,  6,  7],\n",
            "        [ 8,  9, 10, 11]])\n"
          ]
        }
      ],
      "source": [
        "print(x[1:3, :]) # Middle two rows"
      ]
    },
    {
      "cell_type": "markdown",
      "metadata": {
        "id": "O8xch8tzXpqR"
      },
      "source": [
        "### Dynamic Computation Graph and Backpropagation\n",
        "\n",
        "One of the main reasons for using PyTorch in Deep Learning projects is that we can automatically get **gradients/derivatives** of functions that we define. We will mainly use PyTorch for implementing neural networks, and they are just fancy functions. If we use weight matrices in our function that we want to learn, then those are called the **parameters** or simply the **weights**.\n",
        "\n",
        "If our neural network would output a single scalar value, we would talk about taking the **derivative**, but you will see that quite often we will have **multiple** output variables (\"values\"); in that case we talk about **gradients**. It's a more general term.\n",
        "\n",
        "Given an input $\\mathbf{x}$, we define our function by **manipulating** that input, usually by matrix-multiplications with weight matrices and additions with so-called bias vectors. As we manipulate our input, we are automatically creating a **computational graph**. This graph shows how to arrive at our output from our input.\n",
        "PyTorch is a **define-by-run** framework; this means that we can just do our manipulations, and PyTorch will keep track of that graph for us. Thus, we create a dynamic computation graph along the way.\n",
        "\n",
        "So, to recap: the only thing we have to do is to compute the **output**, and then we can ask PyTorch to automatically get the **gradients**.\n",
        "\n",
        "> **Note:  Why do we want gradients?** Consider that we have defined a function, a neural net, that is supposed to compute a certain output $y$ for an input vector $\\mathbf{x}$. We then define an **error measure** that tells us how wrong our network is; how bad it is in predicting output $y$ from input $\\mathbf{x}$. Based on this error measure, we can use the gradients to **update** the weights $\\mathbf{W}$ that were responsible for the output, so that the next time we present input $\\mathbf{x}$ to our network, the output will be closer to what we want.\n",
        "\n",
        "The first thing we have to do is to specify which tensors require gradients. By default, when we create a tensor, it does not require gradients."
      ]
    },
    {
      "cell_type": "code",
      "execution_count": null,
      "metadata": {
        "id": "GcMNI-PfXpqR",
        "outputId": "02aff18d-2848-443a-c33a-c515fe6a135c",
        "colab": {
          "base_uri": "https://localhost:8080/"
        }
      },
      "outputs": [
        {
          "output_type": "stream",
          "name": "stdout",
          "text": [
            "False\n"
          ]
        }
      ],
      "source": [
        "x = torch.ones((3,))\n",
        "print(x.requires_grad)"
      ]
    },
    {
      "cell_type": "markdown",
      "metadata": {
        "id": "S6OB0Ni4Xpqe"
      },
      "source": [
        "We can change this for an existing tensor using the function `requires_grad_()` (underscore indicating that this is a in-place operation). Alternatively, when creating a tensor, you can pass the argument `requires_grad=True` to most initializers we have seen above."
      ]
    },
    {
      "cell_type": "code",
      "execution_count": null,
      "metadata": {
        "id": "6ii8KiVCXpqe",
        "outputId": "8fdad4ef-b0fd-42f0-bbb1-182bf9714394",
        "colab": {
          "base_uri": "https://localhost:8080/"
        }
      },
      "outputs": [
        {
          "output_type": "stream",
          "name": "stdout",
          "text": [
            "True\n"
          ]
        }
      ],
      "source": [
        "x.requires_grad_(True)\n",
        "print(x.requires_grad)"
      ]
    },
    {
      "cell_type": "markdown",
      "metadata": {
        "id": "OsKWAAbOXpqf"
      },
      "source": [
        "In order to get familiar with the concept of a computation graph, we will create one for the following function:\n",
        "\n",
        "$$y = \\frac{1}{|x|}\\sum_i \\left[(x_i + 2)^2 + 3\\right]$$\n",
        "\n",
        "You could imagine that $x$ are our parameters, and we want to optimize (either maximize or minimize) the output $y$. For this, we want to obtain the gradients $\\partial y / \\partial \\mathbf{x}$. For our example, we'll use $\\mathbf{x}=[0,1,2]$ as our input."
      ]
    },
    {
      "cell_type": "code",
      "execution_count": null,
      "metadata": {
        "id": "MpwZt9h-Xpqf",
        "outputId": "bccb7d6e-7279-48c9-e710-4ac83542a59f",
        "colab": {
          "base_uri": "https://localhost:8080/"
        }
      },
      "outputs": [
        {
          "output_type": "stream",
          "name": "stdout",
          "text": [
            "X tensor([0., 1., 2.], requires_grad=True)\n"
          ]
        }
      ],
      "source": [
        "x = torch.arange(3, dtype=torch.float32, requires_grad=True) # Only float tensors can have gradients\n",
        "print(\"X\", x)"
      ]
    },
    {
      "cell_type": "markdown",
      "metadata": {
        "id": "R4bkst0oXpqg"
      },
      "source": [
        "Now let's build the computation graph step by step. You can combine multiple operations in a single line, but we will separate them here to get a better understanding of how each operation is added to the computation graph."
      ]
    },
    {
      "cell_type": "code",
      "execution_count": null,
      "metadata": {
        "id": "c0TIU-TFXpqg",
        "outputId": "6701a38c-ccd7-4323-d3af-b6d54f36c60c",
        "colab": {
          "base_uri": "https://localhost:8080/"
        }
      },
      "outputs": [
        {
          "output_type": "stream",
          "name": "stdout",
          "text": [
            "Y tensor(12.6667, grad_fn=<MeanBackward0>)\n"
          ]
        }
      ],
      "source": [
        "a = x + 2\n",
        "b = a ** 2\n",
        "c = b + 3\n",
        "y = c.mean()\n",
        "print(\"Y\", y)"
      ]
    },
    {
      "cell_type": "markdown",
      "metadata": {
        "id": "1eeL3yzAXpqg"
      },
      "source": [
        "Using the statements above, we have created a computation graph that looks similar to the figure below:\n",
        "\n",
        "<center style=\"width: 100%\"><img src=\"https://github.com/phlippe/uvadlc_notebooks/blob/master/docs/tutorial_notebooks/tutorial2/pytorch_computation_graph.svg?raw=1\" width=\"200px\"></center>\n",
        "\n",
        "We calculate $a$ based on the inputs $x$ and the constant $2$, $b$ is $a$ squared, and so on. The visualization is an abstraction of the dependencies between inputs and outputs of the operations we have applied.\n",
        "Each node of the computation graph has automatically defined a function for calculating the gradients with respect to its inputs, `grad_fn`. You can see this when we printed the output tensor $y$. This is why the computation graph is usually visualized in the reverse direction (arrows point from the result to the inputs). We can perform backpropagation on the computation graph by calling the function `backward()` on the last output, which effectively calculates the gradients for each tensor that has the property `requires_grad=True`:"
      ]
    },
    {
      "cell_type": "code",
      "execution_count": null,
      "metadata": {
        "id": "39AU4IctXpqg"
      },
      "outputs": [],
      "source": [
        "y.backward()"
      ]
    },
    {
      "cell_type": "markdown",
      "metadata": {
        "id": "y-_Nhn0eXpqh"
      },
      "source": [
        "`x.grad` will now contain the gradient $\\partial y/ \\partial \\mathcal{x}$, and this gradient indicates how a change in $\\mathbf{x}$ will affect output $y$ given the current input $\\mathbf{x}=[0,1,2]$:"
      ]
    },
    {
      "cell_type": "code",
      "execution_count": null,
      "metadata": {
        "id": "aJgtR2A5Xpqh",
        "outputId": "f1a8dcc3-4c6c-49a5-ef8e-2c25283cb2ca",
        "colab": {
          "base_uri": "https://localhost:8080/"
        }
      },
      "outputs": [
        {
          "output_type": "stream",
          "name": "stdout",
          "text": [
            "tensor([1.3333, 2.0000, 2.6667])\n"
          ]
        }
      ],
      "source": [
        "print(x.grad)"
      ]
    },
    {
      "cell_type": "markdown",
      "metadata": {
        "id": "R_wrtO_KXpqh"
      },
      "source": [
        "We can also verify these gradients by hand. We will calculate the gradients using the chain rule, in the same way as PyTorch did it:\n",
        "\n",
        "$$\\frac{\\partial y}{\\partial x_i} = \\frac{\\partial y}{\\partial c_i}\\frac{\\partial c_i}{\\partial b_i}\\frac{\\partial b_i}{\\partial a_i}\\frac{\\partial a_i}{\\partial x_i}$$\n",
        "\n",
        "Note that we have simplified this equation to index notation, and by using the fact that all operation besides the mean do not combine the elements in the tensor. The partial derivatives are:\n",
        "\n",
        "$$\n",
        "\\frac{\\partial a_i}{\\partial x_i} = 1,\\hspace{1cm}\n",
        "\\frac{\\partial b_i}{\\partial a_i} = 2\\cdot a_i\\hspace{1cm}\n",
        "\\frac{\\partial c_i}{\\partial b_i} = 1\\hspace{1cm}\n",
        "\\frac{\\partial y}{\\partial c_i} = \\frac{1}{3}\n",
        "$$\n",
        "\n",
        "Hence, with the input being $\\mathbf{x}=[0,1,2]$, our gradients are $\\partial y/\\partial \\mathbf{x}=[4/3,2,8/3]$. The previous code cell should have printed the same result."
      ]
    },
    {
      "cell_type": "markdown",
      "metadata": {
        "id": "HwP_D4ZiXpqh"
      },
      "source": [
        "### GPU support\n",
        "\n",
        "A crucial feature of PyTorch is the support of GPUs, short for Graphics Processing Unit. A GPU can perform many thousands of small operations in parallel, making it very well suitable for performing large matrix operations in neural networks. When comparing GPUs to CPUs, we can list the following main differences (credit: [Kevin Krewell, 2009](https://blogs.nvidia.com/blog/2009/12/16/whats-the-difference-between-a-cpu-and-a-gpu/))\n",
        "\n",
        "<center style=\"width: 100%\"><img src=\"https://github.com/phlippe/uvadlc_notebooks/blob/master/docs/tutorial_notebooks/tutorial2/comparison_CPU_GPU.png?raw=1\" width=\"700px\"></center>\n",
        "\n",
        "CPUs and GPUs have both different advantages and disadvantages, which is why many computers contain both components and use them for different tasks. In case you are not familiar with GPUs, you can read up more details in this [NVIDIA blog post](https://blogs.nvidia.com/blog/2009/12/16/whats-the-difference-between-a-cpu-and-a-gpu/) or [here](https://www.intel.com/content/www/us/en/products/docs/processors/what-is-a-gpu.html).\n",
        "\n",
        "GPUs can accelerate the training of your network up to a factor of $100$ which is essential for large neural networks. PyTorch implements a lot of functionality for supporting GPUs (mostly those of NVIDIA due to the libraries [CUDA](https://developer.nvidia.com/cuda-zone) and [cuDNN](https://developer.nvidia.com/cudnn)). First, let's check whether you have a GPU available:"
      ]
    },
    {
      "cell_type": "code",
      "execution_count": null,
      "metadata": {
        "id": "wY12KnBtXpqi",
        "outputId": "ebaa2798-ffa8-4d6b-bd1b-a62eed9d2106",
        "colab": {
          "base_uri": "https://localhost:8080/"
        }
      },
      "outputs": [
        {
          "output_type": "stream",
          "name": "stdout",
          "text": [
            "Is the GPU available? True\n"
          ]
        }
      ],
      "source": [
        "gpu_avail = torch.cuda.is_available()\n",
        "print(f\"Is the GPU available? {gpu_avail}\")"
      ]
    },
    {
      "cell_type": "markdown",
      "metadata": {
        "id": "ED5_opEjXpqi"
      },
      "source": [
        "On Google Colab, make sure that you have selected a GPU in your runtime setup (in the menu, check under `Runtime -> Change runtime type`).\n",
        "\n",
        "By default, all tensors you create are stored on the CPU. We can push a tensor to the GPU by using the function `.to(...)`, or `.cuda()`. However, it is often a good practice to define a `device` object in your code which points to the GPU if you have one, and otherwise to the CPU. Then, you can write your code with respect to this device object, and it allows you to run the same code on both a CPU-only system, and one with a GPU. Let's try it below. We can specify the device as follows:"
      ]
    },
    {
      "cell_type": "code",
      "execution_count": null,
      "metadata": {
        "id": "qauxe7rtXpqi",
        "outputId": "2bb1aa50-a65d-4ce9-af0b-6ec68c39d308",
        "colab": {
          "base_uri": "https://localhost:8080/"
        }
      },
      "outputs": [
        {
          "output_type": "stream",
          "name": "stdout",
          "text": [
            "Device cuda\n"
          ]
        }
      ],
      "source": [
        "device = torch.device(\"cuda\") if torch.cuda.is_available() else torch.device(\"cpu\")\n",
        "print(\"Device\", device)"
      ]
    },
    {
      "cell_type": "markdown",
      "metadata": {
        "id": "sNR0UHK4Xpqj"
      },
      "source": [
        "Now let's create a tensor and push it to the device:"
      ]
    },
    {
      "cell_type": "code",
      "execution_count": null,
      "metadata": {
        "id": "zyHHV0jEXpqj",
        "outputId": "c9841faa-c814-4f5b-bf45-83d515684b1a",
        "colab": {
          "base_uri": "https://localhost:8080/"
        }
      },
      "outputs": [
        {
          "output_type": "stream",
          "name": "stdout",
          "text": [
            "X tensor([[0., 0., 0.],\n",
            "        [0., 0., 0.]], device='cuda:0')\n"
          ]
        }
      ],
      "source": [
        "x = torch.zeros(2, 3)\n",
        "x = x.to(device)\n",
        "print(\"X\", x)"
      ]
    },
    {
      "cell_type": "markdown",
      "metadata": {
        "id": "NXWkKDSOXpqj"
      },
      "source": [
        "In case you have a GPU, you should now see the attribute `device='cuda:0'` being printed next to your tensor. The zero next to cuda indicates that this is the zero-th GPU device on your computer. PyTorch also supports multi-GPU systems, but this you will only need once you have very big networks to train (if interested, see the [PyTorch documentation](https://pytorch.org/docs/stable/distributed.html#distributed-basics)). We can also compare the runtime of a large matrix multiplication on the CPU with a operation on the GPU:"
      ]
    },
    {
      "cell_type": "code",
      "execution_count": null,
      "metadata": {
        "id": "VRZ1siHXXpqk",
        "outputId": "0b11ccfc-1bff-456a-b484-4254c3674b95",
        "colab": {
          "base_uri": "https://localhost:8080/"
        }
      },
      "outputs": [
        {
          "output_type": "stream",
          "name": "stdout",
          "text": [
            "CPU time: 2.10289s\n",
            "GPU time: 0.07347s\n"
          ]
        }
      ],
      "source": [
        "x = torch.randn(5000, 5000)\n",
        "\n",
        "## CPU version\n",
        "start_time = time.time()\n",
        "_ = torch.matmul(x, x)\n",
        "end_time = time.time()\n",
        "print(f\"CPU time: {(end_time - start_time):6.5f}s\")\n",
        "\n",
        "## GPU version\n",
        "x = x.to(device)\n",
        "_ = torch.matmul(x, x)  # First operation to 'burn in' GPU\n",
        "# CUDA is asynchronous, so we need to use different timing functions\n",
        "start = torch.cuda.Event(enable_timing=True)\n",
        "end = torch.cuda.Event(enable_timing=True)\n",
        "start.record()\n",
        "_ = torch.matmul(x, x)\n",
        "end.record()\n",
        "torch.cuda.synchronize()  # Waits for everything to finish running on the GPU\n",
        "print(f\"GPU time: {0.001 * start.elapsed_time(end):6.5f}s\")  # Milliseconds to seconds"
      ]
    },
    {
      "cell_type": "markdown",
      "metadata": {
        "id": "mv7Ee5UcXpqk"
      },
      "source": [
        "Depending on the size of the operation and the CPU/GPU in your system, the speedup of this operation can be >50x. As `matmul` operations are very common in neural networks, we can already see the great benefit of training a NN on a GPU. The time estimate can be relatively noisy here because we haven't run it for multiple times. Feel free to extend this, but it also takes longer to run.\n",
        "\n",
        "When generating random numbers, the seed between CPU and GPU is not synchronized. Hence, we need to set the seed on the GPU separately to ensure a reproducible code. Note that due to different GPU architectures, running the same code on different GPUs does not guarantee the same random numbers. Still, we don't want that our code gives us a different output every time we run it on the exact same hardware. Hence, we also set the seed on the GPU:"
      ]
    },
    {
      "cell_type": "code",
      "execution_count": null,
      "metadata": {
        "id": "5RhEBq41Xpql"
      },
      "outputs": [],
      "source": [
        "# GPU operations have a separate seed we also want to set\n",
        "if torch.cuda.is_available():\n",
        "    torch.cuda.manual_seed(42)\n",
        "    torch.cuda.manual_seed_all(42)\n",
        "\n",
        "# Additionally, some operations on a GPU are implemented stochastic for efficiency\n",
        "# We want to ensure that all operations are deterministic on GPU (if used) for reproducibility\n",
        "torch.backends.cudnn.deterministic = True\n",
        "torch.backends.cudnn.benchmark = False"
      ]
    },
    {
      "cell_type": "markdown",
      "metadata": {
        "id": "fI01FUG2Xpql"
      },
      "source": [
        "## Learning by example: Continuous XOR\n",
        "\n",
        "If we want to build a neural network in PyTorch, we could specify all our parameters (weight matrices, bias vectors) using `Tensors` (with `requires_grad=True`), ask PyTorch to calculate the gradients and then adjust the parameters. But things can quickly get cumbersome if we have a lot of parameters. In PyTorch, there is a package called `torch.nn` that makes building neural networks more convenient.\n",
        "\n",
        "We will introduce the libraries and all additional parts you might need to train a neural network in PyTorch, using a simple example classifier on a simple yet well known example: XOR. Given two binary inputs $x_1$ and $x_2$, the label to predict is $1$ if either $x_1$ or $x_2$ is $1$ while the other is $0$, or the label is $0$ in all other cases. The example became famous by the fact that a single neuron, i.e. a linear classifier, cannot learn this simple function.\n",
        "Hence, we will learn how to build a small neural network that can learn this function.\n",
        "To make it a little bit more interesting, we move the XOR into continuous space and introduce some gaussian noise on the binary inputs. Our desired separation of an XOR dataset could look as follows:\n",
        "\n",
        "<center style=\"width: 100%\"><img src=\"https://github.com/phlippe/uvadlc_notebooks/blob/master/docs/tutorial_notebooks/tutorial2/continuous_xor.svg?raw=1\" width=\"350px\"></center>"
      ]
    },
    {
      "cell_type": "markdown",
      "metadata": {
        "id": "IBM9DS4NXpql"
      },
      "source": [
        "### The model\n",
        "\n",
        "The package `torch.nn` defines a series of useful classes like linear networks layers, activation functions, loss functions etc. A full list can be found [here](https://pytorch.org/docs/stable/nn.html). In case you need a certain network layer, check the documentation of the package first before writing the layer yourself as the package likely contains the code for it already. We import it below:"
      ]
    },
    {
      "cell_type": "code",
      "execution_count": null,
      "metadata": {
        "id": "NGzgFFVkXpqm"
      },
      "outputs": [],
      "source": [
        "import torch.nn as nn"
      ]
    },
    {
      "cell_type": "markdown",
      "metadata": {
        "id": "twMG1B95Xpqm"
      },
      "source": [
        "Additionally to `torch.nn`, there is also `torch.nn.functional`. It contains functions that are used in network layers. This is in contrast to `torch.nn` which defines them as `nn.Modules` (more on it below), and `torch.nn` actually uses a lot of functionalities from `torch.nn.functional`. Hence, the functional package is useful in many situations, and so we import it as well here."
      ]
    },
    {
      "cell_type": "code",
      "execution_count": null,
      "metadata": {
        "id": "_23p3Vs8Xpqm"
      },
      "outputs": [],
      "source": [
        "import torch.nn.functional as F"
      ]
    },
    {
      "cell_type": "markdown",
      "metadata": {
        "id": "Xfm-sSn3Xpqm"
      },
      "source": [
        "#### nn.Module\n",
        "\n",
        "In PyTorch, a neural network is built up out of modules. Modules can contain other modules, and a neural network is considered to be a module itself as well. The basic template of a module is as follows:"
      ]
    },
    {
      "cell_type": "code",
      "execution_count": null,
      "metadata": {
        "id": "JJWTYBHhXpqm"
      },
      "outputs": [],
      "source": [
        "class MyModule(nn.Module):\n",
        "\n",
        "    def __init__(self):\n",
        "        super().__init__()\n",
        "        # Some init for my module\n",
        "\n",
        "    def forward(self, x):\n",
        "        # Function for performing the calculation of the module.\n",
        "        pass"
      ]
    },
    {
      "cell_type": "markdown",
      "metadata": {
        "id": "V-Isz0TNXpqn"
      },
      "source": [
        "The forward function is where the computation of the module is taken place, and is executed when you call the module (`nn = MyModule(); nn(x)`). In the init function, we usually create the parameters of the module, using `nn.Parameter`, or defining other modules that are used in the forward function. The backward calculation is done automatically, but could be overwritten as well if wanted.\n",
        "\n",
        "#### Simple classifier\n",
        "We can now make use of the pre-defined modules in the `torch.nn` package, and define our own small neural network. We will use a minimal network with a input layer, one hidden layer with tanh as activation function, and a output layer. In other words, our networks should look something like this:\n",
        "\n",
        "<center width=\"100%\"><img src=\"https://github.com/phlippe/uvadlc_notebooks/blob/master/docs/tutorial_notebooks/tutorial2/small_neural_network.svg?raw=1\" width=\"300px\"></center>\n",
        "\n",
        "The input neurons are shown in blue, which represent the coordinates $x_1$ and $x_2$ of a data point. The hidden neurons including a tanh activation are shown in white, and the output neuron in red.\n",
        "In PyTorch, we can define this as follows:"
      ]
    },
    {
      "cell_type": "code",
      "execution_count": null,
      "metadata": {
        "id": "817ugEzDXpqn"
      },
      "outputs": [],
      "source": [
        "class SimpleClassifier(nn.Module):\n",
        "\n",
        "    def __init__(self, num_inputs, num_hidden, num_outputs):\n",
        "        super().__init__()\n",
        "        # Initialize the modules we need to build the network\n",
        "        self.linear1 = nn.Linear(num_inputs, num_hidden)\n",
        "        self.act_fn = nn.Tanh()\n",
        "        self.linear2 = nn.Linear(num_hidden, num_outputs)\n",
        "\n",
        "    def forward(self, x):\n",
        "        # Perform the calculation of the model to determine the prediction\n",
        "        x = self.linear1(x)\n",
        "        x = self.act_fn(x)\n",
        "        x = self.linear2(x)\n",
        "        return x"
      ]
    },
    {
      "cell_type": "markdown",
      "metadata": {
        "id": "dreA8fXeXpqn"
      },
      "source": [
        "For the examples in this notebook, we will use a tiny neural network with two input neurons and four hidden neurons. As we perform binary classification, we will use a single output neuron. Note that we do not apply a sigmoid on the output yet. This is because other functions, especially the loss, are more efficient and precise to calculate on the original outputs instead of the sigmoid output. We will discuss the detailed reason later."
      ]
    },
    {
      "cell_type": "code",
      "execution_count": null,
      "metadata": {
        "id": "sS6DCdmoXpqn",
        "outputId": "1071eb78-8a3f-4264-e72f-84b5c0dad415",
        "colab": {
          "base_uri": "https://localhost:8080/"
        }
      },
      "outputs": [
        {
          "output_type": "stream",
          "name": "stdout",
          "text": [
            "SimpleClassifier(\n",
            "  (linear1): Linear(in_features=2, out_features=4, bias=True)\n",
            "  (act_fn): Tanh()\n",
            "  (linear2): Linear(in_features=4, out_features=1, bias=True)\n",
            ")\n"
          ]
        }
      ],
      "source": [
        "model = SimpleClassifier(num_inputs=2, num_hidden=4, num_outputs=1)\n",
        "# Printing a module shows all its submodules\n",
        "print(model)"
      ]
    },
    {
      "cell_type": "markdown",
      "metadata": {
        "id": "brgWRHXAXpqo"
      },
      "source": [
        "Printing the model lists all submodules it contains. The parameters of a module can be obtained by using its `parameters()` functions, or `named_parameters()` to get a name to each parameter object. For our small neural network, we have the following parameters:"
      ]
    },
    {
      "cell_type": "code",
      "execution_count": null,
      "metadata": {
        "id": "LYq8xz98Xpqo",
        "outputId": "488ada6f-7646-4098-e729-2dd9f7f00a71",
        "colab": {
          "base_uri": "https://localhost:8080/"
        }
      },
      "outputs": [
        {
          "output_type": "stream",
          "name": "stdout",
          "text": [
            "Parameter linear1.weight, shape torch.Size([4, 2])\n",
            "Parameter linear1.bias, shape torch.Size([4])\n",
            "Parameter linear2.weight, shape torch.Size([1, 4])\n",
            "Parameter linear2.bias, shape torch.Size([1])\n"
          ]
        }
      ],
      "source": [
        "for name, param in model.named_parameters():\n",
        "    print(f\"Parameter {name}, shape {param.shape}\")"
      ]
    },
    {
      "cell_type": "markdown",
      "metadata": {
        "id": "g3-DWX1vXpqo"
      },
      "source": [
        "Each linear layer has a weight matrix of the shape `[output, input]`, and a bias of the shape `[output]`. The tanh activation function does not have any parameters. Note that parameters are only registered for `nn.Module` objects that are direct object attributes, i.e. `self.a = ...`. If you define a list of modules, the parameters of those are not registered for the outer module and can cause some issues when you try to optimize your module. There are alternatives, like `nn.ModuleList`, `nn.ModuleDict` and `nn.Sequential`, that allow you to have different data structures of modules. We will use them in a few later tutorials and explain them there."
      ]
    },
    {
      "cell_type": "markdown",
      "metadata": {
        "id": "xXcdApLvXpqo"
      },
      "source": [
        "### The data\n",
        "\n",
        "PyTorch also provides a few functionalities to load the training and test data efficiently, summarized in the package `torch.utils.data`."
      ]
    },
    {
      "cell_type": "code",
      "execution_count": null,
      "metadata": {
        "id": "DfLTYrdjXpqo"
      },
      "outputs": [],
      "source": [
        "import torch.utils.data as data"
      ]
    },
    {
      "cell_type": "markdown",
      "metadata": {
        "id": "Pag-6nctXpqp"
      },
      "source": [
        "The data package defines two classes which are the standard interface for handling data in PyTorch: `data.Dataset`, and `data.DataLoader`. The dataset class provides an uniform interface to access the training/test data, while the data loader makes sure to efficiently load and stack the data points from the dataset into batches during training."
      ]
    },
    {
      "cell_type": "markdown",
      "metadata": {
        "id": "m15EnMCcXpqp"
      },
      "source": [
        "#### The dataset class\n",
        "\n",
        "The dataset class summarizes the basic functionality of a dataset in a natural way. To define a dataset in PyTorch, we simply specify two functions: `__getitem__`, and `__len__`. The get-item function has to return the $i$-th data point in the dataset, while the len function returns the size of the dataset. For the XOR dataset, we can define the dataset class as follows:"
      ]
    },
    {
      "cell_type": "code",
      "execution_count": null,
      "metadata": {
        "id": "0qSpKafHXpqp"
      },
      "outputs": [],
      "source": [
        "class XORDataset(data.Dataset):\n",
        "\n",
        "    def __init__(self, size, std=0.1):\n",
        "        \"\"\"\n",
        "        Inputs:\n",
        "            size - Number of data points we want to generate\n",
        "            std - Standard deviation of the noise (see generate_continuous_xor function)\n",
        "        \"\"\"\n",
        "        super().__init__()\n",
        "        self.size = size\n",
        "        self.std = std\n",
        "        self.generate_continuous_xor()\n",
        "\n",
        "    def generate_continuous_xor(self):\n",
        "        # Each data point in the XOR dataset has two variables, x and y, that can be either 0 or 1\n",
        "        # The label is their XOR combination, i.e. 1 if only x or only y is 1 while the other is 0.\n",
        "        # If x=y, the label is 0.\n",
        "        data = torch.randint(low=0, high=2, size=(self.size, 2), dtype=torch.float32)\n",
        "        label = (data.sum(dim=1) == 1).to(torch.long)\n",
        "        # To make it slightly more challenging, we add a bit of gaussian noise to the data points.\n",
        "        data += self.std * torch.randn(data.shape)\n",
        "\n",
        "        self.data = data\n",
        "        self.label = label\n",
        "\n",
        "    def __len__(self):\n",
        "        # Number of data point we have. Alternatively self.data.shape[0], or self.label.shape[0]\n",
        "        return self.size\n",
        "\n",
        "    def __getitem__(self, idx):\n",
        "        # Return the idx-th data point of the dataset\n",
        "        # If we have multiple things to return (data point and label), we can return them as tuple\n",
        "        data_point = self.data[idx]\n",
        "        data_label = self.label[idx]\n",
        "        return data_point, data_label"
      ]
    },
    {
      "cell_type": "markdown",
      "metadata": {
        "id": "D4_72CiqXpqp"
      },
      "source": [
        "Let's try to create such a dataset and inspect it:"
      ]
    },
    {
      "cell_type": "code",
      "execution_count": null,
      "metadata": {
        "id": "Gbn-632oXpqp",
        "outputId": "d49c42f2-0625-4429-954b-46ce38e51b43",
        "colab": {
          "base_uri": "https://localhost:8080/"
        }
      },
      "outputs": [
        {
          "output_type": "stream",
          "name": "stdout",
          "text": [
            "Size of dataset: 200\n",
            "Data point 0: (tensor([-0.0661,  1.1477]), tensor(1))\n"
          ]
        }
      ],
      "source": [
        "dataset = XORDataset(size=200)\n",
        "print(\"Size of dataset:\", len(dataset))\n",
        "print(\"Data point 0:\", dataset[0])"
      ]
    },
    {
      "cell_type": "markdown",
      "metadata": {
        "id": "99WsqHmNXpqq"
      },
      "source": [
        "To better relate to the dataset, we visualize the samples below."
      ]
    },
    {
      "cell_type": "code",
      "execution_count": null,
      "metadata": {
        "id": "RaHIfQweXpqq"
      },
      "outputs": [],
      "source": [
        "def visualize_samples(data, label):\n",
        "    if isinstance(data, torch.Tensor):\n",
        "        data = data.cpu().numpy()\n",
        "    if isinstance(label, torch.Tensor):\n",
        "        label = label.cpu().numpy()\n",
        "    data_0 = data[label == 0]\n",
        "    data_1 = data[label == 1]\n",
        "\n",
        "    plt.figure(figsize=(4,4))\n",
        "    plt.scatter(data_0[:,0], data_0[:,1], edgecolor=\"#333\", label=\"Class 0\")\n",
        "    plt.scatter(data_1[:,0], data_1[:,1], edgecolor=\"#333\", label=\"Class 1\")\n",
        "    plt.title(\"Dataset samples\")\n",
        "    plt.ylabel(r\"$x_2$\")\n",
        "    plt.xlabel(r\"$x_1$\")\n",
        "    plt.legend()"
      ]
    },
    {
      "cell_type": "code",
      "execution_count": null,
      "metadata": {
        "id": "yY1PEVv-Xpqq",
        "outputId": "3ace320b-53f1-4181-a112-c707525c4940",
        "colab": {
          "base_uri": "https://localhost:8080/",
          "height": 404
        }
      },
      "outputs": [
        {
          "output_type": "display_data",
          "data": {
            "text/plain": [
              "<Figure size 400x400 with 1 Axes>"
            ],
            "image/svg+xml": "<?xml version=\"1.0\" encoding=\"utf-8\" standalone=\"no\"?>\n<!DOCTYPE svg PUBLIC \"-//W3C//DTD SVG 1.1//EN\"\n  \"http://www.w3.org/Graphics/SVG/1.1/DTD/svg11.dtd\">\n<svg xmlns:xlink=\"http://www.w3.org/1999/xlink\" width=\"289.424844pt\" height=\"287.037813pt\" viewBox=\"0 0 289.424844 287.037813\" xmlns=\"http://www.w3.org/2000/svg\" version=\"1.1\">\n <metadata>\n  <rdf:RDF xmlns:dc=\"http://purl.org/dc/elements/1.1/\" xmlns:cc=\"http://creativecommons.org/ns#\" xmlns:rdf=\"http://www.w3.org/1999/02/22-rdf-syntax-ns#\">\n   <cc:Work>\n    <dc:type rdf:resource=\"http://purl.org/dc/dcmitype/StillImage\"/>\n    <dc:date>2023-06-19T12:26:18.715258</dc:date>\n    <dc:format>image/svg+xml</dc:format>\n    <dc:creator>\n     <cc:Agent>\n      <dc:title>Matplotlib v3.7.1, https://matplotlib.org/</dc:title>\n     </cc:Agent>\n    </dc:creator>\n   </cc:Work>\n  </rdf:RDF>\n </metadata>\n <defs>\n  <style type=\"text/css\">*{stroke-linejoin: round; stroke-linecap: butt}</style>\n </defs>\n <g id=\"figure_1\">\n  <g id=\"patch_1\">\n   <path d=\"M 0 287.037813 \nL 289.424844 287.037813 \nL 289.424844 0 \nL 0 0 \nz\n\" style=\"fill: #ffffff\"/>\n  </g>\n  <g id=\"axes_1\">\n   <g id=\"patch_2\">\n    <path d=\"M 59.024844 244.078125 \nL 282.224844 244.078125 \nL 282.224844 22.318125 \nL 59.024844 22.318125 \nz\n\" style=\"fill: #eaeaf2\"/>\n   </g>\n   <g id=\"matplotlib.axis_1\">\n    <g id=\"xtick_1\">\n     <g id=\"line2d_1\">\n      <path d=\"M 110.851596 244.078125 \nL 110.851596 22.318125 \n\" clip-path=\"url(#p0f3a214e50)\" style=\"fill: none; stroke: #ffffff; stroke-linecap: round\"/>\n     </g>\n     <g id=\"text_1\">\n      <!-- 0.0 -->\n      <g style=\"fill: #262626\" transform=\"translate(102.104877 261.936406) scale(0.11 -0.11)\">\n       <defs>\n        <path id=\"DejaVuSans-30\" d=\"M 2034 4250 \nQ 1547 4250 1301 3770 \nQ 1056 3291 1056 2328 \nQ 1056 1369 1301 889 \nQ 1547 409 2034 409 \nQ 2525 409 2770 889 \nQ 3016 1369 3016 2328 \nQ 3016 3291 2770 3770 \nQ 2525 4250 2034 4250 \nz\nM 2034 4750 \nQ 2819 4750 3233 4129 \nQ 3647 3509 3647 2328 \nQ 3647 1150 3233 529 \nQ 2819 -91 2034 -91 \nQ 1250 -91 836 529 \nQ 422 1150 422 2328 \nQ 422 3509 836 4129 \nQ 1250 4750 2034 4750 \nz\n\" transform=\"scale(0.015625)\"/>\n        <path id=\"DejaVuSans-2e\" d=\"M 684 794 \nL 1344 794 \nL 1344 0 \nL 684 0 \nL 684 794 \nz\n\" transform=\"scale(0.015625)\"/>\n       </defs>\n       <use xlink:href=\"#DejaVuSans-30\"/>\n       <use xlink:href=\"#DejaVuSans-2e\" x=\"63.623047\"/>\n       <use xlink:href=\"#DejaVuSans-30\" x=\"95.410156\"/>\n      </g>\n     </g>\n    </g>\n    <g id=\"xtick_2\">\n     <g id=\"line2d_2\">\n      <path d=\"M 177.036495 244.078125 \nL 177.036495 22.318125 \n\" clip-path=\"url(#p0f3a214e50)\" style=\"fill: none; stroke: #ffffff; stroke-linecap: round\"/>\n     </g>\n     <g id=\"text_2\">\n      <!-- 0.5 -->\n      <g style=\"fill: #262626\" transform=\"translate(168.289776 261.936406) scale(0.11 -0.11)\">\n       <defs>\n        <path id=\"DejaVuSans-35\" d=\"M 691 4666 \nL 3169 4666 \nL 3169 4134 \nL 1269 4134 \nL 1269 2991 \nQ 1406 3038 1543 3061 \nQ 1681 3084 1819 3084 \nQ 2600 3084 3056 2656 \nQ 3513 2228 3513 1497 \nQ 3513 744 3044 326 \nQ 2575 -91 1722 -91 \nQ 1428 -91 1123 -41 \nQ 819 9 494 109 \nL 494 744 \nQ 775 591 1075 516 \nQ 1375 441 1709 441 \nQ 2250 441 2565 725 \nQ 2881 1009 2881 1497 \nQ 2881 1984 2565 2268 \nQ 2250 2553 1709 2553 \nQ 1456 2553 1204 2497 \nQ 953 2441 691 2322 \nL 691 4666 \nz\n\" transform=\"scale(0.015625)\"/>\n       </defs>\n       <use xlink:href=\"#DejaVuSans-30\"/>\n       <use xlink:href=\"#DejaVuSans-2e\" x=\"63.623047\"/>\n       <use xlink:href=\"#DejaVuSans-35\" x=\"95.410156\"/>\n      </g>\n     </g>\n    </g>\n    <g id=\"xtick_3\">\n     <g id=\"line2d_3\">\n      <path d=\"M 243.221393 244.078125 \nL 243.221393 22.318125 \n\" clip-path=\"url(#p0f3a214e50)\" style=\"fill: none; stroke: #ffffff; stroke-linecap: round\"/>\n     </g>\n     <g id=\"text_3\">\n      <!-- 1.0 -->\n      <g style=\"fill: #262626\" transform=\"translate(234.474675 261.936406) scale(0.11 -0.11)\">\n       <defs>\n        <path id=\"DejaVuSans-31\" d=\"M 794 531 \nL 1825 531 \nL 1825 4091 \nL 703 3866 \nL 703 4441 \nL 1819 4666 \nL 2450 4666 \nL 2450 531 \nL 3481 531 \nL 3481 0 \nL 794 0 \nL 794 531 \nz\n\" transform=\"scale(0.015625)\"/>\n       </defs>\n       <use xlink:href=\"#DejaVuSans-31\"/>\n       <use xlink:href=\"#DejaVuSans-2e\" x=\"63.623047\"/>\n       <use xlink:href=\"#DejaVuSans-30\" x=\"95.410156\"/>\n      </g>\n     </g>\n    </g>\n    <g id=\"text_4\">\n     <!-- $x_1$ -->\n     <g style=\"fill: #262626\" transform=\"translate(164.204844 277.342188) scale(0.12 -0.12)\">\n      <defs>\n       <path id=\"DejaVuSans-Oblique-78\" d=\"M 3841 3500 \nL 2234 1784 \nL 3219 0 \nL 2559 0 \nL 1819 1388 \nL 531 0 \nL -166 0 \nL 1556 1844 \nL 641 3500 \nL 1300 3500 \nL 1972 2234 \nL 3144 3500 \nL 3841 3500 \nz\n\" transform=\"scale(0.015625)\"/>\n      </defs>\n      <use xlink:href=\"#DejaVuSans-Oblique-78\" transform=\"translate(0 0.3125)\"/>\n      <use xlink:href=\"#DejaVuSans-31\" transform=\"translate(59.179688 -16.09375) scale(0.7)\"/>\n     </g>\n    </g>\n   </g>\n   <g id=\"matplotlib.axis_2\">\n    <g id=\"ytick_1\">\n     <g id=\"line2d_4\">\n      <path d=\"M 59.024844 218.459604 \nL 282.224844 218.459604 \n\" clip-path=\"url(#p0f3a214e50)\" style=\"fill: none; stroke: #ffffff; stroke-linecap: round\"/>\n     </g>\n     <g id=\"text_5\">\n      <!-- −0.2 -->\n      <g style=\"fill: #262626\" transform=\"translate(22.81375 222.638744) scale(0.11 -0.11)\">\n       <defs>\n        <path id=\"DejaVuSans-2212\" d=\"M 678 2272 \nL 4684 2272 \nL 4684 1741 \nL 678 1741 \nL 678 2272 \nz\n\" transform=\"scale(0.015625)\"/>\n        <path id=\"DejaVuSans-32\" d=\"M 1228 531 \nL 3431 531 \nL 3431 0 \nL 469 0 \nL 469 531 \nQ 828 903 1448 1529 \nQ 2069 2156 2228 2338 \nQ 2531 2678 2651 2914 \nQ 2772 3150 2772 3378 \nQ 2772 3750 2511 3984 \nQ 2250 4219 1831 4219 \nQ 1534 4219 1204 4116 \nQ 875 4013 500 3803 \nL 500 4441 \nQ 881 4594 1212 4672 \nQ 1544 4750 1819 4750 \nQ 2544 4750 2975 4387 \nQ 3406 4025 3406 3419 \nQ 3406 3131 3298 2873 \nQ 3191 2616 2906 2266 \nQ 2828 2175 2409 1742 \nQ 1991 1309 1228 531 \nz\n\" transform=\"scale(0.015625)\"/>\n       </defs>\n       <use xlink:href=\"#DejaVuSans-2212\"/>\n       <use xlink:href=\"#DejaVuSans-30\" x=\"83.789062\"/>\n       <use xlink:href=\"#DejaVuSans-2e\" x=\"147.412109\"/>\n       <use xlink:href=\"#DejaVuSans-32\" x=\"179.199219\"/>\n      </g>\n     </g>\n    </g>\n    <g id=\"ytick_2\">\n     <g id=\"line2d_5\">\n      <path d=\"M 59.024844 192.651295 \nL 282.224844 192.651295 \n\" clip-path=\"url(#p0f3a214e50)\" style=\"fill: none; stroke: #ffffff; stroke-linecap: round\"/>\n     </g>\n     <g id=\"text_6\">\n      <!-- 0.0 -->\n      <g style=\"fill: #262626\" transform=\"translate(32.031406 196.830435) scale(0.11 -0.11)\">\n       <use xlink:href=\"#DejaVuSans-30\"/>\n       <use xlink:href=\"#DejaVuSans-2e\" x=\"63.623047\"/>\n       <use xlink:href=\"#DejaVuSans-30\" x=\"95.410156\"/>\n      </g>\n     </g>\n    </g>\n    <g id=\"ytick_3\">\n     <g id=\"line2d_6\">\n      <path d=\"M 59.024844 166.842985 \nL 282.224844 166.842985 \n\" clip-path=\"url(#p0f3a214e50)\" style=\"fill: none; stroke: #ffffff; stroke-linecap: round\"/>\n     </g>\n     <g id=\"text_7\">\n      <!-- 0.2 -->\n      <g style=\"fill: #262626\" transform=\"translate(32.031406 171.022126) scale(0.11 -0.11)\">\n       <use xlink:href=\"#DejaVuSans-30\"/>\n       <use xlink:href=\"#DejaVuSans-2e\" x=\"63.623047\"/>\n       <use xlink:href=\"#DejaVuSans-32\" x=\"95.410156\"/>\n      </g>\n     </g>\n    </g>\n    <g id=\"ytick_4\">\n     <g id=\"line2d_7\">\n      <path d=\"M 59.024844 141.034676 \nL 282.224844 141.034676 \n\" clip-path=\"url(#p0f3a214e50)\" style=\"fill: none; stroke: #ffffff; stroke-linecap: round\"/>\n     </g>\n     <g id=\"text_8\">\n      <!-- 0.4 -->\n      <g style=\"fill: #262626\" transform=\"translate(32.031406 145.213817) scale(0.11 -0.11)\">\n       <defs>\n        <path id=\"DejaVuSans-34\" d=\"M 2419 4116 \nL 825 1625 \nL 2419 1625 \nL 2419 4116 \nz\nM 2253 4666 \nL 3047 4666 \nL 3047 1625 \nL 3713 1625 \nL 3713 1100 \nL 3047 1100 \nL 3047 0 \nL 2419 0 \nL 2419 1100 \nL 313 1100 \nL 313 1709 \nL 2253 4666 \nz\n\" transform=\"scale(0.015625)\"/>\n       </defs>\n       <use xlink:href=\"#DejaVuSans-30\"/>\n       <use xlink:href=\"#DejaVuSans-2e\" x=\"63.623047\"/>\n       <use xlink:href=\"#DejaVuSans-34\" x=\"95.410156\"/>\n      </g>\n     </g>\n    </g>\n    <g id=\"ytick_5\">\n     <g id=\"line2d_8\">\n      <path d=\"M 59.024844 115.226367 \nL 282.224844 115.226367 \n\" clip-path=\"url(#p0f3a214e50)\" style=\"fill: none; stroke: #ffffff; stroke-linecap: round\"/>\n     </g>\n     <g id=\"text_9\">\n      <!-- 0.6 -->\n      <g style=\"fill: #262626\" transform=\"translate(32.031406 119.405507) scale(0.11 -0.11)\">\n       <defs>\n        <path id=\"DejaVuSans-36\" d=\"M 2113 2584 \nQ 1688 2584 1439 2293 \nQ 1191 2003 1191 1497 \nQ 1191 994 1439 701 \nQ 1688 409 2113 409 \nQ 2538 409 2786 701 \nQ 3034 994 3034 1497 \nQ 3034 2003 2786 2293 \nQ 2538 2584 2113 2584 \nz\nM 3366 4563 \nL 3366 3988 \nQ 3128 4100 2886 4159 \nQ 2644 4219 2406 4219 \nQ 1781 4219 1451 3797 \nQ 1122 3375 1075 2522 \nQ 1259 2794 1537 2939 \nQ 1816 3084 2150 3084 \nQ 2853 3084 3261 2657 \nQ 3669 2231 3669 1497 \nQ 3669 778 3244 343 \nQ 2819 -91 2113 -91 \nQ 1303 -91 875 529 \nQ 447 1150 447 2328 \nQ 447 3434 972 4092 \nQ 1497 4750 2381 4750 \nQ 2619 4750 2861 4703 \nQ 3103 4656 3366 4563 \nz\n\" transform=\"scale(0.015625)\"/>\n       </defs>\n       <use xlink:href=\"#DejaVuSans-30\"/>\n       <use xlink:href=\"#DejaVuSans-2e\" x=\"63.623047\"/>\n       <use xlink:href=\"#DejaVuSans-36\" x=\"95.410156\"/>\n      </g>\n     </g>\n    </g>\n    <g id=\"ytick_6\">\n     <g id=\"line2d_9\">\n      <path d=\"M 59.024844 89.418057 \nL 282.224844 89.418057 \n\" clip-path=\"url(#p0f3a214e50)\" style=\"fill: none; stroke: #ffffff; stroke-linecap: round\"/>\n     </g>\n     <g id=\"text_10\">\n      <!-- 0.8 -->\n      <g style=\"fill: #262626\" transform=\"translate(32.031406 93.597198) scale(0.11 -0.11)\">\n       <defs>\n        <path id=\"DejaVuSans-38\" d=\"M 2034 2216 \nQ 1584 2216 1326 1975 \nQ 1069 1734 1069 1313 \nQ 1069 891 1326 650 \nQ 1584 409 2034 409 \nQ 2484 409 2743 651 \nQ 3003 894 3003 1313 \nQ 3003 1734 2745 1975 \nQ 2488 2216 2034 2216 \nz\nM 1403 2484 \nQ 997 2584 770 2862 \nQ 544 3141 544 3541 \nQ 544 4100 942 4425 \nQ 1341 4750 2034 4750 \nQ 2731 4750 3128 4425 \nQ 3525 4100 3525 3541 \nQ 3525 3141 3298 2862 \nQ 3072 2584 2669 2484 \nQ 3125 2378 3379 2068 \nQ 3634 1759 3634 1313 \nQ 3634 634 3220 271 \nQ 2806 -91 2034 -91 \nQ 1263 -91 848 271 \nQ 434 634 434 1313 \nQ 434 1759 690 2068 \nQ 947 2378 1403 2484 \nz\nM 1172 3481 \nQ 1172 3119 1398 2916 \nQ 1625 2713 2034 2713 \nQ 2441 2713 2670 2916 \nQ 2900 3119 2900 3481 \nQ 2900 3844 2670 4047 \nQ 2441 4250 2034 4250 \nQ 1625 4250 1398 4047 \nQ 1172 3844 1172 3481 \nz\n\" transform=\"scale(0.015625)\"/>\n       </defs>\n       <use xlink:href=\"#DejaVuSans-30\"/>\n       <use xlink:href=\"#DejaVuSans-2e\" x=\"63.623047\"/>\n       <use xlink:href=\"#DejaVuSans-38\" x=\"95.410156\"/>\n      </g>\n     </g>\n    </g>\n    <g id=\"ytick_7\">\n     <g id=\"line2d_10\">\n      <path d=\"M 59.024844 63.609748 \nL 282.224844 63.609748 \n\" clip-path=\"url(#p0f3a214e50)\" style=\"fill: none; stroke: #ffffff; stroke-linecap: round\"/>\n     </g>\n     <g id=\"text_11\">\n      <!-- 1.0 -->\n      <g style=\"fill: #262626\" transform=\"translate(32.031406 67.788889) scale(0.11 -0.11)\">\n       <use xlink:href=\"#DejaVuSans-31\"/>\n       <use xlink:href=\"#DejaVuSans-2e\" x=\"63.623047\"/>\n       <use xlink:href=\"#DejaVuSans-30\" x=\"95.410156\"/>\n      </g>\n     </g>\n    </g>\n    <g id=\"ytick_8\">\n     <g id=\"line2d_11\">\n      <path d=\"M 59.024844 37.801439 \nL 282.224844 37.801439 \n\" clip-path=\"url(#p0f3a214e50)\" style=\"fill: none; stroke: #ffffff; stroke-linecap: round\"/>\n     </g>\n     <g id=\"text_12\">\n      <!-- 1.2 -->\n      <g style=\"fill: #262626\" transform=\"translate(32.031406 41.980579) scale(0.11 -0.11)\">\n       <use xlink:href=\"#DejaVuSans-31\"/>\n       <use xlink:href=\"#DejaVuSans-2e\" x=\"63.623047\"/>\n       <use xlink:href=\"#DejaVuSans-32\" x=\"95.410156\"/>\n      </g>\n     </g>\n    </g>\n    <g id=\"text_13\">\n     <!-- $x_2$ -->\n     <g style=\"fill: #262626\" transform=\"translate(16.318125 139.618125) rotate(-90) scale(0.12 -0.12)\">\n      <use xlink:href=\"#DejaVuSans-Oblique-78\" transform=\"translate(0 0.3125)\"/>\n      <use xlink:href=\"#DejaVuSans-32\" transform=\"translate(59.179688 -16.09375) scale(0.7)\"/>\n     </g>\n    </g>\n   </g>\n   <g id=\"PathCollection_1\">\n    <defs>\n     <path id=\"me59abd0b12\" d=\"M 0 3 \nC 0.795609 3 1.55874 2.683901 2.12132 2.12132 \nC 2.683901 1.55874 3 0.795609 3 0 \nC 3 -0.795609 2.683901 -1.55874 2.12132 -2.12132 \nC 1.55874 -2.683901 0.795609 -3 0 -3 \nC -0.795609 -3 -1.55874 -2.683901 -2.12132 -2.12132 \nC -2.683901 -1.55874 -3 -0.795609 -3 0 \nC -3 0.795609 -2.683901 1.55874 -2.12132 2.12132 \nC -1.55874 2.683901 -0.795609 3 0 3 \nz\n\" style=\"stroke: #333333\"/>\n    </defs>\n    <g clip-path=\"url(#p0f3a214e50)\">\n     <use xlink:href=\"#me59abd0b12\" x=\"120.936435\" y=\"196.4586\" style=\"fill: #4c72b0; stroke: #333333\"/>\n     <use xlink:href=\"#me59abd0b12\" x=\"113.387866\" y=\"204.652628\" style=\"fill: #4c72b0; stroke: #333333\"/>\n     <use xlink:href=\"#me59abd0b12\" x=\"69.170298\" y=\"190.533261\" style=\"fill: #4c72b0; stroke: #333333\"/>\n     <use xlink:href=\"#me59abd0b12\" x=\"233.093353\" y=\"77.776415\" style=\"fill: #4c72b0; stroke: #333333\"/>\n     <use xlink:href=\"#me59abd0b12\" x=\"106.87781\" y=\"181.785172\" style=\"fill: #4c72b0; stroke: #333333\"/>\n     <use xlink:href=\"#me59abd0b12\" x=\"104.356193\" y=\"192.634403\" style=\"fill: #4c72b0; stroke: #333333\"/>\n     <use xlink:href=\"#me59abd0b12\" x=\"245.564601\" y=\"51.657718\" style=\"fill: #4c72b0; stroke: #333333\"/>\n     <use xlink:href=\"#me59abd0b12\" x=\"107.437885\" y=\"199.153693\" style=\"fill: #4c72b0; stroke: #333333\"/>\n     <use xlink:href=\"#me59abd0b12\" x=\"234.167462\" y=\"64.292905\" style=\"fill: #4c72b0; stroke: #333333\"/>\n     <use xlink:href=\"#me59abd0b12\" x=\"235.134024\" y=\"74.519945\" style=\"fill: #4c72b0; stroke: #333333\"/>\n     <use xlink:href=\"#me59abd0b12\" x=\"121.84481\" y=\"209.768618\" style=\"fill: #4c72b0; stroke: #333333\"/>\n     <use xlink:href=\"#me59abd0b12\" x=\"246.378945\" y=\"48.476939\" style=\"fill: #4c72b0; stroke: #333333\"/>\n     <use xlink:href=\"#me59abd0b12\" x=\"105.084567\" y=\"201.065174\" style=\"fill: #4c72b0; stroke: #333333\"/>\n     <use xlink:href=\"#me59abd0b12\" x=\"236.845957\" y=\"62.78213\" style=\"fill: #4c72b0; stroke: #333333\"/>\n     <use xlink:href=\"#me59abd0b12\" x=\"101.235791\" y=\"173.79973\" style=\"fill: #4c72b0; stroke: #333333\"/>\n     <use xlink:href=\"#me59abd0b12\" x=\"257.881722\" y=\"67.665779\" style=\"fill: #4c72b0; stroke: #333333\"/>\n     <use xlink:href=\"#me59abd0b12\" x=\"271.203931\" y=\"70.482528\" style=\"fill: #4c72b0; stroke: #333333\"/>\n     <use xlink:href=\"#me59abd0b12\" x=\"229.454157\" y=\"59.273387\" style=\"fill: #4c72b0; stroke: #333333\"/>\n     <use xlink:href=\"#me59abd0b12\" x=\"87.203131\" y=\"187.277716\" style=\"fill: #4c72b0; stroke: #333333\"/>\n     <use xlink:href=\"#me59abd0b12\" x=\"235.815337\" y=\"47.401317\" style=\"fill: #4c72b0; stroke: #333333\"/>\n     <use xlink:href=\"#me59abd0b12\" x=\"248.869583\" y=\"58.858585\" style=\"fill: #4c72b0; stroke: #333333\"/>\n     <use xlink:href=\"#me59abd0b12\" x=\"231.785049\" y=\"62.899671\" style=\"fill: #4c72b0; stroke: #333333\"/>\n     <use xlink:href=\"#me59abd0b12\" x=\"238.559089\" y=\"72.993679\" style=\"fill: #4c72b0; stroke: #333333\"/>\n     <use xlink:href=\"#me59abd0b12\" x=\"226.104985\" y=\"67.480152\" style=\"fill: #4c72b0; stroke: #333333\"/>\n     <use xlink:href=\"#me59abd0b12\" x=\"105.812549\" y=\"184.133029\" style=\"fill: #4c72b0; stroke: #333333\"/>\n     <use xlink:href=\"#me59abd0b12\" x=\"227.62177\" y=\"76.922639\" style=\"fill: #4c72b0; stroke: #333333\"/>\n     <use xlink:href=\"#me59abd0b12\" x=\"256.038904\" y=\"66.663318\" style=\"fill: #4c72b0; stroke: #333333\"/>\n     <use xlink:href=\"#me59abd0b12\" x=\"103.333017\" y=\"190.75428\" style=\"fill: #4c72b0; stroke: #333333\"/>\n     <use xlink:href=\"#me59abd0b12\" x=\"246.518643\" y=\"40.492511\" style=\"fill: #4c72b0; stroke: #333333\"/>\n     <use xlink:href=\"#me59abd0b12\" x=\"239.481263\" y=\"65.578874\" style=\"fill: #4c72b0; stroke: #333333\"/>\n     <use xlink:href=\"#me59abd0b12\" x=\"96.554573\" y=\"180.351818\" style=\"fill: #4c72b0; stroke: #333333\"/>\n     <use xlink:href=\"#me59abd0b12\" x=\"268.983142\" y=\"82.843929\" style=\"fill: #4c72b0; stroke: #333333\"/>\n     <use xlink:href=\"#me59abd0b12\" x=\"109.462525\" y=\"177.800715\" style=\"fill: #4c72b0; stroke: #333333\"/>\n     <use xlink:href=\"#me59abd0b12\" x=\"238.391848\" y=\"79.672441\" style=\"fill: #4c72b0; stroke: #333333\"/>\n     <use xlink:href=\"#me59abd0b12\" x=\"105.850963\" y=\"211.947232\" style=\"fill: #4c72b0; stroke: #333333\"/>\n     <use xlink:href=\"#me59abd0b12\" x=\"120.142385\" y=\"188.339496\" style=\"fill: #4c72b0; stroke: #333333\"/>\n     <use xlink:href=\"#me59abd0b12\" x=\"252.775629\" y=\"64.613532\" style=\"fill: #4c72b0; stroke: #333333\"/>\n     <use xlink:href=\"#me59abd0b12\" x=\"269.528994\" y=\"77.944713\" style=\"fill: #4c72b0; stroke: #333333\"/>\n     <use xlink:href=\"#me59abd0b12\" x=\"236.888491\" y=\"75.103582\" style=\"fill: #4c72b0; stroke: #333333\"/>\n     <use xlink:href=\"#me59abd0b12\" x=\"238.982924\" y=\"52.584572\" style=\"fill: #4c72b0; stroke: #333333\"/>\n     <use xlink:href=\"#me59abd0b12\" x=\"239.391287\" y=\"58.679589\" style=\"fill: #4c72b0; stroke: #333333\"/>\n     <use xlink:href=\"#me59abd0b12\" x=\"115.679267\" y=\"191.986897\" style=\"fill: #4c72b0; stroke: #333333\"/>\n     <use xlink:href=\"#me59abd0b12\" x=\"128.727117\" y=\"199.516071\" style=\"fill: #4c72b0; stroke: #333333\"/>\n     <use xlink:href=\"#me59abd0b12\" x=\"244.714059\" y=\"60.818973\" style=\"fill: #4c72b0; stroke: #333333\"/>\n     <use xlink:href=\"#me59abd0b12\" x=\"116.848189\" y=\"212.727871\" style=\"fill: #4c72b0; stroke: #333333\"/>\n     <use xlink:href=\"#me59abd0b12\" x=\"134.075731\" y=\"189.432021\" style=\"fill: #4c72b0; stroke: #333333\"/>\n     <use xlink:href=\"#me59abd0b12\" x=\"120.448152\" y=\"165.340574\" style=\"fill: #4c72b0; stroke: #333333\"/>\n     <use xlink:href=\"#me59abd0b12\" x=\"212.643354\" y=\"61.182918\" style=\"fill: #4c72b0; stroke: #333333\"/>\n     <use xlink:href=\"#me59abd0b12\" x=\"123.318352\" y=\"190.304999\" style=\"fill: #4c72b0; stroke: #333333\"/>\n     <use xlink:href=\"#me59abd0b12\" x=\"109.666483\" y=\"195.595548\" style=\"fill: #4c72b0; stroke: #333333\"/>\n     <use xlink:href=\"#me59abd0b12\" x=\"233.318071\" y=\"82.059737\" style=\"fill: #4c72b0; stroke: #333333\"/>\n     <use xlink:href=\"#me59abd0b12\" x=\"119.652868\" y=\"196.64948\" style=\"fill: #4c72b0; stroke: #333333\"/>\n     <use xlink:href=\"#me59abd0b12\" x=\"105.187928\" y=\"212.254408\" style=\"fill: #4c72b0; stroke: #333333\"/>\n     <use xlink:href=\"#me59abd0b12\" x=\"246.598157\" y=\"54.559435\" style=\"fill: #4c72b0; stroke: #333333\"/>\n     <use xlink:href=\"#me59abd0b12\" x=\"102.092346\" y=\"205.580445\" style=\"fill: #4c72b0; stroke: #333333\"/>\n     <use xlink:href=\"#me59abd0b12\" x=\"253.25145\" y=\"78.292944\" style=\"fill: #4c72b0; stroke: #333333\"/>\n     <use xlink:href=\"#me59abd0b12\" x=\"107.412736\" y=\"211.013729\" style=\"fill: #4c72b0; stroke: #333333\"/>\n     <use xlink:href=\"#me59abd0b12\" x=\"242.470461\" y=\"52.049199\" style=\"fill: #4c72b0; stroke: #333333\"/>\n     <use xlink:href=\"#me59abd0b12\" x=\"239.101682\" y=\"87.27708\" style=\"fill: #4c72b0; stroke: #333333\"/>\n     <use xlink:href=\"#me59abd0b12\" x=\"93.072586\" y=\"211.757749\" style=\"fill: #4c72b0; stroke: #333333\"/>\n     <use xlink:href=\"#me59abd0b12\" x=\"110.870224\" y=\"190.135432\" style=\"fill: #4c72b0; stroke: #333333\"/>\n     <use xlink:href=\"#me59abd0b12\" x=\"272.079389\" y=\"67.905422\" style=\"fill: #4c72b0; stroke: #333333\"/>\n     <use xlink:href=\"#me59abd0b12\" x=\"229.087389\" y=\"94.468363\" style=\"fill: #4c72b0; stroke: #333333\"/>\n     <use xlink:href=\"#me59abd0b12\" x=\"231.725204\" y=\"53.710311\" style=\"fill: #4c72b0; stroke: #333333\"/>\n     <use xlink:href=\"#me59abd0b12\" x=\"213.465343\" y=\"59.256342\" style=\"fill: #4c72b0; stroke: #333333\"/>\n     <use xlink:href=\"#me59abd0b12\" x=\"118.756304\" y=\"227.323097\" style=\"fill: #4c72b0; stroke: #333333\"/>\n     <use xlink:href=\"#me59abd0b12\" x=\"107.266267\" y=\"169.197011\" style=\"fill: #4c72b0; stroke: #333333\"/>\n     <use xlink:href=\"#me59abd0b12\" x=\"113.7073\" y=\"201.231254\" style=\"fill: #4c72b0; stroke: #333333\"/>\n     <use xlink:href=\"#me59abd0b12\" x=\"106.648363\" y=\"198.349291\" style=\"fill: #4c72b0; stroke: #333333\"/>\n     <use xlink:href=\"#me59abd0b12\" x=\"252.61182\" y=\"62.273247\" style=\"fill: #4c72b0; stroke: #333333\"/>\n     <use xlink:href=\"#me59abd0b12\" x=\"88.026807\" y=\"219.095868\" style=\"fill: #4c72b0; stroke: #333333\"/>\n     <use xlink:href=\"#me59abd0b12\" x=\"242.573755\" y=\"66.962062\" style=\"fill: #4c72b0; stroke: #333333\"/>\n     <use xlink:href=\"#me59abd0b12\" x=\"112.337594\" y=\"173.732543\" style=\"fill: #4c72b0; stroke: #333333\"/>\n     <use xlink:href=\"#me59abd0b12\" x=\"242.500647\" y=\"82.121591\" style=\"fill: #4c72b0; stroke: #333333\"/>\n     <use xlink:href=\"#me59abd0b12\" x=\"235.410776\" y=\"56.31926\" style=\"fill: #4c72b0; stroke: #333333\"/>\n     <use xlink:href=\"#me59abd0b12\" x=\"116.209474\" y=\"171.874229\" style=\"fill: #4c72b0; stroke: #333333\"/>\n     <use xlink:href=\"#me59abd0b12\" x=\"248.25116\" y=\"61.723768\" style=\"fill: #4c72b0; stroke: #333333\"/>\n     <use xlink:href=\"#me59abd0b12\" x=\"124.135939\" y=\"185.456465\" style=\"fill: #4c72b0; stroke: #333333\"/>\n     <use xlink:href=\"#me59abd0b12\" x=\"95.084221\" y=\"208.850011\" style=\"fill: #4c72b0; stroke: #333333\"/>\n     <use xlink:href=\"#me59abd0b12\" x=\"98.574429\" y=\"203.394191\" style=\"fill: #4c72b0; stroke: #333333\"/>\n     <use xlink:href=\"#me59abd0b12\" x=\"254.967209\" y=\"72.878445\" style=\"fill: #4c72b0; stroke: #333333\"/>\n     <use xlink:href=\"#me59abd0b12\" x=\"126.803194\" y=\"233.998125\" style=\"fill: #4c72b0; stroke: #333333\"/>\n     <use xlink:href=\"#me59abd0b12\" x=\"130.915213\" y=\"191.902153\" style=\"fill: #4c72b0; stroke: #333333\"/>\n     <use xlink:href=\"#me59abd0b12\" x=\"264.191775\" y=\"71.468136\" style=\"fill: #4c72b0; stroke: #333333\"/>\n     <use xlink:href=\"#me59abd0b12\" x=\"136.417511\" y=\"193.818857\" style=\"fill: #4c72b0; stroke: #333333\"/>\n     <use xlink:href=\"#me59abd0b12\" x=\"211.640372\" y=\"43.149193\" style=\"fill: #4c72b0; stroke: #333333\"/>\n     <use xlink:href=\"#me59abd0b12\" x=\"235.8784\" y=\"35.020887\" style=\"fill: #4c72b0; stroke: #333333\"/>\n     <use xlink:href=\"#me59abd0b12\" x=\"111.681459\" y=\"193.443829\" style=\"fill: #4c72b0; stroke: #333333\"/>\n     <use xlink:href=\"#me59abd0b12\" x=\"132.747716\" y=\"210.103366\" style=\"fill: #4c72b0; stroke: #333333\"/>\n     <use xlink:href=\"#me59abd0b12\" x=\"128.997818\" y=\"189.396465\" style=\"fill: #4c72b0; stroke: #333333\"/>\n     <use xlink:href=\"#me59abd0b12\" x=\"268.966526\" y=\"83.54946\" style=\"fill: #4c72b0; stroke: #333333\"/>\n     <use xlink:href=\"#me59abd0b12\" x=\"249.458229\" y=\"69.017163\" style=\"fill: #4c72b0; stroke: #333333\"/>\n     <use xlink:href=\"#me59abd0b12\" x=\"245.080543\" y=\"65.254078\" style=\"fill: #4c72b0; stroke: #333333\"/>\n     <use xlink:href=\"#me59abd0b12\" x=\"243.454996\" y=\"89.672244\" style=\"fill: #4c72b0; stroke: #333333\"/>\n     <use xlink:href=\"#me59abd0b12\" x=\"252.708849\" y=\"76.149138\" style=\"fill: #4c72b0; stroke: #333333\"/>\n     <use xlink:href=\"#me59abd0b12\" x=\"108.705641\" y=\"193.440423\" style=\"fill: #4c72b0; stroke: #333333\"/>\n     <use xlink:href=\"#me59abd0b12\" x=\"234.264286\" y=\"66.906384\" style=\"fill: #4c72b0; stroke: #333333\"/>\n     <use xlink:href=\"#me59abd0b12\" x=\"246.347796\" y=\"44.663813\" style=\"fill: #4c72b0; stroke: #333333\"/>\n     <use xlink:href=\"#me59abd0b12\" x=\"254.565269\" y=\"77.134416\" style=\"fill: #4c72b0; stroke: #333333\"/>\n     <use xlink:href=\"#me59abd0b12\" x=\"101.487436\" y=\"191.567004\" style=\"fill: #4c72b0; stroke: #333333\"/>\n     <use xlink:href=\"#me59abd0b12\" x=\"249.582115\" y=\"89.033659\" style=\"fill: #4c72b0; stroke: #333333\"/>\n     <use xlink:href=\"#me59abd0b12\" x=\"244.292394\" y=\"56.96799\" style=\"fill: #4c72b0; stroke: #333333\"/>\n     <use xlink:href=\"#me59abd0b12\" x=\"237.243037\" y=\"68.123844\" style=\"fill: #4c72b0; stroke: #333333\"/>\n     <use xlink:href=\"#me59abd0b12\" x=\"250.993547\" y=\"55.652209\" style=\"fill: #4c72b0; stroke: #333333\"/>\n     <use xlink:href=\"#me59abd0b12\" x=\"238.454012\" y=\"61.408602\" style=\"fill: #4c72b0; stroke: #333333\"/>\n     <use xlink:href=\"#me59abd0b12\" x=\"223.724347\" y=\"51.261746\" style=\"fill: #4c72b0; stroke: #333333\"/>\n     <use xlink:href=\"#me59abd0b12\" x=\"247.256234\" y=\"41.447131\" style=\"fill: #4c72b0; stroke: #333333\"/>\n     <use xlink:href=\"#me59abd0b12\" x=\"257.051141\" y=\"57.966436\" style=\"fill: #4c72b0; stroke: #333333\"/>\n     <use xlink:href=\"#me59abd0b12\" x=\"254.558689\" y=\"51.628091\" style=\"fill: #4c72b0; stroke: #333333\"/>\n     <use xlink:href=\"#me59abd0b12\" x=\"133.59859\" y=\"194.882829\" style=\"fill: #4c72b0; stroke: #333333\"/>\n    </g>\n   </g>\n   <g id=\"PathCollection_2\">\n    <defs>\n     <path id=\"mec36eb94ed\" d=\"M 0 3 \nC 0.795609 3 1.55874 2.683901 2.12132 2.12132 \nC 2.683901 1.55874 3 0.795609 3 0 \nC 3 -0.795609 2.683901 -1.55874 2.12132 -2.12132 \nC 1.55874 -2.683901 0.795609 -3 0 -3 \nC -0.795609 -3 -1.55874 -2.683901 -2.12132 -2.12132 \nC -2.683901 -1.55874 -3 -0.795609 -3 0 \nC -3 0.795609 -2.683901 1.55874 -2.12132 2.12132 \nC -1.55874 2.683901 -0.795609 3 0 3 \nz\n\" style=\"stroke: #333333\"/>\n    </defs>\n    <g clip-path=\"url(#p0f3a214e50)\">\n     <use xlink:href=\"#mec36eb94ed\" x=\"102.101399\" y=\"44.55504\" style=\"fill: #dd8452; stroke: #333333\"/>\n     <use xlink:href=\"#mec36eb94ed\" x=\"104.678943\" y=\"46.734789\" style=\"fill: #dd8452; stroke: #333333\"/>\n     <use xlink:href=\"#mec36eb94ed\" x=\"219.180225\" y=\"217.202384\" style=\"fill: #dd8452; stroke: #333333\"/>\n     <use xlink:href=\"#mec36eb94ed\" x=\"125.899166\" y=\"49.613324\" style=\"fill: #dd8452; stroke: #333333\"/>\n     <use xlink:href=\"#mec36eb94ed\" x=\"116.697325\" y=\"67.992159\" style=\"fill: #dd8452; stroke: #333333\"/>\n     <use xlink:href=\"#mec36eb94ed\" x=\"250.285575\" y=\"182.503891\" style=\"fill: #dd8452; stroke: #333333\"/>\n     <use xlink:href=\"#mec36eb94ed\" x=\"238.191343\" y=\"175.249018\" style=\"fill: #dd8452; stroke: #333333\"/>\n     <use xlink:href=\"#mec36eb94ed\" x=\"128.08551\" y=\"82.200121\" style=\"fill: #dd8452; stroke: #333333\"/>\n     <use xlink:href=\"#mec36eb94ed\" x=\"258.783769\" y=\"184.918894\" style=\"fill: #dd8452; stroke: #333333\"/>\n     <use xlink:href=\"#mec36eb94ed\" x=\"110.679653\" y=\"61.209946\" style=\"fill: #dd8452; stroke: #333333\"/>\n     <use xlink:href=\"#mec36eb94ed\" x=\"247.731266\" y=\"182.144707\" style=\"fill: #dd8452; stroke: #333333\"/>\n     <use xlink:href=\"#mec36eb94ed\" x=\"235.096232\" y=\"184.833056\" style=\"fill: #dd8452; stroke: #333333\"/>\n     <use xlink:href=\"#mec36eb94ed\" x=\"111.110898\" y=\"62.226021\" style=\"fill: #dd8452; stroke: #333333\"/>\n     <use xlink:href=\"#mec36eb94ed\" x=\"251.967534\" y=\"193.537439\" style=\"fill: #dd8452; stroke: #333333\"/>\n     <use xlink:href=\"#mec36eb94ed\" x=\"128.982196\" y=\"61.884212\" style=\"fill: #dd8452; stroke: #333333\"/>\n     <use xlink:href=\"#mec36eb94ed\" x=\"222.003783\" y=\"164.154789\" style=\"fill: #dd8452; stroke: #333333\"/>\n     <use xlink:href=\"#mec36eb94ed\" x=\"233.796378\" y=\"194.955498\" style=\"fill: #dd8452; stroke: #333333\"/>\n     <use xlink:href=\"#mec36eb94ed\" x=\"111.14348\" y=\"87.403435\" style=\"fill: #dd8452; stroke: #333333\"/>\n     <use xlink:href=\"#mec36eb94ed\" x=\"241.962954\" y=\"186.120889\" style=\"fill: #dd8452; stroke: #333333\"/>\n     <use xlink:href=\"#mec36eb94ed\" x=\"240.477089\" y=\"194.80938\" style=\"fill: #dd8452; stroke: #333333\"/>\n     <use xlink:href=\"#mec36eb94ed\" x=\"240.762915\" y=\"205.092345\" style=\"fill: #dd8452; stroke: #333333\"/>\n     <use xlink:href=\"#mec36eb94ed\" x=\"94.766857\" y=\"61.766548\" style=\"fill: #dd8452; stroke: #333333\"/>\n     <use xlink:href=\"#mec36eb94ed\" x=\"216.177685\" y=\"171.77997\" style=\"fill: #dd8452; stroke: #333333\"/>\n     <use xlink:href=\"#mec36eb94ed\" x=\"229.396372\" y=\"167.22887\" style=\"fill: #dd8452; stroke: #333333\"/>\n     <use xlink:href=\"#mec36eb94ed\" x=\"129.198408\" y=\"86.452684\" style=\"fill: #dd8452; stroke: #333333\"/>\n     <use xlink:href=\"#mec36eb94ed\" x=\"136.091784\" y=\"41.904097\" style=\"fill: #dd8452; stroke: #333333\"/>\n     <use xlink:href=\"#mec36eb94ed\" x=\"240.217292\" y=\"193.22751\" style=\"fill: #dd8452; stroke: #333333\"/>\n     <use xlink:href=\"#mec36eb94ed\" x=\"124.516555\" y=\"55.799301\" style=\"fill: #dd8452; stroke: #333333\"/>\n     <use xlink:href=\"#mec36eb94ed\" x=\"249.725474\" y=\"203.545666\" style=\"fill: #dd8452; stroke: #333333\"/>\n     <use xlink:href=\"#mec36eb94ed\" x=\"106.777122\" y=\"58.635286\" style=\"fill: #dd8452; stroke: #333333\"/>\n     <use xlink:href=\"#mec36eb94ed\" x=\"124.130366\" y=\"59.562001\" style=\"fill: #dd8452; stroke: #333333\"/>\n     <use xlink:href=\"#mec36eb94ed\" x=\"100.215495\" y=\"66.021741\" style=\"fill: #dd8452; stroke: #333333\"/>\n     <use xlink:href=\"#mec36eb94ed\" x=\"110.044303\" y=\"54.852403\" style=\"fill: #dd8452; stroke: #333333\"/>\n     <use xlink:href=\"#mec36eb94ed\" x=\"248.693544\" y=\"194.292124\" style=\"fill: #dd8452; stroke: #333333\"/>\n     <use xlink:href=\"#mec36eb94ed\" x=\"110.566375\" y=\"71.884199\" style=\"fill: #dd8452; stroke: #333333\"/>\n     <use xlink:href=\"#mec36eb94ed\" x=\"112.55292\" y=\"60.030366\" style=\"fill: #dd8452; stroke: #333333\"/>\n     <use xlink:href=\"#mec36eb94ed\" x=\"207.8264\" y=\"208.944174\" style=\"fill: #dd8452; stroke: #333333\"/>\n     <use xlink:href=\"#mec36eb94ed\" x=\"113.720266\" y=\"71.839465\" style=\"fill: #dd8452; stroke: #333333\"/>\n     <use xlink:href=\"#mec36eb94ed\" x=\"240.40178\" y=\"191.336084\" style=\"fill: #dd8452; stroke: #333333\"/>\n     <use xlink:href=\"#mec36eb94ed\" x=\"127.894769\" y=\"70.155409\" style=\"fill: #dd8452; stroke: #333333\"/>\n     <use xlink:href=\"#mec36eb94ed\" x=\"121.164014\" y=\"53.307294\" style=\"fill: #dd8452; stroke: #333333\"/>\n     <use xlink:href=\"#mec36eb94ed\" x=\"244.760688\" y=\"203.791849\" style=\"fill: #dd8452; stroke: #333333\"/>\n     <use xlink:href=\"#mec36eb94ed\" x=\"95.293847\" y=\"74.797553\" style=\"fill: #dd8452; stroke: #333333\"/>\n     <use xlink:href=\"#mec36eb94ed\" x=\"114.061581\" y=\"52.836852\" style=\"fill: #dd8452; stroke: #333333\"/>\n     <use xlink:href=\"#mec36eb94ed\" x=\"112.84347\" y=\"60.592921\" style=\"fill: #dd8452; stroke: #333333\"/>\n     <use xlink:href=\"#mec36eb94ed\" x=\"213.979651\" y=\"184.195818\" style=\"fill: #dd8452; stroke: #333333\"/>\n     <use xlink:href=\"#mec36eb94ed\" x=\"245.385833\" y=\"184.079993\" style=\"fill: #dd8452; stroke: #333333\"/>\n     <use xlink:href=\"#mec36eb94ed\" x=\"106.558364\" y=\"48.92989\" style=\"fill: #dd8452; stroke: #333333\"/>\n     <use xlink:href=\"#mec36eb94ed\" x=\"258.87406\" y=\"194.528099\" style=\"fill: #dd8452; stroke: #333333\"/>\n     <use xlink:href=\"#mec36eb94ed\" x=\"123.059205\" y=\"46.342293\" style=\"fill: #dd8452; stroke: #333333\"/>\n     <use xlink:href=\"#mec36eb94ed\" x=\"78.348572\" y=\"69.868409\" style=\"fill: #dd8452; stroke: #333333\"/>\n     <use xlink:href=\"#mec36eb94ed\" x=\"82.927459\" y=\"51.685331\" style=\"fill: #dd8452; stroke: #333333\"/>\n     <use xlink:href=\"#mec36eb94ed\" x=\"100.501686\" y=\"60.538788\" style=\"fill: #dd8452; stroke: #333333\"/>\n     <use xlink:href=\"#mec36eb94ed\" x=\"119.325116\" y=\"75.810782\" style=\"fill: #dd8452; stroke: #333333\"/>\n     <use xlink:href=\"#mec36eb94ed\" x=\"224.906153\" y=\"175.607475\" style=\"fill: #dd8452; stroke: #333333\"/>\n     <use xlink:href=\"#mec36eb94ed\" x=\"236.896941\" y=\"199.795661\" style=\"fill: #dd8452; stroke: #333333\"/>\n     <use xlink:href=\"#mec36eb94ed\" x=\"113.232443\" y=\"32.398125\" style=\"fill: #dd8452; stroke: #333333\"/>\n     <use xlink:href=\"#mec36eb94ed\" x=\"256.107309\" y=\"185.223764\" style=\"fill: #dd8452; stroke: #333333\"/>\n     <use xlink:href=\"#mec36eb94ed\" x=\"245.028249\" y=\"191.41201\" style=\"fill: #dd8452; stroke: #333333\"/>\n     <use xlink:href=\"#mec36eb94ed\" x=\"114.078058\" y=\"93.42963\" style=\"fill: #dd8452; stroke: #333333\"/>\n     <use xlink:href=\"#mec36eb94ed\" x=\"234.725827\" y=\"190.168852\" style=\"fill: #dd8452; stroke: #333333\"/>\n     <use xlink:href=\"#mec36eb94ed\" x=\"241.297208\" y=\"175.212037\" style=\"fill: #dd8452; stroke: #333333\"/>\n     <use xlink:href=\"#mec36eb94ed\" x=\"113.081332\" y=\"63.691124\" style=\"fill: #dd8452; stroke: #333333\"/>\n     <use xlink:href=\"#mec36eb94ed\" x=\"128.557399\" y=\"68.022778\" style=\"fill: #dd8452; stroke: #333333\"/>\n     <use xlink:href=\"#mec36eb94ed\" x=\"86.22616\" y=\"75.308106\" style=\"fill: #dd8452; stroke: #333333\"/>\n     <use xlink:href=\"#mec36eb94ed\" x=\"235.814232\" y=\"177.655638\" style=\"fill: #dd8452; stroke: #333333\"/>\n     <use xlink:href=\"#mec36eb94ed\" x=\"241.900647\" y=\"180.926938\" style=\"fill: #dd8452; stroke: #333333\"/>\n     <use xlink:href=\"#mec36eb94ed\" x=\"123.046489\" y=\"76.744766\" style=\"fill: #dd8452; stroke: #333333\"/>\n     <use xlink:href=\"#mec36eb94ed\" x=\"125.839289\" y=\"70.689928\" style=\"fill: #dd8452; stroke: #333333\"/>\n     <use xlink:href=\"#mec36eb94ed\" x=\"245.319211\" y=\"186.428289\" style=\"fill: #dd8452; stroke: #333333\"/>\n     <use xlink:href=\"#mec36eb94ed\" x=\"232.965332\" y=\"178.159475\" style=\"fill: #dd8452; stroke: #333333\"/>\n     <use xlink:href=\"#mec36eb94ed\" x=\"113.807121\" y=\"74.617242\" style=\"fill: #dd8452; stroke: #333333\"/>\n     <use xlink:href=\"#mec36eb94ed\" x=\"255.730411\" y=\"184.607644\" style=\"fill: #dd8452; stroke: #333333\"/>\n     <use xlink:href=\"#mec36eb94ed\" x=\"96.209214\" y=\"64.306065\" style=\"fill: #dd8452; stroke: #333333\"/>\n     <use xlink:href=\"#mec36eb94ed\" x=\"104.871478\" y=\"73.21687\" style=\"fill: #dd8452; stroke: #333333\"/>\n     <use xlink:href=\"#mec36eb94ed\" x=\"132.706703\" y=\"63.758132\" style=\"fill: #dd8452; stroke: #333333\"/>\n     <use xlink:href=\"#mec36eb94ed\" x=\"79.608286\" y=\"45.851577\" style=\"fill: #dd8452; stroke: #333333\"/>\n     <use xlink:href=\"#mec36eb94ed\" x=\"263.953928\" y=\"200.541126\" style=\"fill: #dd8452; stroke: #333333\"/>\n     <use xlink:href=\"#mec36eb94ed\" x=\"239.2683\" y=\"182.706371\" style=\"fill: #dd8452; stroke: #333333\"/>\n     <use xlink:href=\"#mec36eb94ed\" x=\"120.925886\" y=\"51.058537\" style=\"fill: #dd8452; stroke: #333333\"/>\n     <use xlink:href=\"#mec36eb94ed\" x=\"102.235341\" y=\"57.381791\" style=\"fill: #dd8452; stroke: #333333\"/>\n     <use xlink:href=\"#mec36eb94ed\" x=\"120.17634\" y=\"70.522708\" style=\"fill: #dd8452; stroke: #333333\"/>\n     <use xlink:href=\"#mec36eb94ed\" x=\"117.892996\" y=\"34.048839\" style=\"fill: #dd8452; stroke: #333333\"/>\n     <use xlink:href=\"#mec36eb94ed\" x=\"97.962445\" y=\"60.770917\" style=\"fill: #dd8452; stroke: #333333\"/>\n     <use xlink:href=\"#mec36eb94ed\" x=\"243.869719\" y=\"215.068165\" style=\"fill: #dd8452; stroke: #333333\"/>\n     <use xlink:href=\"#mec36eb94ed\" x=\"237.908389\" y=\"187.796722\" style=\"fill: #dd8452; stroke: #333333\"/>\n     <use xlink:href=\"#mec36eb94ed\" x=\"114.587046\" y=\"90.377852\" style=\"fill: #dd8452; stroke: #333333\"/>\n     <use xlink:href=\"#mec36eb94ed\" x=\"86.538072\" y=\"65.070382\" style=\"fill: #dd8452; stroke: #333333\"/>\n     <use xlink:href=\"#mec36eb94ed\" x=\"229.143549\" y=\"170.679004\" style=\"fill: #dd8452; stroke: #333333\"/>\n     <use xlink:href=\"#mec36eb94ed\" x=\"119.203602\" y=\"71.604699\" style=\"fill: #dd8452; stroke: #333333\"/>\n    </g>\n   </g>\n   <g id=\"patch_3\">\n    <path d=\"M 59.024844 244.078125 \nL 59.024844 22.318125 \n\" style=\"fill: none; stroke: #ffffff; stroke-width: 1.25; stroke-linejoin: miter; stroke-linecap: square\"/>\n   </g>\n   <g id=\"patch_4\">\n    <path d=\"M 282.224844 244.078125 \nL 282.224844 22.318125 \n\" style=\"fill: none; stroke: #ffffff; stroke-width: 1.25; stroke-linejoin: miter; stroke-linecap: square\"/>\n   </g>\n   <g id=\"patch_5\">\n    <path d=\"M 59.024844 244.078125 \nL 282.224844 244.078125 \n\" style=\"fill: none; stroke: #ffffff; stroke-width: 1.25; stroke-linejoin: miter; stroke-linecap: square\"/>\n   </g>\n   <g id=\"patch_6\">\n    <path d=\"M 59.024844 22.318125 \nL 282.224844 22.318125 \n\" style=\"fill: none; stroke: #ffffff; stroke-width: 1.25; stroke-linejoin: miter; stroke-linecap: square\"/>\n   </g>\n   <g id=\"text_14\">\n    <!-- Dataset samples -->\n    <g style=\"fill: #262626\" transform=\"translate(120.282031 16.318125) scale(0.12 -0.12)\">\n     <defs>\n      <path id=\"DejaVuSans-44\" d=\"M 1259 4147 \nL 1259 519 \nL 2022 519 \nQ 2988 519 3436 956 \nQ 3884 1394 3884 2338 \nQ 3884 3275 3436 3711 \nQ 2988 4147 2022 4147 \nL 1259 4147 \nz\nM 628 4666 \nL 1925 4666 \nQ 3281 4666 3915 4102 \nQ 4550 3538 4550 2338 \nQ 4550 1131 3912 565 \nQ 3275 0 1925 0 \nL 628 0 \nL 628 4666 \nz\n\" transform=\"scale(0.015625)\"/>\n      <path id=\"DejaVuSans-61\" d=\"M 2194 1759 \nQ 1497 1759 1228 1600 \nQ 959 1441 959 1056 \nQ 959 750 1161 570 \nQ 1363 391 1709 391 \nQ 2188 391 2477 730 \nQ 2766 1069 2766 1631 \nL 2766 1759 \nL 2194 1759 \nz\nM 3341 1997 \nL 3341 0 \nL 2766 0 \nL 2766 531 \nQ 2569 213 2275 61 \nQ 1981 -91 1556 -91 \nQ 1019 -91 701 211 \nQ 384 513 384 1019 \nQ 384 1609 779 1909 \nQ 1175 2209 1959 2209 \nL 2766 2209 \nL 2766 2266 \nQ 2766 2663 2505 2880 \nQ 2244 3097 1772 3097 \nQ 1472 3097 1187 3025 \nQ 903 2953 641 2809 \nL 641 3341 \nQ 956 3463 1253 3523 \nQ 1550 3584 1831 3584 \nQ 2591 3584 2966 3190 \nQ 3341 2797 3341 1997 \nz\n\" transform=\"scale(0.015625)\"/>\n      <path id=\"DejaVuSans-74\" d=\"M 1172 4494 \nL 1172 3500 \nL 2356 3500 \nL 2356 3053 \nL 1172 3053 \nL 1172 1153 \nQ 1172 725 1289 603 \nQ 1406 481 1766 481 \nL 2356 481 \nL 2356 0 \nL 1766 0 \nQ 1100 0 847 248 \nQ 594 497 594 1153 \nL 594 3053 \nL 172 3053 \nL 172 3500 \nL 594 3500 \nL 594 4494 \nL 1172 4494 \nz\n\" transform=\"scale(0.015625)\"/>\n      <path id=\"DejaVuSans-73\" d=\"M 2834 3397 \nL 2834 2853 \nQ 2591 2978 2328 3040 \nQ 2066 3103 1784 3103 \nQ 1356 3103 1142 2972 \nQ 928 2841 928 2578 \nQ 928 2378 1081 2264 \nQ 1234 2150 1697 2047 \nL 1894 2003 \nQ 2506 1872 2764 1633 \nQ 3022 1394 3022 966 \nQ 3022 478 2636 193 \nQ 2250 -91 1575 -91 \nQ 1294 -91 989 -36 \nQ 684 19 347 128 \nL 347 722 \nQ 666 556 975 473 \nQ 1284 391 1588 391 \nQ 1994 391 2212 530 \nQ 2431 669 2431 922 \nQ 2431 1156 2273 1281 \nQ 2116 1406 1581 1522 \nL 1381 1569 \nQ 847 1681 609 1914 \nQ 372 2147 372 2553 \nQ 372 3047 722 3315 \nQ 1072 3584 1716 3584 \nQ 2034 3584 2315 3537 \nQ 2597 3491 2834 3397 \nz\n\" transform=\"scale(0.015625)\"/>\n      <path id=\"DejaVuSans-65\" d=\"M 3597 1894 \nL 3597 1613 \nL 953 1613 \nQ 991 1019 1311 708 \nQ 1631 397 2203 397 \nQ 2534 397 2845 478 \nQ 3156 559 3463 722 \nL 3463 178 \nQ 3153 47 2828 -22 \nQ 2503 -91 2169 -91 \nQ 1331 -91 842 396 \nQ 353 884 353 1716 \nQ 353 2575 817 3079 \nQ 1281 3584 2069 3584 \nQ 2775 3584 3186 3129 \nQ 3597 2675 3597 1894 \nz\nM 3022 2063 \nQ 3016 2534 2758 2815 \nQ 2500 3097 2075 3097 \nQ 1594 3097 1305 2825 \nQ 1016 2553 972 2059 \nL 3022 2063 \nz\n\" transform=\"scale(0.015625)\"/>\n      <path id=\"DejaVuSans-20\" transform=\"scale(0.015625)\"/>\n      <path id=\"DejaVuSans-6d\" d=\"M 3328 2828 \nQ 3544 3216 3844 3400 \nQ 4144 3584 4550 3584 \nQ 5097 3584 5394 3201 \nQ 5691 2819 5691 2113 \nL 5691 0 \nL 5113 0 \nL 5113 2094 \nQ 5113 2597 4934 2840 \nQ 4756 3084 4391 3084 \nQ 3944 3084 3684 2787 \nQ 3425 2491 3425 1978 \nL 3425 0 \nL 2847 0 \nL 2847 2094 \nQ 2847 2600 2669 2842 \nQ 2491 3084 2119 3084 \nQ 1678 3084 1418 2786 \nQ 1159 2488 1159 1978 \nL 1159 0 \nL 581 0 \nL 581 3500 \nL 1159 3500 \nL 1159 2956 \nQ 1356 3278 1631 3431 \nQ 1906 3584 2284 3584 \nQ 2666 3584 2933 3390 \nQ 3200 3197 3328 2828 \nz\n\" transform=\"scale(0.015625)\"/>\n      <path id=\"DejaVuSans-70\" d=\"M 1159 525 \nL 1159 -1331 \nL 581 -1331 \nL 581 3500 \nL 1159 3500 \nL 1159 2969 \nQ 1341 3281 1617 3432 \nQ 1894 3584 2278 3584 \nQ 2916 3584 3314 3078 \nQ 3713 2572 3713 1747 \nQ 3713 922 3314 415 \nQ 2916 -91 2278 -91 \nQ 1894 -91 1617 61 \nQ 1341 213 1159 525 \nz\nM 3116 1747 \nQ 3116 2381 2855 2742 \nQ 2594 3103 2138 3103 \nQ 1681 3103 1420 2742 \nQ 1159 2381 1159 1747 \nQ 1159 1113 1420 752 \nQ 1681 391 2138 391 \nQ 2594 391 2855 752 \nQ 3116 1113 3116 1747 \nz\n\" transform=\"scale(0.015625)\"/>\n      <path id=\"DejaVuSans-6c\" d=\"M 603 4863 \nL 1178 4863 \nL 1178 0 \nL 603 0 \nL 603 4863 \nz\n\" transform=\"scale(0.015625)\"/>\n     </defs>\n     <use xlink:href=\"#DejaVuSans-44\"/>\n     <use xlink:href=\"#DejaVuSans-61\" x=\"77.001953\"/>\n     <use xlink:href=\"#DejaVuSans-74\" x=\"138.28125\"/>\n     <use xlink:href=\"#DejaVuSans-61\" x=\"177.490234\"/>\n     <use xlink:href=\"#DejaVuSans-73\" x=\"238.769531\"/>\n     <use xlink:href=\"#DejaVuSans-65\" x=\"290.869141\"/>\n     <use xlink:href=\"#DejaVuSans-74\" x=\"352.392578\"/>\n     <use xlink:href=\"#DejaVuSans-20\" x=\"391.601562\"/>\n     <use xlink:href=\"#DejaVuSans-73\" x=\"423.388672\"/>\n     <use xlink:href=\"#DejaVuSans-61\" x=\"475.488281\"/>\n     <use xlink:href=\"#DejaVuSans-6d\" x=\"536.767578\"/>\n     <use xlink:href=\"#DejaVuSans-70\" x=\"634.179688\"/>\n     <use xlink:href=\"#DejaVuSans-6c\" x=\"697.65625\"/>\n     <use xlink:href=\"#DejaVuSans-65\" x=\"725.439453\"/>\n     <use xlink:href=\"#DejaVuSans-73\" x=\"786.962891\"/>\n    </g>\n   </g>\n   <g id=\"legend_1\">\n    <g id=\"patch_7\">\n     <path d=\"M 199.891562 150.994063 \nL 274.524844 150.994063 \nQ 276.724844 150.994063 276.724844 148.794063 \nL 276.724844 117.602188 \nQ 276.724844 115.402188 274.524844 115.402188 \nL 199.891562 115.402188 \nQ 197.691562 115.402188 197.691562 117.602188 \nL 197.691562 148.794063 \nQ 197.691562 150.994063 199.891562 150.994063 \nz\n\" style=\"fill: #eaeaf2; opacity: 0.8; stroke: #cccccc; stroke-linejoin: miter\"/>\n    </g>\n    <g id=\"PathCollection_3\">\n     <g>\n      <use xlink:href=\"#me59abd0b12\" x=\"213.091562\" y=\"125.272969\" style=\"fill: #4c72b0; stroke: #333333\"/>\n     </g>\n    </g>\n    <g id=\"text_15\">\n     <!-- Class 0 -->\n     <g style=\"fill: #262626\" transform=\"translate(232.891562 128.160469) scale(0.11 -0.11)\">\n      <defs>\n       <path id=\"DejaVuSans-43\" d=\"M 4122 4306 \nL 4122 3641 \nQ 3803 3938 3442 4084 \nQ 3081 4231 2675 4231 \nQ 1875 4231 1450 3742 \nQ 1025 3253 1025 2328 \nQ 1025 1406 1450 917 \nQ 1875 428 2675 428 \nQ 3081 428 3442 575 \nQ 3803 722 4122 1019 \nL 4122 359 \nQ 3791 134 3420 21 \nQ 3050 -91 2638 -91 \nQ 1578 -91 968 557 \nQ 359 1206 359 2328 \nQ 359 3453 968 4101 \nQ 1578 4750 2638 4750 \nQ 3056 4750 3426 4639 \nQ 3797 4528 4122 4306 \nz\n\" transform=\"scale(0.015625)\"/>\n      </defs>\n      <use xlink:href=\"#DejaVuSans-43\"/>\n      <use xlink:href=\"#DejaVuSans-6c\" x=\"69.824219\"/>\n      <use xlink:href=\"#DejaVuSans-61\" x=\"97.607422\"/>\n      <use xlink:href=\"#DejaVuSans-73\" x=\"158.886719\"/>\n      <use xlink:href=\"#DejaVuSans-73\" x=\"210.986328\"/>\n      <use xlink:href=\"#DejaVuSans-20\" x=\"263.085938\"/>\n      <use xlink:href=\"#DejaVuSans-30\" x=\"294.873047\"/>\n     </g>\n    </g>\n    <g id=\"PathCollection_4\">\n     <g>\n      <use xlink:href=\"#mec36eb94ed\" x=\"213.091562\" y=\"141.418906\" style=\"fill: #dd8452; stroke: #333333\"/>\n     </g>\n    </g>\n    <g id=\"text_16\">\n     <!-- Class 1 -->\n     <g style=\"fill: #262626\" transform=\"translate(232.891562 144.306406) scale(0.11 -0.11)\">\n      <use xlink:href=\"#DejaVuSans-43\"/>\n      <use xlink:href=\"#DejaVuSans-6c\" x=\"69.824219\"/>\n      <use xlink:href=\"#DejaVuSans-61\" x=\"97.607422\"/>\n      <use xlink:href=\"#DejaVuSans-73\" x=\"158.886719\"/>\n      <use xlink:href=\"#DejaVuSans-73\" x=\"210.986328\"/>\n      <use xlink:href=\"#DejaVuSans-20\" x=\"263.085938\"/>\n      <use xlink:href=\"#DejaVuSans-31\" x=\"294.873047\"/>\n     </g>\n    </g>\n   </g>\n  </g>\n </g>\n <defs>\n  <clipPath id=\"p0f3a214e50\">\n   <rect x=\"59.024844\" y=\"22.318125\" width=\"223.2\" height=\"221.76\"/>\n  </clipPath>\n </defs>\n</svg>\n",
            "application/pdf": "[encoded data removed]"
          },
          "metadata": {}
        }
      ],
      "source": [
        "visualize_samples(dataset.data, dataset.label)\n",
        "plt.show()"
      ]
    },
    {
      "cell_type": "markdown",
      "metadata": {
        "id": "35fiqAFYXpqq"
      },
      "source": [
        "#### The data loader class\n",
        "\n",
        "The class `torch.utils.data.DataLoader` represents a Python iterable over a dataset with support for automatic batching, multi-process data loading and many more features. The data loader communicates with the dataset using the function `__getitem__`, and stacks its outputs as tensors over the first dimension to form a batch.\n",
        "In contrast to the dataset class, we usually don't have to define our own data loader class, but can just create an object of it with the dataset as input. Additionally, we can configure our data loader with the following input arguments (only a selection, see full list [here](https://pytorch.org/docs/stable/data.html#torch.utils.data.DataLoader)):\n",
        "\n",
        "* `batch_size`: Number of samples to stack per batch\n",
        "* `shuffle`: If True, the data is returned in a random order. This is important during training for introducing stochasticity.\n",
        "* `num_workers`: Number of subprocesses to use for data loading. The default, 0, means that the data will be loaded in the main process which can slow down training for datasets where loading a data point takes a considerable amount of time (e.g. large images). More workers are recommended for those, but can cause issues on Windows computers. For tiny datasets as ours, 0 workers are usually faster.\n",
        "* `pin_memory`: If True, the data loader will copy Tensors into CUDA pinned memory before returning them. This can save some time for large data points on GPUs. Usually a good practice to use for a training set, but not necessarily for validation and test to save memory on the GPU.\n",
        "* `drop_last`: If True, the last batch is dropped in case it is smaller than the specified batch size. This occurs when the dataset size is not a multiple of the batch size. Only potentially helpful during training to keep a consistent batch size.\n",
        "\n",
        "Let's create a simple data loader below:"
      ]
    },
    {
      "cell_type": "code",
      "execution_count": null,
      "metadata": {
        "id": "sjws_cQHXpqq"
      },
      "outputs": [],
      "source": [
        "data_loader = data.DataLoader(dataset, batch_size=8, shuffle=True)"
      ]
    },
    {
      "cell_type": "code",
      "execution_count": null,
      "metadata": {
        "id": "jcraejHeXpqr",
        "outputId": "7b3b6c48-83d4-4a59-d8d3-9fc01de5b7bc",
        "colab": {
          "base_uri": "https://localhost:8080/"
        }
      },
      "outputs": [
        {
          "output_type": "stream",
          "name": "stdout",
          "text": [
            "Data inputs torch.Size([8, 2]) \n",
            " tensor([[ 0.1350, -0.0532],\n",
            "        [-0.0022,  0.9359],\n",
            "        [ 0.9252,  0.8570],\n",
            "        [ 1.0049, -0.1737],\n",
            "        [ 0.0640,  0.9054],\n",
            "        [ 1.0427,  1.0368],\n",
            "        [ 1.1946,  0.8509],\n",
            "        [ 0.1003,  1.0314]])\n",
            "Data labels torch.Size([8]) \n",
            " tensor([0, 1, 0, 1, 1, 0, 0, 1])\n"
          ]
        }
      ],
      "source": [
        "# next(iter(...)) catches the first batch of the data loader\n",
        "# If shuffle is True, this will return a different batch every time we run this cell\n",
        "# For iterating over the whole dataset, we can simple use \"for batch in data_loader: ...\"\n",
        "data_inputs, data_labels = next(iter(data_loader))\n",
        "\n",
        "# The shape of the outputs are [batch_size, d_1,...,d_N] where d_1,...,d_N are the\n",
        "# dimensions of the data point returned from the dataset class\n",
        "print(\"Data inputs\", data_inputs.shape, \"\\n\", data_inputs)\n",
        "print(\"Data labels\", data_labels.shape, \"\\n\", data_labels)"
      ]
    },
    {
      "cell_type": "markdown",
      "metadata": {
        "id": "Q7GSWvYqXpqr"
      },
      "source": [
        "### Optimization\n",
        "\n",
        "After defining the model and the dataset, it is time to prepare the optimization of the model. During training, we will perform the following steps:\n",
        "\n",
        "1. Get a batch from the data loader\n",
        "2. Obtain the predictions from the model for the batch\n",
        "3. Calculate the loss based on the difference between predictions and labels\n",
        "4. Backpropagation: calculate the gradients for every parameter with respect to the loss\n",
        "5. Update the parameters of the model in the direction of the gradients\n",
        "\n",
        "We have seen how we can do step 1, 2 and 4 in PyTorch. Now, we will look at step 3 and 5."
      ]
    },
    {
      "cell_type": "markdown",
      "metadata": {
        "id": "307fiTB0Xpqr"
      },
      "source": [
        "#### Loss modules\n",
        "\n",
        "We can calculate the loss for a batch by simply performing a few tensor operations as those are automatically added to the computation graph. For instance, for binary classification, we can use Binary Cross Entropy (BCE) which is defined as follows:\n",
        "\n",
        "$$\\mathcal{L}_{BCE} = -\\sum_i \\left[ y_i \\log x_i + (1 - y_i) \\log (1 - x_i) \\right]$$\n",
        "\n",
        "where $y$ are our labels, and $x$ our predictions, both in the range of $[0,1]$. However, PyTorch already provides a list of predefined loss functions which we can use (see [here](https://pytorch.org/docs/stable/nn.html#loss-functions) for a full list). For instance, for BCE, PyTorch has two modules: `nn.BCELoss()`, `nn.BCEWithLogitsLoss()`. While `nn.BCELoss` expects the inputs $x$ to be in the range $[0,1]$, i.e. the output of a sigmoid, `nn.BCEWithLogitsLoss` combines a sigmoid layer and the BCE loss in a single class. This version is numerically more stable than using a plain Sigmoid followed by a BCE loss because of the logarithms applied in the loss function. Hence, it is adviced to use loss functions applied on \"logits\" where possible (remember to not apply a sigmoid on the output of the model in this case!). For our model defined above, we therefore use the module `nn.BCEWithLogitsLoss`."
      ]
    },
    {
      "cell_type": "code",
      "execution_count": null,
      "metadata": {
        "id": "zcIBu75bXpqr"
      },
      "outputs": [],
      "source": [
        "loss_module = nn.BCEWithLogitsLoss()"
      ]
    },
    {
      "cell_type": "markdown",
      "metadata": {
        "id": "sX5vG5b8Xpqs"
      },
      "source": [
        "#### Stochastic Gradient Descent\n",
        "\n",
        "For updating the parameters, PyTorch provides the package `torch.optim` that has most popular optimizers implemented. We will discuss the specific optimizers and their differences later in the course, but will for now use the simplest of them: `torch.optim.SGD`. Stochastic Gradient Descent updates parameters by multiplying the gradients with a small constant, called learning rate, and subtracting those from the parameters (hence minimizing the loss). Therefore, we slowly move towards the direction of minimizing the loss. A good default value of the learning rate for a small network as ours is 0.1."
      ]
    },
    {
      "cell_type": "code",
      "execution_count": null,
      "metadata": {
        "id": "qlZcNIl4Xpqs"
      },
      "outputs": [],
      "source": [
        "# Input to the optimizer are the parameters of the model: model.parameters()\n",
        "optimizer = torch.optim.SGD(model.parameters(), lr=0.1)"
      ]
    },
    {
      "cell_type": "markdown",
      "metadata": {
        "id": "Zmuswb6KXpqs"
      },
      "source": [
        "The optimizer provides two useful functions: `optimizer.step()`, and `optimizer.zero_grad()`. The step function updates the parameters based on the gradients as explained above. The function `optimizer.zero_grad()` sets the gradients of all parameters to zero. While this function seems less relevant at first, it is a crucial pre-step before performing backpropagation. If we call the `backward` function on the loss while the parameter gradients are non-zero from the previous batch, the new gradients would actually be added to the previous ones instead of overwriting them. This is done because a parameter might occur multiple times in a computation graph, and we need to sum the gradients in this case instead of replacing them. Hence, remember to call `optimizer.zero_grad()` before calculating the gradients of a batch."
      ]
    },
    {
      "cell_type": "markdown",
      "metadata": {
        "id": "NqrV7V-eXpqs"
      },
      "source": [
        "### Training\n",
        "\n",
        "Finally, we are ready to train our model. As a first step, we create a slightly larger dataset and specify a data loader with a larger batch size."
      ]
    },
    {
      "cell_type": "code",
      "execution_count": null,
      "metadata": {
        "id": "_vZy2fsTXpqs"
      },
      "outputs": [],
      "source": [
        "train_dataset = XORDataset(size=2500)\n",
        "train_data_loader = data.DataLoader(train_dataset, batch_size=128, shuffle=True)"
      ]
    },
    {
      "cell_type": "markdown",
      "metadata": {
        "id": "cuYsyTFEXpqt"
      },
      "source": [
        "Now, we can write a small training function. Remember our five steps: load a batch, obtain the predictions, calculate the loss, backpropagate, and update. Additionally, we have to push all data and model parameters to the device of our choice (GPU if available). For the tiny neural network we have, communicating the data to the GPU actually takes much more time than we could save from running the operation on GPU. For large networks, the communication time is significantly smaller than the actual runtime making a GPU crucial in these cases. Still, to practice, we will push the data to GPU here."
      ]
    },
    {
      "cell_type": "code",
      "execution_count": null,
      "metadata": {
        "id": "FxkycZSBXpqt",
        "outputId": "8e7c509e-42de-4577-d921-aad7bcb39e3c",
        "colab": {
          "base_uri": "https://localhost:8080/"
        }
      },
      "outputs": [
        {
          "output_type": "execute_result",
          "data": {
            "text/plain": [
              "SimpleClassifier(\n",
              "  (linear1): Linear(in_features=2, out_features=4, bias=True)\n",
              "  (act_fn): Tanh()\n",
              "  (linear2): Linear(in_features=4, out_features=1, bias=True)\n",
              ")"
            ]
          },
          "metadata": {},
          "execution_count": 25
        }
      ],
      "source": [
        "# Push model to device. Has to be only done once\n",
        "model.to(device)"
      ]
    },
    {
      "cell_type": "markdown",
      "metadata": {
        "id": "IHseSpHNXpqt"
      },
      "source": [
        "In addition, we set our model to training mode. This is done by calling `model.train()`. There exist certain modules that need to perform a different forward step during training than during testing (e.g. BatchNorm and Dropout), and we can switch between them using `model.train()` and `model.eval()`."
      ]
    },
    {
      "cell_type": "code",
      "execution_count": null,
      "metadata": {
        "id": "7lHPnBjhXpqt"
      },
      "outputs": [],
      "source": [
        "def train_model(model, optimizer, data_loader, loss_module, num_epochs=100):\n",
        "    # Set model to train mode\n",
        "    model.train()\n",
        "\n",
        "    # Training loop\n",
        "    for epoch in tqdm(range(num_epochs)):\n",
        "        for data_inputs, data_labels in data_loader:\n",
        "\n",
        "            ## Step 1: Move input data to device (only strictly necessary if we use GPU)\n",
        "            data_inputs = data_inputs.to(device)\n",
        "            data_labels = data_labels.to(device)\n",
        "\n",
        "            ## Step 2: Run the model on the input data\n",
        "            preds = model(data_inputs)\n",
        "            preds = preds.squeeze(dim=1) # Output is [Batch size, 1], but we want [Batch size]\n",
        "\n",
        "            ## Step 3: Calculate the loss\n",
        "            loss = loss_module(preds, data_labels.float())\n",
        "\n",
        "            ## Step 4: Perform backpropagation\n",
        "            # Before calculating the gradients, we need to ensure that they are all zero.\n",
        "            # The gradients would not be overwritten, but actually added to the existing ones.\n",
        "            optimizer.zero_grad()\n",
        "            # Perform backpropagation\n",
        "            loss.backward()\n",
        "\n",
        "            ## Step 5: Update the parameters\n",
        "            optimizer.step()"
      ]
    },
    {
      "cell_type": "code",
      "execution_count": null,
      "metadata": {
        "id": "sLV0rIc2Xpqu",
        "outputId": "bdfe9b84-c075-4bc4-e6fc-dab21d18a798",
        "colab": {
          "referenced_widgets": [
            "bbab0ffc2a3e4b8f9f8ac04f6185e9fc",
            "a7896538099948dd9b3431ca236d1413",
            "e88bdf1ace074424b87aac0c15fb2ffb",
            "48fcbcfc6f2942d2b517866318aeeed9",
            "da71ccc617854ff39727520fe28bec2b",
            "9296473aabdd4fc1a04dccf8262e47f3",
            "cfcca550ead640199d747e2ea01d19c5",
            "41f8cfb864f24c84a3f74d3b60d09683",
            "96fed739d7164222a0f6a8a3985c8721",
            "bb5905749feb4fa78ca70e0dd6791801",
            "1f899df59f574558a8737f6a2feadf1e"
          ],
          "base_uri": "https://localhost:8080/",
          "height": 49
        }
      },
      "outputs": [
        {
          "output_type": "display_data",
          "data": {
            "text/plain": [
              "  0%|          | 0/100 [00:00<?, ?it/s]"
            ],
            "application/vnd.jupyter.widget-view+json": {
              "version_major": 2,
              "version_minor": 0,
              "model_id": "bbab0ffc2a3e4b8f9f8ac04f6185e9fc"
            }
          },
          "metadata": {}
        }
      ],
      "source": [
        "train_model(model, optimizer, train_data_loader, loss_module)"
      ]
    },
    {
      "cell_type": "markdown",
      "metadata": {
        "id": "Jaoc_zp9Xpqu"
      },
      "source": [
        "#### Saving a model\n",
        "\n",
        "After finish training a model, we save the model to disk so that we can load the same weights at a later time. For this, we extract the so-called `state_dict` from the model which contains all learnable parameters. For our simple model, the state dict contains the following entries:"
      ]
    },
    {
      "cell_type": "code",
      "execution_count": null,
      "metadata": {
        "id": "POt-cTJlXpqu",
        "outputId": "43cd77a7-98a8-4936-c2d5-a949dbb8765f",
        "colab": {
          "base_uri": "https://localhost:8080/"
        }
      },
      "outputs": [
        {
          "output_type": "stream",
          "name": "stdout",
          "text": [
            "OrderedDict([('linear1.weight', tensor([[-3.3339,  3.4180],\n",
            "        [-0.1814, -0.4251],\n",
            "        [ 1.1319, -1.2841],\n",
            "        [-2.4875,  2.5180]], device='cuda:0')), ('linear1.bias', tensor([-1.7087,  1.7830, -0.4486,  1.2358], device='cuda:0')), ('linear2.weight', tensor([[ 4.7064,  2.1521,  1.6629, -3.5403]], device='cuda:0')), ('linear2.bias', tensor([2.2429], device='cuda:0'))])\n"
          ]
        }
      ],
      "source": [
        "state_dict = model.state_dict()\n",
        "print(state_dict)"
      ]
    },
    {
      "cell_type": "markdown",
      "metadata": {
        "id": "AbYMCiL6Xpqu"
      },
      "source": [
        "To save the state dictionary, we can use `torch.save`:"
      ]
    },
    {
      "cell_type": "code",
      "execution_count": null,
      "metadata": {
        "id": "sZQBphC_Xpqv"
      },
      "outputs": [],
      "source": [
        "# torch.save(object, filename). For the filename, any extension can be used\n",
        "torch.save(state_dict, \"our_model.tar\")"
      ]
    },
    {
      "cell_type": "markdown",
      "metadata": {
        "id": "CphWXpRoXpqv"
      },
      "source": [
        "To load a model from a state dict, we use the function `torch.load` to load the state dict from the disk, and the module function `load_state_dict` to overwrite our parameters with the new values:"
      ]
    },
    {
      "cell_type": "code",
      "execution_count": null,
      "metadata": {
        "id": "76CG0XFMXpqv",
        "outputId": "36637dce-2e17-4595-cf2c-0f6fe4f47fe0",
        "colab": {
          "base_uri": "https://localhost:8080/"
        }
      },
      "outputs": [
        {
          "output_type": "stream",
          "name": "stdout",
          "text": [
            "Original model\n",
            " OrderedDict([('linear1.weight', tensor([[-3.3339,  3.4180],\n",
            "        [-0.1814, -0.4251],\n",
            "        [ 1.1319, -1.2841],\n",
            "        [-2.4875,  2.5180]], device='cuda:0')), ('linear1.bias', tensor([-1.7087,  1.7830, -0.4486,  1.2358], device='cuda:0')), ('linear2.weight', tensor([[ 4.7064,  2.1521,  1.6629, -3.5403]], device='cuda:0')), ('linear2.bias', tensor([2.2429], device='cuda:0'))])\n",
            "\n",
            "Loaded model\n",
            " OrderedDict([('linear1.weight', tensor([[-3.3339,  3.4180],\n",
            "        [-0.1814, -0.4251],\n",
            "        [ 1.1319, -1.2841],\n",
            "        [-2.4875,  2.5180]])), ('linear1.bias', tensor([-1.7087,  1.7830, -0.4486,  1.2358])), ('linear2.weight', tensor([[ 4.7064,  2.1521,  1.6629, -3.5403]])), ('linear2.bias', tensor([2.2429]))])\n"
          ]
        }
      ],
      "source": [
        "# Load state dict from the disk (make sure it is the same name as above)\n",
        "state_dict = torch.load(\"our_model.tar\")\n",
        "\n",
        "# Create a new model and load the state\n",
        "new_model = SimpleClassifier(num_inputs=2, num_hidden=4, num_outputs=1)\n",
        "new_model.load_state_dict(state_dict)\n",
        "\n",
        "# Verify that the parameters are the same\n",
        "print(\"Original model\\n\", model.state_dict())\n",
        "print(\"\\nLoaded model\\n\", new_model.state_dict())"
      ]
    },
    {
      "cell_type": "markdown",
      "metadata": {
        "id": "OF6GuxI4Xpqv"
      },
      "source": [
        "A detailed tutorial on saving and loading models in PyTorch can be found [here](https://pytorch.org/tutorials/beginner/saving_loading_models.html)."
      ]
    },
    {
      "cell_type": "markdown",
      "metadata": {
        "id": "nuybMDivXpqv"
      },
      "source": [
        "### Evaluation\n",
        "\n",
        "Once we have trained a model, it is time to evaluate it on a held-out test set. As our dataset consist of randomly generated data points, we need to first create a test set with a corresponding data loader."
      ]
    },
    {
      "cell_type": "code",
      "execution_count": null,
      "metadata": {
        "id": "9A9O1MGxXpqw"
      },
      "outputs": [],
      "source": [
        "test_dataset = XORDataset(size=500)\n",
        "# drop_last -> Don't drop the last batch although it is smaller than 128\n",
        "test_data_loader = data.DataLoader(test_dataset, batch_size=128, shuffle=False, drop_last=False)"
      ]
    },
    {
      "cell_type": "markdown",
      "metadata": {
        "id": "M-7UR1nNXpqx"
      },
      "source": [
        "As metric, we will use accuracy which is calculated as follows:\n",
        "\n",
        "$$acc = \\frac{\\#\\text{correct predictions}}{\\#\\text{all predictions}} = \\frac{TP+TN}{TP+TN+FP+FN}$$\n",
        "\n",
        "where TP are the true positives, TN true negatives, FP false positives, and FN the fale negatives.\n",
        "\n",
        "When evaluating the model, we don't need to keep track of the computation graph as we don't intend to calculate the gradients. This reduces the required memory and speed up the model. In PyTorch, we can deactivate the computation graph using `with torch.no_grad(): ...`. Remember to additionally set the model to eval mode."
      ]
    },
    {
      "cell_type": "code",
      "execution_count": null,
      "metadata": {
        "id": "M38MsreIXpqx"
      },
      "outputs": [],
      "source": [
        "def eval_model(model, data_loader):\n",
        "    model.eval() # Set model to eval mode\n",
        "    true_preds, num_preds = 0., 0.\n",
        "\n",
        "    with torch.no_grad(): # Deactivate gradients for the following code\n",
        "        for data_inputs, data_labels in data_loader:\n",
        "\n",
        "            # Determine prediction of model on dev set\n",
        "            data_inputs, data_labels = data_inputs.to(device), data_labels.to(device)\n",
        "            preds = model(data_inputs)\n",
        "            preds = preds.squeeze(dim=1)\n",
        "            preds = torch.sigmoid(preds) # Sigmoid to map predictions between 0 and 1\n",
        "            pred_labels = (preds >= 0.5).long() # Binarize predictions to 0 and 1\n",
        "\n",
        "            # Keep records of predictions for the accuracy metric (true_preds=TP+TN, num_preds=TP+TN+FP+FN)\n",
        "            true_preds += (pred_labels == data_labels).sum()\n",
        "            num_preds += data_labels.shape[0]\n",
        "\n",
        "    acc = true_preds / num_preds\n",
        "    print(f\"Accuracy of the model: {100.0*acc:4.2f}%\")"
      ]
    },
    {
      "cell_type": "code",
      "execution_count": null,
      "metadata": {
        "id": "Nw8nuVkJXpqy",
        "outputId": "eb69d394-904f-48d0-af28-97337f87b566",
        "colab": {
          "base_uri": "https://localhost:8080/"
        }
      },
      "outputs": [
        {
          "output_type": "stream",
          "name": "stdout",
          "text": [
            "Accuracy of the model: 100.00%\n"
          ]
        }
      ],
      "source": [
        "eval_model(model, test_data_loader)"
      ]
    },
    {
      "cell_type": "markdown",
      "metadata": {
        "id": "Ygv90GrtXpqz"
      },
      "source": [
        "If we trained our model correctly, we should see a score close to 100% accuracy. However, this is only possible because of our simple task, and unfortunately, we usually don't get such high scores on test sets of more complex tasks."
      ]
    },
    {
      "cell_type": "markdown",
      "metadata": {
        "id": "4oTUX5wHXpqz"
      },
      "source": [
        "#### Visualizing classification boundaries\n",
        "\n",
        "To visualize what our model has learned, we can perform a prediction for every data point in a range of $[-0.5, 1.5]$, and visualize the predicted class as in the sample figure at the beginning of this section. This shows where the model has created decision boundaries, and which points would be classified as $0$, and which as $1$. We therefore get a background image out of blue (class 0) and orange (class 1). The spots where the model is uncertain we will see a blurry overlap. The specific code is less relevant compared to the output figure which should hopefully show us a clear separation of classes:"
      ]
    },
    {
      "cell_type": "code",
      "execution_count": null,
      "metadata": {
        "id": "ZfM6mBT3Xpqz",
        "outputId": "76a1ed63-1c48-4690-f39e-40f5230ed042",
        "colab": {
          "base_uri": "https://localhost:8080/",
          "height": 404
        }
      },
      "outputs": [
        {
          "output_type": "display_data",
          "data": {
            "text/plain": [
              "<Figure size 2000x2000 with 1 Axes>"
            ],
            "image/svg+xml": "<?xml version=\"1.0\" encoding=\"utf-8\" standalone=\"no\"?>\n<!DOCTYPE svg PUBLIC \"-//W3C//DTD SVG 1.1//EN\"\n  \"http://www.w3.org/Graphics/SVG/1.1/DTD/svg11.dtd\">\n<svg xmlns:xlink=\"http://www.w3.org/1999/xlink\" width=\"303.730313pt\" height=\"287.037813pt\" viewBox=\"0 0 303.730313 287.037813\" xmlns=\"http://www.w3.org/2000/svg\" version=\"1.1\">\n <metadata>\n  <rdf:RDF xmlns:dc=\"http://purl.org/dc/elements/1.1/\" xmlns:cc=\"http://creativecommons.org/ns#\" xmlns:rdf=\"http://www.w3.org/1999/02/22-rdf-syntax-ns#\">\n   <cc:Work>\n    <dc:type rdf:resource=\"http://purl.org/dc/dcmitype/StillImage\"/>\n    <dc:date>2023-06-19T12:37:47.295456</dc:date>\n    <dc:format>image/svg+xml</dc:format>\n    <dc:creator>\n     <cc:Agent>\n      <dc:title>Matplotlib v3.7.1, https://matplotlib.org/</dc:title>\n     </cc:Agent>\n    </dc:creator>\n   </cc:Work>\n  </rdf:RDF>\n </metadata>\n <defs>\n  <style type=\"text/css\">*{stroke-linejoin: round; stroke-linecap: butt}</style>\n </defs>\n <g id=\"figure_1\">\n  <g id=\"patch_1\">\n   <path d=\"M 0 287.037813 \nL 303.730313 287.037813 \nL 303.730313 0 \nL 0 0 \nz\n\" style=\"fill: #ffffff\"/>\n  </g>\n  <g id=\"axes_1\">\n   <g id=\"patch_2\">\n    <path d=\"M 66.023594 244.078125 \nL 287.783594 244.078125 \nL 287.783594 22.318125 \nL 66.023594 22.318125 \nz\n\" style=\"fill: #eaeaf2\"/>\n   </g>\n   <g clip-path=\"url(#pa444d5cb26)\">\n    <image xlink:href=\"data:image/png;base64,\niVBORw0KGgoAAAANSUhEUgAABgUAAAYFCAYAAAAGCtmcAADSD0lEQVR4nOz7W5bsuJIu3AGe8at76ov6pR7WJvSwdo1xdKrcvti0RNIjMOcrCcOFuAbC5//7//P/XQN+sLk1ej08duY9Q945ffFsdmO/T5/Kndrs1Yj9CvWqYv95ft1O+9d8n3aMMf4qYn/FtP8qn/8/Rew/8d+n/3+KZ39i/1f9fGPs/1cVu1Gubz0v2rxqzzHG+Arfq/reKW2nn41R9+MUO4+ffWN355yT01d593Tm+c48vnfdHKNaO/fnfV+vbGdupz/5ewIAAO+9ni4AAAAAAADwz3ApAAAAAAAAh3ApAAAAAAAAh3ApAAAAAAAAh3ApAAAAAAAAh3ApAAAAAAAAh3ApAAAAAAAAh/h6ugDQtcLz2Ypep14h907eK6SeIe/y6QqxZ4rdq1nlKmKnW8yr3RmqHK469Aqlq/JuljtWK8XvBH8qdm9g99q828869Wr38aIfxz5cj4FKd+y+Wt975yrRWwOquTTO8XEer/Ldt3alCPvzvq/XU3ZOlp9r7x4MAADYxS8FAAAAAADgEC4FAAAAAADgEC4FAAAAAADgEC4FAAAAAADgEC4FAAAAAADgEC4FAAAAAADgEF9PFwB2W+H5bEWvU68i916+Y6wQYRZ5pzYZK8SeVex+zd65Qux0y3m1OkOMXj9eRfrUZDs78Yq94X7ezdBV7KILtmOPMeqyb/xesV5b+0qjD48xxgzpC52x++pOOXsH2O3InTl+jHpoz3l/7fqTd8eTefd0poX+4P2Zem0GAADs4pcCAAAAAABwCJcCAAAAAABwCJcCAAAAAABwCJcCAAAAAABwCJcCAAAAAABwCJcCAAAAAABwCJcCAAAAAABwiK+nCwBPW8Wz2Y7+PsIqc+7nvYoIM+RdPx1jrCL2TLE7NatjXyF2ugW9Wp0hRn//aIW0Ke/0wfY1eS/fT42d4nfbu9PPnsy76sNj1P14hrRBNULKcTvGeLUn8p2rxPvY+VPWb1Tz/AptNmcde+/6dT/v/pp9X38a7kw6P9POpQsAAKj5pQAAAAAAABzCpQAAAAAAABzCpQAAAAAAABzCpQAAAAAAABzCpQAAAAAAABzCpQAAAAAAABzCpQAAAAAAABzia4YX1j9SDPhMqf+n8dNJvULunbxXSD1D3uXTFWLPFLtXs8oVYle3pFe7M5TR66Qr3N92JvJeJ+4tEjsXoE+OXaXv9rMn8676cezDYQwU0n83pLH7ao2BnatEbw2o5tI4x4dqzXl//epOOVWEnetmV6+nPDlRP2fvHgwAAM7mlwIAAAAAAHAIlwIAAAAAAHAIlwIAAAAAAHAIlwIAAAAAAHAIlwIAAAAAAHAIlwIAAAAAAHAIlwIAAAAAAHCIr/TCLJ6tv7Eg8BOlMVCNn6xOvULunbxXSD2LvOO8sELsWcXutWgq3VXETzeoV6szxOj14xXSdyby4nu0dfLuFivVqxM/ddMqdiftGGM+mHedvtuHQ/pCd+y+WtPOzlXi/hrQmePHGGPFfvg+/s6168l1s6szNLPfuZvf22YAAPC7+aUAAAAAAAAcwqUAAAAAAAAcwqUAAAAAAAAcwqUAAAAAAAAcwqUAAAAAAAAcwqUAAAAAAAAc4quTeIbnqxMcfoFqDKTxk9URVpF7N+9VRJhh5Md5YRWxZ4rdr9k7V4idblivVmeI0evHRZuOWccOTV6XvZN2jDHWX4204XnSqVd6ofoc7Ta7n3f/ezXSxj5c9NMZ0gadsftqT+Q7V4n7a0CaS+M8Xzye8/7a9Sfvjifzvq87NHupf+Zufm+bAQDAz+eXAgAAAAAAcAiXAgAAAAAAcAiXAgAAAAAAcAiXAgAAAAAAcAiXAgAAAAAAcAiXAgAAAAAAcAiXAgAAAAAAcIivncFneL52Zg4fLvX/NH6y9xFWyL2T9wqpZ8i7fLpC7Jli92pWuULs6gb2aneGxv3uusrH/zVD7Krs3UWgSt9ts84C9MGx0xjY+72KF9p9vOinK/TRWffxpDN2X62JvLtLuj+Acle4P8+v2Ifr2NX6tXPd3J/3fXv3E79zN79/DwYAAJ/NLwUAAAAAAOAQLgUAAAAAAOAQLgUAAAAAAOAQLgUAAAAAAOAQLgUAAAAAAOAQLgUAAAAAAOAQLgUAAAAAAOAQX2Os8Mr8RwoC/P/bOzLr1Cvk3sl7hdSzyDu1yVgh9qwjpLKFzLfFvtqdoXH/u67y8X/NIna33FX6Ttq/I30V+pNjV+k3ttnWco+6j44V+v8M6QtpZKWx+9q6xdo3gHLq929Uc/wYY6zQZrPoTDvXrhRhf973dXpCtnHCe5DTEQAAv51fCgAAAAAAwCFcCgAAAAAAwCFcCgAAAAAAwCFcCgAAAAAAwCFcCgAAAAAAwCFcCgAAAAAAwCG+8iureDZbmafUVc5wujQ+do7OVeTey3eMVUSYodZxzlh16eZ8H6Eq13dcRele3ditzpDyDnfH63r76F8zpQ1ZV0XrDoCdeSdPxU7xn2yzneUe7/voGGPMFfrprNNX0n9eVGP31Z1MS3sHUN0Vwjyc5vni8Zz3164/eXc8mfd9e/cSKcLP3el3Sv7UtwYAgP+TXwoAAAAAAMAhXAoAAAAAAMAhXAoAAAAAAMAhXAoAAAAAAMAhXAoAAAAAAMAhXAoAAAAAAMAhXAoAAAAAAMAhvmZ4YTWejpGi30+dcuaf1vvWvujfr2rR7teqIqzwLTt5r5B6Nmessd7HnzPFvl+zK5Ts1fxiV9kZ0t3wFZ4X6VdIm/LudOLu8rQz78rO2Cn+J7fZznKnPr6KfjrT+KhVI6Act2OMV38iL+zrDDnl/Xl+hWLPWcfeuX6l1FXeWz918NxO/zu5/0x72xQAAL7HLwUAAAAAAOAQLgUAAAAAAOAQLgUAAAAAAOAQLgUAAAAAAOAQLgUAAAAAAOAQLgUAAAAAAOAQLgUAAAAAAOAQX+mFWTxbMXx6o4reS5nLxt+r+63v9wVf+z+3b2Tm1Cvk3usJdeoZ8i6frhB7ptj3a3aFcr86sWNnSHfHV/EspF1V2pB3txN30u/O+6fGbrVZeKF6vLPcY4yyj6/Qx2fo44U48kK9Xr2JPNjXGfLnfP9GnONDsee8v371m/t9hJ3rZteT+4nfuv/rTHcAAPBdfikAAAAAAACHcCkAAAAAAACHcCkAAAAAAACHcCkAAAAAAACHcCkAAAAAAACHcCkAAAAAAACH+OoknuH56gRv+uSy8Xfztf9uqcVSi3dSryL3Xr5jrBBhFnnHXrRC7FnF7tXsCqV7NeJfsTNUd8tXSBzupVeRvsx39DtxlT6kLT51Tt+drnZOhxvbrPW9dn7rmD708RX66Uxj5L30Xx3V2H11J9NoX2eou8L9OX6MMVboC3O+j1+tXX/y7ri/bvbz7un0hGznZPqZ9u7PAAA4iV8KAAAAAADAIVwKAAAAAADAIVwKAAAAAADAIVwKAAAAAADAIVwKAAAAAADAIVwKAAAAAADAIVwKAAAAAADAIb52Bp/h+RqrGeG+KnIqFXc89617sfWG/03VKv0v+T5CmjO6ea8iwgx5x56yitgzxe7V7CpK9+rGLjtDune+wvMi/QppU96dKak7nXUGUHdKatQr9pQydjP4zjbbmXfq46vopzONj1o1AspxO8Z47VySN36QnLJ+I87zxeM569h716/7eW/91MHeneHuyfQzPbnbBgDgZ/FLAQAAAAAAOIRLAQAAAAAAOIRLAQAAAAAAOIRLAQAAAAAAOIRLAQAAAAAAOIRLAQAAAAAAOIRLAQAAAAAAOMTXHKt8YY25LfMUeZVle7JcnENv+E+lFumN3Dp1PWf08k5zYZ5Lq4ch9tw3T1+h3K9O7NgZ0r30VTwLaVeV9ht5d5afziDoDqCQvky+c7rb2GZheHz296r6+Ap9dIY+XogjL9TrtW8LNnZ+kNwV7s/zK429eX/96jf3+wg7182uJ/cTv3V/98zJCgCAJ6QdrV8KAAAAAADAIVwKAAAAAADAIVwKAAAAAADAIVwKAAAAAADAIVwKAAAAAADAIVwKAAAAAADAIVwKAAAAAADAIb7SC3Ost8/WmH9rYf5n3u+tolw5dU+KnErG/6Zqtb39rEdv+E/tHbl16jRvdPJO82E9l6bgIfasI3Tm6iuU7tWJHTtDdW99hcThznuF9FXeKxS8My10p5SdU9Knxn6yzbbmHfroCn18pjHyXvqPkTR2X1uX7X0fJKd+/0Y1x4/xjWljvo+d97whduPpznWza+/O8bz93XMnKwAAnuCXAgAAAAAAcAiXAgAAAAAAcAiXAgAAAAAAcAiXAgAAAAAAcAiXAgAAAAAAcAiXAgAAAAAAcIivTuIZnq9O8HbeKfcU4b4q8s42+b2e+5Z9esN/qmqV/peuI1TzRjfvVUSYoS/EnrLq0s35PkJVru+4itK9urHLzpDutK/wPKRfRfr5V0gbsu5MC92Fd+eU9Kmxn2yzTt5x+IQ+voo+PtP4qMXRV9TrtXXJ3tsZ6q4Q5uE0zxeP5+yVu7eu3l83vxd/j/07x/P2dzuncQAA/nl+KQAAAAAAAIdwKQAAAAAAAIdwKQAAAAAAAIdwKQAAAAAAAIdwKQAAAAAAAIdwKQAAAAAAAIdwKQAAAAAAAIf4muGF1Xg6Rx29Tr1blXtqlft67c3/LrXavu/Zozf8p/Z/6fcRVpzv7lsh9WzNxGOM9T7+nCn2/ZpdoWSvTuzYGdKd9xWeF+lXSJvy7iw/3UFQpJ8hbegqIfj9pNGDbbY17/aEV/TTFfroTOOjVkVPY/e1dcne1xlyyvvz/ArFnmnwVrFDyvw50l7/fpvttHc/YX/3v3nm5AUA8Lt1dpZ+KQAAAAAAAIdwKQAAAAAAAIdwKQAAAAAAAIdwKQAAAAAAAIdwKQAAAAAAAIdwKQAAAAAAAIdwKQAAAAAAAIf4GmOVL8wx3z6rU+Y3qtjfi1/FrtWxU84p+n29cvO7dPvZeb1l78hN81Wa7+5bIfXszGgrxJ4p9v2aXaHcr07s2BnSnfhVPAtpOx2x24k/Oe+fGvupNttZ7rJ/jzFW6OMzpC/EkRfq9dq3BWvqrQHVXBrn+NBmc97vxP11tTpH7Fs3u57cT9i//U8fO+wBAH4wvxQAAAAAAIBDuBQAAAAAAIBDuBQAAAAAAIBDuBQAAAAAAIBDuBQAAAAAAIBDuBQAAAAAAIBDfM1Zv7DWevtsjjrx+5Tfe6OKn2PXqpJ3y11H70mRu+3yOz33vZ7V6+W/0d6ekObDai7tWSHCLPKOPWGF2LOK3avZVZTu1Y0dO0N1Z36FxOG+vcq7O8l30u/Me+ui3Qz+U9tsZ7lTH1+hj880Rt5L/61Sjd1XeznfuUqkPW+V8v4cP0Y9RGY6CKTYIXUqeR37fpvt1hpekf3b/+3UnTwAwE5+KQAAAAAAAIdwKQAAAAAAAIdwKQAAAAAAAIdwKQAAAAAAAIdwKQAAAAAAAIdwKQAAAAAAAIdwKQAAAAAAAIf4Si/M+f7ZWqtOO4rEY4w6df1GP/Z7deReuXN0/nknfq9+L/+N9vaE9xFWaO9u3quIMEPesSesIvZMse/X7AolezVb7So7Q7pPv8LzIn1q8O7QrdLvzHvnlBNih27Yi//Jbbaz3KmPr6KPzzQ+atXoK8ftGOPVnsh3rhLVnjelrN+o5vmwlR+zOgj8O/e7T3OLpb3+/TbbaeeUs7Of/WQn7uQBgDPs3L35pQAAAAAAABzCpQAAAAAAABzCpQAAAAAAABzCpQAAAAAAABzCpQAAAAAAABzCpQAAAAAAABzCpQAAAAAAABzia45VvrDGfPtsvn/0J20duoj833nffzpD9FC0ELvWKXeOfj91p87n2vu9Plevl/9Gz43cMVac7+6r5vg/sRsz2gqx5/31J7lCuV+d2LEzpPv2q3gW0nY7YpW+O+w7C9DOKeeTYz/VZjvLPcYo+/gKfXxW46MWR16o16s1ke9cJXprQLmXT3N82sunw0ARv99i79/YuW7u1hm62XknhVN38gAAiV8KAAAAAADAIVwKAAAAAADAIVwKAAAAAADAIVwKAAAAAADAIVwKAAAAAADAIVwKAAAAAADAIb5mfGUVT+rUc75PO8YYa4X0VdoyZX5jFtFz7NrOctfReym79eaf1fle93vRdyKc2ZP2jdycesX57r44z5drRAp+fw1J5UquULpXI/4VO0N1H3+FxOEuv9MRQ9rZWEQ6af8EaKRNdi6Ondg726yrlXfo4yv08ZnGyHvpP2HS2H212nTnB7u/BnTm+DHGWHHeuD94ey323Lq505N7jd+6v9u9hAAAfCq/FAAAAAAAgEO4FAAAAAAAgEO4FAAAAAAAgEO4FAAAAAAAgEO4FAAAAAAAgEO4FAAAAAAAgEO4FAAAAAAAgEN8dRLPscrna8w6/Qzp1/v0deQRSla/MUP0HPu9neX+Xg73U3bq/Xvt+x477S21nvS/qWrd7yVpzqrmu55qns9rRApexE7rR7NmV1G6Vzd22RnSXf1VPp3prr/TETsTR3fS2VnupFOvGLsIsLPNkv7E0Ihd9/Gxij4+Q9ogjr6iXq/2RL5zlbi/BsS9fJrni8dz9jpxr8Xur5vfi/8M+7t/3t79HQDAPn4pAAAAAAAAh3ApAAAAAAAAh3ApAAAAAAAAh3ApAAAAAAAAh3ApAAAAAAAAh3ApAAAAAAAAh3ApAAAAAAAAh/iaY4VX5tsnOWX9xipijzHGnO/TrxXSlk9T2e+3SVev3OmNXrmr1Llcp3rme6Sck07aXKtOvX9nT9s/41TzeJ1772uleboxE6c1oFg//sS+X7MrlPvViL1CZ7hmusu/wvMifbcjdqa7Tt47y518cuydi/bOaTzGLvr4CuNjpvFRq6JfoV6v1kS+c5XorQGdeT7Nd3PeHwT9FqvfqKe7z92r7NuVfifC57bLLs+dKAGAn+LJHZJfCgAAAAAAwCFcCgAAAAAAwCFcCgAAAAAAwCFcCgAAAAAAwCFcCgAAAAAAwCFcCgAAAAAAwCFcCgAAAAAAwCG+ZnxlFc/q1FXKnDrkPOvoa9XRq6e53CHvWLP7Om3W/yL3U6acz7Tve6TUO7/Hc7X6Tu4/05NtukLunbzTXFnNtfFLpzUgrSGNml2hdK8i9hViv0LFr5nu+qscQtpOR9y6IWik/TvS/8TYu6fS3sTQiB1G0Ap9fKYR+F4ceaFer9ZEvnOV6K0B1Vwa99OhWnPen3T2ttj9te1Je/caKcJntslu+9scAOA9vxQAAAAAAIBDuBQAAAAAAIBDuBQAAAAAAIBDuBQAAAAAAIBDuBQAAAAAAIBDuBQAAAAAAIBDfM2xwiuzeNZJO8YK6WeRPuY86zfWeh+7LvV3av3+jRWj93S+1k7dNj1Tb3x9qs63zjU+s6ft7Sn35/FuD63my7R2xS9drAFj1GtIdx6/itK9QuwrxH6Fil+z+l+AGL1+XOXdX1jfP+oOgJ3boOSh2NvbrBM76fSz1MdX6OMzjZH30n/hXEW9Xu3lvtVojdipi4d5OM3zxeM5e51457rarfdTntxr/Nb9W7Jz5AIA+KUAAAAAAAAcwqUAAAAAAAAcwqUAAAAAAAAcwqUAAAAAAAAcwqUAAAAAAAAcwqUAAAAAAAAcwqUAAAAAAAAc4muO1Ug+w/MUu06/ivQzpk05v39jhdidWqf2Tnl35HL3vldHFbnTQ/nfdUfuU/o99KfWvKeek7reR0hzSifvPE+nuTZl8D7+nPvm8SuU7BViXyH+qwh/zfR/AjH6+0fdwdvpxCtkvjXv8LwKvXO62rt921u2Rr6xTVMfX0Ufn2l81KrRd4V6vVoT+e69X7WXTynvz/Nx2DcH2M51tap379y2196edOb+rdKt8b5THQDwf/rkXYpfCgAAAAAAwCFcCgAAAAAAwCFcCgAAAAAAwCFcCgAAAAAAwCFcCgAAAAAAwCFcCgAAAAAAwCFcCgAAAAAAwCG+ZnxlNcKn6Cn2+/QrpJ0h71U9XvfLlZ7myPUbK7bpfflrVWV7slyn6vXTTspPbfN+i3RG78+0rxfl1Hkevy/NlXmurR6G2HPfPH6Fcr9C7KtKGzrDNdP/EZTR66SdjtjtxI/m3ZhXNk7U88k2S8L4KoWkeVNc9PEV+visxkctjrxQr1drIt+5SvTWgGoujXN8qNZsDIK9LdZb25609xRx3v6t65lTHQDwSfxSAAAAAAAADuFSAAAAAAAADuFSAAAAAAAADuFSAAAAAAAADuFSAAAAAAAADuFSAAAAAAAADvE156rfWLN62My+ip3i12lXKNus0odirZXq/T5Ap8Z/0tdvrJjDfXVPuN8mXd02/b3uj5/fqtdLz+xpe0f2/Xm824PTXFnNtfFLl+vmGNW6253Dr1C6VxH/CrFfoeLXrP7PIEavH3ems24nfirvnVusz92+9crWnxhKX2X80MdX6OMzjZH30n/4XEW9Xu3twM5VYl9niPvpkPWc9wfY3hbr1fspT+41fuv+reO5Ux0A8E/ySwEAAAAAADiESwEAAAAAADiESwEAAAAAADiESwEAAAAAADiESwEAAAAAADiESwEAAAAAADiESwEAAAAAADjE1xyrfmMWz1b1cIyRYkdl5o20Y6wi/Qxp0+O1qrKlNuupvufamHfuCb3v1bG7l/5Mve/RGZmfrDdyz+xpe2e79xHSnNLNu5ov07oZv3Sxds6ZYvdqdhWle4XYV4j9Kop+zfQ/CDH6+0fd5aWTfmfeO6eUD96+zSfrnRR5f8XYoY+voo/PND5q1ei7Qnu+2hP5vlWi3vPm1HdjjzFGtdWfzU68c13trG1P2nuKOHP/1vHcqQ4APtNP3S34pQAAAAAAABzCpQAAAAAAABzCpQAAAAAAABzCpQAAAAAAABzCpQAAAAAAABzCpQAAAAAAABzCpQAAAAAAABzi6zVW+cJVPZwh+oov3H46c+bh+fv0K6SNeReP1+rFTrWqY6f2Tm26U/21d6qid9r7Z7s/froj81N1y12P7Z/aKrX7veg70lyZ5tr70lyZ59rqYYg9983jVyj3K8Su9guv0Bmumf5HoYxeJ+12xM7y1Ml7Z7mTT47dG7zbYoeh+Y3YRR9foY/PcrdeiiMv1OvVmsj3fZDWPPyNvKv4Yas/5rw/CPYOj97a9qS9p4idk87vtHOJAAD+Pn4pAAAAAAAAh3ApAAAAAAAAh3ApAAAAAAAAh3ApAAAAAAAAh3ApAAAAAAAAh3ApAAAAAAAAh3ApAAAAAAAAh/iaY5UvVLcGV4o+w/NVv1CVrS71GDNnXqauU9a5l3mHYq3ViD1yu9Sxa8/Fzl+bf9r98bOzn32yusW6ffhnttrekd2dx+9bcQzcX9viujnTbHq/ZlfcL7yPnfYLr1Dxa3Z2I+H/HzodsduJ70+le8udfO6GoRU7DJ/uxNCIHfr4Cn18xh37W+m/h65Qr1drIt/3QdL5J3ez93nH2CH4nPcH794u3BucT+3Wnz1FnLrrvc+pDwD+OX4pAAAAAAAAh3ApAAAAAAAAh3ApAAAAAAAAh3ApAAAAAAAAh3ApAAAAAAAAh3ApAAAAAAAAh/h6jVW+cBXP0o1ClXaMMcasH7/W+xeuUO76aZ35jKnrgq8yfZ12hjZZqy7bLOLnNtkZu1ZVu1vu2NEaKbv1hjH+jh78O3vq/Zn0O+7P4928V2P9iV+yWDfHGGPO9xGqcn1HtS6/Quy0X3gVFb9mdzcS0nc6YmdwdyeGneVOeov6Z8YO8dP+LWpNeKGPV/NCs9xx9BX1erUn8n2rRG8uDvNwil32s97g/a3rase+U8R3/M79207Pfi8ATvVbV2S/FAAAAAAAgEO4FAAAAAAAgEO4FAAAAAAAgEO4FAAAAAAAgEO4FAAAAAAAgEO4FAAAAAAAgEO4FAAAAAAAgEN8veaq3ygeXyF4unFI6ccsHq3i4be8r9iqMh5jzKpR/v3GnXy/lXeo9lrv488QO9WqeqMf+730pTvl/l4O91N26v1z9dr7/uj5vfo9+Pe16r5RnSOskHsn7+76E79msXbOsB9IZatcoWSvELvaL7xCpa/Z3Y0U6bsdsUrfXWDKPdT9tN/Ju0ze2Hfm2HXa9nTXmUp7E8PG2KH/NyfTavRdoV6vVt57V4lqLs7d7P48X2zz/6RNB4VGuX/qutq1v13uRv+Z+7fddp45AeC38UsBAAAAAAA4hEsBAAAAAAA4hEsBAAAAAAA4hEsBAAAAAAA4hEsBAAAAAAA4hEsBAAAAAAA4hEsBAAAAAAA4xNdrXPUbs7g3WHXSEHnM8LzyComvULY69zrxCiWfZfpU62bexeO16tgzxE4l2xe71mvR9Eanl3Z62W+Wav6+1frf+ne636L56U9t1V6bJGk+S/Phfb31J7TLSutLb32qXKHcryJ22mu80l6l2ufEHELaTkfsduJ9W5G908apsXsTw8bY6ZxwP3QceaFe6SxQ29dorXk45B1jh+CzOig0y/1T19WufaeI5Hfu3560t48DwOfxSwEAAAAAADiESwEAAAAAADiESwEAAAAAADiESwEAAAAAADiESwEAAAAAADiESwEAAAAAADjE12us8Ep6vs/VSJtuO+rYM6Su22SV6eu0c2PeM4Re637Zci/ZGbvWbdFe9Pspnxt5T6tqXreaNv3f3W/R77zxM1t138jOqVeRey/ftP6MMYu845dcIfasYvdqdhWle4XYaS/xChW/ZrWjiNHrx53B2enE3QGwM+/kqdjd+J3Y/YlhY+wwBhrx416+qNerW6+t+7/OzvP+HD/GGNVWf6aDwmM75px657rasXtK6qX+mfu3J+3t4wA86dRV0S8FAAAAAADgEC4FAAAAAADgEC4FAAAAAADgEC4FAAAAAADgEC4FAAAAAADgEC4FAAAAAADgEC4FAAAAAADgEF+vscIr1/tHM9wppNANRan+mPXjV1G2GDsFLytep12h0WYj7xXSzhB6rfexU7lyV9gZu1ZF75Q7R++l3Di8Pti+9j5Vf/z0RtCnuj+Lf8f7CHkN6KnWgRnyjl9zFbFnin2/Zlco2SvETmt+uV9I+6Ac/f2j7nTX6cRb8w7BO9NGe+EML+yc7jqxOxPD7mV1VeeIXuhq9F2hXq/2RL5vlajm4tzNwl6/ip26fzooNNaQn7yu7vRUm/3k/duTdi5fALCDXwoAAAAAAMAhXAoAAAAAAMAhXAoAAAAAAMAhXAoAAAAAAMAhXAoAAAAAAMAhXAoAAAAAAMAhXAoAAAAAAMAhvv6aV/3Gqu4N6rRr1ncOc9VZd24sQq3GmMWjUK6sCD5S8CrtGCukn428V8h7Fo9XqFYdOZesjp3a7L5eudMbKXqtX7bf6Lm+cqq6h//OXtqbxZPuGnBfXAM6M/VK60tvfapcodyvELvaT7xCZ7jCPihEr5N2OmK3E39y3mL/5+kfix12643YceSlM0hrIt/XaK15OOQdY6e9fnVQ+BPhxpN/xw7PO6l3rqs7PdlmP3X/9sn2fk8A+N/5pQAAAAAAABzCpQAAAAAAABzCpQAAAAAAABzCpQAAAAAAABzCpQAAAAAAABzCpQAAAAAAABzi6zWu8oU1q4fpTqGOPWad/lpF0pBzp2SvELwqV5ZKnoLX6VeRfjbzXkX6OUPasiPVtcrNXb+R6t35nN2vuVOvTc+kzf5eeTb75BF03845pbMGfC9+FTvN4+/zjm2S1ohijUnlSq5QulcRP+xyxitU/Cr3QTF6/bjKe+9WJOQdgq+v23mn0NHOKelTY/eGT7+vlLHTOeJ+6HhOCPVKZ4Xavkar5uGc8/05fowxVqjWnPd3WTu72ZPr6k5PttlP3b99sp3TOMAprE7/k18KAAAAAADAIVwKAAAAAADAIVwKAAAAAADAIVwKAAAAAADAIVwKAAAAAADAIVwKAAAAAADAIVwKAAAAAADAIb7+Giu8cr1/NEPSVd85rCr2GGPMIn0odohc3obEtKHeV2rSUmzU2+lXSDsbea+Qds4677Xep++2SKfNuqrI6Xs8Va4xvtOmP9X9Nj+3zfbJX6MeQb9Rf1ao36jmne6MU60DM9Qsfs1qjUjrS7NmV1G6V4gd9xNF0a9qD/S96O8fdTtaJ30776/3SXdP1DunpE+N3Z8YNsZunFGCOPqKeqVzQrav0aq5OHezsNdP83zxeDYH785u9uS6utOTbVb7nfu7nXYuEQD8bn4pAAAAAAAAh3ApAAAAAAAAh3ApAAAAAAAAh3ApAAAAAAAAh3ApAAAAAAAAh3ApAAAAAAAAh3ApAAAAAAAAh/j6a171G6u6N1h12lbsMcYo0s+QNhStKlmjVH/SzyJtKFdWBB9j1BWv06aidVKvkHrO9+nXCmnLp9+pV5F3jH5fLnfvi3R02/Tnuj9+zm2zfeqvcWaL92eF92+kOacz48Q1IK4h1cP768uf2PdrdoVyv0Lsci+S9jFpH9TZ6TQ7Wtnk/UW7SPt1P+138hb7P0//WOywW29uoaoRlPb61Tkh29dorXn4G3mX++10pJz3O+r+3fQz6+pOz51AvhP9d+7vntRZsgE+iRXiP+eXAgAAAAAAcAiXAgAAAAAAcAiXAgAAAAAAcAiXAgAAAAAAcAiXAgAAAAAAcAiXAgAAAAAAcAiXAgAAAAAAcIivv8ZVvzGLZyuFD3cOM+S9qvSp3CHvouwh8niVjVKnf8260a7Ypknrg5VWqHdlhryr2DO02Vp1uVKpq+idcnflcqfv+UzZ2l34Y/Xa+8w22yd/jc7I/7n29dI853RmnDSXVnNx/JJpjUhrTKNmVyhdtZ+Ie5FQ8avcB+WdTqnT0bpLV71oh7R/7cs7CbFDN2zF3lnurVuRrbEb558g/cdV2uu/Wtu3fY2W98Q5wu3YIfic9yedvbvp59bVnZ47gXwn+u/c3z2l25qf2ocB+MMvBQAAAAAA4BAuBQAAAAAA4BAuBQAAAAAA4BAuBQAAAAAA4BAuBQAAAAAA4BAuBQAAAAAA4BBff43rfuoZnq8UINxJzKJsK91nhMyrsoekV2izWdarbrQ5Q+axTcvo4XkneB07RZ7FG6vZZmuF9FXaMmVd7j/pU5vfl79mVbZ95TpX7i38c/LX6HyP1kT8qN6skOb599G7vb+aS/M8nILfX2O6c/xVlO4VYqfd26uo+DXrPdTM0evHnY7WmUq70/DOvJMfGnt22rQ/MWyMHcZAI346wVxFvV7trcS+Rtu5L43zfPF4tjrp7t3dc+vqTs/uiHdOpvynnI4APptfCgAAAAAAwCFcCgAAAAAAwCFcCgAAAAAAwCFcCgAAAAAAwCFcCgAAAAAAwCFcCgAAAAAAwCFcCgAAAAAAwCG+vua/6jfW/eBrhucxdnFnMa+NsUPSGPv9C3Wpx3iFzK9YtsYH61f8duwqcrdUM7yxihx25l3l+3eooq9vlHxHvn/yPtX7ms/G+OCe3gj4nb28Pyu8fyPNOZ3ZMM2leQ1IGRRrxLy/viRXKFncL1RpQ6X/NbvrU7HH6na0vRuG5/Ku/NTYKf6+rcje2GOMsYoR1oxd/cfWFer1auW9c4DUe53uvrTcb8fQ+9aQ/k7/mXV1t71tVvmd+7efbOfyBfw+Zum/n18KAAAAAADAIVwKAAAAAADAIVwKAAAAAADAIVwKAAAAAADAIVwKAAAAAADAIVwKAAAAAADAIVwKAAAAAADAIb7+Glf5wprVw2buVewQf6X7jBkKt6p6p9j1407s+mvkW5xrFoVbuz9YJeX9PvYKaWcoV9mHxxizaJcVYje68JihXinvve5/r6TTZr9Xs4//nUVhjJHGbvI7e3lvVkh9OI2B+/I8nubi6mGIHfYinXn+CuV+FbHjXmPVu41/zRShjF4/7nS07tL1yXmL/Z+nfyx2GB+N2PEcEOr1am0t93XyvM+5n3ea4+Pj6mwV4u/sZk+uqzvtbbPkd+7ffqtn+wqwi5n2n+WXAgAAAAAAcAiXAgAAAAAAcAiXAgAAAAAAcAiXAgAAAAAAcAiXAgAAAAAAcAiXAgAAAAAAcIivr3nVb6zi2Zz30+bHY1ThY+Kkug8JbZLuUspy92J3Ul/xe7UbtRDyrjtaSFmXe6b05fdKbVLH7nThGd5YsU2r2LXcE+5/r2TrsP+l+t+T/0S3Pes56ed+rd6scH+e7804eS6t5uL4tcoFZow5q9i9ml1F6V4hdtxrrHqv8q+0t6yj1487Ha23pD+Xd3/SeSZ2N/7O75F0+0oZO4yPRuz0315XUa9Xt802dvK4l290hrTfjo+L81Xey9f27aj3rqs77W2zxI77J9m5/AD8Fn4pAAAAAAAAh3ApAAAAAAAAh3ApAAAAAAAAh3ApAAAAAAAAh3ApAAAAAAAAh3ApAAAAAAAAh3ApAAAAAAAAh/j6a/yrfmMWz1aIXqX9Tvqdsct6pbuSKzwv0sdyN2KPumSxVjMUbnU+WLKvo62QflbpY5N0B8F9M9RrNfLuDa99bbJzSvlsvTbtjC7+flWbl/NRTP25+rPC+zfyHN9TzaV5Hk7Bi9hz3xx/hZK9Quy4Uyn2Uf+aKXVS7GZ270uf2hN/8n66Ez8PkH2x+xPDxtjFGGnGrs4CV2izV3tLu6+TV2tnWiPyHiqkLx6vcLbqrCH9E8Zz6+pOO6fDXoSfuX871bP9CH43s+Fn8UsBAAAAAAA4hEsBAAAAAAA4hEsBAAAAAAA4hEsBAAAAAAA4hEsBAAAAAAA4hEsBAAAAAAA4hEsBAAAAAAA4xNfXvOo3VvFohuhF2jHGGCH9SukbscuyxXKlu5SqTUPaWO77jRK+dLwhumZRuFispz5mTr+K9DPlHfvK/didFvsT/1NjNyeGRspuvT/X/TY9t80+U/6Sv/OL9WaF+3N8Tl1bsWR13uXTsMmaM8W+X7MrlPsVYpe7oLCHutK+tBR2Mt3lp7F3bOW9s9zJR8f+r32xexPDxthhfDRix3NAqNerU6+NnTzvt7srUHVYriOv6mwVYu/sZk+uq096sk2zn7m/O9HOczb8BGarn8UvBQAAAAAA4BAuBQAAAAAA4BAuBQAAAAAA4BAuBQAAAAAA4BAuBQAAAAAA4BAuBQAAAAAA4BAuBQAAAAAA4BBfX+Nf9RuzeLaqhyHtGGN10q86adSJHYo9VnXXcoXE9T3NmnX6WeSdboBSycpqxzaJL4Tnrcxvp18h7Ux5F4/X6sXOLfb+jX7s9/pfunojRa/t7IWfbV+b8s/Ks9nv7OW9HpzmuzQX37dC6lnkHb9UWFfnrGL3xv0VSvcq4qe9Rr2HGmOEfVCtjl002RhjjP/aunfclPY76XfGfmxD8V8bY38j/WOxw/hoxI7niFCvV2va6TRad7+9Me8Qupqrqzk+57x3R53z/n17kTF276h3/mGET7Jz2YS/gxnnd/FLAQAAAAAAOIRLAQAAAAAAOIRLAQAAAAAAOIRLAQAAAAAAOIRLAQAAAAAAOIRLAQAAAAAAOMTX17zqN9Z8/6x49CdteN5J3817p6psK93D1AWP1Sq+5xXy7twQhV70je9VNtp/Vpj/PPPbaVco26zSh2Kt1Yg9ej2pF7vWG7rdSeV+6ienlL2e6wv8/fII+X29vD8r3J/nezPOGKuIMLv7gWJdnTPF7tXsKkr3CrHjfqLay6Q9bRR2QkWz/dfOPfHO/XTyZL2SVuz/uh87xe9PDBtjF2OkGTudI66iXq9uvTYeGvM+qFojuueIIm15dvrOPH8v379DZ+37ZM+16Sf/YYR/0u6/mnAOs8Y5/FIAAAAAAAAO4VIAAAAAAAAO4VIAAAAAAAAO4VIAAAAAAAAO4VIAAAAAAAAO4VIAAAAAAAAO4VIAAAAAAAAO8fU1rvqNWTxbIXqVtpt+Z94xbXqhaNNum3TucWb9ra9Vx+7cIIVeFr51r9FyV9nX0Vajo81Q7bXqslX1it0svNGLXet8jf7EcD9lt96f67m+wN+vnpF+Zy/vzwpVH0/j476V1ojO2hfW1TlT7Ps1u0K5XyF2uZ8I+5i0D8qK+KGj/dfWfWn9uNxP7Fy0U/ydU0479n+F+EWAfVuRzbEbZ8JvqEbnFer1auW998Ba74Pup03pY6kb8/zuaaHSXfs+1c6hm/3O/R1/v53LLp/FqOe/+aUAAAAAAAAcwqUAAAAAAAAcwqUAAAAAAAAcwqUAAAAAAAAcwqUAAAAAAAAcwqUAAAAAAAAcwqUAAAAAAAAc4uuv+a/yhbWKZ7MOXqX9TvpRpe+kTXmHtGPWma/1/q5lpeDzqp+nsnXueWYd/Coep8+RSlXWOn7r+oUZGq1+2otdp0/lCnnH8fc+/gyxYzcr3ujHfq857Lf65LLt9Uxf4O+XZ7Pf2cs7s3h6Gtf825G/sUYUecdSpXU17BdS2SpXKN2riB12UGMU+7MxRt6DlULs0Oj/1dqXhucb99NRWa+wA9tZtk+OfX/4bI4dxkcjdjwnhHq9OvXaOMDyPiidQt6nz2lrq5jn0xyf7O3ine/xuXa2WdZZgOCPnT3lk8fuk4xO/g5+KQAAAAAAAIdwKQAAAAAAAIdwKQAAAAAAAIdwKQAAAAAAAIdwKQAAAAAAAIdwKQAAAAAAAIf4+hpX/cYsnq0QvUrbTL925h3T1i+Uj1O50z3NDN+riL/iHVDqC0X6UK8QuSxZSpu+1yt8ryt/lLdWyHz2Olov73L81LFniJ1Kti92Lbdod+K4rzUt/FLdJYJ/Vh49v7OXd2bxTi/vb3Pev1GvTd/4WmFdnbOqV2+erdbsV4gd9xOruQcrhdhFo//Xxv309r38ztg7p5xPrXd3m7I1duNMGcQTTFGvV3trt68j5j3x+/SdtH/SF2kbc/x37OyGVYROmzxtb5tV7NZ5nl4G+/ilAAAAAAAAHMKlAAAAAAAAHMKlAAAAAAAAHMKlAAAAAAAAHMKlAAAAAAAAHMKlAAAAAAAAHMKlAAAAAAAAHOLra/zrudxneL6qtCFxlXaMsar0IW2v3I20Y4x0j7NmEWBdrdhjFOlnSBvqVZWsUao/Qpu/1vsXYuxQsVVkPrd2tJB3Gj6rjj2L2LELhzd6sWu5RTuD9772tPCxen28evpz2+T3qkfP7+zl3Vm808s7eVfrw5+0vbxHsa7Oap8yctkqVyjZK8SOa/4qdiQz7xhqRezQ4P96cl+6c2g/ut8OygHWDN5Z/DpblZ2xx6jPIc3Y1VnhCvV6tbd3+zpivSe+nzalj6Uu5vgx8jmjqvfebni/Tfp577N76O6N/jP3fwC/hV8KAAAAAADAIVwKAAAAAADAIVwKAAAAAADAIVwKAAAAAADAIVwKAAAAAADAIVwKAAAAAADAIVwKAAAAAADAIb7+mlf5wlrFwxmiV2m/JWXQSLqzXkX6sj3/jrzL2OEOaNV9ob5DCmlj3rcjx5utlL5q8xnb+/4HW82PPTfmPUPoqh/3u3BncPZU0Vdn4POGNj1F/tKdb93ebGzT6+G92bS3zUklu5/3WGn9SbHv95UrlPsVYpf7iRV2I2G/Xbu/h/qT96a0u/NOnqzXT429c6ptxU7niPuh4zkh1OvV2ors64hp3Uz71ip9TltL591ZHjQa68vo7hy7bfqZPnu3vXORACDxSwEAAAAAADiESwEAAAAAADiESwEAAAAAADiESwEAAAAAADiESwEAAAAAADiESwEAAAAAADjE19e46jdm8WxVD0PabvoVYu8Uir2qss2UuJd3q11muCNaVV9J90upnxXpQ51C5NhklVdIfMX27nTiOvMV0s9G3ivkPef79CuM604Xns1yd+RydwdvJ+/f6n3N6v79m9vkd2otXT94hNTzXXK/3v2tRprn7+ed9obl+tNcA65QulcRP+1Fxgr7pBkjFNL+rco3hN65L926p23G/uSy7Yrd3ULt2waFM0gvdjzBhHqls0Kt02idc0C9b+2k/ZO+Vp2VZzorx7NAETtEzjpt+rl2Tjk9P3d/B/BT+KUAAAAAAAAcwqUAAAAAAAAcwqUAAAAAAAAcwqUAAAAAAAAcwqUAAAAAAAAcwqUAAAAAAAAcwqUAAAAAAAAc4uuveZUvrFU8nCF6lXaMsTrpm3mX6VPapBP7o+v1/g5prbof5funIn2R75/MQ+j7OUeNWo29H3uMVaSfzbxXkX7OkDYM/N7wuV/urtyinQmtm/dvVNcq9fHf2SZnyvPCzxwh3e1CZzbtb1WKNaKZd7V5jOtPc669itK9Quy411jFjiLs1bMi9vZ9afHC7rx3xi7TpwNQI/YHn1Hi6Nq3DRqjOoc0Y8e9flGvV3vbue8wXK2N9Z71O3uslL5IG/rhnPfr3V9Xk06b/kz727QT/TP3dwCfxC8FAAAAAADgEC4FAAAAAADgEC4FAAAAAADgEC4FAAAAAADgEC4FAAAAAADgEC4FAAAAAADgEC4FAAAAAADgEF9/jat+YxbPVohepW2mXyHtCnlX6VPaWO5Y8ftaZWvXq4od7pfSB6sTN9L2hNER2/RVFD3G3jiAVkg7G3mvkHbOOu9VdPJ+i4S8N47deirtTqadvH+rXh//ve1ynjy6di6O+/RmjV6dO3nHNaKTd9gkxfWnMddeodyvELvcE6ywx5p5R/Fe2r+F5E/uS3cublv3zPdjz5A2dPGQODzfuVXZGrtx1v2GagRdoV6vVt77BmfeI3X3WFXetXSknOUg2be2Zd02/Zn2tmly5gkI4D/hlwIAAAAAAHAIlwIAAAAAAHAIlwIAAAAAAHAIlwIAAAAAAHAIlwIAAAAAAHAIlwIAAAAAAHAIlwIAAAAAAHCIr7/GdT/1DM/XxvQ7845p68xXkX51y50q3qpXeB7L1old3U+FPjrD3Van3EEcPUW9Z7tc+wbQCo02Gx1thbxn0TArDKD+tFDkHaPv1B2891NuHD4Pu9/Hf2+bnCmPrs7C+pzOFqo7M/S2b2mer+bpFPz++vMn/v259gqlexWx416j3EONMWZjr5/+f2jrfjs833lOSHZOCz92L99M/1jsdM64Hzr9990V6vVqbT33Dc56XeydI3LaWnUOn+EM31nbxuh1w87Z7MkTSldvr9LRjf65+z+A/4RfCgAAAAAAwCFcCgAAAAAAwCFcCgAAAAAAwCFcCgAAAAAAwCFcCgAAAAAAwCFcCgAAAAAAwCG+/ppX/ca6H3zN9EJKXwRI5erkXeXbzbtZ7tX4Hq02GfX3TOWKxS7bLN1d1X14zTr9LArXvTWrSvYK3+PqfOsxxs6O2OuGdepV5D2rjzXGWGHSaU0LjXInzaH5jTeeLNtP9b5mc+P44PPU88LPHCH9GeN+vfvbt2KNiPN0Ch7WkGIN6qwBY4xxFaV7hdhhJ1/vo9I5IAo7pXoA3U+b0u88JySfHLvTZklvk9WzNXYYI4348YRTnVG69XpscNbp8x6rzrvs4qHYM/0NoLHGtD9XEaHTJp9s3+nm77BzMgX45/ilAAAAAAAAHMKlAAAAAAAAHMKlAAAAAAAAHMKlAAAAAAAAHMKlAAAAAAAAHMKlAAAAAAAAHMKlAAAAAAAAHOLrNa76jVk8W83cq9gpfiftGGPMIkBM28i7Xe5m+l2xHy1XuttKffx9+iuUOxWtKlko1XiF4Klstec+WKeL57T1GyuU7cm869i1/LU6g7e2c4n4qXaOLj5Lnhd+Zm/obkU6M0NvjUhzfC/vsd7Hn3PfGnCFkr1C7HK/kfZQM+1WkiL+xj1vtc3fnXf0qbF3T1e9TdZ9O2OPMcYqxkgzdnmOCPVK54har9F6e+I6bVpXV5E+dvF07mtMLHu74f026ef9nN1D+76fufcDzuSXAgAAAAAAcAiXAgAAAAAAcAiXAgAAAAAAcAiXAgAAAAAAcAiXAgAAAAAAcAiXAgAAAAAAcAiXAgAAAAAAcIivv8YKr1zvH82QNIROOZfxU+JQtlWlb9ZrZ7l35t35HmV7hrTfy7xIGmOnu6+qj4e0odxF5HgjV6UdY4xXqPfVaNOtHyzEXkXsmdKGYs/QUVcRvz80379R5fsdvbJ1B+/9lK0u+qh9bcbvkntKZ8PwnN4I6I2Peo1IaVPJGrNlWIDmvL/+JFco96uInfYacQ81Y4RCb4/1U/fb0afGfm5ruHfZ3Ro7jI9G7HiOCPVK54hadxXo7InrvKt1tVo//qQNOYdqz3l/gO3dWXbOXj9X5889e/3eExLw8/ilAAAAAAAAHMKlAAAAAAAAHMKlAAAAAAAAHMKlAAAAAAAAHMKlAAAAAAAAHMKlAAAAAAAAHOLrNa/6jVXdG9Rp16xD/7Xq56UQO2ZePQ7lSqHL9J2030pfvNBts51mkfdKjRL6cKz3+z6+Yuxwr1YUPUQer1DwmH6+z/zqjL0xRmsANWKvEHuGNstjtzN47+tOC534OXZ3Urqfst1NH3O/n/7cOnNHPeP83BGydybtrBG1Fd6YRfz4NcICNIs1O5UruYrSdfca9TlhjJHOGaX7e6zd++3ic+1d3Drlasbun1H+g7L8nbG7k86+bdAYq3mGKaT//KvOAq/2RH2/0ap59k/k+50hnhO6a0iRfFZn3X/nfvfpJ6+rn2rn2aqvNan8baUAzuCXAgAAAAAAcAiXAgAAAAAAcAiXAgAAAAAAcAiXAgAAAAAAcAiXAgAAAAAAcAiXAgAAAAAAcAiXAgAAAAAAcIivv8aq35jX+2cr3SkUaccYY4bkoWid2KuK3S1Xkb7Md4yxYrnrF8rHjXLH9O1vWQSIsVM/fLKPF+lDsa4Qe8Y7vfcNN2Obbhx80f2OtkKjzlS2cuz2Ytepd8au9afhzsRQ60xnn+196Xd+a36WvGTv3ETt092KdFLnNaK2qnW1NcuPcgM3Z4p9v9WuULJXiB12QfU+qtp/fcvG/23qdNSd++3kk2PvXNR3fo9k3zao3o83x081eq7QZq9uvRqNlufa+50h78HuryHpaDXz4ezGk3/HDs87qXPen7kX6do57Ht+5t4QeI5fCgAAAAAAwCFcCgAAAAAAwCFcCgAAAAAAwCFcCgAAAAAAwCFcCgAAAAAAwCFcCgAAAAAAwCFcCgAAAAAAwCG+XuMqX1jVvcGs046V7hxC+lnFDqGTTuwqbUrfSbs57xXyXhvbLOXdiZ37ys4+XmTeLnddtquoVxyZc+cHS/Z1tBXSzyp9bJL7sXNrNsr9rfhV7NrOnlD51HL1Pfet+VnybLhzE7VPdxvUSZ3XiCptHXuG2OXTcgM2xpwp9v1Wu0K5XyF2uVNJe6i0B2vFvh/6T/xG7E4nf/L804md4u9c1HefvbbGLsbAxvETzwmhXq/W+Oo1WjXX5rmwuwd7nz7mHKo9y7NZY30Z/emwzru3Nv5ET7Z39ntPUMA9fikAAAAAAACHcCkAAAAAAACHcCkAAAAAAACHcCkAAAAAAACHcCkAAAAAAACHcCkAAAAAAACHcCkAAAAAAACH+JpzlS+81lU9raPPKu0YY6U7iaJsMXYIXZmzF7tKvkLs8LiVvlPulL6TNqVPdU5aZev18dWKXT/Offz9C2H0xNvCqxojdaWbdna0MVaRfqa807RRtEuKnVu0fqOK3/1a9ZTTnXT4n+5/65ya36RestsLzGM6W5Gss0bUVnhjFrHzch9iF3v9VK7kCqV7FfHTXiSeE9JZoBX7fuiP3m9Xdk8LT51Rkr1by42xm+fsxviJ54RQr+oYkf9j8X6jVfPsn8i9zlDvt1PakHP1Z5H0t4tY7yJ2iNxVt3mvzT7VZ5+OOhM18BP5pQAAAAAAABzCpQAAAAAAABzCpQAAAAAAABzCpQAAAAAAABzCpQAAAAAAABzCpQAAAAAAABzi6zVWI/kVnoc7h1mnX2XRerE71V4zvbAn7RhjjE76nXk3y11+6265kyJ+3QfHyP2w6gzd8ROSl/Hr2J2SXbPzsbv2dfIV0s6Ud9nPerFzi75/ox/7vfw1uhNeJ+/f6n5f+r1twv8tj7yfOYL2zSg5Ql4jaqt4Y4bY8WsUm89Z7VNGXa7vuIrSvULstBcZq9iNpHNAJ/YYvc704H5786K+LXbopr02S3aevZJW7HQW3jd+4n8dFvW6Qr3yfzTeb7Q8197vDHm/fX8NSUermc5mRd7719X70bvr7qd6ts135vyZe0c4nV8KAAAAAADAIVwKAAAAAADAIVwKAAAAAADAIVwKAAAAAADAIVwKAAAAAADAIVwKAAAAAADAIVwKAAAAAADAIb5eY9VvzOJZSPqNF0LeVyN0uO+YRYCVghflGqPXZlXa8Y2ibcy7TD9TwVPeRfqd5U5Jm7HLxzP00RX6Wezj+2JXqdNN49XqK805pdfJQ8r7HTU2SRj4M5bt/tNe7Fr+Gve/Rz/v82gT/lv+1nVvmR/aW7rbiU7qtEbU27dee9fLaohd7ZdHLlvlCuV+hdjlTmalPVLaBwVV/F5H6mxFep38yS3Wzti7F7edZ69KO3Z1zt47fsrooV5XqFdd8l6j5bn2fmfo7LdjudKfe8qDSOcU0Z8OO9GrdXdvufbadzrazUkDPpFfCgAAAAAAwCFcCgAAAAAAwCFcCgAAAAAAwCFcCgAAAAAAwCFcCgAAAAAAwCFcCgAAAAAAwCFcCgAAAAAAwCG+5ljlC+WtwQzR1xVeaNxJzBC7rlaIHZ4/GbuRfu3Me2O5u222ZghQtVnIemtfieOjMb5iue8XvDvqr7KfbW3w8VQnXyFt7MLhe80ifm6xnbFr9dfofo9O3j9ZZ7KF76nmtNzLnhthz80q9ZyWV5ewhpTrTwqe1qc6Qipb5YpnlPex015krLAbSeeMVuz7oT95vx3tXFifOqMku89922Knc/a+8RP/OhDqVZ0j8l8eeh+knmt7naHu4vfLNUZ97JvpEJJih9R7d57VGeV+e3+ynVPpfr/39AWfzC8FAAAAAADgEC4FAAAAAADgEC4FAAAAAADgEC4FAAAAAADgEC4FAAAAAADgEC4FAAAAAADgEF+vscoXruJZvFGY4fmqon8rhyLvul5V3iHlN+p169HfYxaFS5mHeq2qXlW+Ie2f9NXDOm3ne8T03Q+2sV5rpfHRGL0zjM2Y93tp1JfVjt+61xmqp/PBjrZC3mH4jVUMwFSvPATqVtslf43uxNHJ+6eqS97vK/CdmfJzR9je2e59hDSf5RZ7/8ZsrIt/Xkjr0/sIaW1LrqJ0rxA77UXiPiftk1qx74feuufdOTQ/Ofanli3t/VLerQmteU5ojJ94AinqdYV65dPN/c6S59r7naGzBvxJX8zTocozHUJaZ6+d0p62t+7+VM99j6Sbu1MKvOOXAgAAAAAAcAiXAgAAAAAAcAiXAgAAAAAAcAiXAgAAAAAAcAiXAgAAAAAAcAiXAgAAAAAAcAiXAgAAAAAAcIivOVb5QnVrcIXg8cZhhueryiFFD6WbRfoy32wV9fqrbu5vtEnjcTP2mEWAnfUKaVdqk415x3pX2t8jpd83etd8n36W+fZuIuPIjG1Sv/AqGj3PCnXseq7tdYaV8q6GbhhAM8Sua9Urd0du0e4A6+T9U93vKz+3zvzT8sisRthzPW3fjJJTp/msbrHO2vWNFi/W3Tn3rRFXPN/UseOaX+11ij3St5Sxe6G37nlD+vC5W7E/dj/enZI6sTt9pR07jIGN46c8Z4R6XaFe+Qxzf4D19sz314AUO5YrtOmsDiH/zv0/f/I9T627+043z9q7z9ntM/eO8An8UgAAAAAAAA7hUgAAAAAAAA7hUgAAAAAAAA7hUgAAAAAAAA7hUgAAAAAAAA7hUgAAAAAAAA7hUgAAAAAAAA7xNWd4Y623j1LSJKV/VS+sK6UOz9+nXzOkjXkXYntvTr8r9s56tdskvLAx72L4ZFvbNI2POnj5dNbj4wp5d24q48hs9JXZGlxjrCLzHLvXGcq8m324N3zul3u/zoRX67TZZ6v2C3Wb/ex680+qR+bOTVJPd5bvpF7l2KyleTinL2oe9mdz7lsjrvBFXiF2ud9Ie6ywTyrF2PdDbz+D7Fz8noqd4n/que076bfGLsbAxvETzxihXleoVx2/12jVnjnPhXXe9fC5X64xvnEWLg4i/bNXkW0rch2hXPf+lrw/0959zk6fu3eEf4JfCgAAAAAAwCFcCgAAAAAAwCFcCgAAAAAAwCFcCgAAAAAAwCFcCgAAAAAAwCFcCgAAAAAAwCG+5lj1G3O+ffRaddorZJ5uJKr0r/fF+mN1cg9pZyh5zLuKHZ6Hz1WmT2lT1p3YnXrFtOGFjXmvTt7N79HS7Wed+8RZj49rvY+dit2ZU1IGr/Ctr8YHXc0PMhvpU95z1nlXY6A/nd0vd9IrW3fCu5/yyWmjp9eHf269+Sflkfm5I6yzDcreR1hxbNY6bZ7yTvu7an3qrhFpTX8V8eNeo9jnjDHiPqkX+37oZ/f64Xll97B/6nyU7PweSaveof9vHD/xnBHq1frbRaPR0t9zOueMnDLM03GeLx4Vf4f6Vux72f47dkfa0/bW3Z9qb5vvtHPhhOf5pQAAAAAAABzCpQAAAAAAABzCpQAAAAAAABzCpQAAAAAAABzCpQAAAAAAABzCpQAAAAAAABzCpQAAAAAAABzia451P/Wc5ePXqmNfIXx1YxHT1kUbI5StFnKfRclXKnkQ63U/bW6SIkA3dpW+k7abfmfeO8s9xhirUbEZ+mmZvHnXOIvgodidOSWmD+09y/ZOeh97hfSz0clXyHsW32uFNukNn165k8600B+891N2VrZn3e/DP7fO/NPyyPzMEbZvRsmp8/pSq+fxXt7VPqdam/7E7rXaVZTtFWLHk8Aqditpf9aK3Qv9sfvt5JNj9zYj+2Lv7Csxdjqj3B8/rXNCSH+FNo1/u3jsUNldA9JZ4P65b4W/RXX+zvWT192faudU+5zP3FfC/8kvBQAAAAAA4BAuBQAAAAAA4BAuBQAAAAAA4BAuBQAAAAAA4BAuBQAAAAAA4BAuBQAAAAAA4BAuBQAAAAAA4BBfM76y7kefdfTXqmNfVdqQdZV2jDFes3hj9e5KVpX7DLFDm8SaVU2eQqfO0OgK2fvMVyxXeKFTr26bNL5HrnfKu2jTlHcaYeX4acZujZ/bkccY9byS55SQd1m2nR1tjFWkn828V5F+zpA2dPLedHa/3El/quxMOrVHp/Gt7vfhn1tn/ml5XunMSvt0t3ed1NX6klL32jvkndaXtD41Wu0KNXuF2OV+I51Rqv1ZEmPfD/0nfiP2xv12tHNhffKMUtm7Ld0cu3HGD+On8/eHmDbUuz5npHm4M4/3OkNOXZwj8qHyfuywBiT7dvI5Qn2uO9PefdBOOxdW+B6/FAAAAAAAgEO4FAAAAAAAgEO4FAAAAAAAgEO4FAAAAAAAgEO4FAAAAAAAgEO4FAAAAAAAgEO4FAAAAAAAgEN8zbHCK7N4ltKm0FXsMV7rffwrhE63HVX6Oevor9W5Swklr5tkrJh3ET/E3toVunk3Yhfd6M/zIn0n7Z8Ximc7v8cYZeFa5R5jVCNszdRondGbxk8YH6FoVfTOnDLGGK+iza/Y3vs6ywppZyPvFdLO0FdW0VH7LRLyjjlUsWsp5170+6mbKzr8evWSvnOj07NxixXfqNaY/jx+f21LG6G4PjXm4iuU7VXETnuNkc4J4YzTi30/9NZzxO6huXNh/aFnr61bmVbs0P+b46dxgsnnjKLe1Rnjj/t7/TiXNjtD3cXDPN3oxNUZY4z4Z6pRn39qvZ18HaF7/vmtOkvEZ3Oyo88vBQAAAAAA4BAuBQAAAAAA4BAuBQAAAAAA4BAuBQAAAAAA4BAuBQAAAAAA4BAuBQAAAAAA4BBf6YU5Vvm0VqX9hvk+/oyh6xc6tyFXyLx6nPO96sexyascurGLRzFt/UL5uNmNWt2028WLPrxC2lWk/V7em9J+J30ZO4yCVfXTNIJSH095344cm6zSrNU3cr/fyVf42LPR0VbIexaT6QpzSnvoFm+kcie96a47eO+n7E7F+3T66CfXi58kj8yfOcL6M06xD4pjt1avbL21Le1byzUi7d+Cq4j9CvWK+4XqnDDzbuN27DF6G6UfuueNXaG1n27G/qlnr6QVO4yB2Mffp+/u9csTfvher0ab5k+5b4DllPfn6SSd02c5uNP5J8QOzzvyGeb+9/ipnvwee+2cTPlN/FIAAAAAAAAO4VIAAAAAAAAO4VIAAAAAAAAO4VIAAAAAAAAO4VIAAAAAAAAO4VIAAAAAAAAO4VIAAAAAAAAO8TXHKl9YY759ltKOIu1/R7/rFUJf637e+abkqh/PIsL9Kn8vwCzKtuqarVivMvH9tCn9vm7U92S9Nua9Onl3v0c5fkIfjaP3ubFb5hy+x2z38X2Dt1O0netPlfZP+tpTU9InT3c/V91qc2Mfh/+WZ9qdC+s+vRUkjb00dqu0tTzu79dshk3Ummmmf+8K5XqFepV7kXBOKM8Y31HFv98k/45dPHtyv518auzdm5GdZ8pKO3YYA2Ufr9N2TjAxbfrzQXHQSHNK7iqPHiqLJ73Y1TQ/4xyfzjC17nR5N3pnTf7Jdk7Dn+1n7kv5z/mlAAAAAAAAHMKlAAAAAAAAHMKlAAAAAAAAHMKlAAAAAAAAHMKlAAAAAAAAHMKlAAAAAAAAHMKlAAAAAAAAHOJrxldW8aROPYu0//3G3byTVwh9reqFOt98k3K9fzRD6ljlIvYYoyzdDGlXqlnRF0Lsv2JXKL5HsxutTvr7XfAbwTermrTzPcao22XfsI7jZ63G+PgT4T8qzt8lljrOZ53ct36wVuRyaMZid9efMniI3Kt3Hbu22utuJ++f6v73/Ll15tPUy+rPHX2d7UJeQ95H77ZYnsfv12yG9WmlPVjhimeY97HTXiSeE9I5oxX7fujtx9Gd54hPjf3c1rFftq2xizHQHD9V6u7pp6r3Ne/PKWN09629vzWl3V0ndplvSDrjHH+/Xnv/8tBZFx/9q8hjdk5Xz+qW/HP3rSfySwEAAAAAADiESwEAAAAAADiESwEAAAAAADiESwEAAAAAADiESwEAAAAAADiESwEAAAAAADjE1xirfGGOWTyt064y7RgzpB+NvJNXEfpadbmTql6vVO6Udaz2VTwLd0CzSpvyTrFDwVeRd7dNYvrihU7alL5d7vB8Z+yPrVfohysFr/phih1CN4SRWc5nY4xxtcr2XEdcRex6bYqhxwp9oYqfa7wzdi1/rSqH7tpX5fuT3e+HP7vefIq8rO6cp/fpbheqN+q57u/YBt3PO+U+i/Vpzd48fZVnlDp22ouM1TxntGLfD7113/rJe/mdsT+1bL3h06x3OmffHz/pvzzjOaJ6GOp8hTN+mlfqvWNzLi3S5y54v6PFlOnPQXGev1+v7hDoRO+uy7/Rs9/rSTsXbf5TfikAAAAAAACHcCkAAAAAAACHcCkAAAAAAACHcCkAAAAAAACHcCkAAAAAAACHcCkAAAAAAACHcCkAAAAAAACH+JrhhTXW22dz5NT10zr9LNP38q68QugrhH4VZbtCueItTavaV0hc575mkf5+c/eFNlmpbFX6kHY18k5pY5u20qfE922tV7efxbJVYyCMnxnGT1H2VKw0L8SRXWSQ5rPsmQ9WrU1/UoZWjWP3/tqXa70zdq3+Wt1J537KJ5eQnl4//Ln15pPkkbtznt6nNyOlsZfGbq0+ofTyrnKfYVO75v15Op9R6thpL1LusaozxneUsXuht+5bdy6Onxz7qb3+vm1Ojh9jhzHQGD+dc0T820Ro02v25pVW5tVcGv9OlSJ3zii19LeLWc7z3XrtdH9t3Fuuz7Vzmv65fu+p8il+KQAAAAAAAIdwKQAAAAAAAIdwKQAAAAAAAIdwKQAAAAAAAIdwKQAAAAAAAIdwKQAAAAAAAIdwKQAAAAAAAIf4Si/M4tkaK6StUv+JUD+tc9+Zdxm7ETrdwlzhebzFud9kvdxnSJvybpW7ETvF73ajTr1C3iukX0VHzWnr53XZQ+KN3yPWK2Rdf6/e6F2zSB8K1p0XqvSv0KZXa/ylj53c7wzt9al4vEJHS7HTyrcvdi0Pzeak1cr7p7r/PX9unfk0qRfWTz+3J3a2b/01pEqbcu7kHb5XWJ+qvWFyhZq9QtnKvUzaY6VzRiv2/dB/4jdif+r56CefvSo7v0fSjl2Mgeb4qVK3/zaRzjjz/Qv57zmdzHtrXx153/oyRn3enZ0/VIWn3a+RVXviXpudaOd09tl2TtS/k18KAAAAAADAIVwKAAAAAADAIVwKAAAAAADAIVwKAAAAAADAIVwKAAAAAADAIVwKAAAAAADAIb7mXOULa823z94/+XfaUcee34hQpd6b93uvEPuqQtdJ4y3NFZ6X6TvNHXPvlrzQLncjfoq9rwv/2LzXg9+jmK6+lb4UYzfGwAxpQ7k788IVKpbWiPb4q3NvZLxxjQh9YYVBUMXOzdlb27YOgdakcz/vrV1wu/el3/kt4btWWiM+tCd2t1CdNaS/xarWiF7NZrE+rdmbp69QtldRtnhKSHus2ThnxNj3Q3/0Xr7yW89eye6z2bbYof83xs/Wv02MEfr4xzZ4ufZ15vg/6dNev0gbMp9xnu/Ua6d9bXaqZ7/np+rW+jP3xIlfCgAAAAAAwCFcCgAAAAAAwCFcCgAAAAAAwCFcCgAAAAAAwCFcCgAAAAAAwCFcCgAAAAAAwCFcCgAAAAAAwCG+0gtzrrfP1pp12hB7jfex/6SvItRpU+5V3qnc6Y0Zy3ZfusW5Gmm/8cFu5jzGmCH3VfSzGLt+3PkcoYvH2GsWAXpd+BvpH8p74/fot0kzfZU0xn4/BnIfT+OnflxFT/PVKzTaVU7T++bC3Z2hXiNC3uHxKtolxc4t2h0E99Ur9r5y7ZxygNp6cE/c0Z+R3r+Rzze1eot1f+1Kuc+wZpd72m+4irLFvUYKXuyxxoyp78ceo7esdjrig3vej47dabNk5/koKWLHM0gaQY3x0/nbREwfv/XOPW9jLg1pc+R9f8dKR7NZzvPdeu20829/Z9o5nf1eO+ecffxSAAAAAAAADuFSAAAAAAAADuFSAAAAAAAADuFSAAAAAAAADuFSAAAAAAAADuFSAAAAAAAADuFSAAAAAAAADvE1wwureDZn9XSMterorbxD2jp1HWHFtLVXEfsKbdbMurzluULa1Kav6oVY7tBXZlG6le6uQs06HS3Z2IlX7MIpwP28G8Onlzakbw6PnL5q0/hBGv2w3cdD+rLodewr3B2Xc07so90vWtnXyfMaEda+spvVsWeInUv2/o31jZV1n+7EcT/lzl7Ys7cvwD+hmlf6e/l9mrN8iJ3GdpW2lueFjRvTtOYXrlCz6mz1J30h7bGqM8h3VPG7y+qn7uWTH3r22lrvfduc8dWO/X4MrOb46Zxw4n+vxnr3/pp0P/O0QoS/i4Scq3m+s76MUU/zM87xvXpV+ieUqs2SXpv+RruXiDPtbJW0xwIAAAAAAI7gUgAAAAAAAA7hUgAAAAAAAA7hUgAAAAAAAA7hUgAAAAAAAA7hUgAAAAAAAA7hUgAAAAAAAA7xlV6YxbOV0s76jbWq6GPMIodVlqwu939HuJ861KuMHGKHNouNXujeAF1V7NhkVeoxytLNkHalmtXpy27Y/RytARSep7I9lXdMm8bAprRj9D5YjJ36YZF5u4+HinX6QnihnBdC5GuGRl2NCS/a2snD0/fpc5PUsdMaU9fqfrmT9tBsfY9av2xPud8XPrdOnCRvRT53dPZmpDRPv4/ebZF6XmiuL2nNTgtc4QplexVlSyeQuMdKe7RW7Puhn93Lh+dJa1+6MfbOevcH721frdjNM0oYP1Xqxl8P/ij7+MYGb37M3FWqNeL++pLyzlP8vgG082tl+9bsUz37PU9Ut6hfCgAAAAAAwCFcCgAAAAAAwCFcCgAAAAAAwCFcCgAAAAAAwCFcCgAAAAAAwCFcCgAAAAAAwCG+xljhlXnjyR8xcgiwigAzRF+hdPXT+23yvfSN2DPEbmSdalXdIF0pbWyy9xFWuruaIfeV7r6K9KHcf2381GulvhDiV2VrjL0xxqiKlsqdqtUp9ycP3Tp2r4+n71XGb4zNFPt+yn+nrxaJWOfOxxyjbph9HS2uXc2x26tVb92tY9dSzr3o91N3e9le70s3m7sg+Cfkkf2Zo7M/I71/Y4XovS1WmhdS3iF9ebDrzdNXUbZXKFfaq8RzRDqHtGLfD93qiD92P7059qeWrTd86vNsjN08hxfjp1mt+pwRv/XOvWVvfarm2vY8Xe4da/EMEuf5++2y9ySQ7FuzT7VzKuV/8ksBAAAAAAA4hEsBAAAAAAA4hEsBAAAAAAA4hEsBAAAAAAA4hEsBAAAAAAA4hEsBAAAAAAA4hEsBAAAAAAA4xNcML6xG8By7jj7n+wgrFGyG2KsoXSp3bpUqQqdFU+wxxizih6zTDdG1Ke0YYxSferxWSh1ynyH9qtKnjpZi14/r2OH5zm7YyXtjudO4Xw/mHbWmhW4f78SuH49yfNaxOyP7iuV6dnW7n/7+2jXGGLNaA8YYq2iXfq3ev5HKnfRW1e6Edz9ld9rYJ+y/Qs0+t16cpN6KfO7o7M1IaWymsV2lreV54f68suLB7v48fYVyvUK90l6lPEek/Vkrdi/0U3v5b6X/qbGf+hPAvm3O3xD7/jn8rzB+OqMr/mdsrHdnAHUzr3LeOE831pcxvvH3u3Ke7w2gnV+rtm/N5n+3czr8rfxSAAAAAAAADuFSAAAAAAAADuFSAAAAAAAADuFSAAAAAAAADuFSAAAAAAAADuFSAAAAAAAADuFSAAAAAAAADvGVXphjvX22xmxlnlKvIu8569TrfdJ/572zXlXmudY9RfwZYofH1Q3SVSft3T7FJmvmPov08XPsjB2EMdDrhuGF6nEn7RjNcofnqcl2tlkjaZrPVuyHRYD2+CmepYIHVclia7e/V7VG9DLfuUak9WsWfWGFNukN3V65K/1VtTlx/Ep1m8zQJt3lDbryqN69H7+vs0KkN8qzVYjcbdM673SuSwe7+/P0FWr2CmUrd1GrcU5IYuz7odvLYif9xqPw1tgp/s4pZ/P5aG/s6qxc9/G/wvhpjK78t4vyWz+5r+zu3xrzdMy7Vk3z6W9/nQH07Clgb5vyP/X2WL+TXwoAAAAAAMAhXAoAAAAAAMAhXAoAAAAAAMAhXAoAAAAAAMAhXAoAAAAAAMAhXAoAAAAAAMAhvjqJ51jl8zVmJ3yZeoW856zzXkXyVK+6ZKNM3Y2d1bnXWYeyFY/T7dIVnu+9nWrkPuu0VT/qxo5dJVj1ALqfNqXvpE3pu8Mnpi8C7M77qdg7R2/s4/tGfip1btP3L+R5PIQuMu+vEffX5RnWgBUmht7Q3bef2Dp8PjjvvcIerKj5z60zv0mekz5z9PZPEdXYTOO61mnTnHc611UHu97Z6gplexVli3uRtA9K+6hW7Puht25Vfux+OsT/qeeInX+aiPF754hXZ/wEZc6xzp87gLbO0401Jv7NJczznbPb7r/edaJXbbq3XL/TziXgk/mlAAAAAAAAHMKlAAAAAAAAHMKlAAAAAAAAHMKlAAAAAAAAHMKlAAAAAAAAHMKlAAAAAAAAHMKlAAAAAAAAHOJrZ/A5Vvl8jdmIXVsh7znfR1h10livqnQ5ZXojqVrmfrn/PC7Sh9Dp9ulqpP1GZ+i+UORdlTyFDjWr2nuM3FGrVu22WZE+FquTd7vcIcDGvFdjaMYeurVN943eFcbPLPLu3miHkVu2y6v8mGNcjTklr4thbWukT3nPMCetol36U879cie9/cS+vLu7gWftazP4J+Q56TNHb28LVj+NZ6uQdz0rdPOuznXpYNebk6o1/xXqFfci1R4snUFasXuhWx1x5zki+eTYO6ecnd8jaW0X0jl84/gpxDNKbNPPHEA75+k652/8jSyew++fUVLwZ3e81d8de2s2/7mfevrxSwEAAAAAADiESwEAAAAAADiESwEAAAAAADiESwEAAAAAADiESwEAAAAAADiESwEAAAAAADiESwEAAAAAADjE1wwvrI2ZzxB9jVS6KnZtFXnPWadeoVHqeoXYdehvtMj9vFu5x9B17Op26gqh481WLFuVQ/PebBb1LvP9TuzwvMq6l3Ot2c1WlT520ZB5Z4B1B2c5NJvlTjbWa62No3e+T3+V+ebPkUZ2WfIQ/FV24tQqvQ9SrW1/Ut/vDGlNnsV8t0KbtIZPI+131C3WX7Xvptw6j2/0W+vFWeo56XN7eWcu7a8/VdqU8/28Y9p4sLs/j1+hZq9QtnK/EPZB1R4qirHvh/4TvxF7514+2Tm0P3UjtPNslbRjF2Ng5/gJ4l8XYr0/cwB15umcczpHpD8w3Hr0J3ZcA4rzT4odnvf0vsf9yPxvdi8/HX4pAAAAAAAAh3ApAAAAAAAAh3ApAAAAAAAAh3ApAAAAAAAAh3ApAAAAAAAAh3ApAAAAAAAAh3ApAAAAAAAAh/hKL8zi2fobC/K/5/0+h1WWrKuu2Zx13qtIXtXpv98oY6eytb5YatPGFw9tVjVa90un9K+yya6UOjwv0s+QNuQdv8ZDXSGXK/WF+2mrsTfGGOt+N2ylHWM89j2ibuyyXml81MHLpzOMzZB3Z2SntKlNZ12xEHzfGlKvHznval1Oa19a0+vh01kXdw+f7uDu5P2pnvte8E/Io/4zR29/tuqsP7VOm7bXiLTBS/vawhXK9irKFvciaQ+W9lGt2PdDb90T7x56O/9wcuI5ImnF7p0jWuMniP+1W/bxzx1AeX/XWSPSOeJ+J89LwP3BuXN4ZPej53WVv9vOadovBQAAAAAA4BAuBQAAAAAA4BAuBQAAAAAA4BAuBQAAAAAA4BAuBQAAAAAA4BAuBQAAAAAA4BBfY6zwyrzx5I8UuWOG6CuUrnqay12/Mef76CsET/VKrb6K9LP9xXqtVod+H/sVGu0KodPNV5X+FZusk3udds1Q8ph3Fbt+/teDXaEV+8ku3sg7fY9u3mne2aa9SDTurWcIHh6X80LIOs4KRbtcsU32dZZq/fiT8n7eq5jjxxhjhk6a1vRar16d4ZNbrIreqfPeaXqv+9/rs+sFf+RZ+jNHb3cb1Ft/avVMev/s9K301foV1r7kKsr2CuWKp4RV7Gbm/TNGjD1Gb3n70L189MmxnzrXpfi94dOMHcbAzvETlKMrfutPHkD38845V3/T7HXyegnotUl/3d2lu67yT0r9yC8FAAAAAADgEC4FAAAAAADgEC4FAAAAAADgEC4FAAAAAADgEC4FAAAAAADgEC4FAAAAAADgEC4FAAAAAADgEF/5lVU8m2XK+mkduWuG6KsoXb/c79+Ys46+QvBUr6r0K6SdrZpv/NqhzV6h0a4QvroZi2ljtTu9POQ+w53eSqWvYofnD3WFduwn61WlXyF4eLw66dttVr2Q+nCKXT1Kd9rd8XM7cqtkzVqNnZ1869BtzKVp7eqs2Sl+dx9TD83u4Lyfcuf+rG9nX4Dn1bP0547e3oyVxm6ap6u0Sa9NyzUiHuzuz+NXKNcr1KvcT6x6N7Jm44yR4t9vkn/HLp49eY5IHoxddtPdU87OM0qlHbsYA2H8jJkyvz++UrFfO9u0vQq8T1/97e47edfd7H65krwE9Oq1c8rp2bem8/fzSwEAAAAAADiESwEAAAAAADiESwEAAAAAADiESwEAAAAAADiESwEAAAAAADiESwEAAAAAADiESwEAAAAAADjEVy/5Cs9n42mO3lNF31nu+umcdfQVG+X9CzOUfKWylel7faH1tUObvUKjXVXakHWVdowxXrN4Y3Xv5ELus4i/UsmDx7pC6MPdbra1XsULO8ud0rfzfh9ghT6e5pxRjp86aXv0luOnFblu8vA9Xs28e538fuze+lKGHivM8XntSzrr6n15aHYnhk7en2p3X4Bn5T6azjDP9fLOViTu/8p5umc1ZsQ456SDXTjjVOIZpZM27O/+Ve3fknQ+6nzQ3cfVjVus8oyzb/vWbrP8t4v7sTdug5qxQ/+Pse+fYdp/u6g+WGM++uN+o6a1qzdPp5T71tW8BOzbke8cPtlzazr/k18KAAAAAADAIVwKAAAAAADAIVwKAAAAAADAIVwKAAAAAADAIVwKAAAAAADAIVwKAAAAAADAIb5meGG1wqfUde7V0165Uuwnyx3emCHvInmq1wz1qtOnNum0afNrhzZ7rffxrxA63apV6eeso79W785uVbnPELtokz+q2CFpoyvEYiWhbGX8WK/wQqeLb2zTlDZVq0rfSfvH+366qslujDHWxtEbx08IfS/Xf+cdHrfGyM4dQWd9CetTHNfdte/+017sWv5anQmtm/eneu57wSdYRR/Pe/V9utug6o28vvRUbdqec6r1K5xvUt5XkXfnfDNGPsP8K5yBSul81PmgO/fjz22xno39qWXrD/xG7ND/Y5tWYyD8fSGErlJXfzMZY3xjTkr2/a2pN0/Xdq6rucn3/Q1t5/DJ7q/p9yOfyy8FAAAAAADgEC4FAAAAAADgEC4FAAAAAADgEC4FAAAAAADgEC4FAAAAAADgEC4FAAAAAADgEC4FAAAAAADgEF/phVk8W+3sU4T3uVfl+k7ke7n+d+znyj3DG2sWeYfgqV6z0RtWqHldr51fe4zRaLOUd+fW7ZpXHXvV0euS1bFTk68y717sJ7tCrc58xTbbk/Y76be2aTkthOBbJ/Iw+lbop+XoTX085R2yvp/zeIU2vVpj5LmVt1qf6rUphh4rDLAqfq5xZwDttLdce/eOO+3sC/DZenv1vXoz1v31JaeupTZtzTlpc1icb1LeVyh3Ot/EvUpxjvhXOP9E4XxU2ron3pz3T429c8PQiB3PVmXi8DzGToUrxkg6g4TR2Tj9jFd7Tqp0V4H36fvzdJVy77paNflsrAEx3/B87+mmV6/On0V+K78UAAAAAACAQ7gUAAAAAACAQ7gUAAAAAACAQ7gUAAAAAACAQ7gUAAAAAACAQ7gUAAAAAACAQ7gUAAAAAACAQ3x1Es/wfHWCxwh17jvLlmM/V+5ZvLHaeb+PPZslr8pW1em/3+jkXXmF0Ne6n3f3Ru6adb1erQF41Y+raq9Us07sOmn+HOGFRt5RJ3Z7YngfYMU2DZnfn+569W5/j7qfrlX109TH+6vfXWF0lXPa1S72MwOoXnO/sT6lLl4MkhR755qd9L5Gd1K6n/K50fMdnQkPfrZ8jnhu9PZGZprH0xpzX57nG+tP2uCV+7s67RXy7pwEXuEc8a9w/gnR66Q79+MfvSd+KHaK3z3Xjf9qxA7PewM/xI67+SJ2OmffH53NE/54teak5P4HS2tXb55OKXsdsRy6sbn37ch3Dp/sfvSd6/0n80sBAAAAAAA4hEsBAAAAAAA4hEsBAAAAAAA4hEsBAAAAAAA4hEsBAAAAAAA4hEsBAAAAAAA4xNfTBbhvhefz9tMUOalj7yv3n/hF2lnnvVanzerYs1HyFduk16adL/4Koa+yTet8843dVT+eRYRuJ68CzFCuVdes7Esxdv240xXC8Pgb2rShNTE00qb0ze+xdpY7KcdP6IeN2GWdR/8mvyp5ns86OacPltzvDO31qXi8wgdLsetahTW70ab94dOdbH+fnd8LfoL+fn2P/mx1f43pr3z3N1lx/anWr9lbJa6Qd7WXSTusV/ig/6r2bzl6/fjBPfHWvXxl+377fuze2ey/9sXeueUdI5yHUx9u/P0gjJ90RsljuzMnJfc/WG9/1xsg+Rxxf/1JZ85ZtnmvXp97iuieKX8mvxQAAAAAAIBDuBQAAAAAAIBDuBQAAAAAAIBDuBQAAAAAAIBDuBQAAAAAAIBDuBQAAAAAAIBDuBQAAAAAAIBDfO0MPsPztTPzGP196XaWO8e+X+70NEae9Rtrddqsjj0bJV+xTTpt2uulryL0VbTnd6R6varn7U5+lTmXZpU25V3HXiH2X3kQFMFT2vrxqtJvnyx7fW1XtmWbjLH1e/Qm8tDHY8Xe99MVYl8hdKp2FT2MzHI+GyOXrae1upVPO+tu1UXHGGOFvlCtfblUvbWxjl3Ln/r+hPfs3nGf31ov+K5qTsqz1b4R0t1OVG/k8899eY5vrD9pH5MWv5D3VeSd/mMx7lWKrP+V9m85ev14515/3zZo9x83novdOuL/a1/sOH6Csp91+3CRvjl+Oqlf7Tmp0v372/v03b9T5ZLtW3+qJp/NNSDpTKV73T9TPlvuml8KAAAAAADAIVwKAAAAAADAIVwKAAAAAADAIVwKAAAAAADAIVwKAAAAAADAIVwKAAAAAADAIVwKAAAAAADAIb6ezHyG52tr7lX0VLJ9cpukVnkfodvec75/Y606eqdes1ny1Ujfzbsym6FfoWxXESDeBrbKdoXEde5rFuljc4eaFX34T/wi7/YAqtKG4DHvRvpOub+Tflfsnd/jO+lbsat+GsbPDH08lLuKnuaFK1SsnNPWzhX9uc6Q1pc0z6+iXdL6k2t1v9xJd1XuRO9MZ8+qS1d978+uF/TlWeG5U+O+GSuf6zoz9c7zT7V2/QlwP++41wiRK69Q7H+lPVbnjLNzX7r1jBLSJr/1HFHZvS1txe704eYZJYyfxulovNpzUqXz97fe36ly+irtvvUnHutCe6d6VXYOn75qL9+bTHfWyy8FAAAAAADgEC4FAAAAAADgEC4FAAAAAADgEC4FAAAAAADgEC4FAAAAAADgEC4FAAAAAADgEC4FAAAAAADgEF9PF6Ayi2dra8519FmWbG/Z6pzHWGXudeocu0g761qvdT/v1J6p3J0IdXvmvlB5hdjX7cj/Hf9+7Hhb2BqcjdxnSLt3YqiFrrDuD81YrzC8yrw7aWP6+D3uj58k1aszscQ2CaHr8ZNGXxgDM6QvCpdG5gw1K+ec2exoLRs7Q0i70rrb6GetNbtZ7uSp/Vv3Sz/rfeme3HfCJ8iz9GeeGvNMmsZ2NS/01PN88ywcF7B9J7/O+ekVsv5X2mOVud/fn40x9h6WG524vX3bOXSfarOk26adwR9jd/pw84xSjJ/m6Wi8qkZNZ5So8/e35jmiSN9bN5vrT/z7QefvkqnNavv++pD0JpWd9fJLAQAAAAAAOIRLAQAAAAAAOIRLAQAAAAAAOIRLAQAAAAAAOIRLAQAAAAAAOIRLAQAAAAAAOMTX0wW4a4bna2vudfRZlG5vuep2WTH3ulXr2CFy+GCrCDBD9NUo939HuJs6t2kVOZR7htiNzpRuA69O+vbgrHLvljzodPKdsbtt+lTeYeBX436MMVbre4SCN+pVliukTXLsegysNAZmkb41Nse4ivEZR25nkWhrdfJG2nr9SmvACp2lN+x7624du9bdq/Ty/lT39505Nfx89Sz93Mjvz2bVmTLNC/flOb45J5UHv32b3uYpYbxC1v+q9li909XOrcizZ5SfGvupM2OK3xn4MXa3DzfOKGH8dP5C8EpnjDgnVZ475Oe9fIq8cf1p/JlrNteIndNGTy969U1SZL8UAAAAAACAQ7gUAAAAAACAQ7gUAAAAAACAQ7gUAAAAAACAQ7gUAAAAAACAQ7gUAAAAAACAQ7gUAAAAAACAQ3yNscIr8x8pyN8tlTrVuud99BlKtrNcO9skx66jz/k+wgoFmyH2CqXrfZH7rZojh9gzRGh80HRbeDXS9jpilfMYY4bcV0hfxg7PG+29mrFXMX5i+m69qvT7hk9Mm+aN6Kl6JTF2Y/TG8RNCFy+kkRdLXfXxRrm+55nOENeusAasYmLpD/veulvHrtX7id6e9dm9Y0fYYxU1+9w6wd+jvd/eOEp6K0j3TFmdV1PKXpuVc1I8+O3bPDZOCWOMMV5F1v9Ke6zOTunB/fZn74kfir17SulsS3fGnnUfXmm3X53T4/ipC/cqxlcaeelPLq/W1vP+XPkn9f2OmPfyVdpOuXq79bxE7BuAn/2X82qvn8YHAAAAAABwBJcCAAAAAABwCJcCAAAAAABwCJcCAAAAAABwCJcCAAAAAABwCJcCAAAAAABwCJcCAAAAAABwiK8ZXlhjFU9T6s9Vlbyq8W75e+zMu46+Gt+708/mrFOv0CideuUapy+ys6eF0s0ifjPr6jbxCmlTm75aTRa+deyI79OvVLOdg7cbu9OmYfzVS0Qj7RjNcofnIX35OFWr06YxcZrwQj9d1eiNk2mIXeVd/w9CmjfKOSeWq9cZ6qd17LT+dDp5WpNnsQas0CZPTjlJHbs7MXTy/mTFHiu0yWfXC/ryrPHc6WzvKfx9hDSX5ha532ZxTooHv32bx7RXqbxC1v+a9T6pPoeE//P84P32gxuG52I/eWZMOpNOrHdjt1+eMcY36v0+9iuO7LpiV7GnLv+u8S1pLr4/j3fOMN11s7vGlLHjErFvYvjcv5zXufulAAAAAAAAHMKlAAAAAAAAHMKlAAAAAAAAHMKlAAAAAAAAHMKlAAAAAAAAHMKlAAAAAAAAHOIrvTCLZ2usRurPlUqdat1LXee+t2y1WURfzW/d6Wdz1nmv0Ch761VlvvtrFvFniN3IOtUq3UReVdrYZFXqb+Q+i/SrU/KROnkpfo5OVwpp0/jp1Gtnuft571y/qrEZksbOcL+Px28dYxfPmmOznBdC5Kv5rV9Fo6da5TXkfezZ7AxV3jOsASu0SS7Z/Xp1Vr5Oub4XoZP3p/qde3n4u+QR0tkI3bd35KZ5OpzNQvR6bUyx07mvSB/OjN1WTXuCMnLMutrtNM8/j+63N+Zd6Z5/OsG7yXdulDr5tvtKY7efzhll2erYr2/s9t+50hmjvcXq7Lfvf9DufrtzFqj/vpbVS8S+wffJu22/FAAAAAAAgEO4FAAAAAAAgEO4FAAAAAAAgEO4FAAAAAAAgEO4FAAAAAAAgEO4FAAAAAAAgEO4FAAAAAAAgEN8dRLP8HyN1YzwmXK9O3ptVj3tlas2Q/TV+NbdfjZnHWEVyVO9Uumq1N3YvS8aYs8Qu3icbhqv8LxKn9KGTz1eq46wqtxnyH3dr/kK5f6rO3jLiSH1hRC7KFsKXY29mHd7+DTq3cw71rsRO08LnT7eiR2ShrFZxY7zQnje6St5Hr+feVzbGp0hrck71/TUkVK99g6fffvWvXvHffb2Bfj56r3+cyN/51yZzz9pnq/S9tqsavOVNmDpINFYIzrnnzHGuMqOtvH0tfu4WqRvnRO+k/eu2LuH/c4/+Ozb3jXbtDmCqnNGrHMdexbj6xUa5Qrn0Vdri9Xdb9/vTN3YnTWiczbLS8S+wf3kX879UgAAAAAAAA7hUgAAAAAAAA7hUgAAAAAAAA7hUgAAAAAAAA7hUgAAAAAAAA7hUgAAAAAAAA7hUgAAAAAAAA7xtTP4DM/XWM0In6kqdapxdr/N8vfYZ4boa+u3rvOe833eKzRKqlfV6jnlzvHRjD2L9CF0uom8GmmTK1TrtRq5zyrtGGNV6VNHS7Hrx3XsELrTVbpduOpmsdz1Czn9/bStesfgjdgjfc/Ux0PFWuOnfpw74n1hdJVle4XvFWOXnSX04bS2NQbnKtbFMcaYjYkhf8n79er2kt6+tTd29+4d93lybwmfLs+UnzmC+ieQ++tXbpH7bZbae8WDX+d79fYL1S7qih9s4+nrwb1+b78d0iYPnX+iZ//g08u71aaNEVSeX0as16uIfYWCv8LzNLZfra1nZ7/d60hxLt64RuS/sRWx4xKxb9LZ+ZdBvxQAAAAAAIBDuBQAAAAAAIBDuBQAAAAAAIBDuBQAAAAAAIBDuBQAAAAAAIBDuBQAAAAAAIBDuBQAAAAAAIBDfD2Z+QzP1z9Sin/W/jpXEercn/wes4i+tpf7/Rtz1tFXCF7VK5U8lTvVu9MXWrnPkDY8rm4qrzrp5lvOZu6zSB87aSP2t+JXsUNfaXWz8EL1uJN2jN4Aaw7Oct7YPBGXzdYbumPn6F1FH5+rTtudF8qSh+/1Co12bexoq1rbmh1txXnhft6tNbsdu1Z/rf6qfTfls/vlOvfqm/zGfT78J/Ks0Vkj9unPdtW8kOaUWn1uvD9fjTHGige/fWt6tRdJ+5wrZr1x/5b2lhv321uPwpWdZ5DvpN8V+8l6tfNuNNoKY6AoWxyb4XlnbL/ubzv/Br31qd477lsj6r/dZdV8l/6u2G2zzvDxSwEAAAAAADiESwEAAAAAADiESwEAAAAAADiESwEAAAAAADiESwEAAAAAADiESwEAAAAAADjE19MFqK3i2fzHSvFPSrWqWiRLqevcq6e9ctVmiL4a5f6T/v7TOevoq0ie6pVKvlLZWl+s02ohbQz9Pna6xbzC83gL2urkjVEw65JX/eiPULMqfnfwNtpsbexmT3bxnHcRYGe5k41tutbG0RvGzxXyTtWuUqdSx+mwbNN9H2TnsE8vrDCh1WtXc81uxe7qDu6f6n29n/0e8PnSjFY/fW4E7Ttxfuf8U6XtratxzioPfvvW9O755yr3vJtPX0/t9X/pfvvJc92T9VppfK1/Ffk2/096FWMgFGvn6CrH9chT0mvr/u1+R81571sjOutq+ntO+rtip81SSr8UAAAAAACAQ7gUAAAAAACAQ7gUAAAAAACAQ7gUAAAAAACAQ7gUAAAAAACAQ7gUAAAAAACAQ7gUAAAAAACAQ3w9XYDKLJ6tsRqpf65Uq9QqvdTvc99brqTXF+p+1st7zvfRVwg+m/Wqxshsf7Feq9Whi9ih0dIt5xWel+ljk7Wi12aIHZu8yHuGxKmjFq26NnazWKwnu3jVh1P6ZrlXI+/YjTpli2nT+HgfPJc7jZ867yp1e84p2uXa+kF6sdMerFxjUhcNg7uK3V2zO3vH/te4P4Ce3YN1NPpRTA1nW3HeeG4EdbYLvfNPLbVZZ85Ka1vcOzZarXNCiXuRufH0tXOv39mrp7y7Q2vrfvs/LMvfGfvJepXf618hbeMMn/4+EOrVGV2x1KHNrqJsr+37t/sdNef9zBoRUzb/vtBpcb8UAAAAAACAQ7gUAAAAAACAQ7gUAAAAAACAQ7gUAAAAAACAQ7gUAAAAAACAQ7gUAAAAAACAQ7gUAAAAAACAQ3w9XYC7Zni+xmpG+JmqWqUWyaoIdXvm73Xfzr7QL/f7N+aso68YvH5hFqVPbVKlzXlv/NqhzVKjdUZ9SvuK1b6q1P9haf4vM7RpkXf8Go3PuTN2t5utJ7t4Z6J+Mu/ksXrtHj/vH1Wjeoxcss6skPJ+7mPXa0xcX+I0fz927ob1G6uxivSGbm8A7d0b7tTZ5wCVaj5Lc+FO/RN85/xTy2tAY/OYDn7lGajXaq29SMx6407oU/fbO//wkeLvPkfsjP2x36veccczZZU2xE5lq0ZI94xSnn/iVr77t6aOfR3tyfWn87eN1N5+KQAAAAAAAIdwKQAAAAAAAIdwKQAAAAAAAIdwKQAAAAAAAIdwKQAAAAAAAIdwKQAAAAAAAIf4eroAu8zwfI3VSM3/VLXnGKlNq6cpcrKzL+TY95+OGfIOyat6zVDyuk3+RHj/pNcXWl88tNlr1bGvKm3Iuko7xhivspPH1K3c1yzSx7yDnYO3I/SFTjcN3WiskHeVfqVi7xxe3bx3avWz5ugtx08rct3k4Xu8WnlvnIdD/LS+pPWpHpu92Hl4vX9jNfeOT02lu3vCXp19DvBOms/yXn+ffSfO76xPtardUpvFNaT1p4v7rdY+ocSsqwjN3Dtt1uloDx6Fu7HLc8j+P8rsSZvSN7/X184/K6ZzehG/m3U5utp94bkP1tvLd9aIvetPlTy1mF8KAAAAAADAIVwKAAAAAADAIVwKAAAAAADAIVwKAAAAAADAIVwKAAAAAADAIVwKAAAAAADAIVwKAAAAAADAIb6eLsBTZvFsjdVI/blSqVOte+636e5y7+wLdewUuX5jzZB3kTzVazZafcU26bRp82uHNnut9/GvEDrdsFbpX7G5u728yH2Gkq9U8yJpqNdfG7tCbLHOxBL60dYu3pwQy2+yM++dE3m3TTqjN46fEPperv/OOzxuTRvPfbDW+pSGZphL09pXd/GwZjf2jvlr7Nu3Prt37Pide3n4BP29/j6drUh/farS9tqsfJo23LHi91utfT4qs+6crkLun7zn/dQ987N/lKmz/tDv1TrrfkdxTv8rxL5/wv8b/rM8tsszH6y/l78/CPIZ5P76k/ilAAAAAAAAHMKlAAAAAAAAHMKlAAAAAAAAHMKlAAAAAAAAHMKlAAAAAAAAHMKlAAAAAAAAHMKlAAAAAAAAHOLr6QJ8ohmer7GaET5TrvdOVfTn2nNnX+i29wxvrFbedexZRrhfrj+xO32h2Uvn+/ivVce+QujqBjamneGN1bnfDbFniL1S6avY4fmDXaHRxZ+tV0xfvBDSriptSh/LXcdexfiL83AcP/Xj1uiN4yflfTvn8Sqa9Gov6J11udeJ6+8d1pfYx++vfTvX7KS3pvf2WM/uHe/b+T3gdL29/j79E/z99SnPlffbLLZmZ//WbLXW+Shmnc4/Ve7N/dlT54Ru3kkZu9OPRq9sT7bZJ5/rytj16KvOCV3t/zwv2/S5D9b7+1tKW6v//tZbf/xSAAAAAAAADuFSAAAAAAAADuFSAAAAAAAADuFSAAAAAAAADuFSAAAAAAAADuFSAAAAAAAADvH1dAF+ohmer7EaqT9XVfKqxn119BnadGfZdvaFHLs25/s31urm/T52+h6p5KtIP3OtW3nXoUObxdDvX0i3s1d4Pmf9xmvdv/9dKfdZxF6p5EFn0gldYcXv9T5AGD69srW7eHhha97FoyfbLIywlQZv2Y+bo7ccPyF0I+dX+B7X1kX9uc5QrS9jxGm+nDf6tSrW7ObesW6x7sDv5P25Nu4m4Hi9vf4+/dmw2DvG82yt02b5iFLkHivda7XWDitmXUVIZ5SQe+fPPTuPszsXryfrlTzZZg+drb6VvoydziiN2EHrP9Njmzz3wTp7+e48Xv0NLq0/fikAAAAAAPD/a9/u1pxHkTWBClfe/xXPFnOQ3fPM7mrHm6X4sOxkrVOZAKHgR8aGTTgUAAAAAACATTgUAAAAAACATTgUAAAAAACATTgUAAAAAACATTgUAAAAAACATTgUAAAAAACATXzd3YDfaBTX5jEbpd9XanW66546+gitW9m2lbnQ6fMx6rrnvF53uq/0PKqWz9gn3fF1PRseIfRZ9mldb/f09iyed0iFH9R9Pr806tJzpv6uYoei96VCjF3ddhh6+QOtiaFRNpVvP4/nH8h9Fq4nVR7PIkeP48gjaO3q+ExsdZzP/lhT/ov7kjiuMcWE2Vk3v+uuyvbaXcntWrdvvXfvmFzfy9zbbvhsea+fI6yy8s0tvz9VZXvvR+XV7r6z0WvdHVa5VwnvKK3aV7+DLN1vh+srY3fuK7mrz+58X+1+rVi9sI40Pnpa333EPr3ngXX38p15PH3/5p8CAAAAAACwCYcCAAAAAACwCYcCAAAAAACwCYcCAAAAAACwCYcCAAAAAACwCYcCAAAAAACwCYcCAAAAAACwia+7G7CbEa7PYzYjvKd83yvV0UfRupXtWp0L1dUYedSfmPN59O59Vc8jtXw2M61Td/IoQp9Ff/6k7ny6ez6/NELp1m0X9R7HD5Klals3dri+LhUaFefLM7StSrVO2Vh+pML15d6EFq53nmcYP3OGPG3FDsWLa2nOONP6EtaI+8bI2mSo1pjOunkcb5ziMfa6feu9e8fkee31XuLudsNnyzPObRu4MnqeCdO8Uc05tfR+NIrYscfS5jDe+PVeSzus8i0iJlLeKV2r+Vi7qDcXzvJxdofPjfdVuvOd8Z3fj6ocL9/RQ9kf1f1c+1ftZZ7dNzirefg78rp53D8FAAAAAABgEw4FAAAAAABgEw4FAAAAAABgEw4FAAAAAABgEw4FAAAAAABgEw4FAAAAAABgEw4FAAAAAABgE193N4D/bYTr85jNCO+panW645Xy8/jMuruxRxFghsKdunN298ZHNb7GwidS9ed36N64HkXbHqndSwdBqvssitZn2vMoyh5H677i4wgfKC93J5WVA6w1MYTQC9ud5qS1k2347UXZuDqHZ4x9NfJxPH7wicpZ5vg7r5zXy89Qdoy67lkMgu7esFq/1k85vVX9at137h1T7Wk/cW/b4bPVM859b3b9N/hqHk9zTq1av6p3iO+yKXiovbzc67VqJ5N+GXvGqqsIvT1U67ZX7nnv/GIk6b4LNGKvfbcKxW+ru5vjzff0RtGyZbFP7huceS6+Po/7pwAAAAAAAGzCoQAAAAAAAGzCoQAAAAAAAGzCoQAAAAAAAGzCoQAAAAAAAGzCoQAAAAAAAGzi6+4G8M+McH2+pBWvtf6eqwh17Xc+jxGiz9i6KnZtFnWPUZeeoVOq+0r3lO84PZHnEap7/i55vb8fIfbZTLRH0bYzFI4nx1Xb4gA4w/Wi9hHKztTyMH6K+H/FNAoP7PqUc/Mkfz3H2/dVlE9zSut5hLrbz6OMnXI4jIFRlA/tTiMzrT9Vy8/4PNaunKHyRvnemjxGsfbN7l6kWLND6aUp3urvT3Z9P/Eb9/nwKnnGuW8T1psN0zye5pyqbKo5rX1Btb7FJeB6rzXeQL7Ll3v55v4t1b7yPaKz572z7qQVO9xY6x0lXH/X5xXHZjfHi/Kh7s7oi997xD69a3D2vkPzTwEAAAAAANiEQwEAAAAAANiEQwEAAAAAANiEQwEAAAAAANiEQwEAAAAAANiEQwEAAAAAANiEQwEAAAAAANjE190N4E+bxbXxsla8UrqrqkeyVLquvbraa1c2ihpmMxfq+6rvbIy67lkUr+7pu+7rz+PfEa6WTvddGbHd67IlnQyfnfLtwVnVXrd8jtDyWHcRf4TCM9TdmRhCn84ZPlDW3Sh7HOsntWe67eqUj8/jeujcrsboHaFsa2wex1mMn9jqsEbUbUtrRNKZi3uJWK1fI8w5cdyHmitpfVo77K8P3nedrn7meevufR7wu+UZ576ZpfeGf/0dJt9x7x2mXtKb+9JGr3Xef86YSAvfvm7c87513ZV3jt15z1hZd/dZt3K88Z5dR+5973EcIYdXDpBUvi7rnwIAAAAAALAJhwIAAAAAALAJhwIAAAAAALAJhwIAAAAAALAJhwIAAAAAALAJhwIAAAAAALAJhwIAAAAAALCJr7sbwJ81imvzmI3SnyvdVeqVXunnta9tV22E6LORC/m+6rrHeB5hhk7p3ld9tTt+npfPkUPsESI0kimdHJ+Nsr1BUNX8g9pHKL9yAFZCn6Qx0OnT2Z2U6gXoetlYfu3aVfZLGnoLJ/oc+/kYmGn8jDB+Yruff6A5co+zfB51pzxCw1Pb6jUkrG2tNSKtXdcHWE7B3n1VpfvD43r0O/dgPXvu5eEd9Pbr62aV/qxQrRFpDah11q+81UjvR2XhELyO3Xn/OWPVC9++Gre98h0kll9d96LYsdob+6z1jrKy3cdx9HI8veNcjtx7h1m+fXteQdqr+6cAAAAAAABswqEAAAAAAABswqEAAAAAAABswqEAAAAAAABswqEAAAAAAABswqEAAAAAAABs4uvuBvA6I1yfx2xG+EzVXaUeyaoIdX/m57XOCNFnIxc6eThGXXqGTll7X53x032aod2jiN+sujpZPhtlj+Nodlm39lS+sHLwdmN3+jTUXY2/2Sj7Xf55gFy2vp6fRxHgzueRlLFT/sfJNBSvxk9dd2fknrFdad1dNzjTHms0kqEaH98fKNbV2O7k+n11d51pRe9Ev3MP1rFynwPU6re++2aVlbNhXttq1ZyU57MUvLF/a/Ra+w0kVr3w7ev6VxdrF/WP3W/3QrfeYd74nbFTfrZzvCgf2t359iB+7xG/yOrs3+rY/ikAAAAAAACbcCgAAAAAAACbcCgAAAAAAACbcCgAAAAAAACbcCgAAAAAAACbcCgAAAAAAACbcCgAAAAAAACb+Lq7AbyPEa7PYzZKf6bcJx2pdF372rbVRhF9Ls2F+q7GqOueoVOq+0o9np9mZ/x0n2YRf4TYjarTqfMZrle98mh3Wf2BWcVPiZTurIwdQgdlu1P8bp927utd23384HGvih3ms1YetsdPGN1lLqSRX8euSsfVJ3zgEQbQ2RqgaQ15Hnt0H1iRSzPkUao798i6vWNvKl23B1u5/+r61HbDp8szzn1vdr1Z+vralkqnd8r63Sr0WNowxxu/3mu9XdBxnGXVvbevWdW+ci+fyr/ze0Tlxlf8t+6zlXV3Rlh6R0nvEcW17rjPX2Rd31P7pwAAAAAAAGzCoQAAAAAAAGzCoQAAAAAAAGzCoQAAAAAAAGzCoQAAAAAAAGzCoQAAAAAAAGzCoQAAAAAAAGzia4QPzJc0g09Q5cqMmZIyjb/r9Wn9vFa6s931J8ao655F8dG8r6r0+tHRqH2E+24kU7rv6tT6TGXj4hYjPL80QtlZn7fPqvWrF+XGAJth/LSSPA6vIkB3+emUXzc8snhfVR6GloUcr+bKb9X4CUU7YzNIkVPbHvP5B2LsRqKtHPbpnmd42KO19tWxZ2N1vPP95r3frZ7X3nmWQE9eIe55s+u/4ad5pZqTammNqNaY2GPFev+v4FXhELyO3dkFnbHqtIeqag9lV+7Hb9zLL13U3zn2nX22su5WjofRWdTdGXk/KV9/kVV3in8KAAAAAADAJhwKAAAAAADAJhwKAAAAAADAJhwKAAAAAADAJhwKAAAAAADAJhwKAAAAAADAJhwKAAAAAADAJr7SB0Zxbf7BhvDZqjw5juOYMVtShPeU73ul6326st0rc6Hf7voTYzyvYYbgo3FfqU9G+847M3moexTlQ+h0Kn0uKnscx1E86u/483mEmWofofZZla/LzmYqlJcXplkaP/GBVOVXDo/jqDu9UzaVjxPaytgpx1OiNUZv7NN1K2uaN6q2pS65c+Wt1pi4vqShGZ5HFT8PzfoTs7F3vHPfeu/e8XrNKVe8F8I6aXTWV9eNzv5M2Xk/qlVrRF5fUvDG3rDZa633o1j19XeUWPuNr6u994iV++3g3i9tGmV7e8v73vu6OV6UT989hJrjdxtV7LBX908BAAAAAADYhEMBAAAAAADYhEMBAAAAAADYhEMBAAAAAADYhEMBAAAAAADYhEMBAAAAAADYxFen8AjXZyc4v0rOlSpbUun3VbV8/fi43qcrx/bKXOi3+/knxqijzxB8NO6r7pPjGK077/ZaUX6EsuFydWp91kXbJ95ncVuP2ax9FOVnanmoOzzOv5YO3ioXUtnrodPYW5nirbKpfCgb77uyMvZxHMco8rg5fmYxfkYYP+15oYod+vSMfbpyx/A8dnt9iblUrKtx7UtVP//EbO4d79y33rt3rPRyxXsh3CPNh/U7SrfuWufNLq9fVdnuO2VRd7Vp/UnwRq+lHVar6mpv96PaQ/mbXldz2bTRKS4t329XL0g3xr7xeaU+723fGjkevyyqY6em3fm9CQAAAAAA8CEcCgAAAAAAwCYcCgAAAAAAwCYcCgAAAAAAwCYcCgAAAAAAwCYcCgAAAAAAwCYcCgAAAAAAwCa+VgYf4fpcWTkfpcqVGTMlZdp7und8vG+frsyFXp+HukeIXhavY4/Q8tQvdfluLlTlQ9kY+nnsdKJ9hutrT8QbtY9QdqaWpzwt4ncnneJ5Fo8ylv0OsKjscRwzDd3iA7lso+52n12fx2PRdF/l1YWjN4yfM4yfdNtV6djqEPwsO23ljmHl+lKHn2GA5LWvKptW9N4+565963u/W11/nt4J4T7VfJjm0n7dz+WZ8vr61Z1L6/msufG88auNci8TO2Xh/u6N3yNue81O3jn2b31eZYDeO/4jveNUZeua/VMAAAAAAAB24VAAAAAAAAA24VAAAAAAAAA24VAAAAAAAAA24VAAAAAAAAA24VAAAAAAAAA24VAAAAAAAAA28XV3AyAZ4fo8ZjPCe8r3vVIdfRStW9mu1blQXc2R60/M8Tz6CMHTfVXPI5VPZX9y59fLptBF7FnHTifeZ7helm8Pzka/jLrloVuO8s5C7NbjrJ7lT2KXaRZix+fVKN9dfqryqctuHJpr7+v66J1p5Mccr8tXpVfOOans2h3D9fXlu3RRPubCur1IXLMbe8c796337h2T63uRe9sN+0pzYZpLe3XX8kxZrRFpfanV25zeupn3pY1NVkPci8QHlnZKjVxauSdeuOfNdV9/f4q9ed/W8ebndX1fmofu9TeFmUZYeEd5FHW3vvcAAAAAAAB+D4cCAAAAAACwCYcCAAAAAACwCYcCAAAAAACwCYcCAAAAAACwCYcCAAAAAACwia87Kx/h+nxJK/h0u+bRvff9PPoILVvZrtwnqfbnEbr9PYpPzBC9e1/VM+n0yffVqvzCLB0h9kx9cl08TY+3fXaih7qr2Efo8lD3CM+rvK8wLzRSpVP2OI5emq6sO5ZNY6C41Gx3HLmt+wrXZ5WnzRUm5vjzS2Hk5Tmn+EBqVtZ5IJ3YaY0J60tjml+5Zn+Xv76K9Nb0zur1zroTA3CH/A6z7s2v+wZTx77+HpHb1au73MTFDcO6uTTtg3oPrPl+9LZ7+RvrTu7bOpY5Psf/hLKNupvP668yz9IISTme3vGfl3+Euv1TAAAAAAAANuFQAAAAAAAANuFQAAAAAAAANuFQAAAAAAAANuFQAAAAAAAANuFQAAAAAAAANuFQAAAAAAAANvF1dwMqo7g2X9YKPl/KlirTPte7jp/U2yvbluuuaq9Ld+5rjPqu5+zW/Tz+aD6RWZQf7bHXyIZRx37MOvZ5veZ4V49ycKaam2f5Va7FulPsom3t2MW1ZpqFVFhad5gYrpdNdceyzbrL2OH6yvuK4yfkaZnjqe7rNZdzxnEcZ6vu7h5o3QOr1pfjqNfO/rpZW7nHqmP3Jp133RsmaT+RcgW4R5zHF84819/q8ifqd6tansWv132Eta98D/hX7avEN4HWA2u8Hy3dy6+tu3yHWfmly+ovdG5792qUTeVj2e53AEX5WZf1TwEAAAAAANiEQwEAAAAAANiEQwEAAAAAANiEQwEAAAAAANiEQwEAAAAAANiEQwEAAAAAANiEQwEAAAAAANjE190NuGqE6/MlreAT5FypsiWV/kxrx08qXddeXV09ruu677uvMepPzNmpu449GtkyY590+rSZDaNu22M+j3+G0Om0vSr/iN29rvY5QtlQd/lEmpPO0rHfaFsYekeRRv8q/zxALtuou7sINO97mXaeNUZvHD8h9LVaj+PI88b5rgOo+cCqNWbluvld9/P4ad3sPI7enraO8MnvVtV+Iu1FgPuU8/jCWae5zSk/kd+tarlt1+uOm8dy7Vw7l5Z7nfYDa/wWeuXr6sr9+Oq6q6IrNxSf2mftPglvA+V7SF3WPwUAAAAAAGATDgUAAAAAAGATDgUAAAAAAGATDgUAAAAAAGATDgUAAAAAAGATDgUAAAAAAGATX3c3YJURrs+XtIJPUOXKjJmSMu0zrR0/1/v0znG9su5u7DHqT8zZ6dM69ggjqI5d1z7K8ouzYRR9FkPXH6hO488Q+RFvu3PfofYRfkcwU+uLouG+/lqYCrHHilz4weC8Xnl7YrheNj2PlXXn+37+gbhmj5CjMRkaozeOn1T35ZrLeeNcviFemgzFlbC+NNbN4+jtHet1c/U7yvVJ51PfrT613bC7/J6QI1yv+7o8x6c1olbP4r26yw1gfAFa971IfMNoNa35O+m79vJ31t1dON/1i5V3fv9Jqvfw8A7inwIAAAAAALAJhwIAAAAAALAJhwIAAAAAALAJhwIAAAAAALAJhwIAAAAAALAJhwIAAAAAALAJhwIAAAAAALCJr7sbcJdRXJsvawXvrsqT4ziOGbMlRfhMa8dPFaHuz/y81hkh+mzkQve+RhFghsKdMTCaLa/6LPX3ymx4hNDnvF53Oqk/w/Ux6k885vXfAsxU+yhiz9TyoDPprJwY2oNzUdlUPpYNHwiXZ1V+4YSW5rM0wuYIAco87o7edb/TKVsd57M/2pT/cN8ASmvyCLlQ5nhUx67WzrXTXS/6nXuwTs1pr+K9EN5TnrHu+can1678/UJv69ioO+4N7/teJL5ldPbEnf3Z6neUt32PCNeTlUP3TfssvsNUX+gkIbh/CgAAAAAAwCYcCgAAAAAAwCYcCgAAAAAAwCYcCgAAAAAAwCYcCgAAAAAAwCYcCgAAAAAAwCYcCgAAAAAAwCa+7m7AOxrh+nxJK/gEOVeqbEmlP9Pa8ZNK17XfObZHEX02c6GTh2PUpWfolKp072nVEXKf1bWPhdnwCKHPeb3Xuif553ge/9EeAOfzSyO0fBZlk+6jbJUP46cTe+V9pYYtrTuEbtTd6u+fqPI45nAYA8XY7MzDqeYzrZuxT9eunKHyRWXzGjOK55USMfdYsWanOSdE7qzZK/dg975b9fYL3gvhPdUrxH1vhXkmTXNOtUasq7v+XuP4wd6y/2Z4VblDazer8Xa28h0llm28C7Tb3XjWoehcGvt6+U7Z7wCd8v9TFvVPAQAAAAAA2IRDAQAAAAAA2IRDAQAAAAAA2IRDAQAAAAAA2IRDAQAAAAAA2IRDAQAAAAAA2IRDAQAAAAAA2MTX3Q2A32wU1+YxG6X573p9Wj+vdUaIPpu50MnDMeq6Z1G8e1+h5vJqLh3uu9XnqU+ror1n/Yj9cj6/MurfCYwQui79vN7v4HXpWSVajF1f7qRS2ayf6MSO91V8YGGfxPIr607jp1t3GTvlcMjTRuzU7qrmRxo/aWSHNaI/SIrQxQNN6083GVbWnWruxO6UXLsPuq/u7Pp+4d52A8/kmfS+WanTtlz2+gqT+iR+txH3aJ3N43Vxd9Zadpu/wY51Vy8SqWyo+q69/E/KL4odq73x/Sd+RdCo2z8FAAAAAABgEw4FAAAAAABgEw4FAAAAAABgEw4FAAAAAABgEw4FAAAAAABgEw4FAAAAAABgE193N+ATjXB9vqQVfLqcRymTUoT3dO/4ud6nd7Z7hOizkQvdPBzjeYQZOqVzX/mOe+Mnj78qch37UcQ+24lWB6iuVu36QejmIEh1n0XR9PuGouxx9O7r1gkt5HBxOY3Nqmy3fCp7FHPKd4CqbCjaXVY7z3OEPC0bV+fwjLGvRs7zdBx91fOM/RnWn7Jk72GmebwqP2MOX687p/D77hc6+9b3fvd6XnvKI++M8J7ybFavQCv1tqXpPaFY20LsPN81No/jvu9F0j6p9UC6v9GeRevGX6FsiN1J8e6ivXJ4LYxdvj+9cZ/5pwAAAAAAAGzCoQAAAAAAAGzCoQAAAAAAAGzCoQAAAAAAAGzCoQAAAAAAAGzCoQAAAAAAAGzCoQAAAAAAAGzi6+4G/EajuDZf1go+XZVHx3EcM2ZTivCe7h0/VQ11f+bntdKdufC87jHqemdo9ihiz+Y9VbH//Ynn6rL5WT+PndvVU/0S4GyUPY6jOXgbtY9QdtYtj3NpFT8UnXFieP6BXDZcr3Rjd8qHeaHVp7HdvbqXLlBl7DT6whgYRfnm2DzDzFDOOY3x8R37eePTjJKSOM0Lo5MMcW0s1tXY7lD10nW1Vvfpurrvfff6nXt12F09m933Vtjfvt210Qnx06Z43DfXlvuNdrMav+GeaW/4VyhfXLr1PaJZd+WdYy/sM/8UAAAAAACATTgUAAAAAACATTgUAAAAAACATTgUAAAAAACATTgUAAAAAACATTgUAAAAAACATTgUAAAAAACATXzd3YDdjHB9vqQV/AY5l6psSqXf073jJ0WvW1dd7bZ7ZS70+ry+OkYdfRbFR/N55NKd8dN5oiH2CLEbVadfCZyd8u0uq2oPLR+h5bHu5/FniP1XTLSiY3opfvOGorHGdO4rlK3mlLvrLi/HdtVjYFbjZ4TxE/Oo/kBj5B5nvO/nH8hrRJLWkHXravWBGRJpNNa+1GezuXes90HdwXm95J1T5eo+B14vz2b3zUrr3mbzPJ7vuvG2XOwHviu/53uR9O7UX/oav/FOG9POlxfdFL+z7k+N3egz/xQAAAAAAIBNOBQAAAAAAIBNOBQAAAAAAIBNOBQAAAAAAIBNOBQAAAAAAIBNOBQAAAAAAIBNfN3dAP63Ea7Pl7QCPtO94ydFT61bp6p5Nttdx07qT4zxPPoMwUfzvqrS3di9TAyxR4jdqDr9iuBslO11WVVzrn2OUL6sO9xZfB5F3d00KsrPmfIo1d0of+dGptmn5W3fOC2kx3HMKk9D/o+Q41UOH8dRjZFUMq6axQceoVNS3SvX9LTujip2qHaGxbGKne+4/sRs9EkeHuuexzu/e1V93ulv4D55NrtvVqrff5L0bpXWp6rswg1c2qsvnGvjXqT1yth5czvqvePK94TjKO8773nD9ZXvKHfFTvFDWf8UAAAAAACATTgUAAAAAACATTgUAAAAAACATTgUAAAAAACATTgUAAAAAACATTgUAAAAAACATTgUAAAAAACATXzd3QD+mRGuz5e0gk9Q5cqMmZIy7TPdO36eRx+hZSvblfvkeq70+7vosxH6LAQfjfu6d/Q0ax9F+WaiVb8yOEPZ1GePekILUu3p9xGp/E1Cp5VjoDk45411h8WtUfgnivIr+7S7CJSxU/7HyTQUr8ZP77dJ5cgM7XqE2zqX7hjSmn99v5DnhXV7kbSuzsb46+1V7Gn53VYuEbxefp7Vu9e6kd9//+msfbW8vlTvP413p1B39xfYrTeQ+MAa7z9h75i6dOlev1N3e2Fd956Q3/Gvx/ZPAQAAAAAA2IRDAQAAAAAA2IRDAQAAAAAA2IRDAQAAAAAA2IRDAQAAAAAA2IRDAQAAAAAA2IRDAQAAAAAA2MTX3Q3gzxrFtfmyVvDuqjw5juOYMVtShM903/ipo4/Q3yvb1suVunSOff3qGKHPYqc9/0B+Hp3n2R17jfIjlG0kWmp1+oXCWZXtdknKtPJxpeBVy4+1k86bplkqW/b3UXf5bI77Tt1Rp09j2UbwUedovucwelvj57ow8mKfpunwrsHbW1/K0McMz6O7FxnFJ2ZzX1k/jd6E115ilnnfvSOfZeXSxmulubSah/t113KudNa+Wt0vvc1h1adn2Jd2f6Ed9zqV+MCq1oWaZ31n/2fpnjhcX/h+dNt7QpN/CgAAAAAAwCYcCgAAAAAAwCYcCgAAAAAAwCYcCgAAAAAAwCYcCgAAAAAAwCYcCgAAAAAAwCYcCgAAAAAAwCa+7m4A8H5GuD6P2Sj9mXKf3OfOtlV113mSSqfYSfjECHUXxdN9jXBfVflUNt95p3woW3VKCJ1+gXCG61X5VDY86uMxG7WPUHbWdz6r1i8c2LMZe6ZO7SwRMcWLACuHRyp/fXhEsWzneaTRGXO8vrxy/HTEUR+69Czve+WqfH19+S5dlE9plJbV+vLSaaHS29PmCL29ykrXc+HedvNP3fke0I39O98a39eM89m6bFk30/5k7avKrtscjrBwnul9NNTceT9KyqaP3pvdTPu7zsJ642akfL/qvicsvC//FAAAAAAAgE04FAAAAAAAgE04FAAAAAAAgE04FAAAAAAAgE04FAAAAAAAgE04FAAAAAAAgE183d0AXmeE6/MlreA3qHJpxkxKmfiZ1o6vXp/Wz2ud3CfX76vb3yN8YrbqrmOPIkKn7L8j1DrZEOouQ9ex0y8UzkbZ5Ey3NZ/X/ki1j6rlx3HMqnxddjZSIY77W9MsVF6VX9nuO+vuPrBW7JTjIUAxflLsGcbPKMZPehydOec4juNRVHAuH2DXY9drTNhLhGc9w6TU2TumtW/tO8x9e5W1ntd+b3+zk86yyp9Xv//cN9PmXLi+9uV5euHmMLwfpT1x5/0o7nOKa/8Tl8Vm7dX70Ru/Ci99T0ga9+WfAgAAAAAAsAmHAgAAAAAAsAmHAgAAAAAAsAmHAgAAAAAAsAmHAgAAAAAAsAmHAgAAAAAAsAmHAgAAAAAAsImvuxvA+xjh+nxJK/h0OY9SJqUIn6m6q/7Yut6nd477lXV3Y4/x/BNz1tE7Y2CE0t3xM8ryC5/ICLFnHbv6BcMZql7764dm7aMoP1PLQ91Fl//VHdidVOmlQm8ybU8MVdkQPNZdfKDbZ5Vm7Fz1wtHbGD/deaMq3xy5x9odw/XYM60vxbp5HPXa2d07Vmvn6mmhM+G977vX9f7OpeFnVm9V+GfiGrBw5Pe/PajWiDTf1ep+ac6laRNWvF/duc/5n7R3HI3a0/vRwneU3ntCo+xPyldFQ2z/FAAAAAAAgE04FAAAAAAAgE04FAAAAAAAgE04FAAAAAAAgE04FAAAAAAAgE04FAAAAAAAgE04FAAAAAAAgE183d0APscors2XtYJPV+XRcRzHLLMplf5MuU+6rvfp+rZVdT+PPpu50LmvMeq7nvN6n9b5fxyj+USqfqv6+9+f6NRdhw6x5/PY3Vkh/jqitfh1+uQMoVPLi7pj7BA6KfosjY9OmqXQRRr9sPzzDyytuz00r4+SWLTRthlzuM7TWY3e5vgJpesuTyneGl/dGa+zx7q+vhxHvXZ21s3vuqs1oi5948oXve+7V7fXeKU7c/hO+71R3iuuAQszrTcjpTUivZtVZXujL65f1eYyvFulfU61S+qUPY7jOOMDa9Se9pblvrQu2vsCoVH2T5Qv+KcAAAAAAABswqEAAAAAAABswqEAAAAAAABswqEAAAAAAABswqEAAAAAAABswqEAAAAAAABs4uvuBvA7jHB9vqQV/AZVLs2YSSkT+bten9bPa50Ros9mLnTua4SqZxEgz6V17aMxG6c+S32+NBuKTn1UHXocx9mrubyrR+zuVHvjtxmjjl13S6g3xG49zjhAUvlFZY/jOGb4wNK6r5cNQ2DtRL3wvo6Zxkej8SOUbYSOoz7c97l003xXEtdrzAjPY6axGWqupHWzN7zW7Vvf+d1r9R6NP+uuvfydVi99/F3/PaNTd1VvktaI59HzPN2byav1a6bNYdiPV3uZtDvrvv2U+6DRrL3aW3YX1oVbrJV7ff8UAAAAAACATTgUAAAAAACATTgUAAAAAACATTgUAAAAAACATTgUAAAAAACATTgUAAAAAACATTgUAAAAAACATXzd3QD2MML1+ZJW8OlyHqVMShHe073j53qf3tnuEaLPRi5083CM5xFm6JR23WWEXp/Vfb4wG4r+PI7jeIROPUP46tcTsWy87SpC83cbo7jvst4f1F3FjvHrTpmNVMllwwc6adpN8etDM46BXp+1LjfvK1wvy6fxE8bACOUbU1Zn3jiXLvgrk7guH9eXOOcU62pd8gefuG+/sLbu+1T7hc7+DF6lsx3gv6vGfnqv69Vby8+zWn/Se1ktz4fP49fvfMcx40vn8/LNt4jeu1d8YI3aZ3r/CaHLieH6Xr1fd13UPwUAAAAAAGATDgUAAAAAAGATDgUAAAAAAGATDgUAAAAAAGATDgUAAAAAAGATDgUAAAAAAGATDgUAAAAAAGATX3c3AICeEa7PpbVX0euW3dnuEaLP2Loqdm0WdY9Rl56hUzp9mu/4ep+l/l6aDaFPRwz9/APplxVnuP6omjZj6cu1zxHKhrpjl1Xx432l2MW1Zpql8bWy7npwpoY36o5lm3WXscP1hfc1u6O3zPEQulFzOWccx3EuXfDve2BpTa7XmLCullffd7/wk1X7at1r9421e/e0/CfP45/rbgf4u7wG5AjX6651WlbP8T8Zf9dn8pHaVm2Kw95w3RvMD551fGBV7aHlM7T8rveEZt3+KQAAAAAAAJtwKAAAAAAAAJtwKAAAAAAAAJtwKAAAAAAAAJtwKAAAAAAAAJtwKAAAAAAAAJv4ursBcBzHMYpr82Wt4NNVeXQcxzFjNqUIn+m+8dXr7zvnhVHUMJfmSX1nY9R1z9AxnfvKd93ps3DfC7PhEZp2zut1p19enFXZ2GWd+65qPo5jhJbPUL4q2kuFtWO/0bZ0X+lxzWJs57KNupvPI5VvpWlUVD5CjsZ2NUZvHD+p7ku1flfdfZ4tncp7Da/GT0rCen35yRBYt1+oV5/fuqdd+7zgbt0c/dSRvVKeDde9R3RWtvSJNM/Xd7Xu3WvGF8667rSX6fxyPb6hlA+s8+Z2HMcsyi/eb3fS2D8FAAAAAABgEw4FAAAAAABgEw4FAAAAAABgEw4FAAAAAABgEw4FAAAAAABgEw4FAAAAAABgEw4FAAAAAABgE193NwCSEa7Pl7SC3yDnUpVNqfRnund8pejPW/ep7U5Xc7vrT4xR1z2L4iPEno376vZZNTbH4mx4FOHP2au7+mXGGSKPUX/iMa//7mOm2keIPVPrq9j15b8603RIhZgp1fiKKR4at/C+OpNOM8V7E17qsqJxM/zuaY504ymHO6N35W+y6k47y+exeuW8ngyteT6ui72666HbW1crvT1tHeG9372uPy/vjH/ee+fK77Tf22pf3Wfrsri5zYmfqN+Pann9uf7uldbVtC5Xu6jU6rTDKndo8YGl6EWAbjJ0JtMQ2z8FAAAAAABgEw4FAAAAAABgEw4FAAAAAABgEw4FAAAAAABgEw4FAAAAAABgEw4FAAAAAABgEw4FAAAAAABgE1/HMcNHxksaAlelDE0ZDv9W5dLcdK68d3xV0e/r79wn13Ol39/1J8Z4XsMMwUeIPRvPJMWueqY7NnOrn8cvuvNfRa/3yaM5us5RtDuEzr8YOevLo4gwQ9mknqivl/1J+ZWx77qvbg6Hy7Mq3+6zIkB3capy+DhCHoeyYQBWc3Hqss68caYJLYYO60/japrnR2dPEHP4et156K5cV2t1n/bWzXvfvYq1L+YZf9p758rvs+fbak/us3VZ3H9e19+P8l1d35jGuTa+dF7P1PSW8SjadqYnkt5hym1p2lfWl1uDt/3eBwAAAAAA/AoOBQAAAAAAYBMOBQAAAAAAYBMOBQAAAAAAYBMOBQAAAAAAYBMOBQAAAAAAYBMOBQAAAAAAYBNfdzcAVhvh+nxJK/h0OY9SJqUIn6m6q7Vjq44+Qn+vbFsvV+rS/fns+SfGCH0Wgo/GfeXRcz12ip777Hn8ul1dvVx4VG1bvjCeRd3171FmSrQydijanKbrpoUc77Rt5X2lhi2tO4SOdT//QKu/f6LI41YOH8cxqzESQp8h9ih+D5Z+KXY2nsd3/OeNr1t9HHkNuf5A034hzwvFurpw7ZvNfWU9NHuT5fu+e73v3nFX971H7GnPt9We3GfrsnjlTJzm+fquerN8nGurfVR4X03Oom2P0K4z7ZRm4x0lxg7FG93inwIAAAAAALAJhwIAAAAAALAJhwIAAAAAALAJhwIAAAAAALAJhwIAAAAAALAJhwIAAAAAALCJr/yRWVwbf6whcJcqi6vsh/9fmg3nhnNp7pP73Nm2es5JNdct791XfXWMOvosio/mfdWjpxe797RD7BFiN6pOv+o4G2XXDpBQeFQtP45jVq0PZbv3tXLDUMSuxtZxHMeM91V8YGWfpPJ3Po8bp4U6h4+jzOMRysZ2P499hpkhtrqRh3keT67vo9K6O+I8X8QOgzfF7qx9s9EnvT1tjvC+717diQM+28ql77eq5+m1b5y9bxfS+vM8er6rhRu8tCkO76uVM7TrEe6r3EfN5jtK2oU1ksE/BQAAAAAAYBMOBQAAAAAAYBMOBQAAAAAAYBMOBQAAAAAAYBMOBQAAAAAAYBMOBQAAAAAAYBMOBQAAAAAAYBNfveIzXB+98AC/RDUbzk3n0nRXqVd6peva6+e1Tu6TO++r/sQYz6PPEHw07mv96Ok88VD7KGI3E6361cfZKHscR3PwNmsfRflZl43jp4r9HeD5pdgnK+fxlGfPL6WxmZrdKZ/LpsqLa812L12gYuzneTzT+Blh/JTtrm+qO2+cxX0/QqKlulc+kDRvjKp8zMPrse9M4ex66+5tdy3tVeYv3a/f5Z1zgb/b8222lvtkXZZ3x0e9/qS1q5bmymqujfNsfOm8nolnuO9H0bYz7ZJm2t/Vl8tdWOgS/xQAAAAAAIBNOBQAAAAAAIBNOBQAAAAAAIBNOBQAAAAAAIBNOBQAAAAAAIBNOBQAAAAAAIBNOBQAAAAAAIBNfK0NP8P1sbZ6aEoZmjIcfiLn2Z5zaXVX/bF3vU/vnBdW5kr/vopPjBA9Bn/+gRFanvokle9pjN0RyjYSLf0i5GyW7w3e67XPEcrGuus7q+L/FR/19TEw33kz0mlbd14ois+Fz6Nbd3xc5fhpjt5RlJ+9kZ9Klz0eHscjdNq5dMdwfY2J60tKw2pZrYu21r7urrO1XwjR33s6fF77/KV79Tu9cy7wd3u+zdZyjqb5cF2W17N0990r1V29r9ax41xbLqy9LDyLtj1Cu870dpX2aGX4OrZ/CgAAAAAAwCYcCgAAAAAAwCYcCgAAAAAAwCYcCgAAAAAAwCYcCgAAAAAAwCYcCgAAAAAAwCa+7m4AfLIRrs+XtAL486rRW4/8O+eFlXV3Yo9Q82z06QyxR4jdK596tNdrdehQd+Nhp1Z3yj/aSXpW0euioyr7k7qL+PF5hLoXptlspFl/wupm06Jq0+NaOHQ7fZrblX7vVVQeY4ccbvzWLEXuTYerk/x5/LS+xP1EcWMzJEO+6+ex87pZe9d90J3vZd4ZodZZVndVvT+ld69evbX+u1dVNq19jXfO7uJWOEPwRwh+pj1WtUcL7fZPAQAAAAAA2IRDAQAAAAAA2IRDAQAAAAAA2IRDAQAAAAAA2IRDAQAAAAAA2IRDAQAAAAAA2IRDAQAAAAAA2MTXvdXPcH28pBWwSpXBKfvh39JMODecS3OfrNTr7zvnhVHUMJt50rmvMepPzPk8end8jBChKp/K9nKlOa6rPg2h0y9GznC9Kh/Ltrq0O4JS624S+mS20izkf3weKQ+rsiF2Kxe66966+8p9Gq5XWrHDyI+x161gnXnjjM162wdSrsuddfM4Ugp3181ap+7O2H7nvWO3T/k77+G/x35vun3pva56J+zXXeu9e6W6r9937JHOnjfovFt9ly8+EfZn/ikAAAAAAACbcCgAAAAAAACbcCgAAAAAAACbcCgAAAAAAACbcCgAAAAAAACbcCgAAAAAAACbcCgAAAAAAACb+Lq7AbVZXBsvawWskDK4yn74/+Vc2m8uvXd8pejPW3dnu0eIPhu50r2vMZ5/Ys46em98HMcoIqSyqfa6z9u91ghdx06/KDkXlT2O4xhF2x8zla5rD6lU9stMLV85uDuxF6bZcdSplPo7pOExi2TIZevrtz2P46iTPN1YCj6e52kMnUZvEfs7/vPy3V+prZxz3nXwpjW5WjePI6+dtevrZirdXbM7+9p33jvWexH+Ke/hv8vKWfi3imvIwlGQZ/Hr7155bFfv4eldOAVvvHuF6GcIUO11em9HAAAAAADAr+FQAAAAAAAANuFQAAAAAAAANuFQAAAAAAAANuFQAAAAAAAANuFQAAAAAAAANvF1dwOum+H6eEkrYJWUwWkEwL9VuTQ3nUvvHV9V9Lpld7Z7hOizkSud+xqh8Aydkut+HmA0n0jVZ6m/l2ZDs1OrX5ycoerOr1XO0Owx69ofqfZRlJ+p5eHO64m6ZTZiz5gLofLOfbUmhkbZH5SvhkB3Hi7Lt4d9kacjJUNv9M5i/Jxh/KTbLuecUPgRbjvddW+ftG4ApTV5VM+7nDR+kuPr9padNfuz97TX9yLeGf857+H72PNNOOu9o3Trfi7Pd3Xb6lU1vYendbe6mF5S6sspU88iQHpD8U8BAAAAAADYhEMBAAAAAADYhEMBAAAAAADYhEMBAAAAAADYhEMBAAAAAADYhEMBAAAAAADYhEMBAAAAAADYxNfdDQDgPiNcn8dsRvhM1V2lHunp9Xd+nuuMIvps5kn9POq7GqOue4ZOadXdeCKpz6r+/vcnrtT7I6FPq07tzhhrf81yXq99hLIztfx5+dkc2OXl7qTRKR/zKNVdlF/Z7lR+ad2h8NJF4HoOx/LN8VOVjq1OXbp00W8NoEbZeo3prS8/GQLvuV945z1Wr+bfuVeHVzC6/q7/jtKpu5bevepV9fq6+V2+Kps26839XRH/DIX9UwAAAAAAADbhUAAAAAAAADbhUAAAAAAAADbhUAAAAAAAADbhUAAAAAAAADbhUAAAAAAAADbhUAAAAAAAADbxdXcD1pnh+nhJK2CVlMFpBMBP5DyrMu13zrP3jr1PXdvubHdd9xh13bMo3s2FUHO4WpcerbHZzOKiTx9Vhx7HcTaqjb90ad92o19GuLNZtT7UG2L/1Xmcsc/CB4rLIRV6z2vt4Kzv+84+SxqxU7PrHD6OanTPNHpHatyVWv8VOlx/hA+cSxf9qvJ1A2iGdTEly2isbvXalde+Sm9PmyN0ntZKK/t0V+/6rHm9/d6Es947SrfuWj12e+2ucyGti81NWHm5ju2fAgAAAAAAsAmHAgAAAAAAsAmHAgAAAAAAsAmHAgAAAAAAsAmHAgAAAAAAsAmHAgAAAAAAsAmHAgAAAAAAsImvuxtwn1lcGy9rBaxSZXGV/fBP1HmWMu13zrXprtaOvzr6KFq3sl25T67nSr+/Q5+Nos9C8BFiz8Z9pXZXsTt58pPydfA69iN06nm95nhXj3jbVe3N39mM57FTnsW6i9jtgR/6rGx7M81mUT71WVX2u3z9gZV1t15RYvBG0eaSPmeVpyl4GPmjiN3M8TTnVPPGuXTBX/nA0uIWxkcYBJ29SGddTd57r7JO1aed/tzVOz9rXmvPN+EszStpnu/VXdWbyl5vd86FsK52NsXhxvxTAAAAAAAANuFQAAAAAAAANuFQAAAAAAAANuFQAAAAAAAANuFQAAAAAAAANuFQAAAAAAAANvF1dwOA1xvh+nxJK/jtcp6lTEsRPlN1V3eOvTvnhV6u1KX79/X8E2PU0WcIPorYs3lf9Z2FdodeGSuzJfTpKEPX9aZfwpzh+qMcvLF0uF6ob7pXdzt2UD3P7hIwiw90yv6o/KKyoXyaUzp1x1G78L5y5Y3RO0LZ5uJWjZByzjiO41y4sOY1ZGESx7WxWFfj+hSqbqyryXvvVdao86Tfpzt612fN63Wf9W8dfdW80nv/6ZXMY7dqd5pLU92Nd7ew5/VPAQAAAAAA2IRDAQAAAAAA2IRDAQAAAAAA2IRDAQAAAAAA2IRDAQAAAAAA2IRDAQAAAAAA2IRDAQAAAAAA2MTX3Q14TzNcHy9pBdwlZXgaIcA168deFaGu/c55oap7Ntfs3n3VV8eoo8+i+Ig1X9+LpNipV1Kfj/DEOh5F6HP2nmb6pcxZlY1Vd+67qvk45ggtn8/Lx1bF2ClCUXdzUinLd7fynfIr6w5zSu6zonx3Em/dV6PscRyzHL31+Mk5Xl+uhJrjGtGZN3KXXk/ieo7/gSoNwz2nuus0W7eufsevYq/bq9z5XuadEe7TWVY/VZ5J181Kva3h2tmyuu+0/vinAAAAAAAAbMKhAAAAAAAAbMKhAAAAAAAAbMKhAAAAAAAAbMKhAAAAAAAAbMKhAAAAAAAAbMKhAAAAAAAAbOLr7gZ8phmuj5e0AuCTpZlylnOtefbP661t1dUUuaOXRzlC777qT4zxPPoMwUfjvnLJXp91xm4e2c9jF935r6I5WyrVL2nOEHmM+hOP2fmdTqh9FLFnannQ6NKV80JqVxpfnftqlT2OOpFvbHfss5VafZrGVhoDK39DV3fq2ciFR4pdXu3M8dmo4sc8DOvqwrVvLt17Xh/c3Smn5/rzyKX3dO/z5LfY9RvLfN/r3lh731ysW3fTPOyfAgAAAAAAsAmHAgAAAAAAsAmHAgAAAAAAsAmHAgAAAAAAsAmHAgAAAAAAsAmHAgAAAAAAsImvuxvwO83i2nhZK2CVKour7Id/os6zlGm/c65Nd7V2/F3v8zvbneu+876ef2KMOvoMwUdjL5J7pDP+6rK5z6rnETulNq/PG49mFp/jeflHc4DM43x+cYTfB82i7E/qLrr0r+40XpSPXRbGVwpQ3Vcam7MxtlOK5rqri3XZ9oRX9lmak8K8UYyfnMNhDFSxj7rPU5d15o2zOZ9VdedR39tjVc9zpNhxDFyPvXIIvPc+aKU6evVMvFP+d97D+RP2fJNO8/S62bLf3719UsU/BQAAAAAAYBMOBQAAAAAAYBMOBQAAAAAAYBMOBQAAAAAAYBMOBQAAAAAAYBMOBQAAAAAAYBMOBQAAAAAAYBNfdzcA+F1GuD5f0gp+u5xnKdNShM907/irotctu7PdK+vuxQ41jxC9LF7HHqHla0fXfT3e08vxR9G2MxQe4bbqXwCdIXj4/dAM5cvY4Xon0bqPutO21tgMdXcH3yw+kJpdlf1R3VXZZp9VQg7PTg6n+KHdZxh/oxi96Zd9ad6ocmEs360/rzvt39L6VF2eaVmtL7fa1h66jT1WsnIqzZ7X0N2L7Mh7OH/KuhnnfeV5et0I679bXV9X/VMAAAAAAAA24VAAAAAAAAA24VAAAAAAAAA24VAAAAAAAAA24VAAAAAAAAA24VAAAAAAAAA24VAAAAAAAAA28XV3A/Yzw/XxklbAXVKGpxECP5HzbM+5uLqrtWOv19/3tfs4RlHDbOZJ576qdn2Xfx69Oz5GiFCVT2V7muN6hPKNZEu/wjkbZdcurKFwqHvOqnx11zl22bR2n4Qc7w3eWuu+Uo5frPdHdYfLjbrTbbVyfIQRVubwcVR5PGPsELqIfYaZIc45RZ8+QoeHkXs0H0iIfD1RR5jjZ7jvztqZ181aPXx+6572t94XfLZdR2a+73VvrOvepP1TAAAAAAAAtuFQAAAAAAAANuFQAAAAAAAANuFQAAAAAAAANuFQAAAAAAAANuFQAAAAAAAANuFQAAAAAAAANvF1dwP4TzNcHy9pBdylyvA0OuCn0kw6y2z7nfNw7pOVrq99d7Z7hOizkSvd+xrj+SfmrKP3xsdxjCJCp+y/I1Slr5f9QfmiT7uJVv1K52yUPY6jubA2ax9F+ZlaHuru3Fd41LPzPLuxF97XncOnV3camxfr/YnYtsboHWEMlG2vbyyN3PK2wj0/Qp+eS1fm67HTmlytm8fRWzu7a19v6H7mHitZuQf7rd75efJ7rF5231Wa5eurvV7rrBH+KQAAAAAAAJtwKAAAAAAAAJtwKAAAAAAAAJtwKAAAAAAAAJtwKAAAAAAAAJtwKAAAAAAAAJv4ursBAPBuRnFtHrNR+nOlu0q90lNFr1t2Z7tHiD4budK5rzFCu2a3T5/HH6F0Gl91+e7YbJQPfdpJtPQLnrNTvj1AGrWPUHbWd17mSowdLsd+WTnPP4+dqk1jt7o8m32Sy1eV12VTnpZ1r14Eyikp5XDI01GUn62RX0qRU5+m6TDtsnqux05rcnftrK3bW3bW7HfeYyXVHqyz//rNVo5M+KnOkv6p4vrTGIGppH8KAAAAAADAJhwKAAAAAADAJhwKAAAAAADAJhwKAAAAAADAJhwKAAAAAADAJhwKAAAAAADAJhwKAAAAAADAJr7ubgD/1AzXx0taAXdI2Z1GB7zGnvN0dVdrx+bn9vco2j6b7e48jxGqniFAXXddeIT7rsvXZav+/kn5uudC2RHqbgySTqakso/2wntW0evQoyqb6u7F/qszSNKjXrmZWZjC/Ynjet1pzuk8j27d1eX8rNPv84roMXYYP43fBsbIoW1n2afvOkDyujyqeT4kQ07Tu/YLvQH0ru9uaT/Q7dPf6F2fJXv53Le+nrj+NEagfwoAAAAAAMAmHAoAAAAAAMAmHAoAAAAAAMAmHAoAAAAAAMAmHAoAAAAAAMAmHAoAAAAAAMAmHAoAAAAAAMAmvu5uAH/aLK6Nl7UC7pAyvBod8FPy7J975z5737almq+v6fme67rHqCPMoni77jJCXXaG2kerz5vPqwxdx06/8DkXlT2O43i0BlB3dKXWVdKdp7YVdXcnlaJ8SIXFbnyPaPTpbD6PbvlSK3bI4Rh7XTLFeaNRtpeH3XX1+hrTW1/SG35v7at01+wUobOqrvS+e0Ogsu7t6b111h//FAAAAAAAgE04FAAAAAAAgE04FAAAAAAAgE04FAAAAAAAgE04FAAAAAAAgE04FAAAAAAAgE183d0AXmmG6+MlrYC7pAxPIwR+IudZlWl7zsNrx2Zv7auurpwzenn0kwgddd1jPK97hmZ3ciHfcV35jLnQqb2RLUV/foeuY1e/ADpD1enXQ6l81fTH7NU+y8GZ+jvUvXJS6jzO2K76A3WfheDdPmlNpp357M77agYfz/M0pngavWXsumy6qzhvFAHG0s34yoddl5/NeXwUdedW99a+Onats1e5971t3fP4rbxn8wl2fAtPc7x/CgAAAAAAwCYcCgAAAAAAwCYcCgAAAAAAwCYcCgAAAAAAwCYcCgAAAAAAwCYcCgAAAAAAwCYcCgAAAAAAwCa+7m4AwLsYxbX5slbw29V5ljKtKs011/s8PY2V80auu6q9Lt2/r+efGKOOPkPwUcSezftKd1bFr9r1s9ob2RL6tOrU7ozS+XXRGa6P8IlHVfsI0Wfd8plat3LD0IndSbPrafR9vVF+NueFqu5UNur0SxybqfJOjl+PPZvjJ43tsnTosnPphrw7TzcGbxwD1TweytY1t9bV5L33Kh3rnsdvde/zgmzXt3D/FAAAAAAAgE04FAAAAAAAgE04FAAAAAAAgE04FAAAAAAAgE04FAAAAAAAgE04FAAAAAAAgE04FAAAAAAAgE183d0A3skM18dLWgGwqzTLzk3n6equUo/0VTXU/Z2f5zp1n/XyqHdf9dUx6uizKD5izb37qtqeYsf7XpnlRZ8+qg49juPs1Vz/+qg9QKrWhd89jXBnM/1u6nn5uXDgd2PPanx1l5dO+ZV1d/ssFK+FylttSzmaWn7f+KlKpy55hA+cSzcFNyZiMXZnmMfr9SW1ureu9qzbq6zdO657Hr/ZvXt9yDp5+M5v6P4pAAAAAAAAm3AoAAAAAAAAm3AoAAAAAAAAm3AoAAAAAAAAm3AoAAAAAAAAm3AoAAAAAAAAm/i6uwF8kllcGy9rBdwhZXg1OuBPyXmYMvH3zdX3js1ef1dXV7Z7dR717qv+xBjPo88QfITYszE+UuzUZ1Wfj5VZXvTncRzHI4Q+G3Wnu3q0brs5gsYZ6q5+V5USsY5d5fFfdeTehNhNs5BLdd2NssfRm3TifYcPrJzIi9hpvkvNrnM45Gj6XeFIjasvV8LILOeNc/FmvV5DwtrW2Z+l4ROSpaq7PXwa5e/dB6203169y3s4n+6dR71/CgAAAAAAwCYcCgAAAAAAwCYcCgAAAAAAwCYcCgAAAAAAwCYcCgAAAAAAwCYcCgAAAAAAwCYcCgAAAAAAwCa+7m4AwG8wwvX5klawu5yHVSam0p/p3rGZoj9v3Z3tXll3P/bzT4xRR58h+Gg8r1yyE7suO1Y+sRB6zOt1p18mneH6o6p6xtLhejCex095FusuYrcHftFnMz3LcDnddxn++vDI5WPZ3n136o59XpXtDvsyF9L4SMHD+BtF/GaOVzWXc8ZxHGez7qrXzpAMeZ6/fjXnYbGuttudyldla6nuT93Xpv3C/ND7Ap67czbzTwEAAAAAANiEQwEAAAAAANiEQwEAAAAAANiEQwEAAAAAANiEQwEAAAAAANiEQwEAAAAAANiEQwEAAAAAANjE190N4LeY4fp4SSvgXVUjII0eeI095/F0V2vHZxW9btmd7R4h+mzkSu++wl2PED0VbzyvPLo6sa+P3fyk6tiPEOCc11e/9MulsyobE2nhCBkh9qxafhzlnbdjF5rjozV4U9Xptovys8zBumy/7rrs0ol84fPI7WqM3hHKNvokjY4Rx8D1yvNc253nq8ih9jKH63pT7NTuqnx/+HzmHiup9gud/dcne+fnBX/Cyrd0/xQAAAAAAIBNOBQAAAAAAIBNOBQAAAAAAIBNOBQAAAAAAIBNOBQAAAAAAIBNOBQAAAAAAIBNOBQAAAAAAIBNfN3dAHYxw/XxklbAO0rZn0YP/FSVa/Lsv7uvz3rr5p3PehQ1zOZ637mvql3f5Tttq2OPELsq3d8hVc8j6a1Qo3xgvTt7FHWfoewY9Sces/O7qTr2HCH2fF4+Pq8Yu4qQ2h3qDo0ry6fgse7iA91NVqd8OQBy3XWftUJ3J9NW5bP8XWIavSt/01g3/Gw8z2q+Oo58152VYHbWp3TL4VnnVHkeoLNuprpTn7zzHquydp/zud71ecGf0nmP8E8BAAAAAADYhEMBAAAAAADYhEMBAAAAAADYhEMBAAAAAADYhEMBAAAAAADYhEMBAAAAAADYxNfdDQAA7jfC9XnMZoTfJ/fZSp/5PEZo92y0u/s8xghtm89r6I6fUUTolO3r5tnKUVA9j7re9KuoM+TCo3VbZ315FK2boWxSPa5wT/GWO6nQHryLyv6ofBFgZd1VvT+pe6VWn4bROeoxMOfz8qlZj2annWUe1rWnOaunrrteY0K7G+tmir5y37lyz3vv3rD2zm27iz7ht0s57J8CAAAAAACwCYcCAAAAAACwCYcCAAAAAACwCYcCAAAAAACwCYcCAAAAAACwCYcCAAAAAACwCYcCAAAAAACwia+7GwDfZnFtvKwV8I7SCKhGD/wpOQ/N4//pXcfuu7brZ7Vfz6XufY8iwAyFO+NnhNL12Evlu/3dKD9C2UYiPkK7z1i+rvxs3Fbq0UfVuhF+zzXTnRVFQ8P+unNiqAbfUY+/dF+tgZ/KLxw+3aFbzlmxbG9OmtUgiTkcxkAZuy56hplhhLqrq9WccRzH8Qh9WresOzivJ9oMyTLChJhyqYzdbFsdu9bZ8967B7u+X9j1ffO998zQ558CAAAAAACwCYcCAAAAAACwCYcCAAAAAACwCYcCAAAAAACwCYcCAAAAAACwCYcCAAAAAACwCYcCAAAAAACwia+7GwDZDNfHS1oB7yqNgDSC4E+o8nCax29Q9Xnd33fOKbnu6/e1su4x6tIzdFpn/IzQ8rLd7afdKR/KjlB3IxHTr6LOTvmlAyi0bIQ7KxMxxa4vt1Kl+6gbsY/m2J1F8U7ZVD6XTeOrKlwXTX3WyvGQw3Om0VmUjeMjRajrPouZIc45oUsfRdvOpZNOL/ZM+41qng85nKec559I7UpW7nnvfa+7vl/wvgmfyT8FAAAAAABgEw4FAAAAAABgEw4FAAAAAABgEw4FAAAAAABgEw4FAAAAAABgEw4FAAAAAABgE193NwCAtUZxbb6sFeysysHjOI4ZMzFF+Ez3jc1ef+fnuU7dZ3fmUV33GHXdsyjeHT+jiNDts9Eq33xeoyjfTML0q6mzUXbtAAqFx/OWz9m566N3Xwv7ZHZj33lf5fBJ4+N63d0+a/d5ZYQ8rSbTmMMpdn25+kCoOa9OxQeqqfBn0VsPpBV7FuVHurGQaPXQvN6uZPWe91P3jr+V92w+nX8KAAAAAADAJhwKAAAAAADAJhwKAAAAAADAJhwKAAAAAADAJhwKAAAAAADAJhwKAAAAAADAJhwKAAAAAADAJr7ubgD0zXB9vKQVAFyTZulZzvO/c47PfbJSb12trq5sdy+PcoTefdWfGON59BmCd3Ilj5668hn7rFN743nF0L1M7Mw6qeyjlWhniv780ghlZ/otWSjfua/QafXjDIVbsUP57ivK7OR4o+6V7e7WnZSx6xyeMYfDGJhV+d5vMcvIobvP2Kd3PZA6fm99qevOJXtrXx271tmr3Ll3XNlnn+revTz8jH8KAAAAAADAJhwKAAAAAADAJhwKAAAAAADAJhwKAAAAAADAJhwKAAAAAADAJhwKAAAAAADAJhwKAAAAAADAJr7ubgCsN8P18ZJWwDtK2Z9GD3CPe8fu9XX1znbnuu+8r+efGKOOPkPwUcSeoeV5h1RXXsWv2vWz2hvZEvo0dWr1q6ozVJ1+kVWVf7S7pIxehx7hzmYoXzUuxg6Xq34pL/4Jz+Onqmf4QHU5jftcd3Exjo/6chq6dd0hdrrv6mKM3Rmdx3GMovzszgzPxcjhvs9WpyWdZAnrS2MeH+G+cquvr6t3uncPdn2/8Ft5D7/Du+bZfU/bPwUAAAAAAGATDgUAAAAAAGATDgUAAAAAAGATDgUAAAAAAGATDgUAAAAAAGATDgUAAAAAAGATDgUAAAAAAGATX3c3AID3NcL1+ZJWsLsqD2fMwpTFv1PdZ6tVNdTP4845J9d9133VV8eoo8+i+Ig19+6ranuO3RnbzUwJfVp1avrF1RmuV+Vj2VaidUdXal2l7rU56rb9NYu647MMl1dOSp3Y3XZV/dLsk2rO6dad7jvWXZWNfZpGdznZhqLrVreVc052Y5IXeTZDf49Qd93qtetqZy/yzqp+S332W3kPX+Fdx899T9s/BQAAAAAAYBMOBQAAAAAAYBMOBQAAAAAAYBMOBQAAAAAAYBMOBQAAAAAAYBMOBQAAAAAAYBNfdzcA7jeLa+NlrYBPVI2QamTBn5Jm6Rkzcb95PvfZSr3nceecs7LuXuz6E2M8jz5D8BFiz8b46cd+Xn6szvKiT1Ondmac9GuuM1yvmv2YqXRd+4xdXvVLqjup2hZid1PleiosduPa1ujTnEfh8l0T9ZGedxi9o87TOZ+XT10W540iwFiew50H1kiWajI8jmPGebxYV8uSS6ec9p73Xd/r7t23wjvorOn1CPFPAQAAAAAA2IRDAQAAAAAA2IRDAQAAAAAA2IRDAQAAAAAA2IRDAQAAAAAA2IRDAQAAAAAA2IRDAQAAAAAA2MTX3Q2A9zbD9fGSVsAnSqMjjS74E3Iemuf/071j9/rzuLPdI0SfjTzq31fxiRGih+DpvqvW55Kd2HXZsTJbQp8+Zh37vF5z69deqd4RPvFItY+i/KzLztS6qsu7Az8NkSp+TLP6A+XlULaV4u3h0Vk377yv5o2XOR5Ch/EzG+Mnj+3nHqFLzqUbgjA+2vP85aqPWQz8VG+33b2h+5l7rBS902efbOXSx28S9qUvagUAAAAAAHAzhwIAAAAAALAJhwIAAAAAALAJhwIAAAAAALAJhwIAAAAAALAJhwIAAAAAALAJhwIAAAAAALCJr7sbAABwlxGuz2M2SsO3UebRccxGLuUcrsqGdo0QvS5efmCElqfQddtT7Dp6atsPbrwIXsceZehGvUfdK4/2LXf65Ayh0+/YivILH+VxHMes4uckDsGvl52h7qrduWwYXwvrjjqx2/Ndkaf1wD6OGcZAGbs7fp6LrQpddnafZyGvIdcrj2tAmWe99aWzPvWnnOuTzuKpthW902ef6t7n8am6I+gz+acAAAAAAABswqEAAAAAAABswqEAAAAAAABswqEAAAAAAABswqEAAAAAAABswqEAAAAAAABs4uvuBsBnm+H6eEkr4BOl0ZFGF7xCladz0zXg3rFbRa9b9s5zzihqn808qnM4la0/kdrWGT8jxL6eCVlnbOe669iPIsA5e1lc/RrsDJGrdn1XHSOE64URYs8qdsjhEHuGVPiruticdOYoAnSXn3IAhcJL626UzZeDUHnqlqLy3K40Pp7n6Uxlx7pO684bZ6PuPNdeX/1yihexG3nyg+Ll+tRZN1Pd3T3vu+4du332qd55T8xr+acAAAAAAABswqEAAAAAAABswqEAAAAAAABswqEAAAAAAABswqEAAAAAAABswqEAAAAAAABswqEAAAAAAABs4uvuBsDvNotr42WtgE9UjZBqZMH7SJn6O9eB+8Zur7/T07hv3lmXR917HiHALALkuuvaRxGhU/ZnnsfPeXK911N/H/N67PRLsTNcf8SqqwjN36mN57GrHPxR3UXs7wpS/Cp2uF49z8bY+y5fBOhOOZ3y7boX9lmj6u59zVnlaQoecngUsZt9kuaNUeZhXXlvzuqtAdUaE9eXUd/XjPN4WTpcX7lfWLcHe+e942/lPfy/+Z254p8CAAAAAACwCYcCAAAAAACwCYcCAAAAAACwCYcCAAAAAACwCYcCAAAAAACwCYcCAAAAAACwCYcCAAAAAACwia+7GwAA/9QI1+dLWsHu5OE/d2+fpeh166qrK9ud+6x3Xz113WM8r3uGZnfue4TSqc9S+Z7O8+pm2vX7eoS6z1RzUfUjJUPHCLFnann4DV0VP8YOij6LXdaYbGcom+rulM9lwwc6wyf2WWNe6C5+jfua8XegRZ6OULY9dJ8HOKtJ4wd1j5tW5u6aPOKcVdWdaq4/MRtrxMq9yp17x5V9Bu/APwUAAAAAAGATDgUAAAAAAGATDgUAAAAAAGATDgUAAAAAAGATDgUAAAAAAGATDgUAAAAAAGATX3c3APY1w/XxklYAsEaaxWe5Duy5BuQ+W+n6unxnu1fmWf++nn9ijDr6DMGr0vU9H8cId9Yr393fNeaFEepuJWIvVx5F5Wdo96PV7rO8Okf4jdwM5auLMXa6sefX56jb1UrDmfIsxO6Ub9d9PXR8HJ26Q9GV00KuvMrTkGfhN6ap6mpeSM5w34/igae76k2WvQcy01xbzZchyXOKF3NOc1/63nuV61b22bu6d6/+zj7zvc4/BQAAAAAAYBMOBQAAAAAAYBMOBQAAAAAAYBMOBQAAAAAAYBMOBQAAAAAAYBMOBQAAAAAAYBMOBQAAAAAAYBNfdzcAeGaG6+MlrYBPlEZHGl3wClWeTmvAf1X32WpVDfXzuHNOWplnvfuqr45RR59F8W5/5/KdXOjU3mz5KMo3kzD90uws2vYIlZ+N20rP8nGcIXi4sxnKV0UbiRofVyf2+gG0pmwqH8uGykP5WZW/c+PZ6tOQ/9XgO+p5+jiO4yzG3wh1xzmnuO9HbNfKVbu7cj4vP8LzSIO7HprX29W3bq+ydv91Z5/dx3v4Z/FPAQAAAAAA2IRDAQAAAAAA2IRDAQAAAAAA2IRDAQAAAAAA2IRDAQAAAAAA2IRDAQAAAAAA2IRDAQAAAAAA2MTX3Q0AgFcb4fp8SSvguZyjKUtThN/n3nHdex7V1ZXtXp1nvfuqPzHG8+gzBB8h9mzcV2p3jl2V72Z5UX6Ess1ErH6JdjbKHsexeACF1o2idTPdWVDc1193blRCGqbx13penSFQzBnr6w5FW32WZqQwJ1Vjv5nDsxofxxH6vK77DDNDOeeE55Gmw7WTzvVE660vdd255Lp19be+l+36Prrnfb/ve5t/CgAAAAAAwCYcCgAAAAAAwCYcCgAAAAAAwCYcCgAAAAAAwCYcCgAAAAAAwCYcCgAAAAAAwCYcCgAAAAAAwCa+7m4AcNUM18dLWgG/UTV60siDV0gz/Cwz1frwetfX7Pys11lZdz/280+MUUefIfgItc/G80p3Vsfu7v0a80IMfT0bujNS+Su35QOoCBDqnrHPzsuxW6kSysYuC+OvCjCbY7cqn8uG653yS4dur89Ko/4NaSuHU/zY7voDVc2pux/hA2dZ9epJ53qipfFVJcsI95VTfN26Wu956wh37rFS9G6ff6o938Pv+27PPwUAAAAAAGATDgUAAAAAAGATDgUAAAAAAGATDgUAAAAAAGATDgUAAAAAAGATDgUAAAAAAGATX3c3AACAV5rh+nhJK14t3VXqFf5uhF6bjVzqPa/66hh19BmSobrvdM+5RzqxO2O7OQJCn1admn6ldv7z1vw/qb8f7Ymhal24sxHubFblQ9nOfV1/lD8yO2m48L76dRcfiH0a5qRGn4XQvaEfYzdG9whlZ5oZrv/+NUYu7vuM/dndYy1M8mIen2Hgj1D3ytUp3/X1Prt373i9z+1p+Sn/FAAAAAAAgE04FAAAAAAAgE04FAAAAAAAgE04FAAAAAAAgE04FAAAAAAAgE04FAAAAAAAgE04FAAAAAAAgE38X5wWvuHTcBigAAAAAElFTkSuQmCC\" id=\"image6b6f2c529d\" transform=\"scale(1 -1) translate(0 -221.904)\" x=\"66.023594\" y=\"-22.174125\" width=\"221.904\" height=\"221.904\"/>\n   </g>\n   <g id=\"matplotlib.axis_1\">\n    <g id=\"xtick_1\">\n     <g id=\"text_1\">\n      <!-- −0.5 -->\n      <g style=\"fill: #262626\" transform=\"translate(52.668047 261.936406) scale(0.11 -0.11)\">\n       <defs>\n        <path id=\"DejaVuSans-2212\" d=\"M 678 2272 \nL 4684 2272 \nL 4684 1741 \nL 678 1741 \nL 678 2272 \nz\n\" transform=\"scale(0.015625)\"/>\n        <path id=\"DejaVuSans-30\" d=\"M 2034 4250 \nQ 1547 4250 1301 3770 \nQ 1056 3291 1056 2328 \nQ 1056 1369 1301 889 \nQ 1547 409 2034 409 \nQ 2525 409 2770 889 \nQ 3016 1369 3016 2328 \nQ 3016 3291 2770 3770 \nQ 2525 4250 2034 4250 \nz\nM 2034 4750 \nQ 2819 4750 3233 4129 \nQ 3647 3509 3647 2328 \nQ 3647 1150 3233 529 \nQ 2819 -91 2034 -91 \nQ 1250 -91 836 529 \nQ 422 1150 422 2328 \nQ 422 3509 836 4129 \nQ 1250 4750 2034 4750 \nz\n\" transform=\"scale(0.015625)\"/>\n        <path id=\"DejaVuSans-2e\" d=\"M 684 794 \nL 1344 794 \nL 1344 0 \nL 684 0 \nL 684 794 \nz\n\" transform=\"scale(0.015625)\"/>\n        <path id=\"DejaVuSans-35\" d=\"M 691 4666 \nL 3169 4666 \nL 3169 4134 \nL 1269 4134 \nL 1269 2991 \nQ 1406 3038 1543 3061 \nQ 1681 3084 1819 3084 \nQ 2600 3084 3056 2656 \nQ 3513 2228 3513 1497 \nQ 3513 744 3044 326 \nQ 2575 -91 1722 -91 \nQ 1428 -91 1123 -41 \nQ 819 9 494 109 \nL 494 744 \nQ 775 591 1075 516 \nQ 1375 441 1709 441 \nQ 2250 441 2565 725 \nQ 2881 1009 2881 1497 \nQ 2881 1984 2565 2268 \nQ 2250 2553 1709 2553 \nQ 1456 2553 1204 2497 \nQ 953 2441 691 2322 \nL 691 4666 \nz\n\" transform=\"scale(0.015625)\"/>\n       </defs>\n       <use xlink:href=\"#DejaVuSans-2212\"/>\n       <use xlink:href=\"#DejaVuSans-30\" x=\"83.789062\"/>\n       <use xlink:href=\"#DejaVuSans-2e\" x=\"147.412109\"/>\n       <use xlink:href=\"#DejaVuSans-35\" x=\"179.199219\"/>\n      </g>\n     </g>\n    </g>\n    <g id=\"xtick_2\">\n     <g id=\"text_2\">\n      <!-- 0.0 -->\n      <g style=\"fill: #262626\" transform=\"translate(112.716875 261.936406) scale(0.11 -0.11)\">\n       <use xlink:href=\"#DejaVuSans-30\"/>\n       <use xlink:href=\"#DejaVuSans-2e\" x=\"63.623047\"/>\n       <use xlink:href=\"#DejaVuSans-30\" x=\"95.410156\"/>\n      </g>\n     </g>\n    </g>\n    <g id=\"xtick_3\">\n     <g id=\"text_3\">\n      <!-- 0.5 -->\n      <g style=\"fill: #262626\" transform=\"translate(168.156875 261.936406) scale(0.11 -0.11)\">\n       <use xlink:href=\"#DejaVuSans-30\"/>\n       <use xlink:href=\"#DejaVuSans-2e\" x=\"63.623047\"/>\n       <use xlink:href=\"#DejaVuSans-35\" x=\"95.410156\"/>\n      </g>\n     </g>\n    </g>\n    <g id=\"xtick_4\">\n     <g id=\"text_4\">\n      <!-- 1.0 -->\n      <g style=\"fill: #262626\" transform=\"translate(223.596875 261.936406) scale(0.11 -0.11)\">\n       <defs>\n        <path id=\"DejaVuSans-31\" d=\"M 794 531 \nL 1825 531 \nL 1825 4091 \nL 703 3866 \nL 703 4441 \nL 1819 4666 \nL 2450 4666 \nL 2450 531 \nL 3481 531 \nL 3481 0 \nL 794 0 \nL 794 531 \nz\n\" transform=\"scale(0.015625)\"/>\n       </defs>\n       <use xlink:href=\"#DejaVuSans-31\"/>\n       <use xlink:href=\"#DejaVuSans-2e\" x=\"63.623047\"/>\n       <use xlink:href=\"#DejaVuSans-30\" x=\"95.410156\"/>\n      </g>\n     </g>\n    </g>\n    <g id=\"xtick_5\">\n     <g id=\"text_5\">\n      <!-- 1.5 -->\n      <g style=\"fill: #262626\" transform=\"translate(279.036875 261.936406) scale(0.11 -0.11)\">\n       <use xlink:href=\"#DejaVuSans-31\"/>\n       <use xlink:href=\"#DejaVuSans-2e\" x=\"63.623047\"/>\n       <use xlink:href=\"#DejaVuSans-35\" x=\"95.410156\"/>\n      </g>\n     </g>\n    </g>\n    <g id=\"text_6\">\n     <!-- $x_1$ -->\n     <g style=\"fill: #262626\" transform=\"translate(170.483594 277.342188) scale(0.12 -0.12)\">\n      <defs>\n       <path id=\"DejaVuSans-Oblique-78\" d=\"M 3841 3500 \nL 2234 1784 \nL 3219 0 \nL 2559 0 \nL 1819 1388 \nL 531 0 \nL -166 0 \nL 1556 1844 \nL 641 3500 \nL 1300 3500 \nL 1972 2234 \nL 3144 3500 \nL 3841 3500 \nz\n\" transform=\"scale(0.015625)\"/>\n      </defs>\n      <use xlink:href=\"#DejaVuSans-Oblique-78\" transform=\"translate(0 0.3125)\"/>\n      <use xlink:href=\"#DejaVuSans-31\" transform=\"translate(59.179688 -16.09375) scale(0.7)\"/>\n     </g>\n    </g>\n   </g>\n   <g id=\"matplotlib.axis_2\">\n    <g id=\"ytick_1\">\n     <g id=\"text_7\">\n      <!-- −0.50 -->\n      <g style=\"fill: #262626\" transform=\"translate(22.81375 248.257266) scale(0.11 -0.11)\">\n       <use xlink:href=\"#DejaVuSans-2212\"/>\n       <use xlink:href=\"#DejaVuSans-30\" x=\"83.789062\"/>\n       <use xlink:href=\"#DejaVuSans-2e\" x=\"147.412109\"/>\n       <use xlink:href=\"#DejaVuSans-35\" x=\"179.199219\"/>\n       <use xlink:href=\"#DejaVuSans-30\" x=\"242.822266\"/>\n      </g>\n     </g>\n    </g>\n    <g id=\"ytick_2\">\n     <g id=\"text_8\">\n      <!-- −0.25 -->\n      <g style=\"fill: #262626\" transform=\"translate(22.81375 220.537266) scale(0.11 -0.11)\">\n       <defs>\n        <path id=\"DejaVuSans-32\" d=\"M 1228 531 \nL 3431 531 \nL 3431 0 \nL 469 0 \nL 469 531 \nQ 828 903 1448 1529 \nQ 2069 2156 2228 2338 \nQ 2531 2678 2651 2914 \nQ 2772 3150 2772 3378 \nQ 2772 3750 2511 3984 \nQ 2250 4219 1831 4219 \nQ 1534 4219 1204 4116 \nQ 875 4013 500 3803 \nL 500 4441 \nQ 881 4594 1212 4672 \nQ 1544 4750 1819 4750 \nQ 2544 4750 2975 4387 \nQ 3406 4025 3406 3419 \nQ 3406 3131 3298 2873 \nQ 3191 2616 2906 2266 \nQ 2828 2175 2409 1742 \nQ 1991 1309 1228 531 \nz\n\" transform=\"scale(0.015625)\"/>\n       </defs>\n       <use xlink:href=\"#DejaVuSans-2212\"/>\n       <use xlink:href=\"#DejaVuSans-30\" x=\"83.789062\"/>\n       <use xlink:href=\"#DejaVuSans-2e\" x=\"147.412109\"/>\n       <use xlink:href=\"#DejaVuSans-32\" x=\"179.199219\"/>\n       <use xlink:href=\"#DejaVuSans-35\" x=\"242.822266\"/>\n      </g>\n     </g>\n    </g>\n    <g id=\"ytick_3\">\n     <g id=\"text_9\">\n      <!-- 0.00 -->\n      <g style=\"fill: #262626\" transform=\"translate(32.031406 192.817266) scale(0.11 -0.11)\">\n       <use xlink:href=\"#DejaVuSans-30\"/>\n       <use xlink:href=\"#DejaVuSans-2e\" x=\"63.623047\"/>\n       <use xlink:href=\"#DejaVuSans-30\" x=\"95.410156\"/>\n       <use xlink:href=\"#DejaVuSans-30\" x=\"159.033203\"/>\n      </g>\n     </g>\n    </g>\n    <g id=\"ytick_4\">\n     <g id=\"text_10\">\n      <!-- 0.25 -->\n      <g style=\"fill: #262626\" transform=\"translate(32.031406 165.097266) scale(0.11 -0.11)\">\n       <use xlink:href=\"#DejaVuSans-30\"/>\n       <use xlink:href=\"#DejaVuSans-2e\" x=\"63.623047\"/>\n       <use xlink:href=\"#DejaVuSans-32\" x=\"95.410156\"/>\n       <use xlink:href=\"#DejaVuSans-35\" x=\"159.033203\"/>\n      </g>\n     </g>\n    </g>\n    <g id=\"ytick_5\">\n     <g id=\"text_11\">\n      <!-- 0.50 -->\n      <g style=\"fill: #262626\" transform=\"translate(32.031406 137.377266) scale(0.11 -0.11)\">\n       <use xlink:href=\"#DejaVuSans-30\"/>\n       <use xlink:href=\"#DejaVuSans-2e\" x=\"63.623047\"/>\n       <use xlink:href=\"#DejaVuSans-35\" x=\"95.410156\"/>\n       <use xlink:href=\"#DejaVuSans-30\" x=\"159.033203\"/>\n      </g>\n     </g>\n    </g>\n    <g id=\"ytick_6\">\n     <g id=\"text_12\">\n      <!-- 0.75 -->\n      <g style=\"fill: #262626\" transform=\"translate(32.031406 109.657266) scale(0.11 -0.11)\">\n       <defs>\n        <path id=\"DejaVuSans-37\" d=\"M 525 4666 \nL 3525 4666 \nL 3525 4397 \nL 1831 0 \nL 1172 0 \nL 2766 4134 \nL 525 4134 \nL 525 4666 \nz\n\" transform=\"scale(0.015625)\"/>\n       </defs>\n       <use xlink:href=\"#DejaVuSans-30\"/>\n       <use xlink:href=\"#DejaVuSans-2e\" x=\"63.623047\"/>\n       <use xlink:href=\"#DejaVuSans-37\" x=\"95.410156\"/>\n       <use xlink:href=\"#DejaVuSans-35\" x=\"159.033203\"/>\n      </g>\n     </g>\n    </g>\n    <g id=\"ytick_7\">\n     <g id=\"text_13\">\n      <!-- 1.00 -->\n      <g style=\"fill: #262626\" transform=\"translate(32.031406 81.937266) scale(0.11 -0.11)\">\n       <use xlink:href=\"#DejaVuSans-31\"/>\n       <use xlink:href=\"#DejaVuSans-2e\" x=\"63.623047\"/>\n       <use xlink:href=\"#DejaVuSans-30\" x=\"95.410156\"/>\n       <use xlink:href=\"#DejaVuSans-30\" x=\"159.033203\"/>\n      </g>\n     </g>\n    </g>\n    <g id=\"ytick_8\">\n     <g id=\"text_14\">\n      <!-- 1.25 -->\n      <g style=\"fill: #262626\" transform=\"translate(32.031406 54.217266) scale(0.11 -0.11)\">\n       <use xlink:href=\"#DejaVuSans-31\"/>\n       <use xlink:href=\"#DejaVuSans-2e\" x=\"63.623047\"/>\n       <use xlink:href=\"#DejaVuSans-32\" x=\"95.410156\"/>\n       <use xlink:href=\"#DejaVuSans-35\" x=\"159.033203\"/>\n      </g>\n     </g>\n    </g>\n    <g id=\"ytick_9\">\n     <g id=\"text_15\">\n      <!-- 1.50 -->\n      <g style=\"fill: #262626\" transform=\"translate(32.031406 26.497266) scale(0.11 -0.11)\">\n       <use xlink:href=\"#DejaVuSans-31\"/>\n       <use xlink:href=\"#DejaVuSans-2e\" x=\"63.623047\"/>\n       <use xlink:href=\"#DejaVuSans-35\" x=\"95.410156\"/>\n       <use xlink:href=\"#DejaVuSans-30\" x=\"159.033203\"/>\n      </g>\n     </g>\n    </g>\n    <g id=\"text_16\">\n     <!-- $x_2$ -->\n     <g style=\"fill: #262626\" transform=\"translate(16.318125 139.618125) rotate(-90) scale(0.12 -0.12)\">\n      <use xlink:href=\"#DejaVuSans-Oblique-78\" transform=\"translate(0 0.3125)\"/>\n      <use xlink:href=\"#DejaVuSans-32\" transform=\"translate(59.179688 -16.09375) scale(0.7)\"/>\n     </g>\n    </g>\n   </g>\n   <g id=\"PathCollection_1\">\n    <defs>\n     <path id=\"m60a67358e0\" d=\"M 0 3 \nC 0.795609 3 1.55874 2.683901 2.12132 2.12132 \nC 2.683901 1.55874 3 0.795609 3 0 \nC 3 -0.795609 2.683901 -1.55874 2.12132 -2.12132 \nC 1.55874 -2.683901 0.795609 -3 0 -3 \nC -0.795609 -3 -1.55874 -2.683901 -2.12132 -2.12132 \nC -2.683901 -1.55874 -3 -0.795609 -3 0 \nC -3 0.795609 -2.683901 1.55874 -2.12132 2.12132 \nC -1.55874 2.683901 -0.795609 3 0 3 \nz\n\" style=\"stroke: #333333\"/>\n    </defs>\n    <g clip-path=\"url(#pa444d5cb26)\">\n     <use xlink:href=\"#m60a67358e0\" x=\"129.911193\" y=\"191.909583\" style=\"fill: #4c72b0; stroke: #333333\"/>\n     <use xlink:href=\"#m60a67358e0\" x=\"123.588109\" y=\"198.950368\" style=\"fill: #4c72b0; stroke: #333333\"/>\n     <use xlink:href=\"#m60a67358e0\" x=\"86.549116\" y=\"186.818187\" style=\"fill: #4c72b0; stroke: #333333\"/>\n     <use xlink:href=\"#m60a67358e0\" x=\"223.859807\" y=\"89.930949\" style=\"fill: #4c72b0; stroke: #333333\"/>\n     <use xlink:href=\"#m60a67358e0\" x=\"118.134939\" y=\"179.301321\" style=\"fill: #4c72b0; stroke: #333333\"/>\n     <use xlink:href=\"#m60a67358e0\" x=\"116.022698\" y=\"188.623611\" style=\"fill: #4c72b0; stroke: #333333\"/>\n     <use xlink:href=\"#m60a67358e0\" x=\"234.30639\" y=\"67.488246\" style=\"fill: #4c72b0; stroke: #333333\"/>\n     <use xlink:href=\"#m60a67358e0\" x=\"118.604087\" y=\"194.225364\" style=\"fill: #4c72b0; stroke: #333333\"/>\n     <use xlink:href=\"#m60a67358e0\" x=\"224.759538\" y=\"78.345133\" style=\"fill: #4c72b0; stroke: #333333\"/>\n     <use xlink:href=\"#m60a67358e0\" x=\"225.569182\" y=\"87.1328\" style=\"fill: #4c72b0; stroke: #333333\"/>\n     <use xlink:href=\"#m60a67358e0\" x=\"130.672096\" y=\"203.346324\" style=\"fill: #4c72b0; stroke: #333333\"/>\n     <use xlink:href=\"#m60a67358e0\" x=\"234.988527\" y=\"64.755136\" style=\"fill: #4c72b0; stroke: #333333\"/>\n     <use xlink:href=\"#m60a67358e0\" x=\"116.632823\" y=\"195.867819\" style=\"fill: #4c72b0; stroke: #333333\"/>\n     <use xlink:href=\"#m60a67358e0\" x=\"227.003188\" y=\"77.046987\" style=\"fill: #4c72b0; stroke: #333333\"/>\n     <use xlink:href=\"#m60a67358e0\" x=\"113.408883\" y=\"172.439765\" style=\"fill: #4c72b0; stroke: #333333\"/>\n     <use xlink:href=\"#m60a67358e0\" x=\"244.623867\" y=\"81.243302\" style=\"fill: #4c72b0; stroke: #333333\"/>\n     <use xlink:href=\"#m60a67358e0\" x=\"255.783259\" y=\"83.663617\" style=\"fill: #4c72b0; stroke: #333333\"/>\n     <use xlink:href=\"#m60a67358e0\" x=\"220.811423\" y=\"74.032071\" style=\"fill: #4c72b0; stroke: #333333\"/>\n     <use xlink:href=\"#m60a67358e0\" x=\"101.654379\" y=\"184.020834\" style=\"fill: #4c72b0; stroke: #333333\"/>\n     <use xlink:href=\"#m60a67358e0\" x=\"226.139886\" y=\"63.830899\" style=\"fill: #4c72b0; stroke: #333333\"/>\n     <use xlink:href=\"#m60a67358e0\" x=\"237.074818\" y=\"73.67565\" style=\"fill: #4c72b0; stroke: #333333\"/>\n     <use xlink:href=\"#m60a67358e0\" x=\"222.763902\" y=\"77.147986\" style=\"fill: #4c72b0; stroke: #333333\"/>\n     <use xlink:href=\"#m60a67358e0\" x=\"228.438199\" y=\"85.821344\" style=\"fill: #4c72b0; stroke: #333333\"/>\n     <use xlink:href=\"#m60a67358e0\" x=\"218.005977\" y=\"81.083801\" style=\"fill: #4c72b0; stroke: #333333\"/>\n     <use xlink:href=\"#m60a67358e0\" x=\"117.242619\" y=\"181.318736\" style=\"fill: #4c72b0; stroke: #333333\"/>\n     <use xlink:href=\"#m60a67358e0\" x=\"219.276517\" y=\"89.197335\" style=\"fill: #4c72b0; stroke: #333333\"/>\n     <use xlink:href=\"#m60a67358e0\" x=\"243.080224\" y=\"80.38193\" style=\"fill: #4c72b0; stroke: #333333\"/>\n     <use xlink:href=\"#m60a67358e0\" x=\"115.165631\" y=\"187.0081\" style=\"fill: #4c72b0; stroke: #333333\"/>\n     <use xlink:href=\"#m60a67358e0\" x=\"235.105545\" y=\"57.89445\" style=\"fill: #4c72b0; stroke: #333333\"/>\n     <use xlink:href=\"#m60a67358e0\" x=\"229.210661\" y=\"79.450112\" style=\"fill: #4c72b0; stroke: #333333\"/>\n     <use xlink:href=\"#m60a67358e0\" x=\"109.487645\" y=\"178.069699\" style=\"fill: #4c72b0; stroke: #333333\"/>\n     <use xlink:href=\"#m60a67358e0\" x=\"253.923008\" y=\"94.285251\" style=\"fill: #4c72b0; stroke: #333333\"/>\n     <use xlink:href=\"#m60a67358e0\" x=\"120.300034\" y=\"175.877643\" style=\"fill: #4c72b0; stroke: #333333\"/>\n     <use xlink:href=\"#m60a67358e0\" x=\"228.298109\" y=\"91.560125\" style=\"fill: #4c72b0; stroke: #333333\"/>\n     <use xlink:href=\"#m60a67358e0\" x=\"117.274797\" y=\"205.218316\" style=\"fill: #4c72b0; stroke: #333333\"/>\n     <use xlink:href=\"#m60a67358e0\" x=\"129.246054\" y=\"184.933177\" style=\"fill: #4c72b0; stroke: #333333\"/>\n     <use xlink:href=\"#m60a67358e0\" x=\"240.346731\" y=\"78.620634\" style=\"fill: #4c72b0; stroke: #333333\"/>\n     <use xlink:href=\"#m60a67358e0\" x=\"254.380242\" y=\"90.07556\" style=\"fill: #4c72b0; stroke: #333333\"/>\n     <use xlink:href=\"#m60a67358e0\" x=\"227.038817\" y=\"87.634295\" style=\"fill: #4c72b0; stroke: #333333\"/>\n     <use xlink:href=\"#m60a67358e0\" x=\"228.793226\" y=\"68.284652\" style=\"fill: #4c72b0; stroke: #333333\"/>\n     <use xlink:href=\"#m60a67358e0\" x=\"229.135292\" y=\"73.521846\" style=\"fill: #4c72b0; stroke: #333333\"/>\n     <use xlink:href=\"#m60a67358e0\" x=\"125.507508\" y=\"188.067236\" style=\"fill: #4c72b0; stroke: #333333\"/>\n     <use xlink:href=\"#m60a67358e0\" x=\"136.437083\" y=\"194.53674\" style=\"fill: #4c72b0; stroke: #333333\"/>\n     <use xlink:href=\"#m60a67358e0\" x=\"233.59393\" y=\"75.360129\" style=\"fill: #4c72b0; stroke: #333333\"/>\n     <use xlink:href=\"#m60a67358e0\" x=\"126.48666\" y=\"205.889086\" style=\"fill: #4c72b0; stroke: #333333\"/>\n     <use xlink:href=\"#m60a67358e0\" x=\"140.917367\" y=\"185.871938\" style=\"fill: #4c72b0; stroke: #333333\"/>\n     <use xlink:href=\"#m60a67358e0\" x=\"129.50218\" y=\"165.171166\" style=\"fill: #4c72b0; stroke: #333333\"/>\n     <use xlink:href=\"#m60a67358e0\" x=\"206.729798\" y=\"75.672852\" style=\"fill: #4c72b0; stroke: #333333\"/>\n     <use xlink:href=\"#m60a67358e0\" x=\"131.906413\" y=\"186.622052\" style=\"fill: #4c72b0; stroke: #333333\"/>\n     <use xlink:href=\"#m60a67358e0\" x=\"120.470879\" y=\"191.167999\" style=\"fill: #4c72b0; stroke: #333333\"/>\n     <use xlink:href=\"#m60a67358e0\" x=\"224.048043\" y=\"93.611428\" style=\"fill: #4c72b0; stroke: #333333\"/>\n     <use xlink:href=\"#m60a67358e0\" x=\"128.836008\" y=\"192.073598\" style=\"fill: #4c72b0; stroke: #333333\"/>\n     <use xlink:href=\"#m60a67358e0\" x=\"116.719403\" y=\"205.48226\" style=\"fill: #4c72b0; stroke: #333333\"/>\n     <use xlink:href=\"#m60a67358e0\" x=\"235.172151\" y=\"69.98157\" style=\"fill: #4c72b0; stroke: #333333\"/>\n     <use xlink:href=\"#m60a67358e0\" x=\"114.126379\" y=\"199.747603\" style=\"fill: #4c72b0; stroke: #333333\"/>\n     <use xlink:href=\"#m60a67358e0\" x=\"240.745304\" y=\"90.374781\" style=\"fill: #4c72b0; stroke: #333333\"/>\n     <use xlink:href=\"#m60a67358e0\" x=\"118.583021\" y=\"204.416196\" style=\"fill: #4c72b0; stroke: #333333\"/>\n     <use xlink:href=\"#m60a67358e0\" x=\"231.714572\" y=\"67.824629\" style=\"fill: #4c72b0; stroke: #333333\"/>\n     <use xlink:href=\"#m60a67358e0\" x=\"228.892704\" y=\"98.094473\" style=\"fill: #4c72b0; stroke: #333333\"/>\n     <use xlink:href=\"#m60a67358e0\" x=\"106.570947\" y=\"205.055501\" style=\"fill: #4c72b0; stroke: #333333\"/>\n     <use xlink:href=\"#m60a67358e0\" x=\"121.479198\" y=\"186.47635\" style=\"fill: #4c72b0; stroke: #333333\"/>\n     <use xlink:href=\"#m60a67358e0\" x=\"256.51659\" y=\"81.449218\" style=\"fill: #4c72b0; stroke: #333333\"/>\n     <use xlink:href=\"#m60a67358e0\" x=\"220.504198\" y=\"104.273641\" style=\"fill: #4c72b0; stroke: #333333\"/>\n     <use xlink:href=\"#m60a67358e0\" x=\"222.713773\" y=\"69.251953\" style=\"fill: #4c72b0; stroke: #333333\"/>\n     <use xlink:href=\"#m60a67358e0\" x=\"207.418339\" y=\"74.017425\" style=\"fill: #4c72b0; stroke: #333333\"/>\n     <use xlink:href=\"#m60a67358e0\" x=\"128.084998\" y=\"218.430154\" style=\"fill: #4c72b0; stroke: #333333\"/>\n     <use xlink:href=\"#m60a67358e0\" x=\"118.460331\" y=\"168.484841\" style=\"fill: #4c72b0; stroke: #333333\"/>\n     <use xlink:href=\"#m60a67358e0\" x=\"123.855684\" y=\"196.010525\" style=\"fill: #4c72b0; stroke: #333333\"/>\n     <use xlink:href=\"#m60a67358e0\" x=\"117.942742\" y=\"193.534175\" style=\"fill: #4c72b0; stroke: #333333\"/>\n     <use xlink:href=\"#m60a67358e0\" x=\"240.209515\" y=\"76.609725\" style=\"fill: #4c72b0; stroke: #333333\"/>\n     <use xlink:href=\"#m60a67358e0\" x=\"102.344333\" y=\"211.36084\" style=\"fill: #4c72b0; stroke: #333333\"/>\n     <use xlink:href=\"#m60a67358e0\" x=\"231.801097\" y=\"80.638628\" style=\"fill: #4c72b0; stroke: #333333\"/>\n     <use xlink:href=\"#m60a67358e0\" x=\"122.708345\" y=\"172.382034\" style=\"fill: #4c72b0; stroke: #333333\"/>\n     <use xlink:href=\"#m60a67358e0\" x=\"231.739858\" y=\"93.664577\" style=\"fill: #4c72b0; stroke: #333333\"/>\n     <use xlink:href=\"#m60a67358e0\" x=\"225.801005\" y=\"71.493714\" style=\"fill: #4c72b0; stroke: #333333\"/>\n     <use xlink:href=\"#m60a67358e0\" x=\"125.951638\" y=\"170.785262\" style=\"fill: #4c72b0; stroke: #333333\"/>\n     <use xlink:href=\"#m60a67358e0\" x=\"236.556794\" y=\"76.137581\" style=\"fill: #4c72b0; stroke: #333333\"/>\n     <use xlink:href=\"#m60a67358e0\" x=\"132.591268\" y=\"182.455909\" style=\"fill: #4c72b0; stroke: #333333\"/>\n     <use xlink:href=\"#m60a67358e0\" x=\"108.256\" y=\"202.557004\" style=\"fill: #4c72b0; stroke: #333333\"/>\n     <use xlink:href=\"#m60a67358e0\" x=\"111.179584\" y=\"197.869046\" style=\"fill: #4c72b0; stroke: #333333\"/>\n     <use xlink:href=\"#m60a67358e0\" x=\"242.182516\" y=\"85.722329\" style=\"fill: #4c72b0; stroke: #333333\"/>\n     <use xlink:href=\"#m60a67358e0\" x=\"134.825503\" y=\"224.165726\" style=\"fill: #4c72b0; stroke: #333333\"/>\n     <use xlink:href=\"#m60a67358e0\" x=\"138.269949\" y=\"187.994419\" style=\"fill: #4c72b0; stroke: #333333\"/>\n     <use xlink:href=\"#m60a67358e0\" x=\"249.909504\" y=\"84.510509\" style=\"fill: #4c72b0; stroke: #333333\"/>\n     <use xlink:href=\"#m60a67358e0\" x=\"142.878967\" y=\"189.641362\" style=\"fill: #4c72b0; stroke: #333333\"/>\n     <use xlink:href=\"#m60a67358e0\" x=\"205.889646\" y=\"60.177226\" style=\"fill: #4c72b0; stroke: #333333\"/>\n     <use xlink:href=\"#m60a67358e0\" x=\"226.192711\" y=\"53.192913\" style=\"fill: #4c72b0; stroke: #333333\"/>\n     <use xlink:href=\"#m60a67358e0\" x=\"122.158731\" y=\"189.319117\" style=\"fill: #4c72b0; stroke: #333333\"/>\n     <use xlink:href=\"#m60a67358e0\" x=\"139.804951\" y=\"203.63396\" style=\"fill: #4c72b0; stroke: #333333\"/>\n     <use xlink:href=\"#m60a67358e0\" x=\"136.663837\" y=\"185.841386\" style=\"fill: #4c72b0; stroke: #333333\"/>\n     <use xlink:href=\"#m60a67358e0\" x=\"253.909089\" y=\"94.891485\" style=\"fill: #4c72b0; stroke: #333333\"/>\n     <use xlink:href=\"#m60a67358e0\" x=\"237.5679\" y=\"82.40449\" style=\"fill: #4c72b0; stroke: #333333\"/>\n     <use xlink:href=\"#m60a67358e0\" x=\"233.900917\" y=\"79.171029\" style=\"fill: #4c72b0; stroke: #333333\"/>\n     <use xlink:href=\"#m60a67358e0\" x=\"232.539272\" y=\"100.152537\" style=\"fill: #4c72b0; stroke: #333333\"/>\n     <use xlink:href=\"#m60a67358e0\" x=\"240.290792\" y=\"88.532698\" style=\"fill: #4c72b0; stroke: #333333\"/>\n     <use xlink:href=\"#m60a67358e0\" x=\"119.666028\" y=\"189.31619\" style=\"fill: #4c72b0; stroke: #333333\"/>\n     <use xlink:href=\"#m60a67358e0\" x=\"224.840643\" y=\"80.590786\" style=\"fill: #4c72b0; stroke: #333333\"/>\n     <use xlink:href=\"#m60a67358e0\" x=\"234.962435\" y=\"61.478676\" style=\"fill: #4c72b0; stroke: #333333\"/>\n     <use xlink:href=\"#m60a67358e0\" x=\"241.845829\" y=\"89.379306\" style=\"fill: #4c72b0; stroke: #333333\"/>\n     <use xlink:href=\"#m60a67358e0\" x=\"113.619674\" y=\"187.70644\" style=\"fill: #4c72b0; stroke: #333333\"/>\n     <use xlink:href=\"#m60a67358e0\" x=\"237.671674\" y=\"99.603828\" style=\"fill: #4c72b0; stroke: #333333\"/>\n     <use xlink:href=\"#m60a67358e0\" x=\"233.240721\" y=\"72.05114\" style=\"fill: #4c72b0; stroke: #333333\"/>\n     <use xlink:href=\"#m60a67358e0\" x=\"227.335804\" y=\"81.636899\" style=\"fill: #4c72b0; stroke: #333333\"/>\n     <use xlink:href=\"#m60a67358e0\" x=\"238.853964\" y=\"70.920545\" style=\"fill: #4c72b0; stroke: #333333\"/>\n     <use xlink:href=\"#m60a67358e0\" x=\"228.350181\" y=\"75.866772\" style=\"fill: #4c72b0; stroke: #333333\"/>\n     <use xlink:href=\"#m60a67358e0\" x=\"216.011828\" y=\"67.148003\" style=\"fill: #4c72b0; stroke: #333333\"/>\n     <use xlink:href=\"#m60a67358e0\" x=\"235.723391\" y=\"58.714715\" style=\"fill: #4c72b0; stroke: #333333\"/>\n     <use xlink:href=\"#m60a67358e0\" x=\"243.928128\" y=\"72.909063\" style=\"fill: #4c72b0; stroke: #333333\"/>\n     <use xlink:href=\"#m60a67358e0\" x=\"241.840317\" y=\"67.462788\" style=\"fill: #4c72b0; stroke: #333333\"/>\n     <use xlink:href=\"#m60a67358e0\" x=\"140.517688\" y=\"190.555589\" style=\"fill: #4c72b0; stroke: #333333\"/>\n    </g>\n   </g>\n   <g id=\"PathCollection_2\">\n    <defs>\n     <path id=\"ma636d0ae7f\" d=\"M 0 3 \nC 0.795609 3 1.55874 2.683901 2.12132 2.12132 \nC 2.683901 1.55874 3 0.795609 3 0 \nC 3 -0.795609 2.683901 -1.55874 2.12132 -2.12132 \nC 1.55874 -2.683901 0.795609 -3 0 -3 \nC -0.795609 -3 -1.55874 -2.683901 -2.12132 -2.12132 \nC -2.683901 -1.55874 -3 -0.795609 -3 0 \nC -3 0.795609 -2.683901 1.55874 -2.12132 2.12132 \nC -1.55874 2.683901 -0.795609 3 0 3 \nz\n\" style=\"stroke: #333333\"/>\n    </defs>\n    <g clip-path=\"url(#pa444d5cb26)\">\n     <use xlink:href=\"#ma636d0ae7f\" x=\"114.133962\" y=\"61.385212\" style=\"fill: #dd8452; stroke: #333333\"/>\n     <use xlink:href=\"#ma636d0ae7f\" x=\"116.29305\" y=\"63.258179\" style=\"fill: #dd8452; stroke: #333333\"/>\n     <use xlink:href=\"#ma636d0ae7f\" x=\"212.205429\" y=\"209.733849\" style=\"fill: #dd8452; stroke: #333333\"/>\n     <use xlink:href=\"#ma636d0ae7f\" x=\"134.06824\" y=\"65.731584\" style=\"fill: #dd8452; stroke: #333333\"/>\n     <use xlink:href=\"#ma636d0ae7f\" x=\"126.360288\" y=\"81.523747\" style=\"fill: #dd8452; stroke: #333333\"/>\n     <use xlink:href=\"#ma636d0ae7f\" x=\"238.260929\" y=\"179.918885\" style=\"fill: #dd8452; stroke: #333333\"/>\n     <use xlink:href=\"#ma636d0ae7f\" x=\"228.130155\" y=\"173.685077\" style=\"fill: #dd8452; stroke: #333333\"/>\n     <use xlink:href=\"#ma636d0ae7f\" x=\"135.899639\" y=\"93.732055\" style=\"fill: #dd8452; stroke: #333333\"/>\n     <use xlink:href=\"#ma636d0ae7f\" x=\"245.379469\" y=\"181.993997\" style=\"fill: #dd8452; stroke: #333333\"/>\n     <use xlink:href=\"#ma636d0ae7f\" x=\"121.319565\" y=\"75.696076\" style=\"fill: #dd8452; stroke: #333333\"/>\n     <use xlink:href=\"#ma636d0ae7f\" x=\"236.121303\" y=\"179.610254\" style=\"fill: #dd8452; stroke: #333333\"/>\n     <use xlink:href=\"#ma636d0ae7f\" x=\"225.537525\" y=\"181.92024\" style=\"fill: #dd8452; stroke: #333333\"/>\n     <use xlink:href=\"#ma636d0ae7f\" x=\"121.680799\" y=\"76.569146\" style=\"fill: #dd8452; stroke: #333333\"/>\n     <use xlink:href=\"#ma636d0ae7f\" x=\"239.669828\" y=\"189.399552\" style=\"fill: #dd8452; stroke: #333333\"/>\n     <use xlink:href=\"#ma636d0ae7f\" x=\"136.650751\" y=\"76.275444\" style=\"fill: #dd8452; stroke: #333333\"/>\n     <use xlink:href=\"#ma636d0ae7f\" x=\"214.570592\" y=\"164.152271\" style=\"fill: #dd8452; stroke: #333333\"/>\n     <use xlink:href=\"#ma636d0ae7f\" x=\"224.448698\" y=\"190.61803\" style=\"fill: #dd8452; stroke: #333333\"/>\n     <use xlink:href=\"#ma636d0ae7f\" x=\"121.708091\" y=\"98.203045\" style=\"fill: #dd8452; stroke: #333333\"/>\n     <use xlink:href=\"#ma636d0ae7f\" x=\"231.289458\" y=\"183.02682\" style=\"fill: #dd8452; stroke: #333333\"/>\n     <use xlink:href=\"#ma636d0ae7f\" x=\"230.044818\" y=\"190.492477\" style=\"fill: #dd8452; stroke: #333333\"/>\n     <use xlink:href=\"#ma636d0ae7f\" x=\"230.284241\" y=\"199.328199\" style=\"fill: #dd8452; stroke: #333333\"/>\n     <use xlink:href=\"#ma636d0ae7f\" x=\"107.990159\" y=\"76.17434\" style=\"fill: #dd8452; stroke: #333333\"/>\n     <use xlink:href=\"#ma636d0ae7f\" x=\"209.690342\" y=\"170.704269\" style=\"fill: #dd8452; stroke: #333333\"/>\n     <use xlink:href=\"#ma636d0ae7f\" x=\"220.763018\" y=\"166.7937\" style=\"fill: #dd8452; stroke: #333333\"/>\n     <use xlink:href=\"#ma636d0ae7f\" x=\"136.831862\" y=\"97.386104\" style=\"fill: #dd8452; stroke: #333333\"/>\n     <use xlink:href=\"#ma636d0ae7f\" x=\"142.606121\" y=\"59.107367\" style=\"fill: #dd8452; stroke: #333333\"/>\n     <use xlink:href=\"#ma636d0ae7f\" x=\"229.827198\" y=\"189.133243\" style=\"fill: #dd8452; stroke: #333333\"/>\n     <use xlink:href=\"#ma636d0ae7f\" x=\"132.910092\" y=\"71.046935\" style=\"fill: #dd8452; stroke: #333333\"/>\n     <use xlink:href=\"#ma636d0ae7f\" x=\"237.791758\" y=\"197.999202\" style=\"fill: #dd8452; stroke: #333333\"/>\n     <use xlink:href=\"#ma636d0ae7f\" x=\"118.050597\" y=\"73.483778\" style=\"fill: #dd8452; stroke: #333333\"/>\n     <use xlink:href=\"#ma636d0ae7f\" x=\"132.586599\" y=\"74.280066\" style=\"fill: #dd8452; stroke: #333333\"/>\n     <use xlink:href=\"#ma636d0ae7f\" x=\"112.554228\" y=\"79.83065\" style=\"fill: #dd8452; stroke: #333333\"/>\n     <use xlink:href=\"#ma636d0ae7f\" x=\"120.787362\" y=\"70.233305\" style=\"fill: #dd8452; stroke: #333333\"/>\n     <use xlink:href=\"#ma636d0ae7f\" x=\"236.927359\" y=\"190.048021\" style=\"fill: #dd8452; stroke: #333333\"/>\n     <use xlink:href=\"#ma636d0ae7f\" x=\"121.224677\" y=\"84.868014\" style=\"fill: #dd8452; stroke: #333333\"/>\n     <use xlink:href=\"#ma636d0ae7f\" x=\"122.888713\" y=\"74.682512\" style=\"fill: #dd8452; stroke: #333333\"/>\n     <use xlink:href=\"#ma636d0ae7f\" x=\"202.69486\" y=\"202.637914\" style=\"fill: #dd8452; stroke: #333333\"/>\n     <use xlink:href=\"#ma636d0ae7f\" x=\"123.866544\" y=\"84.829577\" style=\"fill: #dd8452; stroke: #333333\"/>\n     <use xlink:href=\"#ma636d0ae7f\" x=\"229.981735\" y=\"187.508019\" style=\"fill: #dd8452; stroke: #333333\"/>\n     <use xlink:href=\"#ma636d0ae7f\" x=\"135.739864\" y=\"83.382538\" style=\"fill: #dd8452; stroke: #333333\"/>\n     <use xlink:href=\"#ma636d0ae7f\" x=\"130.101825\" y=\"68.905657\" style=\"fill: #dd8452; stroke: #333333\"/>\n     <use xlink:href=\"#ma636d0ae7f\" x=\"233.632989\" y=\"198.210737\" style=\"fill: #dd8452; stroke: #333333\"/>\n     <use xlink:href=\"#ma636d0ae7f\" x=\"108.431594\" y=\"87.371338\" style=\"fill: #dd8452; stroke: #333333\"/>\n     <use xlink:href=\"#ma636d0ae7f\" x=\"124.152448\" y=\"68.501426\" style=\"fill: #dd8452; stroke: #333333\"/>\n     <use xlink:href=\"#ma636d0ae7f\" x=\"123.132093\" y=\"75.165891\" style=\"fill: #dd8452; stroke: #333333\"/>\n     <use xlink:href=\"#ma636d0ae7f\" x=\"207.849151\" y=\"181.372688\" style=\"fill: #dd8452; stroke: #333333\"/>\n     <use xlink:href=\"#ma636d0ae7f\" x=\"234.156644\" y=\"181.273164\" style=\"fill: #dd8452; stroke: #333333\"/>\n     <use xlink:href=\"#ma636d0ae7f\" x=\"117.867353\" y=\"65.144338\" style=\"fill: #dd8452; stroke: #333333\"/>\n     <use xlink:href=\"#ma636d0ae7f\" x=\"245.455102\" y=\"190.250784\" style=\"fill: #dd8452; stroke: #333333\"/>\n     <use xlink:href=\"#ma636d0ae7f\" x=\"131.689338\" y=\"62.920924\" style=\"fill: #dd8452; stroke: #333333\"/>\n     <use xlink:href=\"#ma636d0ae7f\" x=\"94.237328\" y=\"83.135931\" style=\"fill: #dd8452; stroke: #333333\"/>\n     <use xlink:href=\"#ma636d0ae7f\" x=\"98.072848\" y=\"67.511972\" style=\"fill: #dd8452; stroke: #333333\"/>\n     <use xlink:href=\"#ma636d0ae7f\" x=\"112.793957\" y=\"75.119378\" style=\"fill: #dd8452; stroke: #333333\"/>\n     <use xlink:href=\"#ma636d0ae7f\" x=\"128.561466\" y=\"88.241963\" style=\"fill: #dd8452; stroke: #333333\"/>\n     <use xlink:href=\"#ma636d0ae7f\" x=\"217.001772\" y=\"173.993084\" style=\"fill: #dd8452; stroke: #333333\"/>\n     <use xlink:href=\"#ma636d0ae7f\" x=\"227.045895\" y=\"194.77698\" style=\"fill: #dd8452; stroke: #333333\"/>\n     <use xlink:href=\"#ma636d0ae7f\" x=\"123.457918\" y=\"50.939284\" style=\"fill: #dd8452; stroke: #333333\"/>\n     <use xlink:href=\"#ma636d0ae7f\" x=\"243.137524\" y=\"182.255959\" style=\"fill: #dd8452; stroke: #333333\"/>\n     <use xlink:href=\"#ma636d0ae7f\" x=\"233.857112\" y=\"187.573259\" style=\"fill: #dd8452; stroke: #333333\"/>\n     <use xlink:href=\"#ma636d0ae7f\" x=\"124.16625\" y=\"103.381101\" style=\"fill: #dd8452; stroke: #333333\"/>\n     <use xlink:href=\"#ma636d0ae7f\" x=\"225.227254\" y=\"186.505066\" style=\"fill: #dd8452; stroke: #333333\"/>\n     <use xlink:href=\"#ma636d0ae7f\" x=\"230.731793\" y=\"173.653301\" style=\"fill: #dd8452; stroke: #333333\"/>\n     <use xlink:href=\"#ma636d0ae7f\" x=\"123.331339\" y=\"77.828048\" style=\"fill: #dd8452; stroke: #333333\"/>\n     <use xlink:href=\"#ma636d0ae7f\" x=\"136.294918\" y=\"81.550057\" style=\"fill: #dd8452; stroke: #333333\"/>\n     <use xlink:href=\"#ma636d0ae7f\" x=\"100.836016\" y=\"87.810034\" style=\"fill: #dd8452; stroke: #333333\"/>\n     <use xlink:href=\"#ma636d0ae7f\" x=\"226.13896\" y=\"175.752985\" style=\"fill: #dd8452; stroke: #333333\"/>\n     <use xlink:href=\"#ma636d0ae7f\" x=\"231.237267\" y=\"178.563876\" style=\"fill: #dd8452; stroke: #333333\"/>\n     <use xlink:href=\"#ma636d0ae7f\" x=\"131.678686\" y=\"89.044496\" style=\"fill: #dd8452; stroke: #333333\"/>\n     <use xlink:href=\"#ma636d0ae7f\" x=\"134.018085\" y=\"83.841827\" style=\"fill: #dd8452; stroke: #333333\"/>\n     <use xlink:href=\"#ma636d0ae7f\" x=\"234.100838\" y=\"183.290957\" style=\"fill: #dd8452; stroke: #333333\"/>\n     <use xlink:href=\"#ma636d0ae7f\" x=\"223.75257\" y=\"176.185911\" style=\"fill: #dd8452; stroke: #333333\"/>\n     <use xlink:href=\"#ma636d0ae7f\" x=\"123.939299\" y=\"87.216404\" style=\"fill: #dd8452; stroke: #333333\"/>\n     <use xlink:href=\"#ma636d0ae7f\" x=\"242.821814\" y=\"181.726553\" style=\"fill: #dd8452; stroke: #333333\"/>\n     <use xlink:href=\"#ma636d0ae7f\" x=\"109.198354\" y=\"78.356441\" style=\"fill: #dd8452; stroke: #333333\"/>\n     <use xlink:href=\"#ma636d0ae7f\" x=\"116.454328\" y=\"86.013123\" style=\"fill: #dd8452; stroke: #333333\"/>\n     <use xlink:href=\"#ma636d0ae7f\" x=\"139.770596\" y=\"77.885625\" style=\"fill: #dd8452; stroke: #333333\"/>\n     <use xlink:href=\"#ma636d0ae7f\" x=\"95.292531\" y=\"62.499272\" style=\"fill: #dd8452; stroke: #333333\"/>\n     <use xlink:href=\"#ma636d0ae7f\" x=\"249.71027\" y=\"195.417527\" style=\"fill: #dd8452; stroke: #333333\"/>\n     <use xlink:href=\"#ma636d0ae7f\" x=\"229.032272\" y=\"180.092869\" style=\"fill: #dd8452; stroke: #333333\"/>\n     <use xlink:href=\"#ma636d0ae7f\" x=\"129.902356\" y=\"66.973394\" style=\"fill: #dd8452; stroke: #333333\"/>\n     <use xlink:href=\"#ma636d0ae7f\" x=\"114.246159\" y=\"72.406702\" style=\"fill: #dd8452; stroke: #333333\"/>\n     <use xlink:href=\"#ma636d0ae7f\" x=\"129.274497\" y=\"83.698142\" style=\"fill: #dd8452; stroke: #333333\"/>\n     <use xlink:href=\"#ma636d0ae7f\" x=\"127.361845\" y=\"52.357673\" style=\"fill: #dd8452; stroke: #333333\"/>\n     <use xlink:href=\"#ma636d0ae7f\" x=\"110.666954\" y=\"75.318836\" style=\"fill: #dd8452; stroke: #333333\"/>\n     <use xlink:href=\"#ma636d0ae7f\" x=\"232.886665\" y=\"207.900004\" style=\"fill: #dd8452; stroke: #333333\"/>\n     <use xlink:href=\"#ma636d0ae7f\" x=\"227.893138\" y=\"184.466794\" style=\"fill: #dd8452; stroke: #333333\"/>\n     <use xlink:href=\"#ma636d0ae7f\" x=\"124.592606\" y=\"100.758836\" style=\"fill: #dd8452; stroke: #333333\"/>\n     <use xlink:href=\"#ma636d0ae7f\" x=\"101.097289\" y=\"79.013187\" style=\"fill: #dd8452; stroke: #333333\"/>\n     <use xlink:href=\"#ma636d0ae7f\" x=\"220.551241\" y=\"169.758256\" style=\"fill: #dd8452; stroke: #333333\"/>\n     <use xlink:href=\"#ma636d0ae7f\" x=\"128.459679\" y=\"84.627851\" style=\"fill: #dd8452; stroke: #333333\"/>\n    </g>\n   </g>\n   <g id=\"patch_3\">\n    <path d=\"M 66.023594 244.078125 \nL 66.023594 22.318125 \n\" style=\"fill: none; stroke: #ffffff; stroke-width: 1.25; stroke-linejoin: miter; stroke-linecap: square\"/>\n   </g>\n   <g id=\"patch_4\">\n    <path d=\"M 287.783594 244.078125 \nL 287.783594 22.318125 \n\" style=\"fill: none; stroke: #ffffff; stroke-width: 1.25; stroke-linejoin: miter; stroke-linecap: square\"/>\n   </g>\n   <g id=\"patch_5\">\n    <path d=\"M 66.023594 244.078125 \nL 287.783594 244.078125 \n\" style=\"fill: none; stroke: #ffffff; stroke-width: 1.25; stroke-linejoin: miter; stroke-linecap: square\"/>\n   </g>\n   <g id=\"patch_6\">\n    <path d=\"M 66.023594 22.318125 \nL 287.783594 22.318125 \n\" style=\"fill: none; stroke: #ffffff; stroke-width: 1.25; stroke-linejoin: miter; stroke-linecap: square\"/>\n   </g>\n   <g id=\"text_17\">\n    <!-- Dataset samples -->\n    <g style=\"fill: #262626\" transform=\"translate(126.560781 16.318125) scale(0.12 -0.12)\">\n     <defs>\n      <path id=\"DejaVuSans-44\" d=\"M 1259 4147 \nL 1259 519 \nL 2022 519 \nQ 2988 519 3436 956 \nQ 3884 1394 3884 2338 \nQ 3884 3275 3436 3711 \nQ 2988 4147 2022 4147 \nL 1259 4147 \nz\nM 628 4666 \nL 1925 4666 \nQ 3281 4666 3915 4102 \nQ 4550 3538 4550 2338 \nQ 4550 1131 3912 565 \nQ 3275 0 1925 0 \nL 628 0 \nL 628 4666 \nz\n\" transform=\"scale(0.015625)\"/>\n      <path id=\"DejaVuSans-61\" d=\"M 2194 1759 \nQ 1497 1759 1228 1600 \nQ 959 1441 959 1056 \nQ 959 750 1161 570 \nQ 1363 391 1709 391 \nQ 2188 391 2477 730 \nQ 2766 1069 2766 1631 \nL 2766 1759 \nL 2194 1759 \nz\nM 3341 1997 \nL 3341 0 \nL 2766 0 \nL 2766 531 \nQ 2569 213 2275 61 \nQ 1981 -91 1556 -91 \nQ 1019 -91 701 211 \nQ 384 513 384 1019 \nQ 384 1609 779 1909 \nQ 1175 2209 1959 2209 \nL 2766 2209 \nL 2766 2266 \nQ 2766 2663 2505 2880 \nQ 2244 3097 1772 3097 \nQ 1472 3097 1187 3025 \nQ 903 2953 641 2809 \nL 641 3341 \nQ 956 3463 1253 3523 \nQ 1550 3584 1831 3584 \nQ 2591 3584 2966 3190 \nQ 3341 2797 3341 1997 \nz\n\" transform=\"scale(0.015625)\"/>\n      <path id=\"DejaVuSans-74\" d=\"M 1172 4494 \nL 1172 3500 \nL 2356 3500 \nL 2356 3053 \nL 1172 3053 \nL 1172 1153 \nQ 1172 725 1289 603 \nQ 1406 481 1766 481 \nL 2356 481 \nL 2356 0 \nL 1766 0 \nQ 1100 0 847 248 \nQ 594 497 594 1153 \nL 594 3053 \nL 172 3053 \nL 172 3500 \nL 594 3500 \nL 594 4494 \nL 1172 4494 \nz\n\" transform=\"scale(0.015625)\"/>\n      <path id=\"DejaVuSans-73\" d=\"M 2834 3397 \nL 2834 2853 \nQ 2591 2978 2328 3040 \nQ 2066 3103 1784 3103 \nQ 1356 3103 1142 2972 \nQ 928 2841 928 2578 \nQ 928 2378 1081 2264 \nQ 1234 2150 1697 2047 \nL 1894 2003 \nQ 2506 1872 2764 1633 \nQ 3022 1394 3022 966 \nQ 3022 478 2636 193 \nQ 2250 -91 1575 -91 \nQ 1294 -91 989 -36 \nQ 684 19 347 128 \nL 347 722 \nQ 666 556 975 473 \nQ 1284 391 1588 391 \nQ 1994 391 2212 530 \nQ 2431 669 2431 922 \nQ 2431 1156 2273 1281 \nQ 2116 1406 1581 1522 \nL 1381 1569 \nQ 847 1681 609 1914 \nQ 372 2147 372 2553 \nQ 372 3047 722 3315 \nQ 1072 3584 1716 3584 \nQ 2034 3584 2315 3537 \nQ 2597 3491 2834 3397 \nz\n\" transform=\"scale(0.015625)\"/>\n      <path id=\"DejaVuSans-65\" d=\"M 3597 1894 \nL 3597 1613 \nL 953 1613 \nQ 991 1019 1311 708 \nQ 1631 397 2203 397 \nQ 2534 397 2845 478 \nQ 3156 559 3463 722 \nL 3463 178 \nQ 3153 47 2828 -22 \nQ 2503 -91 2169 -91 \nQ 1331 -91 842 396 \nQ 353 884 353 1716 \nQ 353 2575 817 3079 \nQ 1281 3584 2069 3584 \nQ 2775 3584 3186 3129 \nQ 3597 2675 3597 1894 \nz\nM 3022 2063 \nQ 3016 2534 2758 2815 \nQ 2500 3097 2075 3097 \nQ 1594 3097 1305 2825 \nQ 1016 2553 972 2059 \nL 3022 2063 \nz\n\" transform=\"scale(0.015625)\"/>\n      <path id=\"DejaVuSans-20\" transform=\"scale(0.015625)\"/>\n      <path id=\"DejaVuSans-6d\" d=\"M 3328 2828 \nQ 3544 3216 3844 3400 \nQ 4144 3584 4550 3584 \nQ 5097 3584 5394 3201 \nQ 5691 2819 5691 2113 \nL 5691 0 \nL 5113 0 \nL 5113 2094 \nQ 5113 2597 4934 2840 \nQ 4756 3084 4391 3084 \nQ 3944 3084 3684 2787 \nQ 3425 2491 3425 1978 \nL 3425 0 \nL 2847 0 \nL 2847 2094 \nQ 2847 2600 2669 2842 \nQ 2491 3084 2119 3084 \nQ 1678 3084 1418 2786 \nQ 1159 2488 1159 1978 \nL 1159 0 \nL 581 0 \nL 581 3500 \nL 1159 3500 \nL 1159 2956 \nQ 1356 3278 1631 3431 \nQ 1906 3584 2284 3584 \nQ 2666 3584 2933 3390 \nQ 3200 3197 3328 2828 \nz\n\" transform=\"scale(0.015625)\"/>\n      <path id=\"DejaVuSans-70\" d=\"M 1159 525 \nL 1159 -1331 \nL 581 -1331 \nL 581 3500 \nL 1159 3500 \nL 1159 2969 \nQ 1341 3281 1617 3432 \nQ 1894 3584 2278 3584 \nQ 2916 3584 3314 3078 \nQ 3713 2572 3713 1747 \nQ 3713 922 3314 415 \nQ 2916 -91 2278 -91 \nQ 1894 -91 1617 61 \nQ 1341 213 1159 525 \nz\nM 3116 1747 \nQ 3116 2381 2855 2742 \nQ 2594 3103 2138 3103 \nQ 1681 3103 1420 2742 \nQ 1159 2381 1159 1747 \nQ 1159 1113 1420 752 \nQ 1681 391 2138 391 \nQ 2594 391 2855 752 \nQ 3116 1113 3116 1747 \nz\n\" transform=\"scale(0.015625)\"/>\n      <path id=\"DejaVuSans-6c\" d=\"M 603 4863 \nL 1178 4863 \nL 1178 0 \nL 603 0 \nL 603 4863 \nz\n\" transform=\"scale(0.015625)\"/>\n     </defs>\n     <use xlink:href=\"#DejaVuSans-44\"/>\n     <use xlink:href=\"#DejaVuSans-61\" x=\"77.001953\"/>\n     <use xlink:href=\"#DejaVuSans-74\" x=\"138.28125\"/>\n     <use xlink:href=\"#DejaVuSans-61\" x=\"177.490234\"/>\n     <use xlink:href=\"#DejaVuSans-73\" x=\"238.769531\"/>\n     <use xlink:href=\"#DejaVuSans-65\" x=\"290.869141\"/>\n     <use xlink:href=\"#DejaVuSans-74\" x=\"352.392578\"/>\n     <use xlink:href=\"#DejaVuSans-20\" x=\"391.601562\"/>\n     <use xlink:href=\"#DejaVuSans-73\" x=\"423.388672\"/>\n     <use xlink:href=\"#DejaVuSans-61\" x=\"475.488281\"/>\n     <use xlink:href=\"#DejaVuSans-6d\" x=\"536.767578\"/>\n     <use xlink:href=\"#DejaVuSans-70\" x=\"634.179688\"/>\n     <use xlink:href=\"#DejaVuSans-6c\" x=\"697.65625\"/>\n     <use xlink:href=\"#DejaVuSans-65\" x=\"725.439453\"/>\n     <use xlink:href=\"#DejaVuSans-73\" x=\"786.962891\"/>\n    </g>\n   </g>\n   <g id=\"legend_1\">\n    <g id=\"patch_7\">\n     <path d=\"M 205.450312 150.994063 \nL 280.083594 150.994063 \nQ 282.283594 150.994063 282.283594 148.794063 \nL 282.283594 117.602188 \nQ 282.283594 115.402188 280.083594 115.402188 \nL 205.450312 115.402188 \nQ 203.250313 115.402188 203.250313 117.602188 \nL 203.250313 148.794063 \nQ 203.250313 150.994063 205.450312 150.994063 \nz\n\" style=\"fill: #eaeaf2; opacity: 0.8; stroke: #cccccc; stroke-linejoin: miter\"/>\n    </g>\n    <g id=\"PathCollection_3\">\n     <g>\n      <use xlink:href=\"#m60a67358e0\" x=\"218.650313\" y=\"125.272969\" style=\"fill: #4c72b0; stroke: #333333\"/>\n     </g>\n    </g>\n    <g id=\"text_18\">\n     <!-- Class 0 -->\n     <g style=\"fill: #262626\" transform=\"translate(238.450313 128.160469) scale(0.11 -0.11)\">\n      <defs>\n       <path id=\"DejaVuSans-43\" d=\"M 4122 4306 \nL 4122 3641 \nQ 3803 3938 3442 4084 \nQ 3081 4231 2675 4231 \nQ 1875 4231 1450 3742 \nQ 1025 3253 1025 2328 \nQ 1025 1406 1450 917 \nQ 1875 428 2675 428 \nQ 3081 428 3442 575 \nQ 3803 722 4122 1019 \nL 4122 359 \nQ 3791 134 3420 21 \nQ 3050 -91 2638 -91 \nQ 1578 -91 968 557 \nQ 359 1206 359 2328 \nQ 359 3453 968 4101 \nQ 1578 4750 2638 4750 \nQ 3056 4750 3426 4639 \nQ 3797 4528 4122 4306 \nz\n\" transform=\"scale(0.015625)\"/>\n      </defs>\n      <use xlink:href=\"#DejaVuSans-43\"/>\n      <use xlink:href=\"#DejaVuSans-6c\" x=\"69.824219\"/>\n      <use xlink:href=\"#DejaVuSans-61\" x=\"97.607422\"/>\n      <use xlink:href=\"#DejaVuSans-73\" x=\"158.886719\"/>\n      <use xlink:href=\"#DejaVuSans-73\" x=\"210.986328\"/>\n      <use xlink:href=\"#DejaVuSans-20\" x=\"263.085938\"/>\n      <use xlink:href=\"#DejaVuSans-30\" x=\"294.873047\"/>\n     </g>\n    </g>\n    <g id=\"PathCollection_4\">\n     <g>\n      <use xlink:href=\"#ma636d0ae7f\" x=\"218.650313\" y=\"141.418906\" style=\"fill: #dd8452; stroke: #333333\"/>\n     </g>\n    </g>\n    <g id=\"text_19\">\n     <!-- Class 1 -->\n     <g style=\"fill: #262626\" transform=\"translate(238.450313 144.306406) scale(0.11 -0.11)\">\n      <use xlink:href=\"#DejaVuSans-43\"/>\n      <use xlink:href=\"#DejaVuSans-6c\" x=\"69.824219\"/>\n      <use xlink:href=\"#DejaVuSans-61\" x=\"97.607422\"/>\n      <use xlink:href=\"#DejaVuSans-73\" x=\"158.886719\"/>\n      <use xlink:href=\"#DejaVuSans-73\" x=\"210.986328\"/>\n      <use xlink:href=\"#DejaVuSans-20\" x=\"263.085938\"/>\n      <use xlink:href=\"#DejaVuSans-31\" x=\"294.873047\"/>\n     </g>\n    </g>\n   </g>\n  </g>\n </g>\n <defs>\n  <clipPath id=\"pa444d5cb26\">\n   <rect x=\"66.023594\" y=\"22.318125\" width=\"221.76\" height=\"221.76\"/>\n  </clipPath>\n </defs>\n</svg>\n",
            "application/pdf": "[encoded data removed]"
          },
          "metadata": {}
        }
      ],
      "source": [
        "@torch.no_grad() # Decorator, same effect as \"with torch.no_grad(): ...\" over the whole function.\n",
        "def visualize_classification(model, data, label):\n",
        "    if isinstance(data, torch.Tensor):\n",
        "        data = data.cpu().numpy()\n",
        "    if isinstance(label, torch.Tensor):\n",
        "        label = label.cpu().numpy()\n",
        "    data_0 = data[label == 0]\n",
        "    data_1 = data[label == 1]\n",
        "\n",
        "    fig = plt.figure(figsize=(4,4), dpi=500)\n",
        "    plt.scatter(data_0[:,0], data_0[:,1], edgecolor=\"#333\", label=\"Class 0\")\n",
        "    plt.scatter(data_1[:,0], data_1[:,1], edgecolor=\"#333\", label=\"Class 1\")\n",
        "    plt.title(\"Dataset samples\")\n",
        "    plt.ylabel(r\"$x_2$\")\n",
        "    plt.xlabel(r\"$x_1$\")\n",
        "    plt.legend()\n",
        "\n",
        "    # Let's make use of a lot of operations we have learned above\n",
        "    model.to(device)\n",
        "    c0 = torch.Tensor(to_rgba(\"C0\")).to(device)\n",
        "    c1 = torch.Tensor(to_rgba(\"C1\")).to(device)\n",
        "    x1 = torch.arange(-0.5, 1.5, step=0.01, device=device)\n",
        "    x2 = torch.arange(-0.5, 1.5, step=0.01, device=device)\n",
        "    xx1, xx2 = torch.meshgrid(x1, x2, indexing='ij')  # Meshgrid function as in numpy\n",
        "    model_inputs = torch.stack([xx1, xx2], dim=-1)\n",
        "    preds = model(model_inputs)\n",
        "    preds = torch.sigmoid(preds)\n",
        "    output_image = (1 - preds) * c0[None,None] + preds * c1[None,None]  # Specifying \"None\" in a dimension creates a new one\n",
        "    output_image = output_image.cpu().numpy()  # Convert to numpy array. This only works for tensors on CPU, hence first push to CPU\n",
        "    plt.imshow(output_image, origin='lower', extent=(-0.5, 1.5, -0.5, 1.5))\n",
        "    plt.grid(False)\n",
        "    return fig\n",
        "\n",
        "_ = visualize_classification(model, dataset.data, dataset.label)\n",
        "plt.show()"
      ]
    },
    {
      "cell_type": "markdown",
      "metadata": {
        "id": "WMvEvKVtXpqz"
      },
      "source": [
        "The decision boundaries might not look exactly as in the figure in the preamble of this section which can be caused by running it on CPU or a different GPU architecture. Nevertheless, the result on the accuracy metric should be the approximately the same."
      ]
    },
    {
      "cell_type": "markdown",
      "metadata": {
        "id": "2kSWavs_Xpq0"
      },
      "source": [
        "## Additional features we didn't get to discuss yet\n",
        "\n",
        "Finally, you are all set to start with your own PyTorch project! In summary, we have looked at how we can build neural networks in PyTorch, and train and test them on data. However, there is still much more to PyTorch we haven't discussed yet. In the coming series of Jupyter notebooks, we will discover more and more functionalities of PyTorch, so that you also get familiar to PyTorch concepts beyond the basics. If you are already interested in learning more of PyTorch, we recommend the official [tutorial website](https://pytorch.org/tutorials/) that contains many tutorials on various topics. Especially logging with Tensorboard ([official tutorial here](https://pytorch.org/tutorials/intermediate/tensorboard_tutorial.html)) is a good practice that we will explore in our small example."
      ]
    },
    {
      "cell_type": "markdown",
      "metadata": {
        "id": "wgEGbczWXpq0"
      },
      "source": [
        "### TensorBoard logging\n",
        "\n",
        "TensorBoard is a logging and visualization tool that is a popular choice for training deep learning models. Although initially published for TensorFlow, TensorBoard is also integrated in PyTorch allowing us to easily use it. First, let's import it below."
      ]
    },
    {
      "cell_type": "code",
      "execution_count": null,
      "metadata": {
        "id": "0e8LEridXpq0"
      },
      "outputs": [],
      "source": [
        "# Import tensorboard logger from PyTorch\n",
        "from torch.utils.tensorboard import SummaryWriter\n",
        "\n",
        "# Load tensorboard extension for Jupyter Notebook, only need to start TB in the notebook\n",
        "%load_ext tensorboard"
      ]
    },
    {
      "cell_type": "markdown",
      "metadata": {
        "id": "_o4B-IDEXpq0"
      },
      "source": [
        "The last line is required if you want to run TensorBoard directly in the Jupyter Notebook. Otherwise, you can start TensorBoard from the terminal.\n",
        "\n",
        "PyTorch's TensorBoard API is simple to use. We start the logging process by creating a new object, `writer = SummaryWriter(...)`, where we specify the directory in which the logging file should be saved. With this object, we can log different aspects of our model by calling functions of the style `writer.add_...`. For example, we can visualize the computation graph with the function `writer.add_graph`, or add a scalar value like the loss with `writer.add_scalar`. Let's adapt our initial training function with adding a TensorBoard logger below."
      ]
    },
    {
      "cell_type": "code",
      "execution_count": null,
      "metadata": {
        "id": "F6GdM8fQXpq0"
      },
      "outputs": [],
      "source": [
        "def train_model_with_logger(model, optimizer, data_loader, loss_module, val_dataset, num_epochs=100, logging_dir='runs/our_experiment'):\n",
        "    # Create TensorBoard logger\n",
        "    writer = SummaryWriter(logging_dir)\n",
        "    model_plotted = False\n",
        "\n",
        "    # Set model to train mode\n",
        "    model.train()\n",
        "\n",
        "    # Training loop\n",
        "    for epoch in tqdm(range(num_epochs)):\n",
        "        epoch_loss = 0.0\n",
        "        for data_inputs, data_labels in data_loader:\n",
        "\n",
        "            ## Step 1: Move input data to device (only strictly necessary if we use GPU)\n",
        "            data_inputs = data_inputs.to(device)\n",
        "            data_labels = data_labels.to(device)\n",
        "\n",
        "            # For the very first batch, we visualize the computation graph in TensorBoard\n",
        "            if not model_plotted:\n",
        "                writer.add_graph(model, data_inputs)\n",
        "                model_plotted = True\n",
        "\n",
        "            ## Step 2: Run the model on the input data\n",
        "            preds = model(data_inputs)\n",
        "            preds = preds.squeeze(dim=1) # Output is [Batch size, 1], but we want [Batch size]\n",
        "\n",
        "            ## Step 3: Calculate the loss\n",
        "            loss = loss_module(preds, data_labels.float())\n",
        "\n",
        "            ## Step 4: Perform backpropagation\n",
        "            # Before calculating the gradients, we need to ensure that they are all zero.\n",
        "            # The gradients would not be overwritten, but actually added to the existing ones.\n",
        "            optimizer.zero_grad()\n",
        "            # Perform backpropagation\n",
        "            loss.backward()\n",
        "\n",
        "            ## Step 5: Update the parameters\n",
        "            optimizer.step()\n",
        "\n",
        "            ## Step 6: Take the running average of the loss\n",
        "            epoch_loss += loss.item()\n",
        "\n",
        "        # Add average loss to TensorBoard\n",
        "        epoch_loss /= len(data_loader)\n",
        "        writer.add_scalar('training_loss',\n",
        "                          epoch_loss,\n",
        "                          global_step = epoch + 1)\n",
        "\n",
        "        # Visualize prediction and add figure to TensorBoard\n",
        "        # Since matplotlib figures can be slow in rendering, we only do it every 10th epoch\n",
        "        if (epoch + 1) % 10 == 0:\n",
        "            fig = visualize_classification(model, val_dataset.data, val_dataset.label)\n",
        "            writer.add_figure('predictions',\n",
        "                              fig,\n",
        "                              global_step = epoch + 1)\n",
        "\n",
        "    writer.close()"
      ]
    },
    {
      "cell_type": "markdown",
      "metadata": {
        "id": "5kLKjPA7Xpq1"
      },
      "source": [
        "Let's use this method to train a model as before, with a new model and optimizer."
      ]
    },
    {
      "cell_type": "code",
      "execution_count": null,
      "metadata": {
        "id": "DoI-Xl2aXpq1",
        "outputId": "21abfd39-18f6-4bcc-9b6c-620ad2577f85",
        "colab": {
          "referenced_widgets": [
            "cba2eed699bb4ce58acff76cac86b328",
            "d191b77fe89e4dd8ac6ef6055e481330",
            "080cecf3aaf040cebaa4c4e63de7d4ee",
            "d7387867bd2740c7be8606b4c419a849",
            "f5df062582a249edaed3fa07bdda42b3",
            "2ec5c94ce14f4757a4d0a4fb08ea9b8d",
            "30ec9801df2c4cf3b8a8fd6aa558ab9a",
            "885be3e842b44a61a12ba8276019715b",
            "1e41d1460d6e41438cb26a02cbef8098",
            "b6b51eeee3be4fc0b3b1ef8d8bfab06a",
            "1aa4a5fc8b614561968c6dfee28301e5"
          ],
          "base_uri": "https://localhost:8080/",
          "height": 49
        }
      },
      "outputs": [
        {
          "output_type": "display_data",
          "data": {
            "text/plain": [
              "  0%|          | 0/100 [00:00<?, ?it/s]"
            ],
            "application/vnd.jupyter.widget-view+json": {
              "version_major": 2,
              "version_minor": 0,
              "model_id": "cba2eed699bb4ce58acff76cac86b328"
            }
          },
          "metadata": {}
        }
      ],
      "source": [
        "model = SimpleClassifier(num_inputs=2, num_hidden=4, num_outputs=1).to(device)\n",
        "optimizer = torch.optim.SGD(model.parameters(), lr=0.1)\n",
        "train_model_with_logger(model, optimizer, train_data_loader, loss_module, val_dataset=dataset)"
      ]
    },
    {
      "cell_type": "markdown",
      "metadata": {
        "id": "ZzltsloXXpq1"
      },
      "source": [
        "The TensorBoard file in the folder `runs/our_experiment` now contains a loss curve, the computation graph of our network, and a visualization of the learned predictions over number of epochs. To start the TensorBoard visualizer, simply run the following statement:"
      ]
    },
    {
      "cell_type": "code",
      "execution_count": null,
      "metadata": {
        "id": "i-Um10aUXpq1",
        "colab": {
          "base_uri": "https://localhost:8080/",
          "height": 821
        },
        "outputId": "27fe0426-aa4f-4f7a-db9c-bc9d393018ec"
      },
      "outputs": [],
      "source": [
        "%tensorboard --logdir runs/our_experiment"
      ]
    },
    {
      "cell_type": "markdown",
      "metadata": {
        "id": "Xcb7IJAXXpq2"
      },
      "source": [
        "<center><img src=\"https://github.com/phlippe/uvadlc_notebooks/blob/master/docs/tutorial_notebooks/tutorial2/tensorboard_screenshot.png?raw=1\" width=\"1100px\"></center>\n",
        "\n",
        "TensorBoard visualizations can help to identify possible issues with your model, and identify situations such as overfitting. You can also track the training progress while a model is training, since the logger automatically writes everything added to it to the logging file. Feel free to explore the TensorBoard functionalities!"
      ]
    }
  ],
  "metadata": {
    "kernelspec": {
      "display_name": "Python 3",
      "name": "python3"
    },
    "language_info": {
      "codemirror_mode": {
        "name": "ipython",
        "version": 3
      },
      "file_extension": ".py",
      "mimetype": "text/x-python",
      "name": "python",
      "nbconvert_exporter": "python",
      "pygments_lexer": "ipython3",
      "version": "3.10.6"
    },
    "colab": {
      "provenance": [],
      "gpuType": "T4",
      "include_colab_link": true
    },
    "accelerator": "GPU",
    "widgets": {
      "application/vnd.jupyter.widget-state+json": {
        "bbab0ffc2a3e4b8f9f8ac04f6185e9fc": {
          "model_module": "@jupyter-widgets/controls",
          "model_name": "HBoxModel",
          "model_module_version": "1.5.0",
          "state": {
            "_dom_classes": [],
            "_model_module": "@jupyter-widgets/controls",
            "_model_module_version": "1.5.0",
            "_model_name": "HBoxModel",
            "_view_count": null,
            "_view_module": "@jupyter-widgets/controls",
            "_view_module_version": "1.5.0",
            "_view_name": "HBoxView",
            "box_style": "",
            "children": [
              "IPY_MODEL_a7896538099948dd9b3431ca236d1413",
              "IPY_MODEL_e88bdf1ace074424b87aac0c15fb2ffb",
              "IPY_MODEL_48fcbcfc6f2942d2b517866318aeeed9"
            ],
            "layout": "IPY_MODEL_da71ccc617854ff39727520fe28bec2b"
          }
        },
        "a7896538099948dd9b3431ca236d1413": {
          "model_module": "@jupyter-widgets/controls",
          "model_name": "HTMLModel",
          "model_module_version": "1.5.0",
          "state": {
            "_dom_classes": [],
            "_model_module": "@jupyter-widgets/controls",
            "_model_module_version": "1.5.0",
            "_model_name": "HTMLModel",
            "_view_count": null,
            "_view_module": "@jupyter-widgets/controls",
            "_view_module_version": "1.5.0",
            "_view_name": "HTMLView",
            "description": "",
            "description_tooltip": null,
            "layout": "IPY_MODEL_9296473aabdd4fc1a04dccf8262e47f3",
            "placeholder": "​",
            "style": "IPY_MODEL_cfcca550ead640199d747e2ea01d19c5",
            "value": "100%"
          }
        },
        "e88bdf1ace074424b87aac0c15fb2ffb": {
          "model_module": "@jupyter-widgets/controls",
          "model_name": "FloatProgressModel",
          "model_module_version": "1.5.0",
          "state": {
            "_dom_classes": [],
            "_model_module": "@jupyter-widgets/controls",
            "_model_module_version": "1.5.0",
            "_model_name": "FloatProgressModel",
            "_view_count": null,
            "_view_module": "@jupyter-widgets/controls",
            "_view_module_version": "1.5.0",
            "_view_name": "ProgressView",
            "bar_style": "success",
            "description": "",
            "description_tooltip": null,
            "layout": "IPY_MODEL_41f8cfb864f24c84a3f74d3b60d09683",
            "max": 100,
            "min": 0,
            "orientation": "horizontal",
            "style": "IPY_MODEL_96fed739d7164222a0f6a8a3985c8721",
            "value": 100
          }
        },
        "48fcbcfc6f2942d2b517866318aeeed9": {
          "model_module": "@jupyter-widgets/controls",
          "model_name": "HTMLModel",
          "model_module_version": "1.5.0",
          "state": {
            "_dom_classes": [],
            "_model_module": "@jupyter-widgets/controls",
            "_model_module_version": "1.5.0",
            "_model_name": "HTMLModel",
            "_view_count": null,
            "_view_module": "@jupyter-widgets/controls",
            "_view_module_version": "1.5.0",
            "_view_name": "HTMLView",
            "description": "",
            "description_tooltip": null,
            "layout": "IPY_MODEL_bb5905749feb4fa78ca70e0dd6791801",
            "placeholder": "​",
            "style": "IPY_MODEL_1f899df59f574558a8737f6a2feadf1e",
            "value": " 100/100 [00:03&lt;00:00, 28.27it/s]"
          }
        },
        "da71ccc617854ff39727520fe28bec2b": {
          "model_module": "@jupyter-widgets/base",
          "model_name": "LayoutModel",
          "model_module_version": "1.2.0",
          "state": {
            "_model_module": "@jupyter-widgets/base",
            "_model_module_version": "1.2.0",
            "_model_name": "LayoutModel",
            "_view_count": null,
            "_view_module": "@jupyter-widgets/base",
            "_view_module_version": "1.2.0",
            "_view_name": "LayoutView",
            "align_content": null,
            "align_items": null,
            "align_self": null,
            "border": null,
            "bottom": null,
            "display": null,
            "flex": null,
            "flex_flow": null,
            "grid_area": null,
            "grid_auto_columns": null,
            "grid_auto_flow": null,
            "grid_auto_rows": null,
            "grid_column": null,
            "grid_gap": null,
            "grid_row": null,
            "grid_template_areas": null,
            "grid_template_columns": null,
            "grid_template_rows": null,
            "height": null,
            "justify_content": null,
            "justify_items": null,
            "left": null,
            "margin": null,
            "max_height": null,
            "max_width": null,
            "min_height": null,
            "min_width": null,
            "object_fit": null,
            "object_position": null,
            "order": null,
            "overflow": null,
            "overflow_x": null,
            "overflow_y": null,
            "padding": null,
            "right": null,
            "top": null,
            "visibility": null,
            "width": null
          }
        },
        "9296473aabdd4fc1a04dccf8262e47f3": {
          "model_module": "@jupyter-widgets/base",
          "model_name": "LayoutModel",
          "model_module_version": "1.2.0",
          "state": {
            "_model_module": "@jupyter-widgets/base",
            "_model_module_version": "1.2.0",
            "_model_name": "LayoutModel",
            "_view_count": null,
            "_view_module": "@jupyter-widgets/base",
            "_view_module_version": "1.2.0",
            "_view_name": "LayoutView",
            "align_content": null,
            "align_items": null,
            "align_self": null,
            "border": null,
            "bottom": null,
            "display": null,
            "flex": null,
            "flex_flow": null,
            "grid_area": null,
            "grid_auto_columns": null,
            "grid_auto_flow": null,
            "grid_auto_rows": null,
            "grid_column": null,
            "grid_gap": null,
            "grid_row": null,
            "grid_template_areas": null,
            "grid_template_columns": null,
            "grid_template_rows": null,
            "height": null,
            "justify_content": null,
            "justify_items": null,
            "left": null,
            "margin": null,
            "max_height": null,
            "max_width": null,
            "min_height": null,
            "min_width": null,
            "object_fit": null,
            "object_position": null,
            "order": null,
            "overflow": null,
            "overflow_x": null,
            "overflow_y": null,
            "padding": null,
            "right": null,
            "top": null,
            "visibility": null,
            "width": null
          }
        },
        "cfcca550ead640199d747e2ea01d19c5": {
          "model_module": "@jupyter-widgets/controls",
          "model_name": "DescriptionStyleModel",
          "model_module_version": "1.5.0",
          "state": {
            "_model_module": "@jupyter-widgets/controls",
            "_model_module_version": "1.5.0",
            "_model_name": "DescriptionStyleModel",
            "_view_count": null,
            "_view_module": "@jupyter-widgets/base",
            "_view_module_version": "1.2.0",
            "_view_name": "StyleView",
            "description_width": ""
          }
        },
        "41f8cfb864f24c84a3f74d3b60d09683": {
          "model_module": "@jupyter-widgets/base",
          "model_name": "LayoutModel",
          "model_module_version": "1.2.0",
          "state": {
            "_model_module": "@jupyter-widgets/base",
            "_model_module_version": "1.2.0",
            "_model_name": "LayoutModel",
            "_view_count": null,
            "_view_module": "@jupyter-widgets/base",
            "_view_module_version": "1.2.0",
            "_view_name": "LayoutView",
            "align_content": null,
            "align_items": null,
            "align_self": null,
            "border": null,
            "bottom": null,
            "display": null,
            "flex": null,
            "flex_flow": null,
            "grid_area": null,
            "grid_auto_columns": null,
            "grid_auto_flow": null,
            "grid_auto_rows": null,
            "grid_column": null,
            "grid_gap": null,
            "grid_row": null,
            "grid_template_areas": null,
            "grid_template_columns": null,
            "grid_template_rows": null,
            "height": null,
            "justify_content": null,
            "justify_items": null,
            "left": null,
            "margin": null,
            "max_height": null,
            "max_width": null,
            "min_height": null,
            "min_width": null,
            "object_fit": null,
            "object_position": null,
            "order": null,
            "overflow": null,
            "overflow_x": null,
            "overflow_y": null,
            "padding": null,
            "right": null,
            "top": null,
            "visibility": null,
            "width": null
          }
        },
        "96fed739d7164222a0f6a8a3985c8721": {
          "model_module": "@jupyter-widgets/controls",
          "model_name": "ProgressStyleModel",
          "model_module_version": "1.5.0",
          "state": {
            "_model_module": "@jupyter-widgets/controls",
            "_model_module_version": "1.5.0",
            "_model_name": "ProgressStyleModel",
            "_view_count": null,
            "_view_module": "@jupyter-widgets/base",
            "_view_module_version": "1.2.0",
            "_view_name": "StyleView",
            "bar_color": null,
            "description_width": ""
          }
        },
        "bb5905749feb4fa78ca70e0dd6791801": {
          "model_module": "@jupyter-widgets/base",
          "model_name": "LayoutModel",
          "model_module_version": "1.2.0",
          "state": {
            "_model_module": "@jupyter-widgets/base",
            "_model_module_version": "1.2.0",
            "_model_name": "LayoutModel",
            "_view_count": null,
            "_view_module": "@jupyter-widgets/base",
            "_view_module_version": "1.2.0",
            "_view_name": "LayoutView",
            "align_content": null,
            "align_items": null,
            "align_self": null,
            "border": null,
            "bottom": null,
            "display": null,
            "flex": null,
            "flex_flow": null,
            "grid_area": null,
            "grid_auto_columns": null,
            "grid_auto_flow": null,
            "grid_auto_rows": null,
            "grid_column": null,
            "grid_gap": null,
            "grid_row": null,
            "grid_template_areas": null,
            "grid_template_columns": null,
            "grid_template_rows": null,
            "height": null,
            "justify_content": null,
            "justify_items": null,
            "left": null,
            "margin": null,
            "max_height": null,
            "max_width": null,
            "min_height": null,
            "min_width": null,
            "object_fit": null,
            "object_position": null,
            "order": null,
            "overflow": null,
            "overflow_x": null,
            "overflow_y": null,
            "padding": null,
            "right": null,
            "top": null,
            "visibility": null,
            "width": null
          }
        },
        "1f899df59f574558a8737f6a2feadf1e": {
          "model_module": "@jupyter-widgets/controls",
          "model_name": "DescriptionStyleModel",
          "model_module_version": "1.5.0",
          "state": {
            "_model_module": "@jupyter-widgets/controls",
            "_model_module_version": "1.5.0",
            "_model_name": "DescriptionStyleModel",
            "_view_count": null,
            "_view_module": "@jupyter-widgets/base",
            "_view_module_version": "1.2.0",
            "_view_name": "StyleView",
            "description_width": ""
          }
        },
        "cba2eed699bb4ce58acff76cac86b328": {
          "model_module": "@jupyter-widgets/controls",
          "model_name": "HBoxModel",
          "model_module_version": "1.5.0",
          "state": {
            "_dom_classes": [],
            "_model_module": "@jupyter-widgets/controls",
            "_model_module_version": "1.5.0",
            "_model_name": "HBoxModel",
            "_view_count": null,
            "_view_module": "@jupyter-widgets/controls",
            "_view_module_version": "1.5.0",
            "_view_name": "HBoxView",
            "box_style": "",
            "children": [
              "IPY_MODEL_d191b77fe89e4dd8ac6ef6055e481330",
              "IPY_MODEL_080cecf3aaf040cebaa4c4e63de7d4ee",
              "IPY_MODEL_d7387867bd2740c7be8606b4c419a849"
            ],
            "layout": "IPY_MODEL_f5df062582a249edaed3fa07bdda42b3"
          }
        },
        "d191b77fe89e4dd8ac6ef6055e481330": {
          "model_module": "@jupyter-widgets/controls",
          "model_name": "HTMLModel",
          "model_module_version": "1.5.0",
          "state": {
            "_dom_classes": [],
            "_model_module": "@jupyter-widgets/controls",
            "_model_module_version": "1.5.0",
            "_model_name": "HTMLModel",
            "_view_count": null,
            "_view_module": "@jupyter-widgets/controls",
            "_view_module_version": "1.5.0",
            "_view_name": "HTMLView",
            "description": "",
            "description_tooltip": null,
            "layout": "IPY_MODEL_2ec5c94ce14f4757a4d0a4fb08ea9b8d",
            "placeholder": "​",
            "style": "IPY_MODEL_30ec9801df2c4cf3b8a8fd6aa558ab9a",
            "value": "100%"
          }
        },
        "080cecf3aaf040cebaa4c4e63de7d4ee": {
          "model_module": "@jupyter-widgets/controls",
          "model_name": "FloatProgressModel",
          "model_module_version": "1.5.0",
          "state": {
            "_dom_classes": [],
            "_model_module": "@jupyter-widgets/controls",
            "_model_module_version": "1.5.0",
            "_model_name": "FloatProgressModel",
            "_view_count": null,
            "_view_module": "@jupyter-widgets/controls",
            "_view_module_version": "1.5.0",
            "_view_name": "ProgressView",
            "bar_style": "success",
            "description": "",
            "description_tooltip": null,
            "layout": "IPY_MODEL_885be3e842b44a61a12ba8276019715b",
            "max": 100,
            "min": 0,
            "orientation": "horizontal",
            "style": "IPY_MODEL_1e41d1460d6e41438cb26a02cbef8098",
            "value": 100
          }
        },
        "d7387867bd2740c7be8606b4c419a849": {
          "model_module": "@jupyter-widgets/controls",
          "model_name": "HTMLModel",
          "model_module_version": "1.5.0",
          "state": {
            "_dom_classes": [],
            "_model_module": "@jupyter-widgets/controls",
            "_model_module_version": "1.5.0",
            "_model_name": "HTMLModel",
            "_view_count": null,
            "_view_module": "@jupyter-widgets/controls",
            "_view_module_version": "1.5.0",
            "_view_name": "HTMLView",
            "description": "",
            "description_tooltip": null,
            "layout": "IPY_MODEL_b6b51eeee3be4fc0b3b1ef8d8bfab06a",
            "placeholder": "​",
            "style": "IPY_MODEL_1aa4a5fc8b614561968c6dfee28301e5",
            "value": " 100/100 [00:11&lt;00:00,  8.26it/s]"
          }
        },
        "f5df062582a249edaed3fa07bdda42b3": {
          "model_module": "@jupyter-widgets/base",
          "model_name": "LayoutModel",
          "model_module_version": "1.2.0",
          "state": {
            "_model_module": "@jupyter-widgets/base",
            "_model_module_version": "1.2.0",
            "_model_name": "LayoutModel",
            "_view_count": null,
            "_view_module": "@jupyter-widgets/base",
            "_view_module_version": "1.2.0",
            "_view_name": "LayoutView",
            "align_content": null,
            "align_items": null,
            "align_self": null,
            "border": null,
            "bottom": null,
            "display": null,
            "flex": null,
            "flex_flow": null,
            "grid_area": null,
            "grid_auto_columns": null,
            "grid_auto_flow": null,
            "grid_auto_rows": null,
            "grid_column": null,
            "grid_gap": null,
            "grid_row": null,
            "grid_template_areas": null,
            "grid_template_columns": null,
            "grid_template_rows": null,
            "height": null,
            "justify_content": null,
            "justify_items": null,
            "left": null,
            "margin": null,
            "max_height": null,
            "max_width": null,
            "min_height": null,
            "min_width": null,
            "object_fit": null,
            "object_position": null,
            "order": null,
            "overflow": null,
            "overflow_x": null,
            "overflow_y": null,
            "padding": null,
            "right": null,
            "top": null,
            "visibility": null,
            "width": null
          }
        },
        "2ec5c94ce14f4757a4d0a4fb08ea9b8d": {
          "model_module": "@jupyter-widgets/base",
          "model_name": "LayoutModel",
          "model_module_version": "1.2.0",
          "state": {
            "_model_module": "@jupyter-widgets/base",
            "_model_module_version": "1.2.0",
            "_model_name": "LayoutModel",
            "_view_count": null,
            "_view_module": "@jupyter-widgets/base",
            "_view_module_version": "1.2.0",
            "_view_name": "LayoutView",
            "align_content": null,
            "align_items": null,
            "align_self": null,
            "border": null,
            "bottom": null,
            "display": null,
            "flex": null,
            "flex_flow": null,
            "grid_area": null,
            "grid_auto_columns": null,
            "grid_auto_flow": null,
            "grid_auto_rows": null,
            "grid_column": null,
            "grid_gap": null,
            "grid_row": null,
            "grid_template_areas": null,
            "grid_template_columns": null,
            "grid_template_rows": null,
            "height": null,
            "justify_content": null,
            "justify_items": null,
            "left": null,
            "margin": null,
            "max_height": null,
            "max_width": null,
            "min_height": null,
            "min_width": null,
            "object_fit": null,
            "object_position": null,
            "order": null,
            "overflow": null,
            "overflow_x": null,
            "overflow_y": null,
            "padding": null,
            "right": null,
            "top": null,
            "visibility": null,
            "width": null
          }
        },
        "30ec9801df2c4cf3b8a8fd6aa558ab9a": {
          "model_module": "@jupyter-widgets/controls",
          "model_name": "DescriptionStyleModel",
          "model_module_version": "1.5.0",
          "state": {
            "_model_module": "@jupyter-widgets/controls",
            "_model_module_version": "1.5.0",
            "_model_name": "DescriptionStyleModel",
            "_view_count": null,
            "_view_module": "@jupyter-widgets/base",
            "_view_module_version": "1.2.0",
            "_view_name": "StyleView",
            "description_width": ""
          }
        },
        "885be3e842b44a61a12ba8276019715b": {
          "model_module": "@jupyter-widgets/base",
          "model_name": "LayoutModel",
          "model_module_version": "1.2.0",
          "state": {
            "_model_module": "@jupyter-widgets/base",
            "_model_module_version": "1.2.0",
            "_model_name": "LayoutModel",
            "_view_count": null,
            "_view_module": "@jupyter-widgets/base",
            "_view_module_version": "1.2.0",
            "_view_name": "LayoutView",
            "align_content": null,
            "align_items": null,
            "align_self": null,
            "border": null,
            "bottom": null,
            "display": null,
            "flex": null,
            "flex_flow": null,
            "grid_area": null,
            "grid_auto_columns": null,
            "grid_auto_flow": null,
            "grid_auto_rows": null,
            "grid_column": null,
            "grid_gap": null,
            "grid_row": null,
            "grid_template_areas": null,
            "grid_template_columns": null,
            "grid_template_rows": null,
            "height": null,
            "justify_content": null,
            "justify_items": null,
            "left": null,
            "margin": null,
            "max_height": null,
            "max_width": null,
            "min_height": null,
            "min_width": null,
            "object_fit": null,
            "object_position": null,
            "order": null,
            "overflow": null,
            "overflow_x": null,
            "overflow_y": null,
            "padding": null,
            "right": null,
            "top": null,
            "visibility": null,
            "width": null
          }
        },
        "1e41d1460d6e41438cb26a02cbef8098": {
          "model_module": "@jupyter-widgets/controls",
          "model_name": "ProgressStyleModel",
          "model_module_version": "1.5.0",
          "state": {
            "_model_module": "@jupyter-widgets/controls",
            "_model_module_version": "1.5.0",
            "_model_name": "ProgressStyleModel",
            "_view_count": null,
            "_view_module": "@jupyter-widgets/base",
            "_view_module_version": "1.2.0",
            "_view_name": "StyleView",
            "bar_color": null,
            "description_width": ""
          }
        },
        "b6b51eeee3be4fc0b3b1ef8d8bfab06a": {
          "model_module": "@jupyter-widgets/base",
          "model_name": "LayoutModel",
          "model_module_version": "1.2.0",
          "state": {
            "_model_module": "@jupyter-widgets/base",
            "_model_module_version": "1.2.0",
            "_model_name": "LayoutModel",
            "_view_count": null,
            "_view_module": "@jupyter-widgets/base",
            "_view_module_version": "1.2.0",
            "_view_name": "LayoutView",
            "align_content": null,
            "align_items": null,
            "align_self": null,
            "border": null,
            "bottom": null,
            "display": null,
            "flex": null,
            "flex_flow": null,
            "grid_area": null,
            "grid_auto_columns": null,
            "grid_auto_flow": null,
            "grid_auto_rows": null,
            "grid_column": null,
            "grid_gap": null,
            "grid_row": null,
            "grid_template_areas": null,
            "grid_template_columns": null,
            "grid_template_rows": null,
            "height": null,
            "justify_content": null,
            "justify_items": null,
            "left": null,
            "margin": null,
            "max_height": null,
            "max_width": null,
            "min_height": null,
            "min_width": null,
            "object_fit": null,
            "object_position": null,
            "order": null,
            "overflow": null,
            "overflow_x": null,
            "overflow_y": null,
            "padding": null,
            "right": null,
            "top": null,
            "visibility": null,
            "width": null
          }
        },
        "1aa4a5fc8b614561968c6dfee28301e5": {
          "model_module": "@jupyter-widgets/controls",
          "model_name": "DescriptionStyleModel",
          "model_module_version": "1.5.0",
          "state": {
            "_model_module": "@jupyter-widgets/controls",
            "_model_module_version": "1.5.0",
            "_model_name": "DescriptionStyleModel",
            "_view_count": null,
            "_view_module": "@jupyter-widgets/base",
            "_view_module_version": "1.2.0",
            "_view_name": "StyleView",
            "description_width": ""
          }
        }
      }
    }
  },
  "nbformat": 4,
  "nbformat_minor": 0
}